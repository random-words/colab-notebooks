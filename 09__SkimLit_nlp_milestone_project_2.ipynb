{
  "nbformat": 4,
  "nbformat_minor": 0,
  "metadata": {
    "colab": {
      "provenance": [],
      "gpuType": "T4",
      "authorship_tag": "ABX9TyPGdl2D7Qk1A0MHq5hQ2/yD",
      "include_colab_link": true
    },
    "kernelspec": {
      "name": "python3",
      "display_name": "Python 3"
    },
    "language_info": {
      "name": "python"
    },
    "accelerator": "GPU"
  },
  "cells": [
    {
      "cell_type": "markdown",
      "metadata": {
        "id": "view-in-github",
        "colab_type": "text"
      },
      "source": [
        "<a href=\"https://colab.research.google.com/github/random-words/colab-notebooks/blob/main/09__SkimLit_nlp_milestone_project_2.ipynb\" target=\"_parent\"><img src=\"https://colab.research.google.com/assets/colab-badge.svg\" alt=\"Open In Colab\"/></a>"
      ]
    },
    {
      "cell_type": "markdown",
      "source": [
        "# Milestone Project 2: SkimLit"
      ],
      "metadata": {
        "id": "aHg1K4EI_jE6"
      }
    },
    {
      "cell_type": "code",
      "source": [
        "!nvidia-smi"
      ],
      "metadata": {
        "colab": {
          "base_uri": "https://localhost:8080/"
        },
        "id": "UHJvmOj0IghJ",
        "outputId": "4cc3fb9e-f5cd-431c-cee3-781883d4ce6a"
      },
      "execution_count": 1,
      "outputs": [
        {
          "output_type": "stream",
          "name": "stdout",
          "text": [
            "Thu Feb 13 23:26:15 2025       \n",
            "+-----------------------------------------------------------------------------------------+\n",
            "| NVIDIA-SMI 550.54.15              Driver Version: 550.54.15      CUDA Version: 12.4     |\n",
            "|-----------------------------------------+------------------------+----------------------+\n",
            "| GPU  Name                 Persistence-M | Bus-Id          Disp.A | Volatile Uncorr. ECC |\n",
            "| Fan  Temp   Perf          Pwr:Usage/Cap |           Memory-Usage | GPU-Util  Compute M. |\n",
            "|                                         |                        |               MIG M. |\n",
            "|=========================================+========================+======================|\n",
            "|   0  Tesla T4                       Off |   00000000:00:04.0 Off |                    0 |\n",
            "| N/A   44C    P8             10W /   70W |       0MiB /  15360MiB |      0%      Default |\n",
            "|                                         |                        |                  N/A |\n",
            "+-----------------------------------------+------------------------+----------------------+\n",
            "                                                                                         \n",
            "+-----------------------------------------------------------------------------------------+\n",
            "| Processes:                                                                              |\n",
            "|  GPU   GI   CI        PID   Type   Process name                              GPU Memory |\n",
            "|        ID   ID                                                               Usage      |\n",
            "|=========================================================================================|\n",
            "|  No running processes found                                                             |\n",
            "+-----------------------------------------------------------------------------------------+\n"
          ]
        }
      ]
    },
    {
      "cell_type": "code",
      "source": [
        "# Get Data\n",
        "!git clone https://github.com/Franck-Dernoncourt/pubmed-rct\n",
        "!ls pubmed-rct"
      ],
      "metadata": {
        "colab": {
          "base_uri": "https://localhost:8080/"
        },
        "id": "7R0KgkPfIvKJ",
        "outputId": "1007e385-afe9-4fdc-cfa4-619b3a820b7f"
      },
      "execution_count": 2,
      "outputs": [
        {
          "output_type": "stream",
          "name": "stdout",
          "text": [
            "Cloning into 'pubmed-rct'...\n",
            "remote: Enumerating objects: 39, done.\u001b[K\n",
            "remote: Counting objects: 100% (14/14), done.\u001b[K\n",
            "remote: Compressing objects: 100% (9/9), done.\u001b[K\n",
            "remote: Total 39 (delta 8), reused 5 (delta 5), pack-reused 25 (from 1)\u001b[K\n",
            "Receiving objects: 100% (39/39), 177.08 MiB | 14.70 MiB/s, done.\n",
            "Resolving deltas: 100% (15/15), done.\n",
            "Updating files: 100% (13/13), done.\n",
            "PubMed_200k_RCT\t\t\t\t       PubMed_20k_RCT_numbers_replaced_with_at_sign\n",
            "PubMed_200k_RCT_numbers_replaced_with_at_sign  README.md\n",
            "PubMed_20k_RCT\n"
          ]
        }
      ]
    },
    {
      "cell_type": "code",
      "source": [
        "# Check files within PubMed_20k_RCT dataset\n",
        "!ls /content/pubmed-rct/PubMed_20k_RCT_numbers_replaced_with_at_sign"
      ],
      "metadata": {
        "colab": {
          "base_uri": "https://localhost:8080/"
        },
        "id": "IfnDzGnLJRpx",
        "outputId": "1fa48e85-2923-4fe2-8d4c-feb3e77f5eb2"
      },
      "execution_count": 3,
      "outputs": [
        {
          "output_type": "stream",
          "name": "stdout",
          "text": [
            "dev.txt  test.txt  train.txt\n"
          ]
        }
      ]
    },
    {
      "cell_type": "code",
      "source": [
        "data_dir = \"/content/pubmed-rct/PubMed_20k_RCT_numbers_replaced_with_at_sign/\""
      ],
      "metadata": {
        "id": "UtF-IYtbJsQZ"
      },
      "execution_count": 4,
      "outputs": []
    },
    {
      "cell_type": "code",
      "source": [
        "# Check all filenames in the directory\n",
        "import os\n",
        "filenames = [data_dir + filename for filename in os.listdir(data_dir)]\n",
        "filenames"
      ],
      "metadata": {
        "colab": {
          "base_uri": "https://localhost:8080/"
        },
        "id": "DX0BnkMtKjdS",
        "outputId": "28d7f704-9795-4530-c517-7a86b6b6dcdd"
      },
      "execution_count": 5,
      "outputs": [
        {
          "output_type": "execute_result",
          "data": {
            "text/plain": [
              "['/content/pubmed-rct/PubMed_20k_RCT_numbers_replaced_with_at_sign/train.txt',\n",
              " '/content/pubmed-rct/PubMed_20k_RCT_numbers_replaced_with_at_sign/dev.txt',\n",
              " '/content/pubmed-rct/PubMed_20k_RCT_numbers_replaced_with_at_sign/test.txt']"
            ]
          },
          "metadata": {},
          "execution_count": 5
        }
      ]
    },
    {
      "cell_type": "markdown",
      "source": [
        "## Preprocess data"
      ],
      "metadata": {
        "id": "41EmahzRK0tR"
      }
    },
    {
      "cell_type": "code",
      "source": [
        "# Create function to read the lines in document\n",
        "def get_lines(filename):\n",
        "  with open(filename, \"r\") as f:\n",
        "    return f.readlines()"
      ],
      "metadata": {
        "id": "PiVdHC7fL5iB"
      },
      "execution_count": 6,
      "outputs": []
    },
    {
      "cell_type": "code",
      "source": [
        "# Read in training lines\n",
        "train_lines = get_lines(data_dir+\"train.txt\") # read lines within training file\n",
        "train_lines[:27]"
      ],
      "metadata": {
        "colab": {
          "base_uri": "https://localhost:8080/"
        },
        "id": "OkB0zw6jMdiS",
        "outputId": "0633656d-7a00-4083-98f9-62a48e54b8ed"
      },
      "execution_count": 7,
      "outputs": [
        {
          "output_type": "execute_result",
          "data": {
            "text/plain": [
              "['###24293578\\n',\n",
              " 'OBJECTIVE\\tTo investigate the efficacy of @ weeks of daily low-dose oral prednisolone in improving pain , mobility , and systemic low-grade inflammation in the short term and whether the effect would be sustained at @ weeks in older adults with moderate to severe knee osteoarthritis ( OA ) .\\n',\n",
              " 'METHODS\\tA total of @ patients with primary knee OA were randomized @:@ ; @ received @ mg/day of prednisolone and @ received placebo for @ weeks .\\n',\n",
              " 'METHODS\\tOutcome measures included pain reduction and improvement in function scores and systemic inflammation markers .\\n',\n",
              " 'METHODS\\tPain was assessed using the visual analog pain scale ( @-@ mm ) .\\n',\n",
              " 'METHODS\\tSecondary outcome measures included the Western Ontario and McMaster Universities Osteoarthritis Index scores , patient global assessment ( PGA ) of the severity of knee OA , and @-min walk distance ( @MWD ) .\\n',\n",
              " 'METHODS\\tSerum levels of interleukin @ ( IL-@ ) , IL-@ , tumor necrosis factor ( TNF ) - , and high-sensitivity C-reactive protein ( hsCRP ) were measured .\\n',\n",
              " 'RESULTS\\tThere was a clinically relevant reduction in the intervention group compared to the placebo group for knee pain , physical function , PGA , and @MWD at @ weeks .\\n',\n",
              " 'RESULTS\\tThe mean difference between treatment arms ( @ % CI ) was @ ( @-@ @ ) , p < @ ; @ ( @-@ @ ) , p < @ ; @ ( @-@ @ ) , p < @ ; and @ ( @-@ @ ) , p < @ , respectively .\\n',\n",
              " 'RESULTS\\tFurther , there was a clinically relevant reduction in the serum levels of IL-@ , IL-@ , TNF - , and hsCRP at @ weeks in the intervention group when compared to the placebo group .\\n',\n",
              " 'RESULTS\\tThese differences remained significant at @ weeks .\\n',\n",
              " 'RESULTS\\tThe Outcome Measures in Rheumatology Clinical Trials-Osteoarthritis Research Society International responder rate was @ % in the intervention group and @ % in the placebo group ( p < @ ) .\\n',\n",
              " 'CONCLUSIONS\\tLow-dose oral prednisolone had both a short-term and a longer sustained effect resulting in less knee pain , better physical function , and attenuation of systemic inflammation in older patients with knee OA ( ClinicalTrials.gov identifier NCT@ ) .\\n',\n",
              " '\\n',\n",
              " '###24854809\\n',\n",
              " 'BACKGROUND\\tEmotional eating is associated with overeating and the development of obesity .\\n',\n",
              " 'BACKGROUND\\tYet , empirical evidence for individual ( trait ) differences in emotional eating and cognitive mechanisms that contribute to eating during sad mood remain equivocal .\\n',\n",
              " 'OBJECTIVE\\tThe aim of this study was to test if attention bias for food moderates the effect of self-reported emotional eating during sad mood ( vs neutral mood ) on actual food intake .\\n',\n",
              " 'OBJECTIVE\\tIt was expected that emotional eating is predictive of elevated attention for food and higher food intake after an experimentally induced sad mood and that attentional maintenance on food predicts food intake during a sad versus a neutral mood .\\n',\n",
              " 'METHODS\\tParticipants ( N = @ ) were randomly assigned to one of the two experimental mood induction conditions ( sad/neutral ) .\\n',\n",
              " 'METHODS\\tAttentional biases for high caloric foods were measured by eye tracking during a visual probe task with pictorial food and neutral stimuli .\\n',\n",
              " 'METHODS\\tSelf-reported emotional eating was assessed with the Dutch Eating Behavior Questionnaire ( DEBQ ) and ad libitum food intake was tested by a disguised food offer .\\n',\n",
              " 'RESULTS\\tHierarchical multivariate regression modeling showed that self-reported emotional eating did not account for changes in attention allocation for food or food intake in either condition .\\n',\n",
              " 'RESULTS\\tYet , attention maintenance on food cues was significantly related to increased intake specifically in the neutral condition , but not in the sad mood condition .\\n',\n",
              " 'CONCLUSIONS\\tThe current findings show that self-reported emotional eating ( based on the DEBQ ) might not validly predict who overeats when sad , at least not in a laboratory setting with healthy women .\\n',\n",
              " 'CONCLUSIONS\\tResults further suggest that attention maintenance on food relates to eating motivation when in a neutral affective state , and might therefore be a cognitive mechanism contributing to increased food intake in general , but maybe not during sad mood .\\n',\n",
              " '\\n']"
            ]
          },
          "metadata": {},
          "execution_count": 7
        }
      ]
    },
    {
      "cell_type": "code",
      "source": [
        "len(train_lines)"
      ],
      "metadata": {
        "colab": {
          "base_uri": "https://localhost:8080/"
        },
        "id": "CocGz99KMj_J",
        "outputId": "953b2079-c2ed-44e0-c736-6c85b9632569"
      },
      "execution_count": 8,
      "outputs": [
        {
          "output_type": "execute_result",
          "data": {
            "text/plain": [
              "210040"
            ]
          },
          "metadata": {},
          "execution_count": 8
        }
      ]
    },
    {
      "cell_type": "markdown",
      "source": [
        "```\n",
        "[{'line_number': 0,\n",
        "    'target': \"BACKGROUND\",\n",
        "    'text': \"Emotional eating is associated with overeating and the development of obesity .\\n\",\n",
        "    \"total_lines\": 11},\n",
        "    { ... }]\n",
        "```"
      ],
      "metadata": {
        "id": "Z02X_tE3NJk5"
      }
    },
    {
      "cell_type": "code",
      "source": [
        "def preprocess_text_with_line_numbers(filename):\n",
        "  input_lines = get_lines(filename) # get all lines\n",
        "  abstract_lines = \"\" # create an empty abstract\n",
        "  abstract_samples = [] # create an emply list of abstracts (list of dicts in future)\n",
        "\n",
        "  # Loop through each line\n",
        "  for line in input_lines:\n",
        "    if line.startswith(\"###\"): # check if it's ID line\n",
        "      abstract_id = line\n",
        "      abstract_lines = \"\" # reset the sentence string if it's ID line\n",
        "    elif line.isspace(): # check if line is '\\n'\n",
        "      abstract_line_split = abstract_lines.splitlines() # split sentences string into sentences list\n",
        "\n",
        "      # Iterate through each line in a single abstract and count them\n",
        "      for abstract_line_number, abstract_line in enumerate(abstract_line_split):\n",
        "        line_data = {} # create empty dict for line\n",
        "        target_text_split = abstract_line.split(\"\\t\") # split target labels from text\n",
        "\n",
        "        line_data[\"target\"] = target_text_split[0] # set target label\n",
        "        line_data[\"text\"] = target_text_split[1].lower() # set target text and lower it\n",
        "        line_data[\"line_number\"] = abstract_line_number\n",
        "        line_data[\"total_lines\"] = len(abstract_line_split) - 1 # (just need to start from 0)\n",
        "\n",
        "        abstract_samples.append(line_data) # add data to list\n",
        "\n",
        "    else: # if not first or second, then this is line - need to concatenate to empty string\n",
        "      abstract_lines += line\n",
        "\n",
        "  return abstract_samples"
      ],
      "metadata": {
        "id": "mgsbdb5jOXnp"
      },
      "execution_count": 9,
      "outputs": []
    },
    {
      "cell_type": "code",
      "source": [
        "# get data from file and preprocess it\n",
        "%%time\n",
        "train_samples = preprocess_text_with_line_numbers(data_dir + \"train.txt\")\n",
        "val_samples = preprocess_text_with_line_numbers(data_dir + \"dev.txt\") # dev = validation\n",
        "test_samples = preprocess_text_with_line_numbers(data_dir + \"test.txt\")\n",
        "len(train_samples), len(val_samples), len(test_samples)"
      ],
      "metadata": {
        "colab": {
          "base_uri": "https://localhost:8080/"
        },
        "id": "IMsHo_lVUFiQ",
        "outputId": "3e2f0cc3-66bb-40bc-95ff-b0ee85df9f19"
      },
      "execution_count": 10,
      "outputs": [
        {
          "output_type": "stream",
          "name": "stdout",
          "text": [
            "CPU times: user 592 ms, sys: 110 ms, total: 701 ms\n",
            "Wall time: 726 ms\n"
          ]
        },
        {
          "output_type": "execute_result",
          "data": {
            "text/plain": [
              "(180040, 30212, 30135)"
            ]
          },
          "metadata": {},
          "execution_count": 10
        }
      ]
    },
    {
      "cell_type": "code",
      "source": [
        "train_samples[:14]"
      ],
      "metadata": {
        "colab": {
          "base_uri": "https://localhost:8080/"
        },
        "collapsed": true,
        "id": "VL9pe3-ZUwca",
        "outputId": "343f6dcd-28b3-406a-f7fd-1aff66249799"
      },
      "execution_count": 11,
      "outputs": [
        {
          "output_type": "execute_result",
          "data": {
            "text/plain": [
              "[{'target': 'OBJECTIVE',\n",
              "  'text': 'to investigate the efficacy of @ weeks of daily low-dose oral prednisolone in improving pain , mobility , and systemic low-grade inflammation in the short term and whether the effect would be sustained at @ weeks in older adults with moderate to severe knee osteoarthritis ( oa ) .',\n",
              "  'line_number': 0,\n",
              "  'total_lines': 11},\n",
              " {'target': 'METHODS',\n",
              "  'text': 'a total of @ patients with primary knee oa were randomized @:@ ; @ received @ mg/day of prednisolone and @ received placebo for @ weeks .',\n",
              "  'line_number': 1,\n",
              "  'total_lines': 11},\n",
              " {'target': 'METHODS',\n",
              "  'text': 'outcome measures included pain reduction and improvement in function scores and systemic inflammation markers .',\n",
              "  'line_number': 2,\n",
              "  'total_lines': 11},\n",
              " {'target': 'METHODS',\n",
              "  'text': 'pain was assessed using the visual analog pain scale ( @-@ mm ) .',\n",
              "  'line_number': 3,\n",
              "  'total_lines': 11},\n",
              " {'target': 'METHODS',\n",
              "  'text': 'secondary outcome measures included the western ontario and mcmaster universities osteoarthritis index scores , patient global assessment ( pga ) of the severity of knee oa , and @-min walk distance ( @mwd ) .',\n",
              "  'line_number': 4,\n",
              "  'total_lines': 11},\n",
              " {'target': 'METHODS',\n",
              "  'text': 'serum levels of interleukin @ ( il-@ ) , il-@ , tumor necrosis factor ( tnf ) - , and high-sensitivity c-reactive protein ( hscrp ) were measured .',\n",
              "  'line_number': 5,\n",
              "  'total_lines': 11},\n",
              " {'target': 'RESULTS',\n",
              "  'text': 'there was a clinically relevant reduction in the intervention group compared to the placebo group for knee pain , physical function , pga , and @mwd at @ weeks .',\n",
              "  'line_number': 6,\n",
              "  'total_lines': 11},\n",
              " {'target': 'RESULTS',\n",
              "  'text': 'the mean difference between treatment arms ( @ % ci ) was @ ( @-@ @ ) , p < @ ; @ ( @-@ @ ) , p < @ ; @ ( @-@ @ ) , p < @ ; and @ ( @-@ @ ) , p < @ , respectively .',\n",
              "  'line_number': 7,\n",
              "  'total_lines': 11},\n",
              " {'target': 'RESULTS',\n",
              "  'text': 'further , there was a clinically relevant reduction in the serum levels of il-@ , il-@ , tnf - , and hscrp at @ weeks in the intervention group when compared to the placebo group .',\n",
              "  'line_number': 8,\n",
              "  'total_lines': 11},\n",
              " {'target': 'RESULTS',\n",
              "  'text': 'these differences remained significant at @ weeks .',\n",
              "  'line_number': 9,\n",
              "  'total_lines': 11},\n",
              " {'target': 'RESULTS',\n",
              "  'text': 'the outcome measures in rheumatology clinical trials-osteoarthritis research society international responder rate was @ % in the intervention group and @ % in the placebo group ( p < @ ) .',\n",
              "  'line_number': 10,\n",
              "  'total_lines': 11},\n",
              " {'target': 'CONCLUSIONS',\n",
              "  'text': 'low-dose oral prednisolone had both a short-term and a longer sustained effect resulting in less knee pain , better physical function , and attenuation of systemic inflammation in older patients with knee oa ( clinicaltrials.gov identifier nct@ ) .',\n",
              "  'line_number': 11,\n",
              "  'total_lines': 11},\n",
              " {'target': 'BACKGROUND',\n",
              "  'text': 'emotional eating is associated with overeating and the development of obesity .',\n",
              "  'line_number': 0,\n",
              "  'total_lines': 10},\n",
              " {'target': 'BACKGROUND',\n",
              "  'text': 'yet , empirical evidence for individual ( trait ) differences in emotional eating and cognitive mechanisms that contribute to eating during sad mood remain equivocal .',\n",
              "  'line_number': 1,\n",
              "  'total_lines': 10}]"
            ]
          },
          "metadata": {},
          "execution_count": 11
        }
      ]
    },
    {
      "cell_type": "code",
      "source": [
        "import pandas as pd\n",
        "train_df = pd.DataFrame(train_samples)\n",
        "val_df = pd.DataFrame(val_samples)\n",
        "test_df = pd.DataFrame(test_samples)"
      ],
      "metadata": {
        "id": "1mfuG6W7Uxqy"
      },
      "execution_count": 12,
      "outputs": []
    },
    {
      "cell_type": "code",
      "source": [
        "train_df.head(15)"
      ],
      "metadata": {
        "colab": {
          "base_uri": "https://localhost:8080/",
          "height": 519
        },
        "id": "c87z-OM8Vbny",
        "outputId": "334fe839-8f9c-4fe7-d27c-a6a964f12358"
      },
      "execution_count": 13,
      "outputs": [
        {
          "output_type": "execute_result",
          "data": {
            "text/plain": [
              "         target                                               text  \\\n",
              "0     OBJECTIVE  to investigate the efficacy of @ weeks of dail...   \n",
              "1       METHODS  a total of @ patients with primary knee oa wer...   \n",
              "2       METHODS  outcome measures included pain reduction and i...   \n",
              "3       METHODS  pain was assessed using the visual analog pain...   \n",
              "4       METHODS  secondary outcome measures included the wester...   \n",
              "5       METHODS  serum levels of interleukin @ ( il-@ ) , il-@ ...   \n",
              "6       RESULTS  there was a clinically relevant reduction in t...   \n",
              "7       RESULTS  the mean difference between treatment arms ( @...   \n",
              "8       RESULTS  further , there was a clinically relevant redu...   \n",
              "9       RESULTS  these differences remained significant at @ we...   \n",
              "10      RESULTS  the outcome measures in rheumatology clinical ...   \n",
              "11  CONCLUSIONS  low-dose oral prednisolone had both a short-te...   \n",
              "12   BACKGROUND  emotional eating is associated with overeating...   \n",
              "13   BACKGROUND  yet , empirical evidence for individual ( trai...   \n",
              "14    OBJECTIVE  the aim of this study was to test if attention...   \n",
              "\n",
              "    line_number  total_lines  \n",
              "0             0           11  \n",
              "1             1           11  \n",
              "2             2           11  \n",
              "3             3           11  \n",
              "4             4           11  \n",
              "5             5           11  \n",
              "6             6           11  \n",
              "7             7           11  \n",
              "8             8           11  \n",
              "9             9           11  \n",
              "10           10           11  \n",
              "11           11           11  \n",
              "12            0           10  \n",
              "13            1           10  \n",
              "14            2           10  "
            ],
            "text/html": [
              "\n",
              "  <div id=\"df-1aca235d-ca4a-4b38-9f72-74ebfd7eab50\" class=\"colab-df-container\">\n",
              "    <div>\n",
              "<style scoped>\n",
              "    .dataframe tbody tr th:only-of-type {\n",
              "        vertical-align: middle;\n",
              "    }\n",
              "\n",
              "    .dataframe tbody tr th {\n",
              "        vertical-align: top;\n",
              "    }\n",
              "\n",
              "    .dataframe thead th {\n",
              "        text-align: right;\n",
              "    }\n",
              "</style>\n",
              "<table border=\"1\" class=\"dataframe\">\n",
              "  <thead>\n",
              "    <tr style=\"text-align: right;\">\n",
              "      <th></th>\n",
              "      <th>target</th>\n",
              "      <th>text</th>\n",
              "      <th>line_number</th>\n",
              "      <th>total_lines</th>\n",
              "    </tr>\n",
              "  </thead>\n",
              "  <tbody>\n",
              "    <tr>\n",
              "      <th>0</th>\n",
              "      <td>OBJECTIVE</td>\n",
              "      <td>to investigate the efficacy of @ weeks of dail...</td>\n",
              "      <td>0</td>\n",
              "      <td>11</td>\n",
              "    </tr>\n",
              "    <tr>\n",
              "      <th>1</th>\n",
              "      <td>METHODS</td>\n",
              "      <td>a total of @ patients with primary knee oa wer...</td>\n",
              "      <td>1</td>\n",
              "      <td>11</td>\n",
              "    </tr>\n",
              "    <tr>\n",
              "      <th>2</th>\n",
              "      <td>METHODS</td>\n",
              "      <td>outcome measures included pain reduction and i...</td>\n",
              "      <td>2</td>\n",
              "      <td>11</td>\n",
              "    </tr>\n",
              "    <tr>\n",
              "      <th>3</th>\n",
              "      <td>METHODS</td>\n",
              "      <td>pain was assessed using the visual analog pain...</td>\n",
              "      <td>3</td>\n",
              "      <td>11</td>\n",
              "    </tr>\n",
              "    <tr>\n",
              "      <th>4</th>\n",
              "      <td>METHODS</td>\n",
              "      <td>secondary outcome measures included the wester...</td>\n",
              "      <td>4</td>\n",
              "      <td>11</td>\n",
              "    </tr>\n",
              "    <tr>\n",
              "      <th>5</th>\n",
              "      <td>METHODS</td>\n",
              "      <td>serum levels of interleukin @ ( il-@ ) , il-@ ...</td>\n",
              "      <td>5</td>\n",
              "      <td>11</td>\n",
              "    </tr>\n",
              "    <tr>\n",
              "      <th>6</th>\n",
              "      <td>RESULTS</td>\n",
              "      <td>there was a clinically relevant reduction in t...</td>\n",
              "      <td>6</td>\n",
              "      <td>11</td>\n",
              "    </tr>\n",
              "    <tr>\n",
              "      <th>7</th>\n",
              "      <td>RESULTS</td>\n",
              "      <td>the mean difference between treatment arms ( @...</td>\n",
              "      <td>7</td>\n",
              "      <td>11</td>\n",
              "    </tr>\n",
              "    <tr>\n",
              "      <th>8</th>\n",
              "      <td>RESULTS</td>\n",
              "      <td>further , there was a clinically relevant redu...</td>\n",
              "      <td>8</td>\n",
              "      <td>11</td>\n",
              "    </tr>\n",
              "    <tr>\n",
              "      <th>9</th>\n",
              "      <td>RESULTS</td>\n",
              "      <td>these differences remained significant at @ we...</td>\n",
              "      <td>9</td>\n",
              "      <td>11</td>\n",
              "    </tr>\n",
              "    <tr>\n",
              "      <th>10</th>\n",
              "      <td>RESULTS</td>\n",
              "      <td>the outcome measures in rheumatology clinical ...</td>\n",
              "      <td>10</td>\n",
              "      <td>11</td>\n",
              "    </tr>\n",
              "    <tr>\n",
              "      <th>11</th>\n",
              "      <td>CONCLUSIONS</td>\n",
              "      <td>low-dose oral prednisolone had both a short-te...</td>\n",
              "      <td>11</td>\n",
              "      <td>11</td>\n",
              "    </tr>\n",
              "    <tr>\n",
              "      <th>12</th>\n",
              "      <td>BACKGROUND</td>\n",
              "      <td>emotional eating is associated with overeating...</td>\n",
              "      <td>0</td>\n",
              "      <td>10</td>\n",
              "    </tr>\n",
              "    <tr>\n",
              "      <th>13</th>\n",
              "      <td>BACKGROUND</td>\n",
              "      <td>yet , empirical evidence for individual ( trai...</td>\n",
              "      <td>1</td>\n",
              "      <td>10</td>\n",
              "    </tr>\n",
              "    <tr>\n",
              "      <th>14</th>\n",
              "      <td>OBJECTIVE</td>\n",
              "      <td>the aim of this study was to test if attention...</td>\n",
              "      <td>2</td>\n",
              "      <td>10</td>\n",
              "    </tr>\n",
              "  </tbody>\n",
              "</table>\n",
              "</div>\n",
              "    <div class=\"colab-df-buttons\">\n",
              "\n",
              "  <div class=\"colab-df-container\">\n",
              "    <button class=\"colab-df-convert\" onclick=\"convertToInteractive('df-1aca235d-ca4a-4b38-9f72-74ebfd7eab50')\"\n",
              "            title=\"Convert this dataframe to an interactive table.\"\n",
              "            style=\"display:none;\">\n",
              "\n",
              "  <svg xmlns=\"http://www.w3.org/2000/svg\" height=\"24px\" viewBox=\"0 -960 960 960\">\n",
              "    <path d=\"M120-120v-720h720v720H120Zm60-500h600v-160H180v160Zm220 220h160v-160H400v160Zm0 220h160v-160H400v160ZM180-400h160v-160H180v160Zm440 0h160v-160H620v160ZM180-180h160v-160H180v160Zm440 0h160v-160H620v160Z\"/>\n",
              "  </svg>\n",
              "    </button>\n",
              "\n",
              "  <style>\n",
              "    .colab-df-container {\n",
              "      display:flex;\n",
              "      gap: 12px;\n",
              "    }\n",
              "\n",
              "    .colab-df-convert {\n",
              "      background-color: #E8F0FE;\n",
              "      border: none;\n",
              "      border-radius: 50%;\n",
              "      cursor: pointer;\n",
              "      display: none;\n",
              "      fill: #1967D2;\n",
              "      height: 32px;\n",
              "      padding: 0 0 0 0;\n",
              "      width: 32px;\n",
              "    }\n",
              "\n",
              "    .colab-df-convert:hover {\n",
              "      background-color: #E2EBFA;\n",
              "      box-shadow: 0px 1px 2px rgba(60, 64, 67, 0.3), 0px 1px 3px 1px rgba(60, 64, 67, 0.15);\n",
              "      fill: #174EA6;\n",
              "    }\n",
              "\n",
              "    .colab-df-buttons div {\n",
              "      margin-bottom: 4px;\n",
              "    }\n",
              "\n",
              "    [theme=dark] .colab-df-convert {\n",
              "      background-color: #3B4455;\n",
              "      fill: #D2E3FC;\n",
              "    }\n",
              "\n",
              "    [theme=dark] .colab-df-convert:hover {\n",
              "      background-color: #434B5C;\n",
              "      box-shadow: 0px 1px 3px 1px rgba(0, 0, 0, 0.15);\n",
              "      filter: drop-shadow(0px 1px 2px rgba(0, 0, 0, 0.3));\n",
              "      fill: #FFFFFF;\n",
              "    }\n",
              "  </style>\n",
              "\n",
              "    <script>\n",
              "      const buttonEl =\n",
              "        document.querySelector('#df-1aca235d-ca4a-4b38-9f72-74ebfd7eab50 button.colab-df-convert');\n",
              "      buttonEl.style.display =\n",
              "        google.colab.kernel.accessAllowed ? 'block' : 'none';\n",
              "\n",
              "      async function convertToInteractive(key) {\n",
              "        const element = document.querySelector('#df-1aca235d-ca4a-4b38-9f72-74ebfd7eab50');\n",
              "        const dataTable =\n",
              "          await google.colab.kernel.invokeFunction('convertToInteractive',\n",
              "                                                    [key], {});\n",
              "        if (!dataTable) return;\n",
              "\n",
              "        const docLinkHtml = 'Like what you see? Visit the ' +\n",
              "          '<a target=\"_blank\" href=https://colab.research.google.com/notebooks/data_table.ipynb>data table notebook</a>'\n",
              "          + ' to learn more about interactive tables.';\n",
              "        element.innerHTML = '';\n",
              "        dataTable['output_type'] = 'display_data';\n",
              "        await google.colab.output.renderOutput(dataTable, element);\n",
              "        const docLink = document.createElement('div');\n",
              "        docLink.innerHTML = docLinkHtml;\n",
              "        element.appendChild(docLink);\n",
              "      }\n",
              "    </script>\n",
              "  </div>\n",
              "\n",
              "\n",
              "<div id=\"df-43c6847b-6bc5-4ae6-acbb-da212b0efee5\">\n",
              "  <button class=\"colab-df-quickchart\" onclick=\"quickchart('df-43c6847b-6bc5-4ae6-acbb-da212b0efee5')\"\n",
              "            title=\"Suggest charts\"\n",
              "            style=\"display:none;\">\n",
              "\n",
              "<svg xmlns=\"http://www.w3.org/2000/svg\" height=\"24px\"viewBox=\"0 0 24 24\"\n",
              "     width=\"24px\">\n",
              "    <g>\n",
              "        <path d=\"M19 3H5c-1.1 0-2 .9-2 2v14c0 1.1.9 2 2 2h14c1.1 0 2-.9 2-2V5c0-1.1-.9-2-2-2zM9 17H7v-7h2v7zm4 0h-2V7h2v10zm4 0h-2v-4h2v4z\"/>\n",
              "    </g>\n",
              "</svg>\n",
              "  </button>\n",
              "\n",
              "<style>\n",
              "  .colab-df-quickchart {\n",
              "      --bg-color: #E8F0FE;\n",
              "      --fill-color: #1967D2;\n",
              "      --hover-bg-color: #E2EBFA;\n",
              "      --hover-fill-color: #174EA6;\n",
              "      --disabled-fill-color: #AAA;\n",
              "      --disabled-bg-color: #DDD;\n",
              "  }\n",
              "\n",
              "  [theme=dark] .colab-df-quickchart {\n",
              "      --bg-color: #3B4455;\n",
              "      --fill-color: #D2E3FC;\n",
              "      --hover-bg-color: #434B5C;\n",
              "      --hover-fill-color: #FFFFFF;\n",
              "      --disabled-bg-color: #3B4455;\n",
              "      --disabled-fill-color: #666;\n",
              "  }\n",
              "\n",
              "  .colab-df-quickchart {\n",
              "    background-color: var(--bg-color);\n",
              "    border: none;\n",
              "    border-radius: 50%;\n",
              "    cursor: pointer;\n",
              "    display: none;\n",
              "    fill: var(--fill-color);\n",
              "    height: 32px;\n",
              "    padding: 0;\n",
              "    width: 32px;\n",
              "  }\n",
              "\n",
              "  .colab-df-quickchart:hover {\n",
              "    background-color: var(--hover-bg-color);\n",
              "    box-shadow: 0 1px 2px rgba(60, 64, 67, 0.3), 0 1px 3px 1px rgba(60, 64, 67, 0.15);\n",
              "    fill: var(--button-hover-fill-color);\n",
              "  }\n",
              "\n",
              "  .colab-df-quickchart-complete:disabled,\n",
              "  .colab-df-quickchart-complete:disabled:hover {\n",
              "    background-color: var(--disabled-bg-color);\n",
              "    fill: var(--disabled-fill-color);\n",
              "    box-shadow: none;\n",
              "  }\n",
              "\n",
              "  .colab-df-spinner {\n",
              "    border: 2px solid var(--fill-color);\n",
              "    border-color: transparent;\n",
              "    border-bottom-color: var(--fill-color);\n",
              "    animation:\n",
              "      spin 1s steps(1) infinite;\n",
              "  }\n",
              "\n",
              "  @keyframes spin {\n",
              "    0% {\n",
              "      border-color: transparent;\n",
              "      border-bottom-color: var(--fill-color);\n",
              "      border-left-color: var(--fill-color);\n",
              "    }\n",
              "    20% {\n",
              "      border-color: transparent;\n",
              "      border-left-color: var(--fill-color);\n",
              "      border-top-color: var(--fill-color);\n",
              "    }\n",
              "    30% {\n",
              "      border-color: transparent;\n",
              "      border-left-color: var(--fill-color);\n",
              "      border-top-color: var(--fill-color);\n",
              "      border-right-color: var(--fill-color);\n",
              "    }\n",
              "    40% {\n",
              "      border-color: transparent;\n",
              "      border-right-color: var(--fill-color);\n",
              "      border-top-color: var(--fill-color);\n",
              "    }\n",
              "    60% {\n",
              "      border-color: transparent;\n",
              "      border-right-color: var(--fill-color);\n",
              "    }\n",
              "    80% {\n",
              "      border-color: transparent;\n",
              "      border-right-color: var(--fill-color);\n",
              "      border-bottom-color: var(--fill-color);\n",
              "    }\n",
              "    90% {\n",
              "      border-color: transparent;\n",
              "      border-bottom-color: var(--fill-color);\n",
              "    }\n",
              "  }\n",
              "</style>\n",
              "\n",
              "  <script>\n",
              "    async function quickchart(key) {\n",
              "      const quickchartButtonEl =\n",
              "        document.querySelector('#' + key + ' button');\n",
              "      quickchartButtonEl.disabled = true;  // To prevent multiple clicks.\n",
              "      quickchartButtonEl.classList.add('colab-df-spinner');\n",
              "      try {\n",
              "        const charts = await google.colab.kernel.invokeFunction(\n",
              "            'suggestCharts', [key], {});\n",
              "      } catch (error) {\n",
              "        console.error('Error during call to suggestCharts:', error);\n",
              "      }\n",
              "      quickchartButtonEl.classList.remove('colab-df-spinner');\n",
              "      quickchartButtonEl.classList.add('colab-df-quickchart-complete');\n",
              "    }\n",
              "    (() => {\n",
              "      let quickchartButtonEl =\n",
              "        document.querySelector('#df-43c6847b-6bc5-4ae6-acbb-da212b0efee5 button');\n",
              "      quickchartButtonEl.style.display =\n",
              "        google.colab.kernel.accessAllowed ? 'block' : 'none';\n",
              "    })();\n",
              "  </script>\n",
              "</div>\n",
              "    </div>\n",
              "  </div>\n"
            ],
            "application/vnd.google.colaboratory.intrinsic+json": {
              "type": "dataframe",
              "variable_name": "train_df"
            }
          },
          "metadata": {},
          "execution_count": 13
        }
      ]
    },
    {
      "cell_type": "code",
      "source": [
        "# Distribution of labels in data\n",
        "train_df.target.value_counts()"
      ],
      "metadata": {
        "colab": {
          "base_uri": "https://localhost:8080/",
          "height": 272
        },
        "id": "h6TKWQFKVhNC",
        "outputId": "13815640-6341-4156-8683-d98b74ceaa69"
      },
      "execution_count": 14,
      "outputs": [
        {
          "output_type": "execute_result",
          "data": {
            "text/plain": [
              "target\n",
              "METHODS        59353\n",
              "RESULTS        57953\n",
              "CONCLUSIONS    27168\n",
              "BACKGROUND     21727\n",
              "OBJECTIVE      13839\n",
              "Name: count, dtype: int64"
            ],
            "text/html": [
              "<div>\n",
              "<style scoped>\n",
              "    .dataframe tbody tr th:only-of-type {\n",
              "        vertical-align: middle;\n",
              "    }\n",
              "\n",
              "    .dataframe tbody tr th {\n",
              "        vertical-align: top;\n",
              "    }\n",
              "\n",
              "    .dataframe thead th {\n",
              "        text-align: right;\n",
              "    }\n",
              "</style>\n",
              "<table border=\"1\" class=\"dataframe\">\n",
              "  <thead>\n",
              "    <tr style=\"text-align: right;\">\n",
              "      <th></th>\n",
              "      <th>count</th>\n",
              "    </tr>\n",
              "    <tr>\n",
              "      <th>target</th>\n",
              "      <th></th>\n",
              "    </tr>\n",
              "  </thead>\n",
              "  <tbody>\n",
              "    <tr>\n",
              "      <th>METHODS</th>\n",
              "      <td>59353</td>\n",
              "    </tr>\n",
              "    <tr>\n",
              "      <th>RESULTS</th>\n",
              "      <td>57953</td>\n",
              "    </tr>\n",
              "    <tr>\n",
              "      <th>CONCLUSIONS</th>\n",
              "      <td>27168</td>\n",
              "    </tr>\n",
              "    <tr>\n",
              "      <th>BACKGROUND</th>\n",
              "      <td>21727</td>\n",
              "    </tr>\n",
              "    <tr>\n",
              "      <th>OBJECTIVE</th>\n",
              "      <td>13839</td>\n",
              "    </tr>\n",
              "  </tbody>\n",
              "</table>\n",
              "</div><br><label><b>dtype:</b> int64</label>"
            ]
          },
          "metadata": {},
          "execution_count": 14
        }
      ]
    },
    {
      "cell_type": "code",
      "source": [
        "# Length of different lines\n",
        "train_df.total_lines.plot.hist()"
      ],
      "metadata": {
        "colab": {
          "base_uri": "https://localhost:8080/",
          "height": 448
        },
        "id": "vgJcVEUtV0hK",
        "outputId": "e2f2f123-9047-4b8b-ce82-8960989e2f12"
      },
      "execution_count": 15,
      "outputs": [
        {
          "output_type": "execute_result",
          "data": {
            "text/plain": [
              "<Axes: ylabel='Frequency'>"
            ]
          },
          "metadata": {},
          "execution_count": 15
        },
        {
          "output_type": "display_data",
          "data": {
            "text/plain": [
              "<Figure size 640x480 with 1 Axes>"
            ],
            "image/png": "[encoded data removed]"
          },
          "metadata": {}
        }
      ]
    },
    {
      "cell_type": "markdown",
      "source": [
        "### Get lists of sentences"
      ],
      "metadata": {
        "id": "qbMGCXOYWA_R"
      }
    },
    {
      "cell_type": "code",
      "source": [
        "# Convert abstract lines into lists\n",
        "train_sentences = train_df[\"text\"].to_list()\n",
        "val_sentences = val_df[\"text\"].to_list()\n",
        "test_sentences = test_df[\"text\"].to_list()\n",
        "len(train_sentences), len(val_sentences), len(test_sentences)"
      ],
      "metadata": {
        "colab": {
          "base_uri": "https://localhost:8080/"
        },
        "id": "07CzckouWLIC",
        "outputId": "1defd358-f10c-4f43-d30e-085764a3ead0"
      },
      "execution_count": 16,
      "outputs": [
        {
          "output_type": "execute_result",
          "data": {
            "text/plain": [
              "(180040, 30212, 30135)"
            ]
          },
          "metadata": {},
          "execution_count": 16
        }
      ]
    },
    {
      "cell_type": "code",
      "source": [
        "train_sentences[:10]"
      ],
      "metadata": {
        "colab": {
          "base_uri": "https://localhost:8080/"
        },
        "id": "TJScV-J8WhiL",
        "outputId": "4565f3d2-bb18-46ab-d8e6-51aeb7b6ff41"
      },
      "execution_count": 17,
      "outputs": [
        {
          "output_type": "execute_result",
          "data": {
            "text/plain": [
              "['to investigate the efficacy of @ weeks of daily low-dose oral prednisolone in improving pain , mobility , and systemic low-grade inflammation in the short term and whether the effect would be sustained at @ weeks in older adults with moderate to severe knee osteoarthritis ( oa ) .',\n",
              " 'a total of @ patients with primary knee oa were randomized @:@ ; @ received @ mg/day of prednisolone and @ received placebo for @ weeks .',\n",
              " 'outcome measures included pain reduction and improvement in function scores and systemic inflammation markers .',\n",
              " 'pain was assessed using the visual analog pain scale ( @-@ mm ) .',\n",
              " 'secondary outcome measures included the western ontario and mcmaster universities osteoarthritis index scores , patient global assessment ( pga ) of the severity of knee oa , and @-min walk distance ( @mwd ) .',\n",
              " 'serum levels of interleukin @ ( il-@ ) , il-@ , tumor necrosis factor ( tnf ) - , and high-sensitivity c-reactive protein ( hscrp ) were measured .',\n",
              " 'there was a clinically relevant reduction in the intervention group compared to the placebo group for knee pain , physical function , pga , and @mwd at @ weeks .',\n",
              " 'the mean difference between treatment arms ( @ % ci ) was @ ( @-@ @ ) , p < @ ; @ ( @-@ @ ) , p < @ ; @ ( @-@ @ ) , p < @ ; and @ ( @-@ @ ) , p < @ , respectively .',\n",
              " 'further , there was a clinically relevant reduction in the serum levels of il-@ , il-@ , tnf - , and hscrp at @ weeks in the intervention group when compared to the placebo group .',\n",
              " 'these differences remained significant at @ weeks .']"
            ]
          },
          "metadata": {},
          "execution_count": 17
        }
      ]
    },
    {
      "cell_type": "markdown",
      "source": [
        "## Make numeric labels"
      ],
      "metadata": {
        "id": "Z_V_TQxcWoci"
      }
    },
    {
      "cell_type": "code",
      "source": [
        "# One-hot encode labels\n",
        "from sklearn.preprocessing import OneHotEncoder\n",
        "one_hot_encoder = OneHotEncoder(sparse_output=False)\n",
        "train_labels_one_hot = one_hot_encoder.fit_transform(train_df[\"target\"].to_numpy().reshape(-1, 1))\n",
        "val_labels_one_hot = one_hot_encoder.transform(val_df[\"target\"].to_numpy().reshape(-1, 1))\n",
        "test_labels_one_hot = one_hot_encoder.transform(test_df[\"target\"].to_numpy().reshape(-1, 1))\n",
        "\n",
        "train_labels_one_hot"
      ],
      "metadata": {
        "colab": {
          "base_uri": "https://localhost:8080/"
        },
        "id": "Erg4rPQDa0QL",
        "outputId": "3e773128-f6b9-41cf-9d01-ce502b75d3da"
      },
      "execution_count": 18,
      "outputs": [
        {
          "output_type": "execute_result",
          "data": {
            "text/plain": [
              "array([[0., 0., 0., 1., 0.],\n",
              "       [0., 0., 1., 0., 0.],\n",
              "       [0., 0., 1., 0., 0.],\n",
              "       ...,\n",
              "       [0., 0., 0., 0., 1.],\n",
              "       [0., 1., 0., 0., 0.],\n",
              "       [0., 1., 0., 0., 0.]])"
            ]
          },
          "metadata": {},
          "execution_count": 18
        }
      ]
    },
    {
      "cell_type": "markdown",
      "source": [
        "### Label Encoded labels"
      ],
      "metadata": {
        "id": "Plvxv72Vcchb"
      }
    },
    {
      "cell_type": "code",
      "source": [
        "# Extract labels and encode into integers\n",
        "from sklearn.preprocessing import LabelEncoder\n",
        "label_encoder = LabelEncoder()\n",
        "train_labels_encoded = label_encoder.fit_transform(train_df[\"target\"].to_numpy())\n",
        "val_labels_encoded = label_encoder.transform(val_df[\"target\"].to_numpy())\n",
        "test_labels_encoded = label_encoder.transform(test_df[\"target\"].to_numpy())\n",
        "\n",
        "train_labels_encoded"
      ],
      "metadata": {
        "colab": {
          "base_uri": "https://localhost:8080/"
        },
        "id": "Y7HzPy5Wbbry",
        "outputId": "473fb434-9efa-44bd-eaa7-0632340c33ae"
      },
      "execution_count": 19,
      "outputs": [
        {
          "output_type": "execute_result",
          "data": {
            "text/plain": [
              "array([3, 2, 2, ..., 4, 1, 1])"
            ]
          },
          "metadata": {},
          "execution_count": 19
        }
      ]
    },
    {
      "cell_type": "code",
      "source": [
        "# Get class names and number of classes\n",
        "num_classes = len(label_encoder.classes_)\n",
        "class_names = label_encoder.classes_\n",
        "\n",
        "num_classes, class_names"
      ],
      "metadata": {
        "colab": {
          "base_uri": "https://localhost:8080/"
        },
        "id": "DncQndNEdH7j",
        "outputId": "ce345d1d-037d-4249-aaac-876bbba8a6b3"
      },
      "execution_count": 20,
      "outputs": [
        {
          "output_type": "execute_result",
          "data": {
            "text/plain": [
              "(5,\n",
              " array(['BACKGROUND', 'CONCLUSIONS', 'METHODS', 'OBJECTIVE', 'RESULTS'],\n",
              "       dtype=object))"
            ]
          },
          "metadata": {},
          "execution_count": 20
        }
      ]
    },
    {
      "cell_type": "markdown",
      "source": [
        "# Series of modelling experiments"
      ],
      "metadata": {
        "id": "pNZJ_iVAgafE"
      }
    },
    {
      "cell_type": "markdown",
      "source": [
        "## Model 0: Baseline"
      ],
      "metadata": {
        "id": "sG555KxCde4D"
      }
    },
    {
      "cell_type": "code",
      "source": [
        "from sklearn.feature_extraction.text import TfidfVectorizer\n",
        "from sklearn.naive_bayes import MultinomialNB\n",
        "from sklearn.pipeline import Pipeline"
      ],
      "metadata": {
        "id": "-vSYv9S2gY-D"
      },
      "execution_count": 21,
      "outputs": []
    },
    {
      "cell_type": "code",
      "source": [
        "# Create a pipeline\n",
        "model_0 = Pipeline([\n",
        "    (\"tf-idf\", TfidfVectorizer()),\n",
        "    (\"clf\", MultinomialNB())\n",
        "])\n",
        "\n",
        "# Fit\n",
        "model_0.fit(X=train_sentences,\n",
        "            y=train_labels_encoded)"
      ],
      "metadata": {
        "colab": {
          "base_uri": "https://localhost:8080/",
          "height": 155
        },
        "id": "YPj33dULgrcE",
        "outputId": "52f5cebf-703a-4775-c302-6d3061a00808"
      },
      "execution_count": 22,
      "outputs": [
        {
          "output_type": "execute_result",
          "data": {
            "text/plain": [
              "Pipeline(steps=[('tf-idf', TfidfVectorizer()), ('clf', MultinomialNB())])"
            ],
            "text/html": [
              "<style>#sk-container-id-1 {\n",
              "  /* Definition of color scheme common for light and dark mode */\n",
              "  --sklearn-color-text: #000;\n",
              "  --sklearn-color-text-muted: #666;\n",
              "  --sklearn-color-line: gray;\n",
              "  /* Definition of color scheme for unfitted estimators */\n",
              "  --sklearn-color-unfitted-level-0: #fff5e6;\n",
              "  --sklearn-color-unfitted-level-1: #f6e4d2;\n",
              "  --sklearn-color-unfitted-level-2: #ffe0b3;\n",
              "  --sklearn-color-unfitted-level-3: chocolate;\n",
              "  /* Definition of color scheme for fitted estimators */\n",
              "  --sklearn-color-fitted-level-0: #f0f8ff;\n",
              "  --sklearn-color-fitted-level-1: #d4ebff;\n",
              "  --sklearn-color-fitted-level-2: #b3dbfd;\n",
              "  --sklearn-color-fitted-level-3: cornflowerblue;\n",
              "\n",
              "  /* Specific color for light theme */\n",
              "  --sklearn-color-text-on-default-background: var(--sg-text-color, var(--theme-code-foreground, var(--jp-content-font-color1, black)));\n",
              "  --sklearn-color-background: var(--sg-background-color, var(--theme-background, var(--jp-layout-color0, white)));\n",
              "  --sklearn-color-border-box: var(--sg-text-color, var(--theme-code-foreground, var(--jp-content-font-color1, black)));\n",
              "  --sklearn-color-icon: #696969;\n",
              "\n",
              "  @media (prefers-color-scheme: dark) {\n",
              "    /* Redefinition of color scheme for dark theme */\n",
              "    --sklearn-color-text-on-default-background: var(--sg-text-color, var(--theme-code-foreground, var(--jp-content-font-color1, white)));\n",
              "    --sklearn-color-background: var(--sg-background-color, var(--theme-background, var(--jp-layout-color0, #111)));\n",
              "    --sklearn-color-border-box: var(--sg-text-color, var(--theme-code-foreground, var(--jp-content-font-color1, white)));\n",
              "    --sklearn-color-icon: #878787;\n",
              "  }\n",
              "}\n",
              "\n",
              "#sk-container-id-1 {\n",
              "  color: var(--sklearn-color-text);\n",
              "}\n",
              "\n",
              "#sk-container-id-1 pre {\n",
              "  padding: 0;\n",
              "}\n",
              "\n",
              "#sk-container-id-1 input.sk-hidden--visually {\n",
              "  border: 0;\n",
              "  clip: rect(1px 1px 1px 1px);\n",
              "  clip: rect(1px, 1px, 1px, 1px);\n",
              "  height: 1px;\n",
              "  margin: -1px;\n",
              "  overflow: hidden;\n",
              "  padding: 0;\n",
              "  position: absolute;\n",
              "  width: 1px;\n",
              "}\n",
              "\n",
              "#sk-container-id-1 div.sk-dashed-wrapped {\n",
              "  border: 1px dashed var(--sklearn-color-line);\n",
              "  margin: 0 0.4em 0.5em 0.4em;\n",
              "  box-sizing: border-box;\n",
              "  padding-bottom: 0.4em;\n",
              "  background-color: var(--sklearn-color-background);\n",
              "}\n",
              "\n",
              "#sk-container-id-1 div.sk-container {\n",
              "  /* jupyter's `normalize.less` sets `[hidden] { display: none; }`\n",
              "     but bootstrap.min.css set `[hidden] { display: none !important; }`\n",
              "     so we also need the `!important` here to be able to override the\n",
              "     default hidden behavior on the sphinx rendered scikit-learn.org.\n",
              "     See: https://github.com/scikit-learn/scikit-learn/issues/21755 */\n",
              "  display: inline-block !important;\n",
              "  position: relative;\n",
              "}\n",
              "\n",
              "#sk-container-id-1 div.sk-text-repr-fallback {\n",
              "  display: none;\n",
              "}\n",
              "\n",
              "div.sk-parallel-item,\n",
              "div.sk-serial,\n",
              "div.sk-item {\n",
              "  /* draw centered vertical line to link estimators */\n",
              "  background-image: linear-gradient(var(--sklearn-color-text-on-default-background), var(--sklearn-color-text-on-default-background));\n",
              "  background-size: 2px 100%;\n",
              "  background-repeat: no-repeat;\n",
              "  background-position: center center;\n",
              "}\n",
              "\n",
              "/* Parallel-specific style estimator block */\n",
              "\n",
              "#sk-container-id-1 div.sk-parallel-item::after {\n",
              "  content: \"\";\n",
              "  width: 100%;\n",
              "  border-bottom: 2px solid var(--sklearn-color-text-on-default-background);\n",
              "  flex-grow: 1;\n",
              "}\n",
              "\n",
              "#sk-container-id-1 div.sk-parallel {\n",
              "  display: flex;\n",
              "  align-items: stretch;\n",
              "  justify-content: center;\n",
              "  background-color: var(--sklearn-color-background);\n",
              "  position: relative;\n",
              "}\n",
              "\n",
              "#sk-container-id-1 div.sk-parallel-item {\n",
              "  display: flex;\n",
              "  flex-direction: column;\n",
              "}\n",
              "\n",
              "#sk-container-id-1 div.sk-parallel-item:first-child::after {\n",
              "  align-self: flex-end;\n",
              "  width: 50%;\n",
              "}\n",
              "\n",
              "#sk-container-id-1 div.sk-parallel-item:last-child::after {\n",
              "  align-self: flex-start;\n",
              "  width: 50%;\n",
              "}\n",
              "\n",
              "#sk-container-id-1 div.sk-parallel-item:only-child::after {\n",
              "  width: 0;\n",
              "}\n",
              "\n",
              "/* Serial-specific style estimator block */\n",
              "\n",
              "#sk-container-id-1 div.sk-serial {\n",
              "  display: flex;\n",
              "  flex-direction: column;\n",
              "  align-items: center;\n",
              "  background-color: var(--sklearn-color-background);\n",
              "  padding-right: 1em;\n",
              "  padding-left: 1em;\n",
              "}\n",
              "\n",
              "\n",
              "/* Toggleable style: style used for estimator/Pipeline/ColumnTransformer box that is\n",
              "clickable and can be expanded/collapsed.\n",
              "- Pipeline and ColumnTransformer use this feature and define the default style\n",
              "- Estimators will overwrite some part of the style using the `sk-estimator` class\n",
              "*/\n",
              "\n",
              "/* Pipeline and ColumnTransformer style (default) */\n",
              "\n",
              "#sk-container-id-1 div.sk-toggleable {\n",
              "  /* Default theme specific background. It is overwritten whether we have a\n",
              "  specific estimator or a Pipeline/ColumnTransformer */\n",
              "  background-color: var(--sklearn-color-background);\n",
              "}\n",
              "\n",
              "/* Toggleable label */\n",
              "#sk-container-id-1 label.sk-toggleable__label {\n",
              "  cursor: pointer;\n",
              "  display: flex;\n",
              "  width: 100%;\n",
              "  margin-bottom: 0;\n",
              "  padding: 0.5em;\n",
              "  box-sizing: border-box;\n",
              "  text-align: center;\n",
              "  align-items: start;\n",
              "  justify-content: space-between;\n",
              "  gap: 0.5em;\n",
              "}\n",
              "\n",
              "#sk-container-id-1 label.sk-toggleable__label .caption {\n",
              "  font-size: 0.6rem;\n",
              "  font-weight: lighter;\n",
              "  color: var(--sklearn-color-text-muted);\n",
              "}\n",
              "\n",
              "#sk-container-id-1 label.sk-toggleable__label-arrow:before {\n",
              "  /* Arrow on the left of the label */\n",
              "  content: \"▸\";\n",
              "  float: left;\n",
              "  margin-right: 0.25em;\n",
              "  color: var(--sklearn-color-icon);\n",
              "}\n",
              "\n",
              "#sk-container-id-1 label.sk-toggleable__label-arrow:hover:before {\n",
              "  color: var(--sklearn-color-text);\n",
              "}\n",
              "\n",
              "/* Toggleable content - dropdown */\n",
              "\n",
              "#sk-container-id-1 div.sk-toggleable__content {\n",
              "  max-height: 0;\n",
              "  max-width: 0;\n",
              "  overflow: hidden;\n",
              "  text-align: left;\n",
              "  /* unfitted */\n",
              "  background-color: var(--sklearn-color-unfitted-level-0);\n",
              "}\n",
              "\n",
              "#sk-container-id-1 div.sk-toggleable__content.fitted {\n",
              "  /* fitted */\n",
              "  background-color: var(--sklearn-color-fitted-level-0);\n",
              "}\n",
              "\n",
              "#sk-container-id-1 div.sk-toggleable__content pre {\n",
              "  margin: 0.2em;\n",
              "  border-radius: 0.25em;\n",
              "  color: var(--sklearn-color-text);\n",
              "  /* unfitted */\n",
              "  background-color: var(--sklearn-color-unfitted-level-0);\n",
              "}\n",
              "\n",
              "#sk-container-id-1 div.sk-toggleable__content.fitted pre {\n",
              "  /* unfitted */\n",
              "  background-color: var(--sklearn-color-fitted-level-0);\n",
              "}\n",
              "\n",
              "#sk-container-id-1 input.sk-toggleable__control:checked~div.sk-toggleable__content {\n",
              "  /* Expand drop-down */\n",
              "  max-height: 200px;\n",
              "  max-width: 100%;\n",
              "  overflow: auto;\n",
              "}\n",
              "\n",
              "#sk-container-id-1 input.sk-toggleable__control:checked~label.sk-toggleable__label-arrow:before {\n",
              "  content: \"▾\";\n",
              "}\n",
              "\n",
              "/* Pipeline/ColumnTransformer-specific style */\n",
              "\n",
              "#sk-container-id-1 div.sk-label input.sk-toggleable__control:checked~label.sk-toggleable__label {\n",
              "  color: var(--sklearn-color-text);\n",
              "  background-color: var(--sklearn-color-unfitted-level-2);\n",
              "}\n",
              "\n",
              "#sk-container-id-1 div.sk-label.fitted input.sk-toggleable__control:checked~label.sk-toggleable__label {\n",
              "  background-color: var(--sklearn-color-fitted-level-2);\n",
              "}\n",
              "\n",
              "/* Estimator-specific style */\n",
              "\n",
              "/* Colorize estimator box */\n",
              "#sk-container-id-1 div.sk-estimator input.sk-toggleable__control:checked~label.sk-toggleable__label {\n",
              "  /* unfitted */\n",
              "  background-color: var(--sklearn-color-unfitted-level-2);\n",
              "}\n",
              "\n",
              "#sk-container-id-1 div.sk-estimator.fitted input.sk-toggleable__control:checked~label.sk-toggleable__label {\n",
              "  /* fitted */\n",
              "  background-color: var(--sklearn-color-fitted-level-2);\n",
              "}\n",
              "\n",
              "#sk-container-id-1 div.sk-label label.sk-toggleable__label,\n",
              "#sk-container-id-1 div.sk-label label {\n",
              "  /* The background is the default theme color */\n",
              "  color: var(--sklearn-color-text-on-default-background);\n",
              "}\n",
              "\n",
              "/* On hover, darken the color of the background */\n",
              "#sk-container-id-1 div.sk-label:hover label.sk-toggleable__label {\n",
              "  color: var(--sklearn-color-text);\n",
              "  background-color: var(--sklearn-color-unfitted-level-2);\n",
              "}\n",
              "\n",
              "/* Label box, darken color on hover, fitted */\n",
              "#sk-container-id-1 div.sk-label.fitted:hover label.sk-toggleable__label.fitted {\n",
              "  color: var(--sklearn-color-text);\n",
              "  background-color: var(--sklearn-color-fitted-level-2);\n",
              "}\n",
              "\n",
              "/* Estimator label */\n",
              "\n",
              "#sk-container-id-1 div.sk-label label {\n",
              "  font-family: monospace;\n",
              "  font-weight: bold;\n",
              "  display: inline-block;\n",
              "  line-height: 1.2em;\n",
              "}\n",
              "\n",
              "#sk-container-id-1 div.sk-label-container {\n",
              "  text-align: center;\n",
              "}\n",
              "\n",
              "/* Estimator-specific */\n",
              "#sk-container-id-1 div.sk-estimator {\n",
              "  font-family: monospace;\n",
              "  border: 1px dotted var(--sklearn-color-border-box);\n",
              "  border-radius: 0.25em;\n",
              "  box-sizing: border-box;\n",
              "  margin-bottom: 0.5em;\n",
              "  /* unfitted */\n",
              "  background-color: var(--sklearn-color-unfitted-level-0);\n",
              "}\n",
              "\n",
              "#sk-container-id-1 div.sk-estimator.fitted {\n",
              "  /* fitted */\n",
              "  background-color: var(--sklearn-color-fitted-level-0);\n",
              "}\n",
              "\n",
              "/* on hover */\n",
              "#sk-container-id-1 div.sk-estimator:hover {\n",
              "  /* unfitted */\n",
              "  background-color: var(--sklearn-color-unfitted-level-2);\n",
              "}\n",
              "\n",
              "#sk-container-id-1 div.sk-estimator.fitted:hover {\n",
              "  /* fitted */\n",
              "  background-color: var(--sklearn-color-fitted-level-2);\n",
              "}\n",
              "\n",
              "/* Specification for estimator info (e.g. \"i\" and \"?\") */\n",
              "\n",
              "/* Common style for \"i\" and \"?\" */\n",
              "\n",
              ".sk-estimator-doc-link,\n",
              "a:link.sk-estimator-doc-link,\n",
              "a:visited.sk-estimator-doc-link {\n",
              "  float: right;\n",
              "  font-size: smaller;\n",
              "  line-height: 1em;\n",
              "  font-family: monospace;\n",
              "  background-color: var(--sklearn-color-background);\n",
              "  border-radius: 1em;\n",
              "  height: 1em;\n",
              "  width: 1em;\n",
              "  text-decoration: none !important;\n",
              "  margin-left: 0.5em;\n",
              "  text-align: center;\n",
              "  /* unfitted */\n",
              "  border: var(--sklearn-color-unfitted-level-1) 1pt solid;\n",
              "  color: var(--sklearn-color-unfitted-level-1);\n",
              "}\n",
              "\n",
              ".sk-estimator-doc-link.fitted,\n",
              "a:link.sk-estimator-doc-link.fitted,\n",
              "a:visited.sk-estimator-doc-link.fitted {\n",
              "  /* fitted */\n",
              "  border: var(--sklearn-color-fitted-level-1) 1pt solid;\n",
              "  color: var(--sklearn-color-fitted-level-1);\n",
              "}\n",
              "\n",
              "/* On hover */\n",
              "div.sk-estimator:hover .sk-estimator-doc-link:hover,\n",
              ".sk-estimator-doc-link:hover,\n",
              "div.sk-label-container:hover .sk-estimator-doc-link:hover,\n",
              ".sk-estimator-doc-link:hover {\n",
              "  /* unfitted */\n",
              "  background-color: var(--sklearn-color-unfitted-level-3);\n",
              "  color: var(--sklearn-color-background);\n",
              "  text-decoration: none;\n",
              "}\n",
              "\n",
              "div.sk-estimator.fitted:hover .sk-estimator-doc-link.fitted:hover,\n",
              ".sk-estimator-doc-link.fitted:hover,\n",
              "div.sk-label-container:hover .sk-estimator-doc-link.fitted:hover,\n",
              ".sk-estimator-doc-link.fitted:hover {\n",
              "  /* fitted */\n",
              "  background-color: var(--sklearn-color-fitted-level-3);\n",
              "  color: var(--sklearn-color-background);\n",
              "  text-decoration: none;\n",
              "}\n",
              "\n",
              "/* Span, style for the box shown on hovering the info icon */\n",
              ".sk-estimator-doc-link span {\n",
              "  display: none;\n",
              "  z-index: 9999;\n",
              "  position: relative;\n",
              "  font-weight: normal;\n",
              "  right: .2ex;\n",
              "  padding: .5ex;\n",
              "  margin: .5ex;\n",
              "  width: min-content;\n",
              "  min-width: 20ex;\n",
              "  max-width: 50ex;\n",
              "  color: var(--sklearn-color-text);\n",
              "  box-shadow: 2pt 2pt 4pt #999;\n",
              "  /* unfitted */\n",
              "  background: var(--sklearn-color-unfitted-level-0);\n",
              "  border: .5pt solid var(--sklearn-color-unfitted-level-3);\n",
              "}\n",
              "\n",
              ".sk-estimator-doc-link.fitted span {\n",
              "  /* fitted */\n",
              "  background: var(--sklearn-color-fitted-level-0);\n",
              "  border: var(--sklearn-color-fitted-level-3);\n",
              "}\n",
              "\n",
              ".sk-estimator-doc-link:hover span {\n",
              "  display: block;\n",
              "}\n",
              "\n",
              "/* \"?\"-specific style due to the `<a>` HTML tag */\n",
              "\n",
              "#sk-container-id-1 a.estimator_doc_link {\n",
              "  float: right;\n",
              "  font-size: 1rem;\n",
              "  line-height: 1em;\n",
              "  font-family: monospace;\n",
              "  background-color: var(--sklearn-color-background);\n",
              "  border-radius: 1rem;\n",
              "  height: 1rem;\n",
              "  width: 1rem;\n",
              "  text-decoration: none;\n",
              "  /* unfitted */\n",
              "  color: var(--sklearn-color-unfitted-level-1);\n",
              "  border: var(--sklearn-color-unfitted-level-1) 1pt solid;\n",
              "}\n",
              "\n",
              "#sk-container-id-1 a.estimator_doc_link.fitted {\n",
              "  /* fitted */\n",
              "  border: var(--sklearn-color-fitted-level-1) 1pt solid;\n",
              "  color: var(--sklearn-color-fitted-level-1);\n",
              "}\n",
              "\n",
              "/* On hover */\n",
              "#sk-container-id-1 a.estimator_doc_link:hover {\n",
              "  /* unfitted */\n",
              "  background-color: var(--sklearn-color-unfitted-level-3);\n",
              "  color: var(--sklearn-color-background);\n",
              "  text-decoration: none;\n",
              "}\n",
              "\n",
              "#sk-container-id-1 a.estimator_doc_link.fitted:hover {\n",
              "  /* fitted */\n",
              "  background-color: var(--sklearn-color-fitted-level-3);\n",
              "}\n",
              "</style><div id=\"sk-container-id-1\" class=\"sk-top-container\"><div class=\"sk-text-repr-fallback\"><pre>Pipeline(steps=[(&#x27;tf-idf&#x27;, TfidfVectorizer()), (&#x27;clf&#x27;, MultinomialNB())])</pre><b>In a Jupyter environment, please rerun this cell to show the HTML representation or trust the notebook. <br />On GitHub, the HTML representation is unable to render, please try loading this page with nbviewer.org.</b></div><div class=\"sk-container\" hidden><div class=\"sk-item sk-dashed-wrapped\"><div class=\"sk-label-container\"><div class=\"sk-label fitted sk-toggleable\"><input class=\"sk-toggleable__control sk-hidden--visually\" id=\"sk-estimator-id-1\" type=\"checkbox\" ><label for=\"sk-estimator-id-1\" class=\"sk-toggleable__label fitted sk-toggleable__label-arrow\"><div><div>Pipeline</div></div><div><a class=\"sk-estimator-doc-link fitted\" rel=\"noreferrer\" target=\"_blank\" href=\"https://scikit-learn.org/1.6/modules/generated/sklearn.pipeline.Pipeline.html\">?<span>Documentation for Pipeline</span></a><span class=\"sk-estimator-doc-link fitted\">i<span>Fitted</span></span></div></label><div class=\"sk-toggleable__content fitted\"><pre>Pipeline(steps=[(&#x27;tf-idf&#x27;, TfidfVectorizer()), (&#x27;clf&#x27;, MultinomialNB())])</pre></div> </div></div><div class=\"sk-serial\"><div class=\"sk-item\"><div class=\"sk-estimator fitted sk-toggleable\"><input class=\"sk-toggleable__control sk-hidden--visually\" id=\"sk-estimator-id-2\" type=\"checkbox\" ><label for=\"sk-estimator-id-2\" class=\"sk-toggleable__label fitted sk-toggleable__label-arrow\"><div><div>TfidfVectorizer</div></div><div><a class=\"sk-estimator-doc-link fitted\" rel=\"noreferrer\" target=\"_blank\" href=\"https://scikit-learn.org/1.6/modules/generated/sklearn.feature_extraction.text.TfidfVectorizer.html\">?<span>Documentation for TfidfVectorizer</span></a></div></label><div class=\"sk-toggleable__content fitted\"><pre>TfidfVectorizer()</pre></div> </div></div><div class=\"sk-item\"><div class=\"sk-estimator fitted sk-toggleable\"><input class=\"sk-toggleable__control sk-hidden--visually\" id=\"sk-estimator-id-3\" type=\"checkbox\" ><label for=\"sk-estimator-id-3\" class=\"sk-toggleable__label fitted sk-toggleable__label-arrow\"><div><div>MultinomialNB</div></div><div><a class=\"sk-estimator-doc-link fitted\" rel=\"noreferrer\" target=\"_blank\" href=\"https://scikit-learn.org/1.6/modules/generated/sklearn.naive_bayes.MultinomialNB.html\">?<span>Documentation for MultinomialNB</span></a></div></label><div class=\"sk-toggleable__content fitted\"><pre>MultinomialNB()</pre></div> </div></div></div></div></div></div>"
            ]
          },
          "metadata": {},
          "execution_count": 22
        }
      ]
    },
    {
      "cell_type": "code",
      "source": [
        "# Evaluate\n",
        "model_0.score(X=val_sentences,\n",
        "              y=val_labels_encoded)"
      ],
      "metadata": {
        "colab": {
          "base_uri": "https://localhost:8080/"
        },
        "id": "CL0h9Ue3hCYj",
        "outputId": "fa9b1ea3-769a-44ff-d306-582d58e07385"
      },
      "execution_count": 23,
      "outputs": [
        {
          "output_type": "execute_result",
          "data": {
            "text/plain": [
              "0.7218323844829869"
            ]
          },
          "metadata": {},
          "execution_count": 23
        }
      ]
    },
    {
      "cell_type": "code",
      "source": [
        "# Make predictions\n",
        "baseline_preds = model_0.predict(val_sentences)\n",
        "baseline_preds"
      ],
      "metadata": {
        "colab": {
          "base_uri": "https://localhost:8080/"
        },
        "id": "WxK3XCevhWJL",
        "outputId": "655d910e-7405-4fbf-ad62-a5896b0f3e72"
      },
      "execution_count": 24,
      "outputs": [
        {
          "output_type": "execute_result",
          "data": {
            "text/plain": [
              "array([4, 1, 3, ..., 4, 4, 1])"
            ]
          },
          "metadata": {},
          "execution_count": 24
        }
      ]
    },
    {
      "cell_type": "code",
      "source": [
        "val_labels_encoded"
      ],
      "metadata": {
        "colab": {
          "base_uri": "https://localhost:8080/"
        },
        "id": "0rrANrNOhftb",
        "outputId": "0760c301-a658-4f20-82be-ac14d95f9c24"
      },
      "execution_count": 25,
      "outputs": [
        {
          "output_type": "execute_result",
          "data": {
            "text/plain": [
              "array([0, 0, 3, ..., 4, 1, 1])"
            ]
          },
          "metadata": {},
          "execution_count": 25
        }
      ]
    },
    {
      "cell_type": "markdown",
      "source": [
        "### Download helper_function.py"
      ],
      "metadata": {
        "id": "LoVcS71ohhtj"
      }
    },
    {
      "cell_type": "code",
      "source": [
        "!wget https://raw.githubusercontent.com/mrdbourke/tensorflow-deep-learning/refs/heads/main/extras/helper_functions.py"
      ],
      "metadata": {
        "colab": {
          "base_uri": "https://localhost:8080/"
        },
        "id": "E0glYWEJhlo7",
        "outputId": "de5b4da2-070f-4728-f71a-2255c7b12320"
      },
      "execution_count": 26,
      "outputs": [
        {
          "output_type": "stream",
          "name": "stdout",
          "text": [
            "--2025-02-13 23:26:40--  https://raw.githubusercontent.com/mrdbourke/tensorflow-deep-learning/refs/heads/main/extras/helper_functions.py\n",
            "Resolving raw.githubusercontent.com (raw.githubusercontent.com)... 185.199.108.133, 185.199.109.133, 185.199.110.133, ...\n",
            "Connecting to raw.githubusercontent.com (raw.githubusercontent.com)|185.199.108.133|:443... connected.\n",
            "HTTP request sent, awaiting response... 200 OK\n",
            "Length: 10246 (10K) [text/plain]\n",
            "Saving to: ‘helper_functions.py’\n",
            "\n",
            "helper_functions.py 100%[===================>]  10.01K  --.-KB/s    in 0s      \n",
            "\n",
            "2025-02-13 23:26:40 (76.7 MB/s) - ‘helper_functions.py’ saved [10246/10246]\n",
            "\n"
          ]
        }
      ]
    },
    {
      "cell_type": "code",
      "source": [
        "from helper_functions import calculate_results"
      ],
      "metadata": {
        "id": "eJGvejdHh7lb"
      },
      "execution_count": 27,
      "outputs": []
    },
    {
      "cell_type": "code",
      "source": [
        "# Calculate baseline results\n",
        "baseline_results = calculate_results(y_true=val_labels_encoded,\n",
        "                                     y_pred=baseline_preds)\n",
        "baseline_results"
      ],
      "metadata": {
        "colab": {
          "base_uri": "https://localhost:8080/"
        },
        "id": "MyZA1KEpiOns",
        "outputId": "4cbd1f50-5dad-4de9-94e2-657310f84e1e"
      },
      "execution_count": 28,
      "outputs": [
        {
          "output_type": "execute_result",
          "data": {
            "text/plain": [
              "{'accuracy': 72.1832384482987,\n",
              " 'precision': 0.7186466952323352,\n",
              " 'recall': 0.7218323844829869,\n",
              " 'f1': 0.6989250353450294}"
            ]
          },
          "metadata": {},
          "execution_count": 28
        }
      ]
    },
    {
      "cell_type": "markdown",
      "source": [
        "## Preparing our data for deep sequence models"
      ],
      "metadata": {
        "id": "j51SeRvIiV27"
      }
    },
    {
      "cell_type": "code",
      "source": [
        "import numpy as np\n",
        "import tensorflow as tf\n",
        "from tensorflow.keras import layers"
      ],
      "metadata": {
        "id": "7w-5S4lkpCq6"
      },
      "execution_count": 29,
      "outputs": []
    },
    {
      "cell_type": "code",
      "source": [
        "train_sentences[:5]"
      ],
      "metadata": {
        "colab": {
          "base_uri": "https://localhost:8080/"
        },
        "id": "sZHdtTvLplM_",
        "outputId": "2e504b23-793a-4fb9-ee0d-1e52ffe0b20f"
      },
      "execution_count": 30,
      "outputs": [
        {
          "output_type": "execute_result",
          "data": {
            "text/plain": [
              "['to investigate the efficacy of @ weeks of daily low-dose oral prednisolone in improving pain , mobility , and systemic low-grade inflammation in the short term and whether the effect would be sustained at @ weeks in older adults with moderate to severe knee osteoarthritis ( oa ) .',\n",
              " 'a total of @ patients with primary knee oa were randomized @:@ ; @ received @ mg/day of prednisolone and @ received placebo for @ weeks .',\n",
              " 'outcome measures included pain reduction and improvement in function scores and systemic inflammation markers .',\n",
              " 'pain was assessed using the visual analog pain scale ( @-@ mm ) .',\n",
              " 'secondary outcome measures included the western ontario and mcmaster universities osteoarthritis index scores , patient global assessment ( pga ) of the severity of knee oa , and @-min walk distance ( @mwd ) .']"
            ]
          },
          "metadata": {},
          "execution_count": 30
        }
      ]
    },
    {
      "cell_type": "code",
      "source": [
        "# how long each sentence on average\n",
        "sent_lens = [len(sentence.split()) for sentence in train_sentences]\n",
        "avg_sent_leng = np.mean(sent_lens)\n",
        "avg_sent_leng"
      ],
      "metadata": {
        "colab": {
          "base_uri": "https://localhost:8080/"
        },
        "id": "Soe-ohC1pVJD",
        "outputId": "257f0aa1-ea2d-4335-d885-a12400f1ec00"
      },
      "execution_count": 32,
      "outputs": [
        {
          "output_type": "execute_result",
          "data": {
            "text/plain": [
              "26.338269273494777"
            ]
          },
          "metadata": {},
          "execution_count": 32
        }
      ]
    },
    {
      "cell_type": "code",
      "source": [
        "# What's the distribution\n",
        "import matplotlib.pyplot as plt\n",
        "plt.hist(sent_lens, bins=20);"
      ],
      "metadata": {
        "colab": {
          "base_uri": "https://localhost:8080/",
          "height": 430
        },
        "id": "0oa3blNHpwKi",
        "outputId": "e75b80b3-4e60-4a76-cb2b-32aa01d6e81d"
      },
      "execution_count": 36,
      "outputs": [
        {
          "output_type": "display_data",
          "data": {
            "text/plain": [
              "<Figure size 640x480 with 1 Axes>"
            ],
            "image/png": "[encoded data removed]"
          },
          "metadata": {}
        }
      ]
    },
    {
      "cell_type": "code",
      "source": [
        "# what sentence lengths covers 95% of the data\n",
        "output_seq_len = int(np.percentile(sent_lens, 95))\n",
        "output_seq_len"
      ],
      "metadata": {
        "colab": {
          "base_uri": "https://localhost:8080/"
        },
        "id": "MUiN6rYVqI4K",
        "outputId": "3acb0cb2-92bb-486e-ee2e-4a324e00aecf"
      },
      "execution_count": 37,
      "outputs": [
        {
          "output_type": "execute_result",
          "data": {
            "text/plain": [
              "55"
            ]
          },
          "metadata": {},
          "execution_count": 37
        }
      ]
    },
    {
      "cell_type": "code",
      "source": [
        "# max sentence length in train set\n",
        "max(sent_lens)"
      ],
      "metadata": {
        "colab": {
          "base_uri": "https://localhost:8080/"
        },
        "id": "6Iz58N5YrBpq",
        "outputId": "89bcf37e-d0dc-4742-b97a-dd275fd8d4b0"
      },
      "execution_count": 38,
      "outputs": [
        {
          "output_type": "execute_result",
          "data": {
            "text/plain": [
              "296"
            ]
          },
          "metadata": {},
          "execution_count": 38
        }
      ]
    },
    {
      "cell_type": "markdown",
      "source": [
        "### Create text_vectorizer layer"
      ],
      "metadata": {
        "id": "Lwuo-hUHrSNi"
      }
    },
    {
      "cell_type": "code",
      "source": [
        "# max words in vocab\n",
        "max_tokens = 68000"
      ],
      "metadata": {
        "id": "B4w55yWNrjvz"
      },
      "execution_count": 39,
      "outputs": []
    },
    {
      "cell_type": "code",
      "source": [
        "# Create text vectorizer\n",
        "from tensorflow.keras import layers\n",
        "\n",
        "text_vectorizer = layers.TextVectorization(max_tokens=max_tokens, # number of words in vocabulary\n",
        "                                           output_sequence_length=output_seq_len) # desired output length of vectorized sequences"
      ],
      "metadata": {
        "id": "dT0Hc7N7snaT"
      },
      "execution_count": 40,
      "outputs": []
    },
    {
      "cell_type": "code",
      "source": [
        "# Adapt text vectorizer to train sentences\n",
        "text_vectorizer.adapt(train_sentences)"
      ],
      "metadata": {
        "id": "TV3Ul7kttJJp"
      },
      "execution_count": 41,
      "outputs": []
    },
    {
      "cell_type": "code",
      "source": [
        "# test text vectorizer\n",
        "import random\n",
        "target_sentence = random.choice(train_sentences)\n",
        "print(f\"Text:\\n{target_sentence}\")\n",
        "print(f\"\\nLength of text: {len(target_sentence.split())}\")\n",
        "print(f\"\\nVectorized text:\\n{text_vectorizer([target_sentence])}\")"
      ],
      "metadata": {
        "colab": {
          "base_uri": "https://localhost:8080/"
        },
        "id": "OUyDozkOtVyL",
        "outputId": "cea03302-7419-40fb-f17f-87165bda5cc1"
      },
      "execution_count": 42,
      "outputs": [
        {
          "output_type": "stream",
          "name": "stdout",
          "text": [
            "Text:\n",
            "intraoperative hematocrit levels were higher and need for postoperative erythrocyte transfusion was decreased in group in .\n",
            "\n",
            "Length of text: 17\n",
            "\n",
            "Vectorized text:\n",
            "[[ 842 4372   93    9   82    3  483   11  163 3201 1082   10  212    5\n",
            "    13    5    0    0    0    0    0    0    0    0    0    0    0    0\n",
            "     0    0    0    0    0    0    0    0    0    0    0    0    0    0\n",
            "     0    0    0    0    0    0    0    0    0    0    0    0    0]]\n"
          ]
        }
      ]
    },
    {
      "cell_type": "code",
      "source": [
        "rct_20k_text_vocab = text_vectorizer.get_vocabulary()\n",
        "print(f\"Number of words in vocabulary: {len(rct_20k_text_vocab)}\"),\n",
        "print(f\"Most common words in the vocabulary: {rct_20k_text_vocab[:5]}\")\n",
        "print(f\"Least common words in the vocabulary: {rct_20k_text_vocab[-5:]}\")"
      ],
      "metadata": {
        "colab": {
          "base_uri": "https://localhost:8080/"
        },
        "id": "GnriWMQAt-qq",
        "outputId": "52d7672b-c56e-40b6-aa3f-887961d08d3f"
      },
      "execution_count": 44,
      "outputs": [
        {
          "output_type": "stream",
          "name": "stdout",
          "text": [
            "Number of words in vocabulary: 64841\n",
            "Most common words in the vocabulary: ['', '[UNK]', 'the', 'and', 'of']\n",
            "Least common words in the vocabulary: ['aainduced', 'aaigroup', 'aachener', 'aachen', 'aaacp']\n"
          ]
        }
      ]
    },
    {
      "cell_type": "code",
      "source": [
        "# Get config of text vectorizer\n",
        "text_vectorizer.get_config()"
      ],
      "metadata": {
        "colab": {
          "base_uri": "https://localhost:8080/"
        },
        "id": "u-A68tqxufka",
        "outputId": "fcd2ec57-d138-475a-f3c4-3f8e9d0528e9"
      },
      "execution_count": 45,
      "outputs": [
        {
          "output_type": "execute_result",
          "data": {
            "text/plain": [
              "{'name': 'text_vectorization',\n",
              " 'trainable': True,\n",
              " 'dtype': {'module': 'keras',\n",
              "  'class_name': 'DTypePolicy',\n",
              "  'config': {'name': 'float32'},\n",
              "  'registered_name': None},\n",
              " 'max_tokens': 68000,\n",
              " 'standardize': 'lower_and_strip_punctuation',\n",
              " 'split': 'whitespace',\n",
              " 'ngrams': None,\n",
              " 'output_mode': 'int',\n",
              " 'output_sequence_length': 55,\n",
              " 'pad_to_max_tokens': False,\n",
              " 'sparse': False,\n",
              " 'ragged': False,\n",
              " 'vocabulary': None,\n",
              " 'idf_weights': None,\n",
              " 'encoding': 'utf-8',\n",
              " 'vocabulary_size': 64841}"
            ]
          },
          "metadata": {},
          "execution_count": 45
        }
      ]
    },
    {
      "cell_type": "markdown",
      "source": [
        "### Create embedding layer"
      ],
      "metadata": {
        "id": "itbB6VBzuykL"
      }
    },
    {
      "cell_type": "code",
      "source": [
        "rct_20k_text_vocab"
      ],
      "metadata": {
        "collapsed": true,
        "colab": {
          "base_uri": "https://localhost:8080/"
        },
        "id": "yj1QZpkfvmm-",
        "outputId": "a7c8cb78-2e55-49b3-c5f5-3098fc611447"
      },
      "execution_count": 46,
      "outputs": [
        {
          "output_type": "execute_result",
          "data": {
            "text/plain": [
              "['',\n",
              " '[UNK]',\n",
              " 'the',\n",
              " 'and',\n",
              " 'of',\n",
              " 'in',\n",
              " 'to',\n",
              " 'with',\n",
              " 'a',\n",
              " 'were',\n",
              " 'was',\n",
              " 'for',\n",
              " 'patients',\n",
              " 'group',\n",
              " 'p',\n",
              " 'at',\n",
              " 'or',\n",
              " 'study',\n",
              " 'on',\n",
              " 'treatment',\n",
              " 'is',\n",
              " 'after',\n",
              " 'by',\n",
              " 'this',\n",
              " 'groups',\n",
              " 'as',\n",
              " 'an',\n",
              " 'from',\n",
              " 'that',\n",
              " 'randomized',\n",
              " 'between',\n",
              " 'not',\n",
              " 'trial',\n",
              " 'no',\n",
              " 'compared',\n",
              " 'control',\n",
              " 'be',\n",
              " 'significant',\n",
              " 'intervention',\n",
              " 'significantly',\n",
              " 'n',\n",
              " 'months',\n",
              " 'than',\n",
              " 'we',\n",
              " 'vs',\n",
              " 'rsb',\n",
              " 'lsb',\n",
              " 'clinical',\n",
              " 'placebo',\n",
              " 'baseline',\n",
              " 'ci',\n",
              " 'two',\n",
              " 'during',\n",
              " 'weeks',\n",
              " 'both',\n",
              " 'had',\n",
              " 'primary',\n",
              " 'mean',\n",
              " 'are',\n",
              " 'using',\n",
              " 'participants',\n",
              " 'there',\n",
              " 'all',\n",
              " 'time',\n",
              " 'years',\n",
              " 'pain',\n",
              " 'therapy',\n",
              " 'who',\n",
              " 'mg',\n",
              " 'more',\n",
              " 'effect',\n",
              " 'effects',\n",
              " 'but',\n",
              " 'risk',\n",
              " 'difference',\n",
              " 'outcomes',\n",
              " 'total',\n",
              " 'care',\n",
              " 'rate',\n",
              " 'efficacy',\n",
              " 'received',\n",
              " 'associated',\n",
              " 'higher',\n",
              " 'respectively',\n",
              " 'days',\n",
              " 'analysis',\n",
              " 'outcome',\n",
              " 'use',\n",
              " 'one',\n",
              " 'week',\n",
              " 'women',\n",
              " 'may',\n",
              " 'randomly',\n",
              " 'levels',\n",
              " 'followup',\n",
              " 'will',\n",
              " 'increased',\n",
              " 'health',\n",
              " 'used',\n",
              " 'have',\n",
              " 'data',\n",
              " 'score',\n",
              " 'differences',\n",
              " 'age',\n",
              " 'subjects',\n",
              " 'lower',\n",
              " 'controlled',\n",
              " 'blood',\n",
              " 'day',\n",
              " 'children',\n",
              " 'versus',\n",
              " 'these',\n",
              " 'did',\n",
              " 'assessed',\n",
              " 'disease',\n",
              " 'surgery',\n",
              " 'among',\n",
              " 'results',\n",
              " 'adverse',\n",
              " 'scores',\n",
              " 'their',\n",
              " 'included',\n",
              " 'each',\n",
              " 'assigned',\n",
              " 'events',\n",
              " 'those',\n",
              " 'which',\n",
              " 'patient',\n",
              " 'test',\n",
              " 'before',\n",
              " 's',\n",
              " 'dose',\n",
              " 'either',\n",
              " 'change',\n",
              " 'three',\n",
              " 'cancer',\n",
              " 'safety',\n",
              " 'effective',\n",
              " 'also',\n",
              " 'has',\n",
              " 'however',\n",
              " 'quality',\n",
              " 'response',\n",
              " 'into',\n",
              " 'symptoms',\n",
              " 'over',\n",
              " 'changes',\n",
              " 'showed',\n",
              " 'observed',\n",
              " 'function',\n",
              " 'similar',\n",
              " 'secondary',\n",
              " 'first',\n",
              " 'performed',\n",
              " 'number',\n",
              " 'training',\n",
              " 'measured',\n",
              " 'year',\n",
              " 'scale',\n",
              " 'without',\n",
              " 'per',\n",
              " 'daily',\n",
              " 'rates',\n",
              " 'postoperative',\n",
              " 'evaluate',\n",
              " 'standard',\n",
              " 'ratio',\n",
              " 'been',\n",
              " 'other',\n",
              " 'reduction',\n",
              " 'improved',\n",
              " 'can',\n",
              " 'treated',\n",
              " 'period',\n",
              " 'weight',\n",
              " 'receive',\n",
              " 'nct',\n",
              " 'exercise',\n",
              " 'month',\n",
              " 'increase',\n",
              " 'whether',\n",
              " 'high',\n",
              " 'greater',\n",
              " 'when',\n",
              " 'evaluated',\n",
              " 'it',\n",
              " 'b',\n",
              " 'd',\n",
              " 'overall',\n",
              " 'physical',\n",
              " 'activity',\n",
              " 'reduced',\n",
              " 'only',\n",
              " 'median',\n",
              " 'improvement',\n",
              " 'life',\n",
              " 'h',\n",
              " 'different',\n",
              " 'conducted',\n",
              " 'end',\n",
              " 'pressure',\n",
              " 'survival',\n",
              " 'studies',\n",
              " 'index',\n",
              " 'level',\n",
              " 'reported',\n",
              " 't',\n",
              " 'arm',\n",
              " 'found',\n",
              " 'phase',\n",
              " 'randomised',\n",
              " 'less',\n",
              " 'decreased',\n",
              " 'measures',\n",
              " 'incidence',\n",
              " 'most',\n",
              " 'assess',\n",
              " 'oral',\n",
              " 'improve',\n",
              " 'within',\n",
              " 'low',\n",
              " 'well',\n",
              " 'interval',\n",
              " 'diabetes',\n",
              " 'early',\n",
              " 'serum',\n",
              " 'compare',\n",
              " 'hours',\n",
              " 'determine',\n",
              " 'acute',\n",
              " 'enrolled',\n",
              " 'plus',\n",
              " 'statistically',\n",
              " 'trials',\n",
              " 'mm',\n",
              " 'confidence',\n",
              " 'doubleblind',\n",
              " 'hospital',\n",
              " 'g',\n",
              " 'body',\n",
              " 'following',\n",
              " 'prospective',\n",
              " 'min',\n",
              " 'c',\n",
              " 'chronic',\n",
              " 'receiving',\n",
              " 'our',\n",
              " 'healthy',\n",
              " 'type',\n",
              " 'plasma',\n",
              " 'assessment',\n",
              " 'including',\n",
              " 'better',\n",
              " 'completed',\n",
              " 'factors',\n",
              " 'depression',\n",
              " 'program',\n",
              " 'effectiveness',\n",
              " 'while',\n",
              " 'mortality',\n",
              " 'heart',\n",
              " 'based',\n",
              " 'any',\n",
              " 'cases',\n",
              " 'loss',\n",
              " 'interventions',\n",
              " 'adults',\n",
              " 'aim',\n",
              " 'glucose',\n",
              " 'combination',\n",
              " 'reduce',\n",
              " 'alone',\n",
              " 'status',\n",
              " 'hr',\n",
              " 'medical',\n",
              " 'clinicaltrialsgov',\n",
              " 'stroke',\n",
              " 'insulin',\n",
              " 'population',\n",
              " 'support',\n",
              " 'positive',\n",
              " 'could',\n",
              " 'duration',\n",
              " 'range',\n",
              " 'followed',\n",
              " 'research',\n",
              " 'combined',\n",
              " 'management',\n",
              " 'administration',\n",
              " 'severe',\n",
              " 'visual',\n",
              " 'analyses',\n",
              " 'failure',\n",
              " 'performance',\n",
              " 'point',\n",
              " 'undergoing',\n",
              " 'complications',\n",
              " 'four',\n",
              " 'further',\n",
              " 'evidence',\n",
              " 'drug',\n",
              " 'cognitive',\n",
              " 'points',\n",
              " 'up',\n",
              " 'functional',\n",
              " 'impact',\n",
              " 'surgical',\n",
              " 'aged',\n",
              " 'its',\n",
              " 'men',\n",
              " 'findings',\n",
              " 'although',\n",
              " 'single',\n",
              " 'through',\n",
              " 'model',\n",
              " 'parameters',\n",
              " 'they',\n",
              " 'common',\n",
              " 'decrease',\n",
              " 'new',\n",
              " 'medication',\n",
              " 'doses',\n",
              " 'least',\n",
              " 'cardiovascular',\n",
              " 'if',\n",
              " 'questionnaire',\n",
              " 'volume',\n",
              " 'active',\n",
              " 'related',\n",
              " 'placebocontrolled',\n",
              " 'given',\n",
              " 'investigate',\n",
              " 'severity',\n",
              " 'addition',\n",
              " 'values',\n",
              " 'longterm',\n",
              " 'administered',\n",
              " 'infants',\n",
              " 'about',\n",
              " 'death',\n",
              " 'minutes',\n",
              " 'concentrations',\n",
              " 'cardiac',\n",
              " 'potential',\n",
              " 'occurred',\n",
              " 'such',\n",
              " 'coronary',\n",
              " 'major',\n",
              " 'individuals',\n",
              " 'endpoint',\n",
              " 'older',\n",
              " 'general',\n",
              " 'underwent',\n",
              " 'under',\n",
              " 'sleep',\n",
              " 'system',\n",
              " 'six',\n",
              " 'sd',\n",
              " 'm',\n",
              " 'current',\n",
              " 'infection',\n",
              " 'times',\n",
              " 'moderate',\n",
              " 'method',\n",
              " 'ml',\n",
              " 'additional',\n",
              " 'conventional',\n",
              " 'objective',\n",
              " 'muscle',\n",
              " 'present',\n",
              " 'usual',\n",
              " 'demonstrated',\n",
              " 'design',\n",
              " 'acupuncture',\n",
              " 'according',\n",
              " 'size',\n",
              " 'diet',\n",
              " 'treatments',\n",
              " 'ii',\n",
              " 'allocated',\n",
              " 'information',\n",
              " 'evaluation',\n",
              " 'recorded',\n",
              " 'relative',\n",
              " 'analyzed',\n",
              " 'mass',\n",
              " 'acid',\n",
              " 'screening',\n",
              " 'regression',\n",
              " 'i',\n",
              " 'injection',\n",
              " 'criteria',\n",
              " 'syndrome',\n",
              " 'recovery',\n",
              " 'registered',\n",
              " 'characteristics',\n",
              " 'protein',\n",
              " 'measure',\n",
              " 'benefit',\n",
              " 'intake',\n",
              " 'frequency',\n",
              " 'stress',\n",
              " 'protocol',\n",
              " 'prevention',\n",
              " 'recruited',\n",
              " 'average',\n",
              " 'should',\n",
              " 'procedure',\n",
              " 'improvements',\n",
              " 'experimental',\n",
              " 'bone',\n",
              " 'adjusted',\n",
              " 'vitamin',\n",
              " 'breast',\n",
              " 'provide',\n",
              " 'chemotherapy',\n",
              " 'sessions',\n",
              " 'normal',\n",
              " 'every',\n",
              " 'consumption',\n",
              " 'suggest',\n",
              " 'comparison',\n",
              " 'concentration',\n",
              " 'association',\n",
              " 'condition',\n",
              " 'smoking',\n",
              " 'hazard',\n",
              " 'anxiety',\n",
              " 'satisfaction',\n",
              " 'adherence',\n",
              " 'important',\n",
              " 'same',\n",
              " 'factor',\n",
              " 'education',\n",
              " 'due',\n",
              " 'anesthesia',\n",
              " 'whereas',\n",
              " 'examined',\n",
              " 'therapeutic',\n",
              " 'once',\n",
              " 'needed',\n",
              " 'sample',\n",
              " 'responses',\n",
              " 'proportion',\n",
              " 'collected',\n",
              " 'grade',\n",
              " 'investigated',\n",
              " 'aimed',\n",
              " 'symptom',\n",
              " 'area',\n",
              " 'practice',\n",
              " 'reducing',\n",
              " 'prior',\n",
              " 'approach',\n",
              " 'achieved',\n",
              " 'exposure',\n",
              " 'bmi',\n",
              " 'social',\n",
              " 'conditions',\n",
              " 'controls',\n",
              " 'il',\n",
              " 'alcohol',\n",
              " 'statistical',\n",
              " 'clinically',\n",
              " 'supplementation',\n",
              " 'stimulation',\n",
              " 'multiple',\n",
              " 'percentage',\n",
              " 'previous',\n",
              " 'negative',\n",
              " 'cohort',\n",
              " 'divided',\n",
              " 'defined',\n",
              " 'initial',\n",
              " 'renal',\n",
              " 'technique',\n",
              " 'models',\n",
              " 'myocardial',\n",
              " 'cd',\n",
              " 'delivery',\n",
              " 'second',\n",
              " 'developed',\n",
              " 'required',\n",
              " 'need',\n",
              " 'crossover',\n",
              " 'provided',\n",
              " 'mental',\n",
              " 'five',\n",
              " 'complete',\n",
              " 'lung',\n",
              " 'arms',\n",
              " 'r',\n",
              " 'target',\n",
              " 'side',\n",
              " 'knowledge',\n",
              " 'would',\n",
              " 'superior',\n",
              " 'vaccine',\n",
              " 'variables',\n",
              " 'progression',\n",
              " 'hiv',\n",
              " 'development',\n",
              " 'multicenter',\n",
              " 'injury',\n",
              " 'resistance',\n",
              " 'determined',\n",
              " 'bleeding',\n",
              " 'cell',\n",
              " 'out',\n",
              " 'sensitivity',\n",
              " 'kg',\n",
              " 'intravenous',\n",
              " 'shown',\n",
              " 'samples',\n",
              " 'safe',\n",
              " 'students',\n",
              " 'then',\n",
              " 'knee',\n",
              " 'eligible',\n",
              " 'people',\n",
              " 'cm',\n",
              " 'small',\n",
              " 'vas',\n",
              " 'length',\n",
              " 'main',\n",
              " 'infusion',\n",
              " 'identified',\n",
              " 'obtained',\n",
              " 'serious',\n",
              " 'value',\n",
              " 'rehabilitation',\n",
              " 'stage',\n",
              " 'likely',\n",
              " 'mild',\n",
              " 'examine',\n",
              " 'considered',\n",
              " 'diagnosis',\n",
              " 'across',\n",
              " 'skin',\n",
              " 'regarding',\n",
              " 'pregnancy',\n",
              " 'strength',\n",
              " 'because',\n",
              " 'artery',\n",
              " 'differ',\n",
              " 'large',\n",
              " 'role',\n",
              " 'hundred',\n",
              " 'home',\n",
              " 'tests',\n",
              " 'comparable',\n",
              " 'applied',\n",
              " 'recurrence',\n",
              " 'increases',\n",
              " 'iii',\n",
              " 'twice',\n",
              " 'independent',\n",
              " 'improving',\n",
              " 'block',\n",
              " 'available',\n",
              " 'designed',\n",
              " 'disorder',\n",
              " 'pulmonary',\n",
              " 'odds',\n",
              " 'male',\n",
              " 'individual',\n",
              " 'dietary',\n",
              " 'tested',\n",
              " 'resulted',\n",
              " 'asthma',\n",
              " 'openlabel',\n",
              " 'being',\n",
              " 'eyes',\n",
              " 'cholesterol',\n",
              " 'testing',\n",
              " 'increasing',\n",
              " 'regimen',\n",
              " 'costs',\n",
              " 'methods',\n",
              " 'intensity',\n",
              " 'tolerated',\n",
              " 'experienced',\n",
              " 'comparing',\n",
              " 'longer',\n",
              " 'some',\n",
              " 'local',\n",
              " 'cells',\n",
              " 'blinded',\n",
              " 'advanced',\n",
              " 'respiratory',\n",
              " 'fat',\n",
              " 'measurements',\n",
              " 'prostate',\n",
              " 'benefits',\n",
              " 'identifier',\n",
              " 'randomization',\n",
              " 'profile',\n",
              " 'estimated',\n",
              " 'via',\n",
              " 'modified',\n",
              " 'motor',\n",
              " 'left',\n",
              " 'adult',\n",
              " 'stay',\n",
              " 'liver',\n",
              " 'interaction',\n",
              " 'strategy',\n",
              " 'monitoring',\n",
              " 'cost',\n",
              " 'qol',\n",
              " 'continuous',\n",
              " 'success',\n",
              " 'disability',\n",
              " 'community',\n",
              " 'terms',\n",
              " 'hbac',\n",
              " 'urinary',\n",
              " 'oxygen',\n",
              " 'mgkg',\n",
              " 'female',\n",
              " 'visits',\n",
              " 'growth',\n",
              " 'saline',\n",
              " 'brain',\n",
              " 'post',\n",
              " 'drugs',\n",
              " 'reductions',\n",
              " 'maintenance',\n",
              " 'specific',\n",
              " 'hour',\n",
              " 'selected',\n",
              " 'human',\n",
              " 'weekly',\n",
              " 'routine',\n",
              " 'until',\n",
              " 'maximum',\n",
              " 'inflammation',\n",
              " 'include',\n",
              " 'lesions',\n",
              " 'relationship',\n",
              " 'might',\n",
              " 'infarction',\n",
              " 'intensive',\n",
              " 'despite',\n",
              " 'against',\n",
              " 'endpoints',\n",
              " 'influence',\n",
              " 'global',\n",
              " 'fatigue',\n",
              " 'depressive',\n",
              " 'prevalence',\n",
              " 'iv',\n",
              " 'future',\n",
              " 'os',\n",
              " 'short',\n",
              " 'open',\n",
              " 'course',\n",
              " 'assessments',\n",
              " 'sites',\n",
              " 'hypertension',\n",
              " 'previously',\n",
              " 'food',\n",
              " 'fasting',\n",
              " 'ct',\n",
              " 'bp',\n",
              " 'limited',\n",
              " 'larger',\n",
              " 'strategies',\n",
              " 'l',\n",
              " 'tissue',\n",
              " 'systemic',\n",
              " 'metabolic',\n",
              " 'eye',\n",
              " 'analgesia',\n",
              " 'site',\n",
              " 'event',\n",
              " 'setting',\n",
              " 'parents',\n",
              " 'arterial',\n",
              " 'application',\n",
              " 'systolic',\n",
              " 'central',\n",
              " 'known',\n",
              " 'seen',\n",
              " 'behavior',\n",
              " 'studied',\n",
              " 'inflammatory',\n",
              " 'adolescents',\n",
              " 'imaging',\n",
              " 'pilot',\n",
              " 'peak',\n",
              " 'session',\n",
              " 'result',\n",
              " 'sex',\n",
              " 'mmhg',\n",
              " 'purpose',\n",
              " 'discharge',\n",
              " 'work',\n",
              " 'th',\n",
              " 'rating',\n",
              " 'obese',\n",
              " 'operation',\n",
              " 'feasibility',\n",
              " 'improves',\n",
              " 'fewer',\n",
              " 'procedures',\n",
              " 'behavioral',\n",
              " 'preoperative',\n",
              " 'national',\n",
              " 'therefore',\n",
              " 'laser',\n",
              " 'does',\n",
              " 'diagnostic',\n",
              " 'capacity',\n",
              " 'expression',\n",
              " 'identify',\n",
              " 'poor',\n",
              " 'kidney',\n",
              " 'dysfunction',\n",
              " 'skills',\n",
              " 'detected',\n",
              " 'postoperatively',\n",
              " 'shorter',\n",
              " 'laparoscopic',\n",
              " 'tumor',\n",
              " 'device',\n",
              " 'history',\n",
              " 'andor',\n",
              " 'young',\n",
              " 'stable',\n",
              " 'recommended',\n",
              " 'noninferiority',\n",
              " 'part',\n",
              " 'treat',\n",
              " 'child',\n",
              " 'university',\n",
              " 'confirmed',\n",
              " 'wound',\n",
              " 'inhibitor',\n",
              " 'composite',\n",
              " 'ventilation',\n",
              " 'novel',\n",
              " 'affect',\n",
              " 'abdominal',\n",
              " 'mgday',\n",
              " 'good',\n",
              " 'receptor',\n",
              " 'markers',\n",
              " 'beneficial',\n",
              " 'visit',\n",
              " 'nasal',\n",
              " 'disorders',\n",
              " 'correlated',\n",
              " 'consecutive',\n",
              " 'implementation',\n",
              " 'programme',\n",
              " 'energy',\n",
              " 'calculated',\n",
              " 'vascular',\n",
              " 'immediately',\n",
              " 'eight',\n",
              " 'ischemic',\n",
              " 'copd',\n",
              " 'upper',\n",
              " 'sodium',\n",
              " 'flow',\n",
              " 'examination',\n",
              " 'diagnosed',\n",
              " 'center',\n",
              " 'f',\n",
              " 'birth',\n",
              " 'volunteers',\n",
              " 'mgdl',\n",
              " 'ventricular',\n",
              " 'linear',\n",
              " 'alternative',\n",
              " 'possible',\n",
              " 'infections',\n",
              " 'induction',\n",
              " 'onset',\n",
              " 'contrast',\n",
              " 'sustained',\n",
              " 'revealed',\n",
              " 'hf',\n",
              " 'often',\n",
              " 'delivered',\n",
              " 'sham',\n",
              " 'report',\n",
              " 'stent',\n",
              " 'correlation',\n",
              " 'functioning',\n",
              " 'family',\n",
              " 'remained',\n",
              " 'obesity',\n",
              " 'experience',\n",
              " 'percent',\n",
              " 'fluid',\n",
              " 'presence',\n",
              " 'impairment',\n",
              " 'selfreported',\n",
              " 'intentiontotreat',\n",
              " 'problems',\n",
              " 'auc',\n",
              " 'traditional',\n",
              " 'affected',\n",
              " 'ability',\n",
              " 'psychological',\n",
              " 'morbidity',\n",
              " 'indicated',\n",
              " 'sexual',\n",
              " 'stratified',\n",
              " 'isrctn',\n",
              " 'show',\n",
              " 'perceived',\n",
              " 'resection',\n",
              " 'walking',\n",
              " 'final',\n",
              " 'power',\n",
              " 'repeated',\n",
              " 'practices',\n",
              " 'participated',\n",
              " 'access',\n",
              " 'subjective',\n",
              " 'maternal',\n",
              " 'techniques',\n",
              " 'case',\n",
              " 'calcium',\n",
              " 'reduces',\n",
              " 'provides',\n",
              " 'process',\n",
              " 'predicted',\n",
              " 'injections',\n",
              " 'mixed',\n",
              " 'tolerability',\n",
              " 'observation',\n",
              " 'unit',\n",
              " 'elderly',\n",
              " 'remission',\n",
              " 'peripheral',\n",
              " 'lifestyle',\n",
              " 'airway',\n",
              " 'spinal',\n",
              " 'intraoperative',\n",
              " 'hospitalization',\n",
              " 'activities',\n",
              " 'successful',\n",
              " 'school',\n",
              " 'intubation',\n",
              " 'international',\n",
              " 'very',\n",
              " 'us',\n",
              " 'taken',\n",
              " 'subsequent',\n",
              " 'subgroup',\n",
              " 'shortterm',\n",
              " 'hg',\n",
              " 'chinese',\n",
              " 'recurrent',\n",
              " 'induced',\n",
              " 'clinic',\n",
              " 'mmoll',\n",
              " 'many',\n",
              " 'highly',\n",
              " 'maintained',\n",
              " 'lipid',\n",
              " 'pfs',\n",
              " 'containing',\n",
              " 'prevent',\n",
              " 'pd',\n",
              " 'later',\n",
              " 'ie',\n",
              " 'drinking',\n",
              " 'smokers',\n",
              " 'significance',\n",
              " 'sedation',\n",
              " 'atrial',\n",
              " 'remains',\n",
              " 'feedback',\n",
              " 'parallel',\n",
              " 'predictive',\n",
              " 'laboratory',\n",
              " 'several',\n",
              " 'iqr',\n",
              " 'cervical',\n",
              " 'symptomatic',\n",
              " 'survey',\n",
              " 'metformin',\n",
              " 'cause',\n",
              " 'thickness',\n",
              " 'rr',\n",
              " 'intervals',\n",
              " 'random',\n",
              " 'nerve',\n",
              " 'ms',\n",
              " 'explore',\n",
              " 'memory',\n",
              " 'hand',\n",
              " 'centers',\n",
              " 'how',\n",
              " 'few',\n",
              " 'balance',\n",
              " 'curve',\n",
              " 'ultrasound',\n",
              " 'aes',\n",
              " 'educational',\n",
              " 'consistent',\n",
              " 'pci',\n",
              " 'ngml',\n",
              " 'suggests',\n",
              " 'help',\n",
              " 'af',\n",
              " 'throughout',\n",
              " 'gastric',\n",
              " 'questionnaires',\n",
              " 'propofol',\n",
              " 'dosing',\n",
              " 'continued',\n",
              " 'state',\n",
              " 'radiation',\n",
              " 'last',\n",
              " 'form',\n",
              " 'emergency',\n",
              " 'solution',\n",
              " 'order',\n",
              " 'achieve',\n",
              " 'elevated',\n",
              " 'cessation',\n",
              " 'thus',\n",
              " 'seven',\n",
              " 'minute',\n",
              " 'hypothesis',\n",
              " 'optimal',\n",
              " 'neck',\n",
              " 'st',\n",
              " 'randomisation',\n",
              " 'measurement',\n",
              " 'costeffectiveness',\n",
              " 'units',\n",
              " 'frequent',\n",
              " 'task',\n",
              " 'recruitment',\n",
              " 'medicine',\n",
              " 'them',\n",
              " 'urine',\n",
              " 'lead',\n",
              " 'services',\n",
              " 'best',\n",
              " 'free',\n",
              " 'ed',\n",
              " 'e',\n",
              " 'analgesic',\n",
              " 'amount',\n",
              " 'regimens',\n",
              " 'learning',\n",
              " 'rct',\n",
              " 'online',\n",
              " 'having',\n",
              " 'trend',\n",
              " 'repair',\n",
              " 'logistic',\n",
              " 'brief',\n",
              " 'morphine',\n",
              " 'hip',\n",
              " 'relevant',\n",
              " 'mechanical',\n",
              " 'gain',\n",
              " 'physicians',\n",
              " 'treating',\n",
              " 'recent',\n",
              " 'nausea',\n",
              " 'multicentre',\n",
              " 'cerebral',\n",
              " 'biomarkers',\n",
              " 'analog',\n",
              " 'standardized',\n",
              " 'mri',\n",
              " 'healing',\n",
              " 'programs',\n",
              " 'late',\n",
              " 'guidelines',\n",
              " 'bowel',\n",
              " 'simple',\n",
              " 'direct',\n",
              " 'even',\n",
              " 'degree',\n",
              " 'vaccination',\n",
              " 'rapid',\n",
              " 'behaviors',\n",
              " 'immune',\n",
              " 'detection',\n",
              " 'third',\n",
              " 'noted',\n",
              " 'associations',\n",
              " 'little',\n",
              " 'count',\n",
              " 'signs',\n",
              " 'met',\n",
              " 'toxicity',\n",
              " 'useful',\n",
              " 'involved',\n",
              " ...]"
            ]
          },
          "metadata": {},
          "execution_count": 46
        }
      ]
    },
    {
      "cell_type": "code",
      "source": [
        "# Create token embed layer\n",
        "token_embed = layers.Embedding(input_dim=len(rct_20k_text_vocab),\n",
        "                               output_dim=128,\n",
        "                               mask_zero=True,\n",
        "                               name=\"token_embedding\")"
      ],
      "metadata": {
        "id": "JsG81A2NvD90"
      },
      "execution_count": 47,
      "outputs": []
    },
    {
      "cell_type": "code",
      "source": [
        "# Show example embedding\n",
        "print(f\"Sentence before vectorization:\\n{target_sentence}\\n\")\n",
        "vectorized_sentence = text_vectorizer([target_sentence])\n",
        "print(f\"Sentence after vectorization (before embedding):\\n{vectorized_sentence}\\n\")\n",
        "embedded_sentence = token_embed(vectorized_sentence)\n",
        "print(f\"Sentence after embedding:\\n{embedded_sentence}\\n\")\n",
        "print(f\"Embedded sentence shape: {embedded_sentence.shape}\")"
      ],
      "metadata": {
        "colab": {
          "base_uri": "https://localhost:8080/"
        },
        "id": "B6dmTA16wXqB",
        "outputId": "b2f87516-5ac9-4f27-f288-ec431c9a27e9"
      },
      "execution_count": 48,
      "outputs": [
        {
          "output_type": "stream",
          "name": "stdout",
          "text": [
            "Sentence before vectorization:\n",
            "intraoperative hematocrit levels were higher and need for postoperative erythrocyte transfusion was decreased in group in .\n",
            "\n",
            "Sentence after vectorization (before embedding):\n",
            "[[ 842 4372   93    9   82    3  483   11  163 3201 1082   10  212    5\n",
            "    13    5    0    0    0    0    0    0    0    0    0    0    0    0\n",
            "     0    0    0    0    0    0    0    0    0    0    0    0    0    0\n",
            "     0    0    0    0    0    0    0    0    0    0    0    0    0]]\n",
            "\n",
            "Sentence after embedding:\n",
            "[[[ 0.01150029  0.00095499  0.03691227 ... -0.04694561 -0.03665593\n",
            "   -0.00948181]\n",
            "  [-0.04909446  0.00616964 -0.03675599 ... -0.00504468  0.01141275\n",
            "    0.03178268]\n",
            "  [ 0.02357272  0.04094936 -0.04376023 ...  0.00133454  0.02700329\n",
            "    0.03512824]\n",
            "  ...\n",
            "  [ 0.02893975 -0.02359696  0.03460899 ... -0.00140206  0.04622043\n",
            "   -0.0095508 ]\n",
            "  [ 0.02893975 -0.02359696  0.03460899 ... -0.00140206  0.04622043\n",
            "   -0.0095508 ]\n",
            "  [ 0.02893975 -0.02359696  0.03460899 ... -0.00140206  0.04622043\n",
            "   -0.0095508 ]]]\n",
            "\n",
            "Embedded sentence shape: (1, 55, 128)\n"
          ]
        }
      ]
    },
    {
      "cell_type": "markdown",
      "source": [
        "# Create datasets"
      ],
      "metadata": {
        "id": "jgK-MuhbwmOb"
      }
    },
    {
      "cell_type": "code",
      "source": [
        "# Trun data into Tensorflow Datasets\n",
        "train_dataset = tf.data.Dataset.from_tensor_slices((train_sentences, train_labels_one_hot))\n",
        "valid_dataset = tf.data.Dataset.from_tensor_slices((val_sentences, val_labels_one_hot))\n",
        "test_dataset = tf.data.Dataset.from_tensor_slices((test_sentences, test_labels_one_hot))\n",
        "\n",
        "train_dataset"
      ],
      "metadata": {
        "colab": {
          "base_uri": "https://localhost:8080/"
        },
        "id": "xFdjrCGfxIe8",
        "outputId": "0e1888a6-14a3-45ac-a500-e4b000d43fef"
      },
      "execution_count": 50,
      "outputs": [
        {
          "output_type": "execute_result",
          "data": {
            "text/plain": [
              "<_TensorSliceDataset element_spec=(TensorSpec(shape=(), dtype=tf.string, name=None), TensorSpec(shape=(5,), dtype=tf.float64, name=None))>"
            ]
          },
          "metadata": {},
          "execution_count": 50
        }
      ]
    },
    {
      "cell_type": "code",
      "source": [
        "# Turn datasets into prefetch datasets\n",
        "train_dataset = train_dataset.batch(32).prefetch(tf.data.AUTOTUNE)\n",
        "valid_dataset = valid_dataset.batch(32).prefetch(tf.data.AUTOTUNE)\n",
        "test_dataset = test_dataset.batch(32).prefetch(tf.data.AUTOTUNE)\n",
        "\n",
        "train_dataset"
      ],
      "metadata": {
        "colab": {
          "base_uri": "https://localhost:8080/"
        },
        "id": "-1HCxh1rx5rc",
        "outputId": "0ab16eb0-c479-4c60-e087-3f96339b776e"
      },
      "execution_count": 51,
      "outputs": [
        {
          "output_type": "execute_result",
          "data": {
            "text/plain": [
              "<_PrefetchDataset element_spec=(TensorSpec(shape=(None,), dtype=tf.string, name=None), TensorSpec(shape=(None, 5), dtype=tf.float64, name=None))>"
            ]
          },
          "metadata": {},
          "execution_count": 51
        }
      ]
    },
    {
      "cell_type": "code",
      "source": [],
      "metadata": {
        "id": "J6HkgjHPzM6c"
      },
      "execution_count": null,
      "outputs": []
    }
  ]
}