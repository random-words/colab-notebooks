{
  "nbformat": 4,
  "nbformat_minor": 0,
  "metadata": {
    "colab": {
      "provenance": [],
      "gpuType": "T4",
      "toc_visible": true,
      "authorship_tag": "ABX9TyPUOrbBd6kvoBaF69l3qjJ/",
      "include_colab_link": true
    },
    "kernelspec": {
      "name": "python3",
      "display_name": "Python 3"
    },
    "language_info": {
      "name": "python"
    },
    "accelerator": "GPU"
  },
  "cells": [
    {
      "cell_type": "markdown",
      "metadata": {
        "id": "view-in-github",
        "colab_type": "text"
      },
      "source": [
        "<a href=\"https://colab.research.google.com/github/random-words/colab-notebooks/blob/main/00__tensorflow_fundamentals.ipynb\" target=\"_parent\"><img src=\"https://colab.research.google.com/assets/colab-badge.svg\" alt=\"Open In Colab\"/></a>"
      ]
    },
    {
      "cell_type": "markdown",
      "source": [
        "### Creating tensors with `tf.constant`"
      ],
      "metadata": {
        "id": "Q0jETz-06U67"
      }
    },
    {
      "cell_type": "code",
      "source": [
        "# Import TenforFlow\n",
        "import tensorflow as tf\n",
        "import numpy as np\n",
        "print(tf.__version__)"
      ],
      "metadata": {
        "colab": {
          "base_uri": "https://localhost:8080/"
        },
        "id": "JJQIo8hX0cAd",
        "outputId": "8ea2eac6-bc6e-4d44-ccb3-fcccba728aff"
      },
      "execution_count": 75,
      "outputs": [
        {
          "output_type": "stream",
          "name": "stdout",
          "text": [
            "2.17.1\n"
          ]
        }
      ]
    },
    {
      "cell_type": "code",
      "source": [
        "# Create tensors with tf.constant()\n",
        "scalar = tf.constant(7)\n",
        "scalar"
      ],
      "metadata": {
        "colab": {
          "base_uri": "https://localhost:8080/"
        },
        "id": "DAIXewsP0iyD",
        "outputId": "89669e92-9954-4d78-f186-f37063d315c4"
      },
      "execution_count": 2,
      "outputs": [
        {
          "output_type": "execute_result",
          "data": {
            "text/plain": [
              "<tf.Tensor: shape=(), dtype=int32, numpy=7>"
            ]
          },
          "metadata": {},
          "execution_count": 2
        }
      ]
    },
    {
      "cell_type": "code",
      "source": [
        "# Check the number of dimentions (ndim)\n",
        "scalar.ndim"
      ],
      "metadata": {
        "colab": {
          "base_uri": "https://localhost:8080/"
        },
        "id": "jdp4IZTc1GFE",
        "outputId": "5ffd166b-93b8-4e12-ed1d-d190b8a33405"
      },
      "execution_count": 3,
      "outputs": [
        {
          "output_type": "execute_result",
          "data": {
            "text/plain": [
              "0"
            ]
          },
          "metadata": {},
          "execution_count": 3
        }
      ]
    },
    {
      "cell_type": "code",
      "source": [
        "# Create a vector\n",
        "vector = tf.constant([10, 10])\n",
        "vector"
      ],
      "metadata": {
        "colab": {
          "base_uri": "https://localhost:8080/"
        },
        "id": "CrlVFOj015fb",
        "outputId": "fe83f859-8f92-4d1f-d1a0-06a2823f700e"
      },
      "execution_count": 4,
      "outputs": [
        {
          "output_type": "execute_result",
          "data": {
            "text/plain": [
              "<tf.Tensor: shape=(2,), dtype=int32, numpy=array([10, 10], dtype=int32)>"
            ]
          },
          "metadata": {},
          "execution_count": 4
        }
      ]
    },
    {
      "cell_type": "code",
      "source": [
        "# Check the number of dimentions for vector\n",
        "vector.ndim"
      ],
      "metadata": {
        "colab": {
          "base_uri": "https://localhost:8080/"
        },
        "id": "KSn7RoVv2LKz",
        "outputId": "546feb93-cf1a-4262-ea00-e69081b985a2"
      },
      "execution_count": 5,
      "outputs": [
        {
          "output_type": "execute_result",
          "data": {
            "text/plain": [
              "1"
            ]
          },
          "metadata": {},
          "execution_count": 5
        }
      ]
    },
    {
      "cell_type": "code",
      "source": [
        "# Create a matrix (more than 1 dimention)\n",
        "matrix = tf.constant([[10, 7],\n",
        "                      [7, 10]])\n",
        "matrix"
      ],
      "metadata": {
        "colab": {
          "base_uri": "https://localhost:8080/"
        },
        "id": "ckMpv-mL2kBr",
        "outputId": "c857a918-f200-4570-e84e-92b9f7585b7a"
      },
      "execution_count": 6,
      "outputs": [
        {
          "output_type": "execute_result",
          "data": {
            "text/plain": [
              "<tf.Tensor: shape=(2, 2), dtype=int32, numpy=\n",
              "array([[10,  7],\n",
              "       [ 7, 10]], dtype=int32)>"
            ]
          },
          "metadata": {},
          "execution_count": 6
        }
      ]
    },
    {
      "cell_type": "code",
      "source": [
        "# Check the number of dimentions for matrix\n",
        "matrix.ndim"
      ],
      "metadata": {
        "colab": {
          "base_uri": "https://localhost:8080/"
        },
        "id": "koBtQg06247L",
        "outputId": "0e0faef6-075b-46f7-e2aa-65018f168d5e"
      },
      "execution_count": 7,
      "outputs": [
        {
          "output_type": "execute_result",
          "data": {
            "text/plain": [
              "2"
            ]
          },
          "metadata": {},
          "execution_count": 7
        }
      ]
    },
    {
      "cell_type": "code",
      "source": [
        "# Create another matrix\n",
        "another_matrix = tf.constant([[1., 2.],\n",
        "                              [3., 4.],\n",
        "                              [5., 6.]], dtype=tf.float16) # specify the data dype\n",
        "another_matrix"
      ],
      "metadata": {
        "colab": {
          "base_uri": "https://localhost:8080/"
        },
        "id": "uWBzytXk29mD",
        "outputId": "5a6142aa-b4ca-4f5e-fe15-c87440b48503"
      },
      "execution_count": 8,
      "outputs": [
        {
          "output_type": "execute_result",
          "data": {
            "text/plain": [
              "<tf.Tensor: shape=(3, 2), dtype=float16, numpy=\n",
              "array([[1., 2.],\n",
              "       [3., 4.],\n",
              "       [5., 6.]], dtype=float16)>"
            ]
          },
          "metadata": {},
          "execution_count": 8
        }
      ]
    },
    {
      "cell_type": "code",
      "source": [
        "another_matrix.ndim"
      ],
      "metadata": {
        "colab": {
          "base_uri": "https://localhost:8080/"
        },
        "id": "HrsjWun-4OWz",
        "outputId": "669867fe-5b62-4d33-96e6-de865f812f19"
      },
      "execution_count": 9,
      "outputs": [
        {
          "output_type": "execute_result",
          "data": {
            "text/plain": [
              "2"
            ]
          },
          "metadata": {},
          "execution_count": 9
        }
      ]
    },
    {
      "cell_type": "code",
      "source": [
        "# Create tensor\n",
        "tensor = tf.constant([[[1, 2, 3],\n",
        "                       [4, 5, 6]],\n",
        "                      [[7, 8, 9],\n",
        "                       [10, 11, 12]],\n",
        "                      [[13, 14, 15],\n",
        "                       [16, 17, 18]]])\n",
        "tensor"
      ],
      "metadata": {
        "colab": {
          "base_uri": "https://localhost:8080/"
        },
        "id": "NdBTRZmG4nEK",
        "outputId": "5a778e14-1503-4a88-b119-df0d4e1c834e"
      },
      "execution_count": 10,
      "outputs": [
        {
          "output_type": "execute_result",
          "data": {
            "text/plain": [
              "<tf.Tensor: shape=(3, 2, 3), dtype=int32, numpy=\n",
              "array([[[ 1,  2,  3],\n",
              "        [ 4,  5,  6]],\n",
              "\n",
              "       [[ 7,  8,  9],\n",
              "        [10, 11, 12]],\n",
              "\n",
              "       [[13, 14, 15],\n",
              "        [16, 17, 18]]], dtype=int32)>"
            ]
          },
          "metadata": {},
          "execution_count": 10
        }
      ]
    },
    {
      "cell_type": "code",
      "source": [
        "# Check ndim\n",
        "tensor.ndim"
      ],
      "metadata": {
        "colab": {
          "base_uri": "https://localhost:8080/"
        },
        "id": "7YCAKane5t-i",
        "outputId": "98296505-92e6-435e-e87e-82f4b8b56b37"
      },
      "execution_count": 11,
      "outputs": [
        {
          "output_type": "execute_result",
          "data": {
            "text/plain": [
              "3"
            ]
          },
          "metadata": {},
          "execution_count": 11
        }
      ]
    },
    {
      "cell_type": "markdown",
      "source": [
        "### Creating tensors with `tf.Variable`"
      ],
      "metadata": {
        "id": "E1cjfjFr6gMz"
      }
    },
    {
      "cell_type": "code",
      "source": [
        "changable_tensor = tf.Variable([10, 7])\n",
        "unchangable_tensor = tf.constant([10, 7])\n",
        "\n",
        "changable_tensor, unchangable_tensor"
      ],
      "metadata": {
        "colab": {
          "base_uri": "https://localhost:8080/"
        },
        "id": "TL3xL6dx5x4Z",
        "outputId": "76bf9d1c-9f20-47ed-dc30-2583fb91b593"
      },
      "execution_count": 12,
      "outputs": [
        {
          "output_type": "execute_result",
          "data": {
            "text/plain": [
              "(<tf.Variable 'Variable:0' shape=(2,) dtype=int32, numpy=array([10,  7], dtype=int32)>,\n",
              " <tf.Tensor: shape=(2,), dtype=int32, numpy=array([10,  7], dtype=int32)>)"
            ]
          },
          "metadata": {},
          "execution_count": 12
        }
      ]
    },
    {
      "cell_type": "code",
      "source": [
        "# Indexes just like in arrays\n",
        "changable_tensor[0]"
      ],
      "metadata": {
        "colab": {
          "base_uri": "https://localhost:8080/"
        },
        "id": "5-kvKY0x7EwK",
        "outputId": "c1b9d01f-1c81-4f3e-9e44-5b6d399e95b2"
      },
      "execution_count": 13,
      "outputs": [
        {
          "output_type": "execute_result",
          "data": {
            "text/plain": [
              "<tf.Tensor: shape=(), dtype=int32, numpy=10>"
            ]
          },
          "metadata": {},
          "execution_count": 13
        }
      ]
    },
    {
      "cell_type": "code",
      "source": [
        "# Trying to change value \"on place\"\n",
        "changable_tensor[0] = 7\n",
        "changable_tensor[0]"
      ],
      "metadata": {
        "colab": {
          "base_uri": "https://localhost:8080/",
          "height": 176
        },
        "id": "6KZYT6Wp7fr6",
        "outputId": "b454aec8-0633-40c2-ac3f-e6d6019e2d77"
      },
      "execution_count": 15,
      "outputs": [
        {
          "output_type": "error",
          "ename": "TypeError",
          "evalue": "'ResourceVariable' object does not support item assignment",
          "traceback": [
            "\u001b[0;31m---------------------------------------------------------------------------\u001b[0m",
            "\u001b[0;31mTypeError\u001b[0m                                 Traceback (most recent call last)",
            "\u001b[0;32m<ipython-input-15-bab9aa70e555>\u001b[0m in \u001b[0;36m<cell line: 0>\u001b[0;34m()\u001b[0m\n\u001b[1;32m      1\u001b[0m \u001b[0;31m# Trying to change value \"on place\"\u001b[0m\u001b[0;34m\u001b[0m\u001b[0;34m\u001b[0m\u001b[0m\n\u001b[0;32m----> 2\u001b[0;31m \u001b[0mchangable_tensor\u001b[0m\u001b[0;34m[\u001b[0m\u001b[0;36m0\u001b[0m\u001b[0;34m]\u001b[0m \u001b[0;34m=\u001b[0m \u001b[0;36m7\u001b[0m\u001b[0;34m\u001b[0m\u001b[0;34m\u001b[0m\u001b[0m\n\u001b[0m\u001b[1;32m      3\u001b[0m \u001b[0mchangable_tensor\u001b[0m\u001b[0;34m[\u001b[0m\u001b[0;36m0\u001b[0m\u001b[0;34m]\u001b[0m\u001b[0;34m\u001b[0m\u001b[0;34m\u001b[0m\u001b[0m\n",
            "\u001b[0;31mTypeError\u001b[0m: 'ResourceVariable' object does not support item assignment"
          ]
        }
      ]
    },
    {
      "cell_type": "code",
      "source": [
        "# using .assign method\n",
        "changable_tensor[0].assign(7)\n",
        "changable_tensor"
      ],
      "metadata": {
        "colab": {
          "base_uri": "https://localhost:8080/"
        },
        "id": "xqPG_EGt7yVp",
        "outputId": "3dc1b61c-19b0-46af-ea21-4b1acfcb1cff"
      },
      "execution_count": 16,
      "outputs": [
        {
          "output_type": "execute_result",
          "data": {
            "text/plain": [
              "<tf.Variable 'Variable:0' shape=(2,) dtype=int32, numpy=array([7, 7], dtype=int32)>"
            ]
          },
          "metadata": {},
          "execution_count": 16
        }
      ]
    },
    {
      "cell_type": "code",
      "source": [
        "# Cannot assign value in any way\n",
        "unchangable_tensor[0].assign(7)\n",
        "unchangable_tensor[0] = 7"
      ],
      "metadata": {
        "colab": {
          "base_uri": "https://localhost:8080/",
          "height": 297
        },
        "id": "_gWfJsAB8Cy5",
        "outputId": "4c315047-d38d-4970-9d3f-808f6c83b00c"
      },
      "execution_count": 17,
      "outputs": [
        {
          "output_type": "error",
          "ename": "AttributeError",
          "evalue": "'tensorflow.python.framework.ops.EagerTensor' object has no attribute 'assign'",
          "traceback": [
            "\u001b[0;31m---------------------------------------------------------------------------\u001b[0m",
            "\u001b[0;31mAttributeError\u001b[0m                            Traceback (most recent call last)",
            "\u001b[0;32m<ipython-input-17-d4e22a261075>\u001b[0m in \u001b[0;36m<cell line: 0>\u001b[0;34m()\u001b[0m\n\u001b[1;32m      1\u001b[0m \u001b[0;31m# Cannot assign value in any way\u001b[0m\u001b[0;34m\u001b[0m\u001b[0;34m\u001b[0m\u001b[0m\n\u001b[0;32m----> 2\u001b[0;31m \u001b[0munchangable_tensor\u001b[0m\u001b[0;34m[\u001b[0m\u001b[0;36m0\u001b[0m\u001b[0;34m]\u001b[0m\u001b[0;34m.\u001b[0m\u001b[0massign\u001b[0m\u001b[0;34m(\u001b[0m\u001b[0;36m7\u001b[0m\u001b[0;34m)\u001b[0m\u001b[0;34m\u001b[0m\u001b[0;34m\u001b[0m\u001b[0m\n\u001b[0m\u001b[1;32m      3\u001b[0m \u001b[0munchangable_tensor\u001b[0m\u001b[0;34m[\u001b[0m\u001b[0;36m0\u001b[0m\u001b[0;34m]\u001b[0m \u001b[0;34m=\u001b[0m \u001b[0;36m7\u001b[0m\u001b[0;34m\u001b[0m\u001b[0;34m\u001b[0m\u001b[0m\n",
            "\u001b[0;32m/usr/local/lib/python3.11/dist-packages/tensorflow/python/framework/tensor.py\u001b[0m in \u001b[0;36m__getattr__\u001b[0;34m(self, name)\u001b[0m\n\u001b[1;32m    258\u001b[0m         \u001b[0mtf\u001b[0m\u001b[0;34m.\u001b[0m\u001b[0mexperimental\u001b[0m\u001b[0;34m.\u001b[0m\u001b[0mnumpy\u001b[0m\u001b[0;34m.\u001b[0m\u001b[0mexperimental_enable_numpy_behavior\u001b[0m\u001b[0;34m(\u001b[0m\u001b[0;34m)\u001b[0m\u001b[0;34m\u001b[0m\u001b[0;34m\u001b[0m\u001b[0m\n\u001b[1;32m    259\u001b[0m       \"\"\")\n\u001b[0;32m--> 260\u001b[0;31m     \u001b[0mself\u001b[0m\u001b[0;34m.\u001b[0m\u001b[0m__getattribute__\u001b[0m\u001b[0;34m(\u001b[0m\u001b[0mname\u001b[0m\u001b[0;34m)\u001b[0m\u001b[0;34m\u001b[0m\u001b[0;34m\u001b[0m\u001b[0m\n\u001b[0m\u001b[1;32m    261\u001b[0m \u001b[0;34m\u001b[0m\u001b[0m\n\u001b[1;32m    262\u001b[0m   \u001b[0;34m@\u001b[0m\u001b[0mproperty\u001b[0m\u001b[0;34m\u001b[0m\u001b[0;34m\u001b[0m\u001b[0m\n",
            "\u001b[0;31mAttributeError\u001b[0m: 'tensorflow.python.framework.ops.EagerTensor' object has no attribute 'assign'"
          ]
        }
      ]
    },
    {
      "cell_type": "markdown",
      "source": [
        "### Creating random tensors"
      ],
      "metadata": {
        "id": "30sd6xZw8-eE"
      }
    },
    {
      "cell_type": "code",
      "source": [
        "random_1 = tf.random.Generator.from_seed(42)\n",
        "random_1 = random_1.normal(shape=(3, 2))\n",
        "random_2 = tf.random.Generator.from_seed(42)\n",
        "random_2 = random_2.normal(shape=(3, 2))\n",
        "\n",
        "random_1, random_2, random_1 == random_2"
      ],
      "metadata": {
        "id": "ZLq4YEee9CsA"
      },
      "execution_count": null,
      "outputs": []
    },
    {
      "cell_type": "markdown",
      "source": [
        "### Shuffle tensor"
      ],
      "metadata": {
        "id": "RtXPZ4M3DWiY"
      }
    },
    {
      "cell_type": "code",
      "source": [
        "# Create tensor\n",
        "not_shuffled = tf.constant([[1, 2], [3, 4], [5, 6]])\n",
        "\n",
        "# Shuffle tensor\n",
        "tf.random.shuffle(not_shuffled)"
      ],
      "metadata": {
        "id": "PPYCDXkMAHJP"
      },
      "execution_count": null,
      "outputs": []
    },
    {
      "cell_type": "code",
      "source": [
        "tf.random.set_seed(42) # global level seed\n",
        "tf.random.shuffle(not_shuffled, seed=42) # operation level seed"
      ],
      "metadata": {
        "id": "tYsFIN9PD2Ln"
      },
      "execution_count": null,
      "outputs": []
    },
    {
      "cell_type": "code",
      "source": [
        "tf.random.shuffle(not_shuffled)"
      ],
      "metadata": {
        "id": "1a-r7XHjEKk3"
      },
      "execution_count": null,
      "outputs": []
    },
    {
      "cell_type": "markdown",
      "source": [
        "### Other ways to make tensors"
      ],
      "metadata": {
        "id": "Fxa_vyiqKxVF"
      }
    },
    {
      "cell_type": "code",
      "source": [
        "# \"all ones\" tensor\n",
        "tf.ones([10, 7])"
      ],
      "metadata": {
        "id": "HEP2MKNiJa7d"
      },
      "execution_count": null,
      "outputs": []
    },
    {
      "cell_type": "code",
      "source": [
        "# \"all zeroes\" tensor\n",
        "tf.zeros((3, 4))"
      ],
      "metadata": {
        "id": "EHoa_glsK-Gs"
      },
      "execution_count": null,
      "outputs": []
    },
    {
      "cell_type": "markdown",
      "source": [
        "### Turn NumPy arrays into tensors\n",
        "\n",
        "Main difference is that tensors can run on GPU (for faster numerical computing)"
      ],
      "metadata": {
        "id": "-SO5IMuVLIzs"
      }
    },
    {
      "cell_type": "code",
      "source": [
        "import numpy as np\n",
        "numpy_A = np.arange(1, 25, dtype=np.int32)\n",
        "numpy_A"
      ],
      "metadata": {
        "id": "gw61eeD1Lpp0"
      },
      "execution_count": null,
      "outputs": []
    },
    {
      "cell_type": "code",
      "source": [
        "# convert numpy array into tensor\n",
        "A = tf.constant(numpy_A, shape=(2, 3, 4)) # convert to 3 dimentions\n",
        "B = tf.constant(numpy_A)\n",
        "A, B"
      ],
      "metadata": {
        "id": "T0Go0TxdMFC8"
      },
      "execution_count": null,
      "outputs": []
    },
    {
      "cell_type": "code",
      "source": [
        "tf.constant(numpy_A, shape=(3, 8))"
      ],
      "metadata": {
        "id": "dck1tGRfMshc"
      },
      "execution_count": null,
      "outputs": []
    },
    {
      "cell_type": "code",
      "source": [
        "A.ndim"
      ],
      "metadata": {
        "id": "xkjemV_dOC8T"
      },
      "execution_count": null,
      "outputs": []
    },
    {
      "cell_type": "markdown",
      "source": [
        "### Tensor attributes\n",
        "\n",
        "Popular attributes:\n",
        "* Shape\n",
        "* Rank\n",
        "* Axis or dimention\n",
        "* Size"
      ],
      "metadata": {
        "id": "1gcDyC8zN1iE"
      }
    },
    {
      "cell_type": "code",
      "source": [
        "# Create rank 4 dimentions\n",
        "rank_4_tensor = tf.zeros(shape=[2,3,4,5])\n",
        "rank_4_tensor"
      ],
      "metadata": {
        "id": "xY3vdMjONkfb"
      },
      "execution_count": null,
      "outputs": []
    },
    {
      "cell_type": "code",
      "source": [
        "rank_4_tensor[0]"
      ],
      "metadata": {
        "id": "ENzvWudxTFfz"
      },
      "execution_count": null,
      "outputs": []
    },
    {
      "cell_type": "code",
      "source": [
        "rank_4_tensor.shape, rank_4_tensor.ndim, tf.size(rank_4_tensor)"
      ],
      "metadata": {
        "id": "NyuRZisATtdy"
      },
      "execution_count": null,
      "outputs": []
    },
    {
      "cell_type": "code",
      "source": [
        "print(\"Datatype of each element:\", rank_4_tensor.dtype)\n",
        "print(\"Number of dimentions (rank):\", rank_4_tensor.ndim)\n",
        "print(\"Tensor's shape:\", rank_4_tensor.shape)\n",
        "print(\"Elements along axis 0 of tensor:\", rank_4_tensor.shape[0])\n",
        "print(\"Elements along last axis of tensor:\", rank_4_tensor.shape[-1])\n",
        "print(\"Totan number of tensors:\", tf.size(rank_4_tensor))\n",
        "print(\"Totan number of tensors as numpy type:\", tf.size(rank_4_tensor).numpy())"
      ],
      "metadata": {
        "id": "Fwm1Dua7UHFi"
      },
      "execution_count": null,
      "outputs": []
    },
    {
      "cell_type": "markdown",
      "source": [
        "### Indexing tensors\n",
        "\n",
        "Indexation as Python lists"
      ],
      "metadata": {
        "id": "Fcr07i31W-3C"
      }
    },
    {
      "cell_type": "code",
      "source": [
        "some_list = [1,2,3,4]\n",
        "some_list[:2]"
      ],
      "metadata": {
        "id": "jrESTqxDU9tp"
      },
      "execution_count": null,
      "outputs": []
    },
    {
      "cell_type": "code",
      "source": [
        "# get the first 2 elements of each dimentions\n",
        "rank_4_tensor[:2, :2, :2, :2]"
      ],
      "metadata": {
        "id": "YRzHcyWuXgDS"
      },
      "execution_count": null,
      "outputs": []
    },
    {
      "cell_type": "code",
      "source": [
        "rank_4_tensor.shape"
      ],
      "metadata": {
        "id": "0pNxIzDqYmLJ"
      },
      "execution_count": null,
      "outputs": []
    },
    {
      "cell_type": "code",
      "source": [
        "rank_4_tensor[:1, :1, :1, :1]"
      ],
      "metadata": {
        "colab": {
          "base_uri": "https://localhost:8080/",
          "height": 141
        },
        "id": "yom2y9U7Xjug",
        "outputId": "8941d16e-542d-42e5-da6b-a69529375193"
      },
      "execution_count": 18,
      "outputs": [
        {
          "output_type": "error",
          "ename": "NameError",
          "evalue": "name 'rank_4_tensor' is not defined",
          "traceback": [
            "\u001b[0;31m---------------------------------------------------------------------------\u001b[0m",
            "\u001b[0;31mNameError\u001b[0m                                 Traceback (most recent call last)",
            "\u001b[0;32m<ipython-input-18-3dd7a2967daa>\u001b[0m in \u001b[0;36m<cell line: 0>\u001b[0;34m()\u001b[0m\n\u001b[0;32m----> 1\u001b[0;31m \u001b[0mrank_4_tensor\u001b[0m\u001b[0;34m[\u001b[0m\u001b[0;34m:\u001b[0m\u001b[0;36m1\u001b[0m\u001b[0;34m,\u001b[0m \u001b[0;34m:\u001b[0m\u001b[0;36m1\u001b[0m\u001b[0;34m,\u001b[0m \u001b[0;34m:\u001b[0m\u001b[0;36m1\u001b[0m\u001b[0;34m,\u001b[0m \u001b[0;34m:\u001b[0m\u001b[0;36m1\u001b[0m\u001b[0;34m]\u001b[0m\u001b[0;34m\u001b[0m\u001b[0;34m\u001b[0m\u001b[0m\n\u001b[0m",
            "\u001b[0;31mNameError\u001b[0m: name 'rank_4_tensor' is not defined"
          ]
        }
      ]
    },
    {
      "cell_type": "code",
      "source": [
        "rank_4_tensor[:1, :1, :1, :]"
      ],
      "metadata": {
        "id": "leIwwYgvYLZI"
      },
      "execution_count": null,
      "outputs": []
    },
    {
      "cell_type": "code",
      "source": [
        "rank_4_tensor[:1, :1, :, :1]"
      ],
      "metadata": {
        "id": "4jWn5zcGZh6n"
      },
      "execution_count": null,
      "outputs": []
    },
    {
      "cell_type": "code",
      "source": [
        "# Create rank 2 tensor (2 dimentions)\n",
        "rank_2_tensor = tf.constant([[1, 2],\n",
        "                             [3, 4]])\n",
        "rank_2_tensor, rank_2_tensor.shape, rank_2_tensor.ndim"
      ],
      "metadata": {
        "colab": {
          "base_uri": "https://localhost:8080/"
        },
        "id": "DmHhEzSAZj_G",
        "outputId": "1755966e-aa05-49dc-f470-8324d4ffa5ee"
      },
      "execution_count": 19,
      "outputs": [
        {
          "output_type": "execute_result",
          "data": {
            "text/plain": [
              "(<tf.Tensor: shape=(2, 2), dtype=int32, numpy=\n",
              " array([[1, 2],\n",
              "        [3, 4]], dtype=int32)>,\n",
              " TensorShape([2, 2]),\n",
              " 2)"
            ]
          },
          "metadata": {},
          "execution_count": 19
        }
      ]
    },
    {
      "cell_type": "code",
      "source": [
        "# Last item of each row\n",
        "rank_2_tensor[:, -1]"
      ],
      "metadata": {
        "colab": {
          "base_uri": "https://localhost:8080/"
        },
        "id": "veyuxn_nZ7tp",
        "outputId": "eb5ccf91-75c0-4e84-99eb-bbeedc200a94"
      },
      "execution_count": 20,
      "outputs": [
        {
          "output_type": "execute_result",
          "data": {
            "text/plain": [
              "<tf.Tensor: shape=(2,), dtype=int32, numpy=array([2, 4], dtype=int32)>"
            ]
          },
          "metadata": {},
          "execution_count": 20
        }
      ]
    },
    {
      "cell_type": "code",
      "source": [
        "# Add an extra dimention to rank_2_tensor\n",
        "# '...' - means all of the axes, and we add new axis to them in the end\n",
        "# '[..., tf.newaxis]' is the same as '[:, :, tf.newaxis]'\n",
        "rank_3_tensor = rank_2_tensor[..., tf.newaxis]\n",
        "rank_3_tensor"
      ],
      "metadata": {
        "colab": {
          "base_uri": "https://localhost:8080/"
        },
        "id": "0OM4DzPhZ__f",
        "outputId": "e7c158cd-f34d-4d03-d92c-62315dc979ed"
      },
      "execution_count": 21,
      "outputs": [
        {
          "output_type": "execute_result",
          "data": {
            "text/plain": [
              "<tf.Tensor: shape=(2, 2, 1), dtype=int32, numpy=\n",
              "array([[[1],\n",
              "        [2]],\n",
              "\n",
              "       [[3],\n",
              "        [4]]], dtype=int32)>"
            ]
          },
          "metadata": {},
          "execution_count": 21
        }
      ]
    },
    {
      "cell_type": "code",
      "source": [
        "# Alternative to tf.newaxis\n",
        "tf.expand_dims(rank_2_tensor, axis=-1) # '-1' means expand the final axis"
      ],
      "metadata": {
        "colab": {
          "base_uri": "https://localhost:8080/"
        },
        "id": "QjGloeN8byPG",
        "outputId": "4d4c5ce8-05ff-42c7-ba21-80171b64d6c9"
      },
      "execution_count": 22,
      "outputs": [
        {
          "output_type": "execute_result",
          "data": {
            "text/plain": [
              "<tf.Tensor: shape=(2, 2, 1), dtype=int32, numpy=\n",
              "array([[[1],\n",
              "        [2]],\n",
              "\n",
              "       [[3],\n",
              "        [4]]], dtype=int32)>"
            ]
          },
          "metadata": {},
          "execution_count": 22
        }
      ]
    },
    {
      "cell_type": "code",
      "source": [
        "tf.expand_dims(rank_2_tensor, axis=0) # expand 0-axis"
      ],
      "metadata": {
        "colab": {
          "base_uri": "https://localhost:8080/"
        },
        "id": "ZyMEjxjqcW0v",
        "outputId": "53b16fe2-4ee3-4b48-be3c-dc2a574a48f6"
      },
      "execution_count": 23,
      "outputs": [
        {
          "output_type": "execute_result",
          "data": {
            "text/plain": [
              "<tf.Tensor: shape=(1, 2, 2), dtype=int32, numpy=\n",
              "array([[[1, 2],\n",
              "        [3, 4]]], dtype=int32)>"
            ]
          },
          "metadata": {},
          "execution_count": 23
        }
      ]
    },
    {
      "cell_type": "code",
      "source": [
        "# which axis (or index, if talking about shape) is specified, is inserted there\n",
        "tf.expand_dims(rank_2_tensor, axis=1) # expand 1-axis"
      ],
      "metadata": {
        "colab": {
          "base_uri": "https://localhost:8080/"
        },
        "id": "GVqMprEBc6xu",
        "outputId": "96370559-3678-407f-efb9-ee1750ee6dc9"
      },
      "execution_count": 24,
      "outputs": [
        {
          "output_type": "execute_result",
          "data": {
            "text/plain": [
              "<tf.Tensor: shape=(2, 1, 2), dtype=int32, numpy=\n",
              "array([[[1, 2]],\n",
              "\n",
              "       [[3, 4]]], dtype=int32)>"
            ]
          },
          "metadata": {},
          "execution_count": 24
        }
      ]
    },
    {
      "cell_type": "markdown",
      "source": [
        "### Tensor operations\n",
        "\n",
        "**Basic operations:**\n",
        "`+`, `-`, `*`, `/`,"
      ],
      "metadata": {
        "id": "DCNi1zoNd0Hf"
      }
    },
    {
      "cell_type": "code",
      "source": [
        "# Adding\n",
        "tensor = tf.constant([[1, 2],\n",
        "                      [3, 4]])\n",
        "tensor + 10"
      ],
      "metadata": {
        "colab": {
          "base_uri": "https://localhost:8080/"
        },
        "id": "yBchcQ93dSgO",
        "outputId": "7acd2bda-9594-4d08-d8a2-f5c4e9cb68c0"
      },
      "execution_count": 25,
      "outputs": [
        {
          "output_type": "execute_result",
          "data": {
            "text/plain": [
              "<tf.Tensor: shape=(2, 2), dtype=int32, numpy=\n",
              "array([[11, 12],\n",
              "       [13, 14]], dtype=int32)>"
            ]
          },
          "metadata": {},
          "execution_count": 25
        }
      ]
    },
    {
      "cell_type": "code",
      "source": [
        "# Muiltiplication\n",
        "tensor * 10"
      ],
      "metadata": {
        "colab": {
          "base_uri": "https://localhost:8080/"
        },
        "id": "2tKiJ8OCfXQu",
        "outputId": "3216d12c-d6ce-485d-d4d9-578cd98dd12a"
      },
      "execution_count": 26,
      "outputs": [
        {
          "output_type": "execute_result",
          "data": {
            "text/plain": [
              "<tf.Tensor: shape=(2, 2), dtype=int32, numpy=\n",
              "array([[10, 20],\n",
              "       [30, 40]], dtype=int32)>"
            ]
          },
          "metadata": {},
          "execution_count": 26
        }
      ]
    },
    {
      "cell_type": "code",
      "source": [
        "# Subtraction\n",
        "tensor - 10"
      ],
      "metadata": {
        "colab": {
          "base_uri": "https://localhost:8080/"
        },
        "id": "uQk_rQHMf2bN",
        "outputId": "2546c79e-e834-44c0-93be-f9650f0d0faf"
      },
      "execution_count": 27,
      "outputs": [
        {
          "output_type": "execute_result",
          "data": {
            "text/plain": [
              "<tf.Tensor: shape=(2, 2), dtype=int32, numpy=\n",
              "array([[-9, -8],\n",
              "       [-7, -6]], dtype=int32)>"
            ]
          },
          "metadata": {},
          "execution_count": 27
        }
      ]
    },
    {
      "cell_type": "code",
      "source": [
        "# Can use built-in functions too\n",
        "tf.multiply(tensor, 10)"
      ],
      "metadata": {
        "colab": {
          "base_uri": "https://localhost:8080/"
        },
        "id": "e4_OM6uDf8gT",
        "outputId": "67279582-e3b1-473f-ee70-251ed312095e"
      },
      "execution_count": 28,
      "outputs": [
        {
          "output_type": "execute_result",
          "data": {
            "text/plain": [
              "<tf.Tensor: shape=(2, 2), dtype=int32, numpy=\n",
              "array([[10, 20],\n",
              "       [30, 40]], dtype=int32)>"
            ]
          },
          "metadata": {},
          "execution_count": 28
        }
      ]
    },
    {
      "cell_type": "code",
      "source": [
        "tensor"
      ],
      "metadata": {
        "colab": {
          "base_uri": "https://localhost:8080/"
        },
        "id": "Un30rdKegTjN",
        "outputId": "bbef9c2a-55ae-44a4-f018-ed242dc62348"
      },
      "execution_count": 29,
      "outputs": [
        {
          "output_type": "execute_result",
          "data": {
            "text/plain": [
              "<tf.Tensor: shape=(2, 2), dtype=int32, numpy=\n",
              "array([[1, 2],\n",
              "       [3, 4]], dtype=int32)>"
            ]
          },
          "metadata": {},
          "execution_count": 29
        }
      ]
    },
    {
      "cell_type": "markdown",
      "source": [
        "### Matrix multiplication\n",
        "\n",
        "**Numbers on the `inside` must match (3x`3` <---> `3`x2)**\n",
        "\n",
        "**New size is the same as outer numbers (3x2, because `3`x3 <---> 3x`2`)**"
      ],
      "metadata": {
        "id": "7hmSeRa3hBSD"
      }
    },
    {
      "cell_type": "code",
      "source": [
        "tensor"
      ],
      "metadata": {
        "colab": {
          "base_uri": "https://localhost:8080/"
        },
        "id": "GKgOna_fhHut",
        "outputId": "e57ff18c-a2a1-446a-fe8d-05725900f580"
      },
      "execution_count": 30,
      "outputs": [
        {
          "output_type": "execute_result",
          "data": {
            "text/plain": [
              "<tf.Tensor: shape=(2, 2), dtype=int32, numpy=\n",
              "array([[1, 2],\n",
              "       [3, 4]], dtype=int32)>"
            ]
          },
          "metadata": {},
          "execution_count": 30
        }
      ]
    },
    {
      "cell_type": "code",
      "source": [
        "tf.matmul(tensor, tensor)"
      ],
      "metadata": {
        "colab": {
          "base_uri": "https://localhost:8080/"
        },
        "id": "6daPthtQjgNs",
        "outputId": "6ca43be4-fda8-4db4-c6e3-359ae14c5974"
      },
      "execution_count": 31,
      "outputs": [
        {
          "output_type": "execute_result",
          "data": {
            "text/plain": [
              "<tf.Tensor: shape=(2, 2), dtype=int32, numpy=\n",
              "array([[ 7, 10],\n",
              "       [15, 22]], dtype=int32)>"
            ]
          },
          "metadata": {},
          "execution_count": 31
        }
      ]
    },
    {
      "cell_type": "code",
      "source": [
        "tensor * tensor"
      ],
      "metadata": {
        "colab": {
          "base_uri": "https://localhost:8080/"
        },
        "id": "iRE_WNG4jh5s",
        "outputId": "29eee0d2-22e1-4542-838f-22204a5a805e"
      },
      "execution_count": 32,
      "outputs": [
        {
          "output_type": "execute_result",
          "data": {
            "text/plain": [
              "<tf.Tensor: shape=(2, 2), dtype=int32, numpy=\n",
              "array([[ 1,  4],\n",
              "       [ 9, 16]], dtype=int32)>"
            ]
          },
          "metadata": {},
          "execution_count": 32
        }
      ]
    },
    {
      "cell_type": "code",
      "source": [
        "# '@' in Python for matrix multiplication\n",
        "tensor @ tensor"
      ],
      "metadata": {
        "colab": {
          "base_uri": "https://localhost:8080/"
        },
        "id": "oz5j4DO1jqSM",
        "outputId": "d42858a0-f01d-46f7-b231-b67228dc5df5"
      },
      "execution_count": 33,
      "outputs": [
        {
          "output_type": "execute_result",
          "data": {
            "text/plain": [
              "<tf.Tensor: shape=(2, 2), dtype=int32, numpy=\n",
              "array([[ 7, 10],\n",
              "       [15, 22]], dtype=int32)>"
            ]
          },
          "metadata": {},
          "execution_count": 33
        }
      ]
    },
    {
      "cell_type": "code",
      "source": [
        "# Create matrix in shape (3, 2)\n",
        "X = tf.constant([[1, 2],\n",
        "                 [3, 4],\n",
        "                 [5, 6]])\n",
        "# Create another matrix in shape (3, 2)\n",
        "Y = tf.constant([[11, 12],\n",
        "                 [13, 14],\n",
        "                 [15, 16]])\n",
        "\n",
        "X, Y"
      ],
      "metadata": {
        "colab": {
          "base_uri": "https://localhost:8080/"
        },
        "id": "h2-z1xnekDQc",
        "outputId": "e31d4fc3-6c3f-44c7-e397-c3ccb396ca4b"
      },
      "execution_count": 34,
      "outputs": [
        {
          "output_type": "execute_result",
          "data": {
            "text/plain": [
              "(<tf.Tensor: shape=(3, 2), dtype=int32, numpy=\n",
              " array([[1, 2],\n",
              "        [3, 4],\n",
              "        [5, 6]], dtype=int32)>,\n",
              " <tf.Tensor: shape=(3, 2), dtype=int32, numpy=\n",
              " array([[11, 12],\n",
              "        [13, 14],\n",
              "        [15, 16]], dtype=int32)>)"
            ]
          },
          "metadata": {},
          "execution_count": 34
        }
      ]
    },
    {
      "cell_type": "code",
      "source": [
        "# Try to matrix multiply matrices with the same shape\n",
        "X @ Y"
      ],
      "metadata": {
        "colab": {
          "base_uri": "https://localhost:8080/",
          "height": 356
        },
        "id": "1u2aQk3slKj8",
        "outputId": "1f172f64-baa4-44cb-e597-517d4e730b5c"
      },
      "execution_count": 36,
      "outputs": [
        {
          "output_type": "error",
          "ename": "InvalidArgumentError",
          "evalue": "{{function_node __wrapped__MatMul_device_/job:localhost/replica:0/task:0/device:CPU:0}} Matrix size-incompatible: In[0]: [3,2], In[1]: [3,2] [Op:MatMul] name: ",
          "traceback": [
            "\u001b[0;31m---------------------------------------------------------------------------\u001b[0m",
            "\u001b[0;31mInvalidArgumentError\u001b[0m                      Traceback (most recent call last)",
            "\u001b[0;32m<ipython-input-36-9f7db9986b24>\u001b[0m in \u001b[0;36m<cell line: 0>\u001b[0;34m()\u001b[0m\n\u001b[1;32m      1\u001b[0m \u001b[0;31m# Try to matrix multiply matrices with the same shape\u001b[0m\u001b[0;34m\u001b[0m\u001b[0;34m\u001b[0m\u001b[0m\n\u001b[0;32m----> 2\u001b[0;31m \u001b[0mX\u001b[0m \u001b[0;34m@\u001b[0m \u001b[0mY\u001b[0m\u001b[0;34m\u001b[0m\u001b[0;34m\u001b[0m\u001b[0m\n\u001b[0m",
            "\u001b[0;32m/usr/local/lib/python3.11/dist-packages/tensorflow/python/util/traceback_utils.py\u001b[0m in \u001b[0;36merror_handler\u001b[0;34m(*args, **kwargs)\u001b[0m\n\u001b[1;32m    151\u001b[0m     \u001b[0;32mexcept\u001b[0m \u001b[0mException\u001b[0m \u001b[0;32mas\u001b[0m \u001b[0me\u001b[0m\u001b[0;34m:\u001b[0m\u001b[0;34m\u001b[0m\u001b[0;34m\u001b[0m\u001b[0m\n\u001b[1;32m    152\u001b[0m       \u001b[0mfiltered_tb\u001b[0m \u001b[0;34m=\u001b[0m \u001b[0m_process_traceback_frames\u001b[0m\u001b[0;34m(\u001b[0m\u001b[0me\u001b[0m\u001b[0;34m.\u001b[0m\u001b[0m__traceback__\u001b[0m\u001b[0;34m)\u001b[0m\u001b[0;34m\u001b[0m\u001b[0;34m\u001b[0m\u001b[0m\n\u001b[0;32m--> 153\u001b[0;31m       \u001b[0;32mraise\u001b[0m \u001b[0me\u001b[0m\u001b[0;34m.\u001b[0m\u001b[0mwith_traceback\u001b[0m\u001b[0;34m(\u001b[0m\u001b[0mfiltered_tb\u001b[0m\u001b[0;34m)\u001b[0m \u001b[0;32mfrom\u001b[0m \u001b[0;32mNone\u001b[0m\u001b[0;34m\u001b[0m\u001b[0;34m\u001b[0m\u001b[0m\n\u001b[0m\u001b[1;32m    154\u001b[0m     \u001b[0;32mfinally\u001b[0m\u001b[0;34m:\u001b[0m\u001b[0;34m\u001b[0m\u001b[0;34m\u001b[0m\u001b[0m\n\u001b[1;32m    155\u001b[0m       \u001b[0;32mdel\u001b[0m \u001b[0mfiltered_tb\u001b[0m\u001b[0;34m\u001b[0m\u001b[0;34m\u001b[0m\u001b[0m\n",
            "\u001b[0;32m/usr/local/lib/python3.11/dist-packages/tensorflow/python/framework/ops.py\u001b[0m in \u001b[0;36mraise_from_not_ok_status\u001b[0;34m(e, name)\u001b[0m\n\u001b[1;32m   5981\u001b[0m \u001b[0;32mdef\u001b[0m \u001b[0mraise_from_not_ok_status\u001b[0m\u001b[0;34m(\u001b[0m\u001b[0me\u001b[0m\u001b[0;34m,\u001b[0m \u001b[0mname\u001b[0m\u001b[0;34m)\u001b[0m \u001b[0;34m->\u001b[0m \u001b[0mNoReturn\u001b[0m\u001b[0;34m:\u001b[0m\u001b[0;34m\u001b[0m\u001b[0;34m\u001b[0m\u001b[0m\n\u001b[1;32m   5982\u001b[0m   \u001b[0me\u001b[0m\u001b[0;34m.\u001b[0m\u001b[0mmessage\u001b[0m \u001b[0;34m+=\u001b[0m \u001b[0;34m(\u001b[0m\u001b[0;34m\" name: \"\u001b[0m \u001b[0;34m+\u001b[0m \u001b[0mstr\u001b[0m\u001b[0;34m(\u001b[0m\u001b[0mname\u001b[0m \u001b[0;32mif\u001b[0m \u001b[0mname\u001b[0m \u001b[0;32mis\u001b[0m \u001b[0;32mnot\u001b[0m \u001b[0;32mNone\u001b[0m \u001b[0;32melse\u001b[0m \u001b[0;34m\"\"\u001b[0m\u001b[0;34m)\u001b[0m\u001b[0;34m)\u001b[0m\u001b[0;34m\u001b[0m\u001b[0;34m\u001b[0m\u001b[0m\n\u001b[0;32m-> 5983\u001b[0;31m   \u001b[0;32mraise\u001b[0m \u001b[0mcore\u001b[0m\u001b[0;34m.\u001b[0m\u001b[0m_status_to_exception\u001b[0m\u001b[0;34m(\u001b[0m\u001b[0me\u001b[0m\u001b[0;34m)\u001b[0m \u001b[0;32mfrom\u001b[0m \u001b[0;32mNone\u001b[0m  \u001b[0;31m# pylint: disable=protected-access\u001b[0m\u001b[0;34m\u001b[0m\u001b[0;34m\u001b[0m\u001b[0m\n\u001b[0m\u001b[1;32m   5984\u001b[0m \u001b[0;34m\u001b[0m\u001b[0m\n\u001b[1;32m   5985\u001b[0m \u001b[0;34m\u001b[0m\u001b[0m\n",
            "\u001b[0;31mInvalidArgumentError\u001b[0m: {{function_node __wrapped__MatMul_device_/job:localhost/replica:0/task:0/device:CPU:0}} Matrix size-incompatible: In[0]: [3,2], In[1]: [3,2] [Op:MatMul] name: "
          ]
        }
      ]
    },
    {
      "cell_type": "code",
      "source": [
        "# Try to matrix multiply matrices with .matmul\n",
        "tf.matmul(X, Y)"
      ],
      "metadata": {
        "colab": {
          "base_uri": "https://localhost:8080/",
          "height": 356
        },
        "id": "IJtIUXkllcNz",
        "outputId": "4100ef5f-62c1-4758-c007-303a5f743e4b"
      },
      "execution_count": 37,
      "outputs": [
        {
          "output_type": "error",
          "ename": "InvalidArgumentError",
          "evalue": "{{function_node __wrapped__MatMul_device_/job:localhost/replica:0/task:0/device:CPU:0}} Matrix size-incompatible: In[0]: [3,2], In[1]: [3,2] [Op:MatMul] name: ",
          "traceback": [
            "\u001b[0;31m---------------------------------------------------------------------------\u001b[0m",
            "\u001b[0;31mInvalidArgumentError\u001b[0m                      Traceback (most recent call last)",
            "\u001b[0;32m<ipython-input-37-ebd319738a2c>\u001b[0m in \u001b[0;36m<cell line: 0>\u001b[0;34m()\u001b[0m\n\u001b[1;32m      1\u001b[0m \u001b[0;31m# Try to matrix multiply matrices with .matmul\u001b[0m\u001b[0;34m\u001b[0m\u001b[0;34m\u001b[0m\u001b[0m\n\u001b[0;32m----> 2\u001b[0;31m \u001b[0mtf\u001b[0m\u001b[0;34m.\u001b[0m\u001b[0mmatmul\u001b[0m\u001b[0;34m(\u001b[0m\u001b[0mX\u001b[0m\u001b[0;34m,\u001b[0m \u001b[0mY\u001b[0m\u001b[0;34m)\u001b[0m\u001b[0;34m\u001b[0m\u001b[0;34m\u001b[0m\u001b[0m\n\u001b[0m",
            "\u001b[0;32m/usr/local/lib/python3.11/dist-packages/tensorflow/python/ops/weak_tensor_ops.py\u001b[0m in \u001b[0;36mwrapper\u001b[0;34m(*args, **kwargs)\u001b[0m\n\u001b[1;32m    140\u001b[0m   \u001b[0;32mdef\u001b[0m \u001b[0mwrapper\u001b[0m\u001b[0;34m(\u001b[0m\u001b[0;34m*\u001b[0m\u001b[0margs\u001b[0m\u001b[0;34m,\u001b[0m \u001b[0;34m**\u001b[0m\u001b[0mkwargs\u001b[0m\u001b[0;34m)\u001b[0m\u001b[0;34m:\u001b[0m\u001b[0;34m\u001b[0m\u001b[0;34m\u001b[0m\u001b[0m\n\u001b[1;32m    141\u001b[0m     \u001b[0;32mif\u001b[0m \u001b[0;32mnot\u001b[0m \u001b[0mops\u001b[0m\u001b[0;34m.\u001b[0m\u001b[0mis_auto_dtype_conversion_enabled\u001b[0m\u001b[0;34m(\u001b[0m\u001b[0;34m)\u001b[0m\u001b[0;34m:\u001b[0m\u001b[0;34m\u001b[0m\u001b[0;34m\u001b[0m\u001b[0m\n\u001b[0;32m--> 142\u001b[0;31m       \u001b[0;32mreturn\u001b[0m \u001b[0mop\u001b[0m\u001b[0;34m(\u001b[0m\u001b[0;34m*\u001b[0m\u001b[0margs\u001b[0m\u001b[0;34m,\u001b[0m \u001b[0;34m**\u001b[0m\u001b[0mkwargs\u001b[0m\u001b[0;34m)\u001b[0m\u001b[0;34m\u001b[0m\u001b[0;34m\u001b[0m\u001b[0m\n\u001b[0m\u001b[1;32m    143\u001b[0m     \u001b[0mbound_arguments\u001b[0m \u001b[0;34m=\u001b[0m \u001b[0msignature\u001b[0m\u001b[0;34m.\u001b[0m\u001b[0mbind\u001b[0m\u001b[0;34m(\u001b[0m\u001b[0;34m*\u001b[0m\u001b[0margs\u001b[0m\u001b[0;34m,\u001b[0m \u001b[0;34m**\u001b[0m\u001b[0mkwargs\u001b[0m\u001b[0;34m)\u001b[0m\u001b[0;34m\u001b[0m\u001b[0;34m\u001b[0m\u001b[0m\n\u001b[1;32m    144\u001b[0m     \u001b[0mbound_arguments\u001b[0m\u001b[0;34m.\u001b[0m\u001b[0mapply_defaults\u001b[0m\u001b[0;34m(\u001b[0m\u001b[0;34m)\u001b[0m\u001b[0;34m\u001b[0m\u001b[0;34m\u001b[0m\u001b[0m\n",
            "\u001b[0;32m/usr/local/lib/python3.11/dist-packages/tensorflow/python/util/traceback_utils.py\u001b[0m in \u001b[0;36merror_handler\u001b[0;34m(*args, **kwargs)\u001b[0m\n\u001b[1;32m    151\u001b[0m     \u001b[0;32mexcept\u001b[0m \u001b[0mException\u001b[0m \u001b[0;32mas\u001b[0m \u001b[0me\u001b[0m\u001b[0;34m:\u001b[0m\u001b[0;34m\u001b[0m\u001b[0;34m\u001b[0m\u001b[0m\n\u001b[1;32m    152\u001b[0m       \u001b[0mfiltered_tb\u001b[0m \u001b[0;34m=\u001b[0m \u001b[0m_process_traceback_frames\u001b[0m\u001b[0;34m(\u001b[0m\u001b[0me\u001b[0m\u001b[0;34m.\u001b[0m\u001b[0m__traceback__\u001b[0m\u001b[0;34m)\u001b[0m\u001b[0;34m\u001b[0m\u001b[0;34m\u001b[0m\u001b[0m\n\u001b[0;32m--> 153\u001b[0;31m       \u001b[0;32mraise\u001b[0m \u001b[0me\u001b[0m\u001b[0;34m.\u001b[0m\u001b[0mwith_traceback\u001b[0m\u001b[0;34m(\u001b[0m\u001b[0mfiltered_tb\u001b[0m\u001b[0;34m)\u001b[0m \u001b[0;32mfrom\u001b[0m \u001b[0;32mNone\u001b[0m\u001b[0;34m\u001b[0m\u001b[0;34m\u001b[0m\u001b[0m\n\u001b[0m\u001b[1;32m    154\u001b[0m     \u001b[0;32mfinally\u001b[0m\u001b[0;34m:\u001b[0m\u001b[0;34m\u001b[0m\u001b[0;34m\u001b[0m\u001b[0m\n\u001b[1;32m    155\u001b[0m       \u001b[0;32mdel\u001b[0m \u001b[0mfiltered_tb\u001b[0m\u001b[0;34m\u001b[0m\u001b[0;34m\u001b[0m\u001b[0m\n",
            "\u001b[0;32m/usr/local/lib/python3.11/dist-packages/tensorflow/python/framework/ops.py\u001b[0m in \u001b[0;36mraise_from_not_ok_status\u001b[0;34m(e, name)\u001b[0m\n\u001b[1;32m   5981\u001b[0m \u001b[0;32mdef\u001b[0m \u001b[0mraise_from_not_ok_status\u001b[0m\u001b[0;34m(\u001b[0m\u001b[0me\u001b[0m\u001b[0;34m,\u001b[0m \u001b[0mname\u001b[0m\u001b[0;34m)\u001b[0m \u001b[0;34m->\u001b[0m \u001b[0mNoReturn\u001b[0m\u001b[0;34m:\u001b[0m\u001b[0;34m\u001b[0m\u001b[0;34m\u001b[0m\u001b[0m\n\u001b[1;32m   5982\u001b[0m   \u001b[0me\u001b[0m\u001b[0;34m.\u001b[0m\u001b[0mmessage\u001b[0m \u001b[0;34m+=\u001b[0m \u001b[0;34m(\u001b[0m\u001b[0;34m\" name: \"\u001b[0m \u001b[0;34m+\u001b[0m \u001b[0mstr\u001b[0m\u001b[0;34m(\u001b[0m\u001b[0mname\u001b[0m \u001b[0;32mif\u001b[0m \u001b[0mname\u001b[0m \u001b[0;32mis\u001b[0m \u001b[0;32mnot\u001b[0m \u001b[0;32mNone\u001b[0m \u001b[0;32melse\u001b[0m \u001b[0;34m\"\"\u001b[0m\u001b[0;34m)\u001b[0m\u001b[0;34m)\u001b[0m\u001b[0;34m\u001b[0m\u001b[0;34m\u001b[0m\u001b[0m\n\u001b[0;32m-> 5983\u001b[0;31m   \u001b[0;32mraise\u001b[0m \u001b[0mcore\u001b[0m\u001b[0;34m.\u001b[0m\u001b[0m_status_to_exception\u001b[0m\u001b[0;34m(\u001b[0m\u001b[0me\u001b[0m\u001b[0;34m)\u001b[0m \u001b[0;32mfrom\u001b[0m \u001b[0;32mNone\u001b[0m  \u001b[0;31m# pylint: disable=protected-access\u001b[0m\u001b[0;34m\u001b[0m\u001b[0;34m\u001b[0m\u001b[0m\n\u001b[0m\u001b[1;32m   5984\u001b[0m \u001b[0;34m\u001b[0m\u001b[0m\n\u001b[1;32m   5985\u001b[0m \u001b[0;34m\u001b[0m\u001b[0m\n",
            "\u001b[0;31mInvalidArgumentError\u001b[0m: {{function_node __wrapped__MatMul_device_/job:localhost/replica:0/task:0/device:CPU:0}} Matrix size-incompatible: In[0]: [3,2], In[1]: [3,2] [Op:MatMul] name: "
          ]
        }
      ]
    },
    {
      "cell_type": "code",
      "source": [
        "# Transpose use\n",
        "tf.transpose(Y)"
      ],
      "metadata": {
        "colab": {
          "base_uri": "https://localhost:8080/"
        },
        "id": "98HKRn3wrQX5",
        "outputId": "82d8f152-a7b3-4ef5-ed57-a1ed549436d8"
      },
      "execution_count": 38,
      "outputs": [
        {
          "output_type": "execute_result",
          "data": {
            "text/plain": [
              "<tf.Tensor: shape=(2, 3), dtype=int32, numpy=\n",
              "array([[11, 13, 15],\n",
              "       [12, 14, 16]], dtype=int32)>"
            ]
          },
          "metadata": {},
          "execution_count": 38
        }
      ]
    },
    {
      "cell_type": "code",
      "source": [
        "X @ tf.transpose(Y)"
      ],
      "metadata": {
        "colab": {
          "base_uri": "https://localhost:8080/"
        },
        "id": "zLGRBh4Elhdc",
        "outputId": "5e6593d1-f24f-4fba-ab2e-b168a98cb1b1"
      },
      "execution_count": 39,
      "outputs": [
        {
          "output_type": "execute_result",
          "data": {
            "text/plain": [
              "<tf.Tensor: shape=(3, 3), dtype=int32, numpy=\n",
              "array([[ 35,  41,  47],\n",
              "       [ 81,  95, 109],\n",
              "       [127, 149, 171]], dtype=int32)>"
            ]
          },
          "metadata": {},
          "execution_count": 39
        }
      ]
    },
    {
      "cell_type": "code",
      "source": [
        "Y"
      ],
      "metadata": {
        "colab": {
          "base_uri": "https://localhost:8080/"
        },
        "id": "lakhPZWbrJlp",
        "outputId": "8df859bf-6d47-4ddc-d38c-4b050e7ac230"
      },
      "execution_count": 40,
      "outputs": [
        {
          "output_type": "execute_result",
          "data": {
            "text/plain": [
              "<tf.Tensor: shape=(3, 2), dtype=int32, numpy=\n",
              "array([[11, 12],\n",
              "       [13, 14],\n",
              "       [15, 16]], dtype=int32)>"
            ]
          },
          "metadata": {},
          "execution_count": 40
        }
      ]
    },
    {
      "cell_type": "code",
      "source": [
        "# Or reshape (more correct option)\n",
        "tf.reshape(Y, (2, 3))"
      ],
      "metadata": {
        "colab": {
          "base_uri": "https://localhost:8080/"
        },
        "id": "CfHvmcdzmT3s",
        "outputId": "a6bdbf4c-7e64-44d0-be39-699457ed34f0"
      },
      "execution_count": 41,
      "outputs": [
        {
          "output_type": "execute_result",
          "data": {
            "text/plain": [
              "<tf.Tensor: shape=(2, 3), dtype=int32, numpy=\n",
              "array([[11, 12, 13],\n",
              "       [14, 15, 16]], dtype=int32)>"
            ]
          },
          "metadata": {},
          "execution_count": 41
        }
      ]
    },
    {
      "cell_type": "code",
      "source": [
        "X.shape, tf.reshape(Y, (2, 3)).shape"
      ],
      "metadata": {
        "colab": {
          "base_uri": "https://localhost:8080/"
        },
        "id": "qTWuYDRmrqC7",
        "outputId": "31e06dcf-2f4c-4136-8579-281d2e2af23e"
      },
      "execution_count": 42,
      "outputs": [
        {
          "output_type": "execute_result",
          "data": {
            "text/plain": [
              "(TensorShape([3, 2]), TensorShape([2, 3]))"
            ]
          },
          "metadata": {},
          "execution_count": 42
        }
      ]
    },
    {
      "cell_type": "code",
      "source": [
        "X @ tf.reshape(Y, (2, 3))"
      ],
      "metadata": {
        "colab": {
          "base_uri": "https://localhost:8080/"
        },
        "id": "LrB8XJfDrMup",
        "outputId": "a7daace1-0c6f-48d3-992c-437116f43e48"
      },
      "execution_count": 43,
      "outputs": [
        {
          "output_type": "execute_result",
          "data": {
            "text/plain": [
              "<tf.Tensor: shape=(3, 3), dtype=int32, numpy=\n",
              "array([[ 39,  42,  45],\n",
              "       [ 89,  96, 103],\n",
              "       [139, 150, 161]], dtype=int32)>"
            ]
          },
          "metadata": {},
          "execution_count": 43
        }
      ]
    },
    {
      "cell_type": "code",
      "source": [
        "tf.matmul(X, tf.reshape(Y, (2, 3)))"
      ],
      "metadata": {
        "colab": {
          "base_uri": "https://localhost:8080/"
        },
        "id": "xdyKSmtRrjGC",
        "outputId": "f5ea0b59-d1fa-493d-b4f1-9565c5e2cc1e"
      },
      "execution_count": 44,
      "outputs": [
        {
          "output_type": "execute_result",
          "data": {
            "text/plain": [
              "<tf.Tensor: shape=(3, 3), dtype=int32, numpy=\n",
              "array([[ 39,  42,  45],\n",
              "       [ 89,  96, 103],\n",
              "       [139, 150, 161]], dtype=int32)>"
            ]
          },
          "metadata": {},
          "execution_count": 44
        }
      ]
    },
    {
      "cell_type": "code",
      "source": [
        "tf.reshape(X, (2, 3)).shape, Y.shape"
      ],
      "metadata": {
        "colab": {
          "base_uri": "https://localhost:8080/"
        },
        "id": "C-mW6yiOsnZB",
        "outputId": "2ab0f140-a4fa-4f8b-a3a2-05a682b20331"
      },
      "execution_count": 45,
      "outputs": [
        {
          "output_type": "execute_result",
          "data": {
            "text/plain": [
              "(TensorShape([2, 3]), TensorShape([3, 2]))"
            ]
          },
          "metadata": {},
          "execution_count": 45
        }
      ]
    },
    {
      "cell_type": "code",
      "source": [
        "# Changing shape of X instead of Y\n",
        "tf.matmul(tf.reshape(X, (2, 3)), Y)"
      ],
      "metadata": {
        "colab": {
          "base_uri": "https://localhost:8080/"
        },
        "id": "6VC9BDHXr4ax",
        "outputId": "6872aff3-3f25-4d9a-8fe1-85664c6ddc5f"
      },
      "execution_count": 46,
      "outputs": [
        {
          "output_type": "execute_result",
          "data": {
            "text/plain": [
              "<tf.Tensor: shape=(2, 2), dtype=int32, numpy=\n",
              "array([[ 82,  88],\n",
              "       [199, 214]], dtype=int32)>"
            ]
          },
          "metadata": {},
          "execution_count": 46
        }
      ]
    },
    {
      "cell_type": "code",
      "source": [
        "# Again, transpose\n",
        "X, tf.transpose(X), tf.reshape(X, (2, 3))"
      ],
      "metadata": {
        "colab": {
          "base_uri": "https://localhost:8080/"
        },
        "id": "43zH0eS6sNuR",
        "outputId": "5c6b0bcc-33c3-4bb4-ee6a-12667886a57e"
      },
      "execution_count": 47,
      "outputs": [
        {
          "output_type": "execute_result",
          "data": {
            "text/plain": [
              "(<tf.Tensor: shape=(3, 2), dtype=int32, numpy=\n",
              " array([[1, 2],\n",
              "        [3, 4],\n",
              "        [5, 6]], dtype=int32)>,\n",
              " <tf.Tensor: shape=(2, 3), dtype=int32, numpy=\n",
              " array([[1, 3, 5],\n",
              "        [2, 4, 6]], dtype=int32)>,\n",
              " <tf.Tensor: shape=(2, 3), dtype=int32, numpy=\n",
              " array([[1, 2, 3],\n",
              "        [4, 5, 6]], dtype=int32)>)"
            ]
          },
          "metadata": {},
          "execution_count": 47
        }
      ]
    },
    {
      "cell_type": "code",
      "source": [
        "tf.matmul(tf.transpose(X), Y)"
      ],
      "metadata": {
        "colab": {
          "base_uri": "https://localhost:8080/"
        },
        "id": "8bGr6UtttldB",
        "outputId": "17a67363-c08d-4fb2-af0c-9c590d4bcf1c"
      },
      "execution_count": 48,
      "outputs": [
        {
          "output_type": "execute_result",
          "data": {
            "text/plain": [
              "<tf.Tensor: shape=(2, 2), dtype=int32, numpy=\n",
              "array([[125, 134],\n",
              "       [164, 176]], dtype=int32)>"
            ]
          },
          "metadata": {},
          "execution_count": 48
        }
      ]
    },
    {
      "cell_type": "markdown",
      "source": [
        "**The Dot Product (Matrix Multiplication)**\n",
        "\n",
        "* `tf.matmul()`\n",
        "* `tf.tensordot()`\n",
        "* `@`"
      ],
      "metadata": {
        "id": "y148C7681uCR"
      }
    },
    {
      "cell_type": "code",
      "source": [
        "X, Y"
      ],
      "metadata": {
        "colab": {
          "base_uri": "https://localhost:8080/"
        },
        "id": "uy1JgHTvtq-Z",
        "outputId": "cff57b76-f1cd-4b7c-9958-8e6e79c1aea4"
      },
      "execution_count": 49,
      "outputs": [
        {
          "output_type": "execute_result",
          "data": {
            "text/plain": [
              "(<tf.Tensor: shape=(3, 2), dtype=int32, numpy=\n",
              " array([[1, 2],\n",
              "        [3, 4],\n",
              "        [5, 6]], dtype=int32)>,\n",
              " <tf.Tensor: shape=(3, 2), dtype=int32, numpy=\n",
              " array([[11, 12],\n",
              "        [13, 14],\n",
              "        [15, 16]], dtype=int32)>)"
            ]
          },
          "metadata": {},
          "execution_count": 49
        }
      ]
    },
    {
      "cell_type": "code",
      "source": [
        "# Transposing X\n",
        "tf.tensordot(tf.transpose(X), Y, axes=1)"
      ],
      "metadata": {
        "colab": {
          "base_uri": "https://localhost:8080/"
        },
        "id": "cxYVEGA72S5m",
        "outputId": "2140144d-a7ed-4522-cc22-5184f53d8d7d"
      },
      "execution_count": 50,
      "outputs": [
        {
          "output_type": "execute_result",
          "data": {
            "text/plain": [
              "<tf.Tensor: shape=(2, 2), dtype=int32, numpy=\n",
              "array([[125, 134],\n",
              "       [164, 176]], dtype=int32)>"
            ]
          },
          "metadata": {},
          "execution_count": 50
        }
      ]
    },
    {
      "cell_type": "code",
      "source": [
        "# Transposing Y\n",
        "tf.matmul(X, tf.transpose(Y))"
      ],
      "metadata": {
        "colab": {
          "base_uri": "https://localhost:8080/"
        },
        "id": "saArwXQo2aem",
        "outputId": "064e4fa2-179f-472f-91ef-4833fa0598be"
      },
      "execution_count": 51,
      "outputs": [
        {
          "output_type": "execute_result",
          "data": {
            "text/plain": [
              "<tf.Tensor: shape=(3, 3), dtype=int32, numpy=\n",
              "array([[ 35,  41,  47],\n",
              "       [ 81,  95, 109],\n",
              "       [127, 149, 171]], dtype=int32)>"
            ]
          },
          "metadata": {},
          "execution_count": 51
        }
      ]
    },
    {
      "cell_type": "code",
      "source": [
        "# Reshaping Y\n",
        "tf.matmul(X, tf.reshape(Y, shape=(2, 3)))"
      ],
      "metadata": {
        "colab": {
          "base_uri": "https://localhost:8080/"
        },
        "id": "tUdtUR053Eld",
        "outputId": "6286dfde-7aff-4972-d10b-5c36a0cda0ef"
      },
      "execution_count": 52,
      "outputs": [
        {
          "output_type": "execute_result",
          "data": {
            "text/plain": [
              "<tf.Tensor: shape=(3, 3), dtype=int32, numpy=\n",
              "array([[ 39,  42,  45],\n",
              "       [ 89,  96, 103],\n",
              "       [139, 150, 161]], dtype=int32)>"
            ]
          },
          "metadata": {},
          "execution_count": 52
        }
      ]
    },
    {
      "cell_type": "code",
      "source": [
        "# if needed to choose reshaping or transposing, usually choose transposing"
      ],
      "metadata": {
        "id": "jwycBVuQ3U5-"
      },
      "execution_count": 53,
      "outputs": []
    },
    {
      "cell_type": "markdown",
      "source": [
        "### Changing datatype of a tensor"
      ],
      "metadata": {
        "id": "7Nm9qXI15W62"
      }
    },
    {
      "cell_type": "code",
      "source": [
        "# Create tensor with float datatype\n",
        "B = tf.constant([1.7, 2.5])\n",
        "B, B.dtype"
      ],
      "metadata": {
        "colab": {
          "base_uri": "https://localhost:8080/"
        },
        "id": "1QniiZZU5KS8",
        "outputId": "65f82520-19c8-458a-b5af-2c53043fe3e1"
      },
      "execution_count": 54,
      "outputs": [
        {
          "output_type": "execute_result",
          "data": {
            "text/plain": [
              "(<tf.Tensor: shape=(2,), dtype=float32, numpy=array([1.7, 2.5], dtype=float32)>,\n",
              " tf.float32)"
            ]
          },
          "metadata": {},
          "execution_count": 54
        }
      ]
    },
    {
      "cell_type": "code",
      "source": [
        "C = tf.constant([2, 3])\n",
        "C.dtype"
      ],
      "metadata": {
        "colab": {
          "base_uri": "https://localhost:8080/"
        },
        "id": "Vo3mETCL5-pd",
        "outputId": "aed68066-f3f1-4eed-b281-a438bf4cc314"
      },
      "execution_count": 55,
      "outputs": [
        {
          "output_type": "execute_result",
          "data": {
            "text/plain": [
              "tf.int32"
            ]
          },
          "metadata": {},
          "execution_count": 55
        }
      ]
    },
    {
      "cell_type": "code",
      "source": [
        "# Change from float32 to float16 (this is called \"reduced precision\")\n",
        "D = tf.cast(B, dtype=tf.float16)\n",
        "D, D.dtype"
      ],
      "metadata": {
        "colab": {
          "base_uri": "https://localhost:8080/"
        },
        "id": "Ol0iF3Wc6KW1",
        "outputId": "6f6bbecc-79e4-418c-ca0b-2c1e61252981"
      },
      "execution_count": 56,
      "outputs": [
        {
          "output_type": "execute_result",
          "data": {
            "text/plain": [
              "(<tf.Tensor: shape=(2,), dtype=float16, numpy=array([1.7, 2.5], dtype=float16)>,\n",
              " tf.float16)"
            ]
          },
          "metadata": {},
          "execution_count": 56
        }
      ]
    },
    {
      "cell_type": "code",
      "source": [
        "# Change from int32 to float32\n",
        "E = tf.cast(C, dtype=tf.float32)\n",
        "E"
      ],
      "metadata": {
        "colab": {
          "base_uri": "https://localhost:8080/"
        },
        "id": "26tTXy577V6s",
        "outputId": "bccbd9f3-c98b-4cd8-ea7a-f7e458a02a00"
      },
      "execution_count": 57,
      "outputs": [
        {
          "output_type": "execute_result",
          "data": {
            "text/plain": [
              "<tf.Tensor: shape=(2,), dtype=float32, numpy=array([2., 3.], dtype=float32)>"
            ]
          },
          "metadata": {},
          "execution_count": 57
        }
      ]
    },
    {
      "cell_type": "code",
      "source": [
        "E_float16 = tf.cast(C, dtype=tf.float16)\n",
        "E_float16"
      ],
      "metadata": {
        "colab": {
          "base_uri": "https://localhost:8080/"
        },
        "id": "rWDKTJmz7-Uk",
        "outputId": "9bbc8a8f-f763-45e0-a455-b957ea50e225"
      },
      "execution_count": 58,
      "outputs": [
        {
          "output_type": "execute_result",
          "data": {
            "text/plain": [
              "<tf.Tensor: shape=(2,), dtype=float16, numpy=array([2., 3.], dtype=float16)>"
            ]
          },
          "metadata": {},
          "execution_count": 58
        }
      ]
    },
    {
      "cell_type": "markdown",
      "source": [
        "### Aggregating tensors"
      ],
      "metadata": {
        "id": "058u_JuR8bTu"
      }
    },
    {
      "cell_type": "code",
      "source": [
        "# Get the absolute value\n",
        "tensor = tf.constant([-7, -10])\n",
        "tf.abs(tensor)"
      ],
      "metadata": {
        "colab": {
          "base_uri": "https://localhost:8080/"
        },
        "id": "6X2H84NV8REj",
        "outputId": "fe399962-8725-497e-ac1d-e78b4b189656"
      },
      "execution_count": 59,
      "outputs": [
        {
          "output_type": "execute_result",
          "data": {
            "text/plain": [
              "<tf.Tensor: shape=(2,), dtype=int32, numpy=array([ 7, 10], dtype=int32)>"
            ]
          },
          "metadata": {},
          "execution_count": 59
        }
      ]
    },
    {
      "cell_type": "code",
      "source": [
        "tensor = tf.constant(np.random.randint(0, 100, size=50))\n",
        "tensor"
      ],
      "metadata": {
        "colab": {
          "base_uri": "https://localhost:8080/"
        },
        "id": "--W_psBZ9zlc",
        "outputId": "ece58c27-d6e2-4776-c835-26ea8d807a8e"
      },
      "execution_count": 76,
      "outputs": [
        {
          "output_type": "execute_result",
          "data": {
            "text/plain": [
              "<tf.Tensor: shape=(50,), dtype=int64, numpy=\n",
              "array([50, 98, 58, 25, 92, 25, 49, 31, 64, 38, 48, 42, 88, 40, 57, 28, 62,\n",
              "       64, 39, 80, 26, 51, 81, 37, 53, 98, 30, 82, 82, 74, 73, 87, 40, 63,\n",
              "       71, 74, 63,  1, 70, 69, 30, 73,  9, 96, 97, 99, 78, 21, 70, 58])>"
            ]
          },
          "metadata": {},
          "execution_count": 76
        }
      ]
    },
    {
      "cell_type": "code",
      "source": [
        "tf.size(tensor), tensor.shape, tensor.ndim"
      ],
      "metadata": {
        "colab": {
          "base_uri": "https://localhost:8080/"
        },
        "id": "8LzDS9wm-eHM",
        "outputId": "fd03f707-0bf8-452a-9523-a0db09da9663"
      },
      "execution_count": 77,
      "outputs": [
        {
          "output_type": "execute_result",
          "data": {
            "text/plain": [
              "(<tf.Tensor: shape=(), dtype=int32, numpy=50>, TensorShape([50]), 1)"
            ]
          },
          "metadata": {},
          "execution_count": 77
        }
      ]
    },
    {
      "cell_type": "code",
      "source": [
        "# Find minimum\n",
        "tf.reduce_min(tensor)"
      ],
      "metadata": {
        "colab": {
          "base_uri": "https://localhost:8080/"
        },
        "id": "fgAbulri-mtj",
        "outputId": "cbc6bca3-c146-4c84-f20a-d1da8febda2c"
      },
      "execution_count": 78,
      "outputs": [
        {
          "output_type": "execute_result",
          "data": {
            "text/plain": [
              "<tf.Tensor: shape=(), dtype=int64, numpy=1>"
            ]
          },
          "metadata": {},
          "execution_count": 78
        }
      ]
    },
    {
      "cell_type": "code",
      "source": [
        "# Find maximum\n",
        "tf.reduce_max(tensor)"
      ],
      "metadata": {
        "colab": {
          "base_uri": "https://localhost:8080/"
        },
        "id": "qYWAh5-Z-5Jr",
        "outputId": "0651b2ff-9274-4bec-d96c-951087e7a7ea"
      },
      "execution_count": 79,
      "outputs": [
        {
          "output_type": "execute_result",
          "data": {
            "text/plain": [
              "<tf.Tensor: shape=(), dtype=int64, numpy=99>"
            ]
          },
          "metadata": {},
          "execution_count": 79
        }
      ]
    },
    {
      "cell_type": "code",
      "source": [
        "# Find mean\n",
        "tf.reduce_mean(tensor)"
      ],
      "metadata": {
        "colab": {
          "base_uri": "https://localhost:8080/"
        },
        "id": "PZddALJH-7pT",
        "outputId": "1dceb916-bd88-4d1b-9fa1-efeec499f134"
      },
      "execution_count": 80,
      "outputs": [
        {
          "output_type": "execute_result",
          "data": {
            "text/plain": [
              "<tf.Tensor: shape=(), dtype=int64, numpy=58>"
            ]
          },
          "metadata": {},
          "execution_count": 80
        }
      ]
    },
    {
      "cell_type": "code",
      "source": [
        "# Find sum\n",
        "tf.reduce_sum(tensor)"
      ],
      "metadata": {
        "colab": {
          "base_uri": "https://localhost:8080/"
        },
        "id": "AWDCWiGn_FOT",
        "outputId": "e25807c8-50b0-4727-f256-4493ac8e4c1d"
      },
      "execution_count": 81,
      "outputs": [
        {
          "output_type": "execute_result",
          "data": {
            "text/plain": [
              "<tf.Tensor: shape=(), dtype=int64, numpy=2934>"
            ]
          },
          "metadata": {},
          "execution_count": 81
        }
      ]
    },
    {
      "cell_type": "code",
      "source": [
        "# Find variance\n",
        "tf.math.reduce_variance(tf.cast(tensor, dtype=tf.float16))"
      ],
      "metadata": {
        "colab": {
          "base_uri": "https://localhost:8080/"
        },
        "id": "HWpGMM7c_KjT",
        "outputId": "b6d29e9e-556e-45db-9076-ae070951380a"
      },
      "execution_count": 82,
      "outputs": [
        {
          "output_type": "execute_result",
          "data": {
            "text/plain": [
              "<tf.Tensor: shape=(), dtype=float16, numpy=616.0>"
            ]
          },
          "metadata": {},
          "execution_count": 82
        }
      ]
    },
    {
      "cell_type": "code",
      "source": [
        "# Find standard deviation\n",
        "tf.math.reduce_std(tf.cast(tensor, dtype=tf.float16))"
      ],
      "metadata": {
        "colab": {
          "base_uri": "https://localhost:8080/"
        },
        "id": "2IfSvfw6_n3L",
        "outputId": "6460a4fb-f26c-4fc9-ea97-aabb253524b2"
      },
      "execution_count": 83,
      "outputs": [
        {
          "output_type": "execute_result",
          "data": {
            "text/plain": [
              "<tf.Tensor: shape=(), dtype=float16, numpy=24.81>"
            ]
          },
          "metadata": {},
          "execution_count": 83
        }
      ]
    },
    {
      "cell_type": "code",
      "source": [
        "# Or using tensorflow_probability\n",
        "import tensorflow_probability as tfp"
      ],
      "metadata": {
        "id": "abZ2s2vHAGVT"
      },
      "execution_count": 84,
      "outputs": []
    },
    {
      "cell_type": "code",
      "source": [
        "tfp.stats.variance(tensor)"
      ],
      "metadata": {
        "colab": {
          "base_uri": "https://localhost:8080/"
        },
        "id": "e76tEfJXAyYC",
        "outputId": "50528674-dafa-4720-bfde-2ca61e47f33c"
      },
      "execution_count": 85,
      "outputs": [
        {
          "output_type": "execute_result",
          "data": {
            "text/plain": [
              "<tf.Tensor: shape=(), dtype=int64, numpy=616>"
            ]
          },
          "metadata": {},
          "execution_count": 85
        }
      ]
    },
    {
      "cell_type": "markdown",
      "source": [
        "### Finding positional maximuim and minimum"
      ],
      "metadata": {
        "id": "VKVYD1FOB7xs"
      }
    },
    {
      "cell_type": "code",
      "source": [
        "tf.random.set_seed(42)\n",
        "tensor = tf.random.uniform([50])\n",
        "tensor"
      ],
      "metadata": {
        "colab": {
          "base_uri": "https://localhost:8080/"
        },
        "id": "kjTf7JKYA3ki",
        "outputId": "78de3c81-f206-4c91-9922-4c735e927d91"
      },
      "execution_count": 86,
      "outputs": [
        {
          "output_type": "execute_result",
          "data": {
            "text/plain": [
              "<tf.Tensor: shape=(50,), dtype=float32, numpy=\n",
              "array([0.6645621 , 0.44100678, 0.3528825 , 0.46448255, 0.03366041,\n",
              "       0.68467236, 0.74011743, 0.8724445 , 0.22632635, 0.22319686,\n",
              "       0.3103881 , 0.7223358 , 0.13318717, 0.5480639 , 0.5746088 ,\n",
              "       0.8996835 , 0.00946367, 0.5212307 , 0.6345445 , 0.1993283 ,\n",
              "       0.72942245, 0.54583454, 0.10756552, 0.6767061 , 0.6602763 ,\n",
              "       0.33695042, 0.60141766, 0.21062577, 0.8527372 , 0.44062173,\n",
              "       0.9485276 , 0.23752594, 0.81179297, 0.5263394 , 0.494308  ,\n",
              "       0.21612847, 0.8457197 , 0.8718841 , 0.3083862 , 0.6868038 ,\n",
              "       0.23764038, 0.7817228 , 0.9671384 , 0.06870162, 0.79873943,\n",
              "       0.66028714, 0.5871513 , 0.16461694, 0.7381023 , 0.32054043],\n",
              "      dtype=float32)>"
            ]
          },
          "metadata": {},
          "execution_count": 86
        }
      ]
    },
    {
      "cell_type": "code",
      "source": [
        "# Find the positional maximum (index with a most higher value)\n",
        "tf.argmax(tensor)"
      ],
      "metadata": {
        "colab": {
          "base_uri": "https://localhost:8080/"
        },
        "id": "juDrvYY8B6Ts",
        "outputId": "6927f6ff-1b0e-47c7-e5ae-379b9b677fe8"
      },
      "execution_count": 87,
      "outputs": [
        {
          "output_type": "execute_result",
          "data": {
            "text/plain": [
              "<tf.Tensor: shape=(), dtype=int64, numpy=42>"
            ]
          },
          "metadata": {},
          "execution_count": 87
        }
      ]
    },
    {
      "cell_type": "code",
      "source": [
        "np.argmax(tensor)"
      ],
      "metadata": {
        "colab": {
          "base_uri": "https://localhost:8080/"
        },
        "id": "eJCwlRh7Ds1J",
        "outputId": "e62f1b6c-472c-4296-9f9a-256ee1b04e41"
      },
      "execution_count": 88,
      "outputs": [
        {
          "output_type": "execute_result",
          "data": {
            "text/plain": [
              "42"
            ]
          },
          "metadata": {},
          "execution_count": 88
        }
      ]
    },
    {
      "cell_type": "code",
      "source": [
        "tensor[tf.argmax(tensor)]"
      ],
      "metadata": {
        "colab": {
          "base_uri": "https://localhost:8080/"
        },
        "id": "C-OXUWc4Dv_J",
        "outputId": "86c8d017-9e83-45cf-8bac-f4464d104e08"
      },
      "execution_count": 89,
      "outputs": [
        {
          "output_type": "execute_result",
          "data": {
            "text/plain": [
              "<tf.Tensor: shape=(), dtype=float32, numpy=0.9671384>"
            ]
          },
          "metadata": {},
          "execution_count": 89
        }
      ]
    },
    {
      "cell_type": "code",
      "source": [
        "# Find the max value of \"tensor\"\n",
        "tf.reduce_max(tensor)"
      ],
      "metadata": {
        "colab": {
          "base_uri": "https://localhost:8080/"
        },
        "id": "kPnmrzkID_Fa",
        "outputId": "f7f27944-eb94-496b-c2ee-e59bda778a3d"
      },
      "execution_count": 90,
      "outputs": [
        {
          "output_type": "execute_result",
          "data": {
            "text/plain": [
              "<tf.Tensor: shape=(), dtype=float32, numpy=0.9671384>"
            ]
          },
          "metadata": {},
          "execution_count": 90
        }
      ]
    },
    {
      "cell_type": "code",
      "source": [
        "tensor[tf.argmax(tensor)] == tf.reduce_max(tensor)"
      ],
      "metadata": {
        "colab": {
          "base_uri": "https://localhost:8080/"
        },
        "id": "uVZIsmIEEOcZ",
        "outputId": "012c53d1-8e28-4c50-a1c3-722e630b0c0f"
      },
      "execution_count": 91,
      "outputs": [
        {
          "output_type": "execute_result",
          "data": {
            "text/plain": [
              "<tf.Tensor: shape=(), dtype=bool, numpy=True>"
            ]
          },
          "metadata": {},
          "execution_count": 91
        }
      ]
    },
    {
      "cell_type": "code",
      "source": [
        "# Find positional minimum\n",
        "tf.argmin(tensor)"
      ],
      "metadata": {
        "colab": {
          "base_uri": "https://localhost:8080/"
        },
        "id": "hZ1_tuoNEgLp",
        "outputId": "51914c4c-570d-450b-9fc5-249a8f17a488"
      },
      "execution_count": 92,
      "outputs": [
        {
          "output_type": "execute_result",
          "data": {
            "text/plain": [
              "<tf.Tensor: shape=(), dtype=int64, numpy=16>"
            ]
          },
          "metadata": {},
          "execution_count": 92
        }
      ]
    },
    {
      "cell_type": "code",
      "source": [
        "# Find minimum using index\n",
        "tensor[tf.argmin(tensor)]"
      ],
      "metadata": {
        "colab": {
          "base_uri": "https://localhost:8080/"
        },
        "id": "JGsaokO3E72Z",
        "outputId": "7a013b96-5366-4e74-ae0a-1259ae836978"
      },
      "execution_count": 93,
      "outputs": [
        {
          "output_type": "execute_result",
          "data": {
            "text/plain": [
              "<tf.Tensor: shape=(), dtype=float32, numpy=0.009463668>"
            ]
          },
          "metadata": {},
          "execution_count": 93
        }
      ]
    },
    {
      "cell_type": "markdown",
      "source": [
        "### Squeezing a tensor (removing all single dimentions)"
      ],
      "metadata": {
        "id": "uScIlpe4FVu7"
      }
    },
    {
      "cell_type": "code",
      "source": [
        "tf.random.set_seed(42)\n",
        "tensor = tf.constant(tf.random.uniform([50]), shape=(1,1,1,1,50))\n",
        "tensor"
      ],
      "metadata": {
        "colab": {
          "base_uri": "https://localhost:8080/"
        },
        "id": "WiipBsdiFE_p",
        "outputId": "8f4085b2-2267-4fcd-8775-d772f1e8f409"
      },
      "execution_count": 94,
      "outputs": [
        {
          "output_type": "execute_result",
          "data": {
            "text/plain": [
              "<tf.Tensor: shape=(1, 1, 1, 1, 50), dtype=float32, numpy=\n",
              "array([[[[[0.6645621 , 0.44100678, 0.3528825 , 0.46448255, 0.03366041,\n",
              "           0.68467236, 0.74011743, 0.8724445 , 0.22632635, 0.22319686,\n",
              "           0.3103881 , 0.7223358 , 0.13318717, 0.5480639 , 0.5746088 ,\n",
              "           0.8996835 , 0.00946367, 0.5212307 , 0.6345445 , 0.1993283 ,\n",
              "           0.72942245, 0.54583454, 0.10756552, 0.6767061 , 0.6602763 ,\n",
              "           0.33695042, 0.60141766, 0.21062577, 0.8527372 , 0.44062173,\n",
              "           0.9485276 , 0.23752594, 0.81179297, 0.5263394 , 0.494308  ,\n",
              "           0.21612847, 0.8457197 , 0.8718841 , 0.3083862 , 0.6868038 ,\n",
              "           0.23764038, 0.7817228 , 0.9671384 , 0.06870162, 0.79873943,\n",
              "           0.66028714, 0.5871513 , 0.16461694, 0.7381023 , 0.32054043]]]]],\n",
              "      dtype=float32)>"
            ]
          },
          "metadata": {},
          "execution_count": 94
        }
      ]
    },
    {
      "cell_type": "code",
      "source": [
        "tensor.shape"
      ],
      "metadata": {
        "colab": {
          "base_uri": "https://localhost:8080/"
        },
        "id": "t3cstu_eF1Zk",
        "outputId": "a24c0268-a884-4c21-d364-7e327cd9290f"
      },
      "execution_count": 95,
      "outputs": [
        {
          "output_type": "execute_result",
          "data": {
            "text/plain": [
              "TensorShape([1, 1, 1, 1, 50])"
            ]
          },
          "metadata": {},
          "execution_count": 95
        }
      ]
    },
    {
      "cell_type": "code",
      "source": [
        "squeezed_tensor = tf.squeeze(tensor)\n",
        "squeezed_tensor, squeezed_tensor.shape"
      ],
      "metadata": {
        "colab": {
          "base_uri": "https://localhost:8080/"
        },
        "id": "-kzaFOeSGI24",
        "outputId": "2576db4a-e900-4aa0-9fb6-87df3e0c3e65"
      },
      "execution_count": 96,
      "outputs": [
        {
          "output_type": "execute_result",
          "data": {
            "text/plain": [
              "(<tf.Tensor: shape=(50,), dtype=float32, numpy=\n",
              " array([0.6645621 , 0.44100678, 0.3528825 , 0.46448255, 0.03366041,\n",
              "        0.68467236, 0.74011743, 0.8724445 , 0.22632635, 0.22319686,\n",
              "        0.3103881 , 0.7223358 , 0.13318717, 0.5480639 , 0.5746088 ,\n",
              "        0.8996835 , 0.00946367, 0.5212307 , 0.6345445 , 0.1993283 ,\n",
              "        0.72942245, 0.54583454, 0.10756552, 0.6767061 , 0.6602763 ,\n",
              "        0.33695042, 0.60141766, 0.21062577, 0.8527372 , 0.44062173,\n",
              "        0.9485276 , 0.23752594, 0.81179297, 0.5263394 , 0.494308  ,\n",
              "        0.21612847, 0.8457197 , 0.8718841 , 0.3083862 , 0.6868038 ,\n",
              "        0.23764038, 0.7817228 , 0.9671384 , 0.06870162, 0.79873943,\n",
              "        0.66028714, 0.5871513 , 0.16461694, 0.7381023 , 0.32054043],\n",
              "       dtype=float32)>,\n",
              " TensorShape([50]))"
            ]
          },
          "metadata": {},
          "execution_count": 96
        }
      ]
    },
    {
      "cell_type": "markdown",
      "source": [
        "### One-hot encoding tensors"
      ],
      "metadata": {
        "id": "dv2RkWtIHpgi"
      }
    },
    {
      "cell_type": "code",
      "source": [
        "some_list = [0, 1, 2, 3] # representation of some colors\n",
        "\n",
        "tf.one_hot(some_list, depth=4)"
      ],
      "metadata": {
        "colab": {
          "base_uri": "https://localhost:8080/"
        },
        "id": "dNepdjeVGQqZ",
        "outputId": "dc049d62-ca73-49de-de70-4893052f5d3c"
      },
      "execution_count": 97,
      "outputs": [
        {
          "output_type": "execute_result",
          "data": {
            "text/plain": [
              "<tf.Tensor: shape=(4, 4), dtype=float32, numpy=\n",
              "array([[1., 0., 0., 0.],\n",
              "       [0., 1., 0., 0.],\n",
              "       [0., 0., 1., 0.],\n",
              "       [0., 0., 0., 1.]], dtype=float32)>"
            ]
          },
          "metadata": {},
          "execution_count": 97
        }
      ]
    },
    {
      "cell_type": "markdown",
      "source": [
        "### Squaring, log, square root"
      ],
      "metadata": {
        "id": "Kf1AP1erI8iS"
      }
    },
    {
      "cell_type": "code",
      "source": [
        "tensor = tf.range(1, 10)\n",
        "tensor"
      ],
      "metadata": {
        "colab": {
          "base_uri": "https://localhost:8080/"
        },
        "id": "JULdBMUAH5Rt",
        "outputId": "7372da45-bfa4-4bb0-b257-f128cce2366f"
      },
      "execution_count": 98,
      "outputs": [
        {
          "output_type": "execute_result",
          "data": {
            "text/plain": [
              "<tf.Tensor: shape=(9,), dtype=int32, numpy=array([1, 2, 3, 4, 5, 6, 7, 8, 9], dtype=int32)>"
            ]
          },
          "metadata": {},
          "execution_count": 98
        }
      ]
    },
    {
      "cell_type": "code",
      "source": [
        "tensor ** 2"
      ],
      "metadata": {
        "colab": {
          "base_uri": "https://localhost:8080/"
        },
        "id": "7IM3AhBDIstY",
        "outputId": "cdd123cd-a9be-497d-94f5-e33969249bf3"
      },
      "execution_count": 99,
      "outputs": [
        {
          "output_type": "execute_result",
          "data": {
            "text/plain": [
              "<tf.Tensor: shape=(9,), dtype=int32, numpy=array([ 1,  4,  9, 16, 25, 36, 49, 64, 81], dtype=int32)>"
            ]
          },
          "metadata": {},
          "execution_count": 99
        }
      ]
    },
    {
      "cell_type": "code",
      "source": [
        "# degree of 2\n",
        "tf.square(tensor)"
      ],
      "metadata": {
        "colab": {
          "base_uri": "https://localhost:8080/"
        },
        "id": "mvqLdrjLJbH3",
        "outputId": "1fe507a3-3511-4d8f-9d4c-a8bcf099328d"
      },
      "execution_count": 100,
      "outputs": [
        {
          "output_type": "execute_result",
          "data": {
            "text/plain": [
              "<tf.Tensor: shape=(9,), dtype=int32, numpy=array([ 1,  4,  9, 16, 25, 36, 49, 64, 81], dtype=int32)>"
            ]
          },
          "metadata": {},
          "execution_count": 100
        }
      ]
    },
    {
      "cell_type": "code",
      "source": [
        "# sqrt\n",
        "tf.sqrt(tf.cast(tensor, tf.float16))"
      ],
      "metadata": {
        "colab": {
          "base_uri": "https://localhost:8080/"
        },
        "id": "oh2JKs6wJdbX",
        "outputId": "e90aba21-26ff-472b-99ea-6f0a4d6b893d"
      },
      "execution_count": 101,
      "outputs": [
        {
          "output_type": "execute_result",
          "data": {
            "text/plain": [
              "<tf.Tensor: shape=(9,), dtype=float16, numpy=\n",
              "array([1.   , 1.414, 1.732, 2.   , 2.236, 2.45 , 2.646, 2.828, 3.   ],\n",
              "      dtype=float16)>"
            ]
          },
          "metadata": {},
          "execution_count": 101
        }
      ]
    },
    {
      "cell_type": "code",
      "source": [
        "# log\n",
        "tf.math.log(tf.cast(tensor, tf.float16))"
      ],
      "metadata": {
        "colab": {
          "base_uri": "https://localhost:8080/"
        },
        "id": "M6tCq3IRJsb_",
        "outputId": "d5875994-2a16-409f-93a5-2b75f6205aa8"
      },
      "execution_count": 102,
      "outputs": [
        {
          "output_type": "execute_result",
          "data": {
            "text/plain": [
              "<tf.Tensor: shape=(9,), dtype=float16, numpy=\n",
              "array([0.    , 0.6934, 1.099 , 1.387 , 1.609 , 1.792 , 1.946 , 2.08  ,\n",
              "       2.197 ], dtype=float16)>"
            ]
          },
          "metadata": {},
          "execution_count": 102
        }
      ]
    },
    {
      "cell_type": "markdown",
      "source": [
        "### Tensors and NumPy"
      ],
      "metadata": {
        "id": "okqwRHQOKoYx"
      }
    },
    {
      "cell_type": "code",
      "source": [
        "tensor_np = tf.constant(np.array([3., 7., 10.]))\n",
        "tensor_np"
      ],
      "metadata": {
        "colab": {
          "base_uri": "https://localhost:8080/"
        },
        "id": "fLMCD9c8KSSv",
        "outputId": "a38134a2-34c7-4ab9-aed6-b86c8c71f3a9"
      },
      "execution_count": 103,
      "outputs": [
        {
          "output_type": "execute_result",
          "data": {
            "text/plain": [
              "<tf.Tensor: shape=(3,), dtype=float64, numpy=array([ 3.,  7., 10.])>"
            ]
          },
          "metadata": {},
          "execution_count": 103
        }
      ]
    },
    {
      "cell_type": "code",
      "source": [
        "# Convert tensor to NumPy array\n",
        "np.array(tensor_np), type(np.array(tensor_np))"
      ],
      "metadata": {
        "colab": {
          "base_uri": "https://localhost:8080/"
        },
        "id": "62tAPq8JLK-H",
        "outputId": "e18e24c9-4e6c-4afc-86fe-763881782eb3"
      },
      "execution_count": 104,
      "outputs": [
        {
          "output_type": "execute_result",
          "data": {
            "text/plain": [
              "(array([ 3.,  7., 10.]), numpy.ndarray)"
            ]
          },
          "metadata": {},
          "execution_count": 104
        }
      ]
    },
    {
      "cell_type": "code",
      "source": [
        "# Convert tensor using method\n",
        "tensor_np.numpy(), type(tensor_np.numpy())"
      ],
      "metadata": {
        "colab": {
          "base_uri": "https://localhost:8080/"
        },
        "id": "dCAjpagTLWF-",
        "outputId": "1f6793bf-bb17-4164-b2f5-091b1c150138"
      },
      "execution_count": 105,
      "outputs": [
        {
          "output_type": "execute_result",
          "data": {
            "text/plain": [
              "(array([ 3.,  7., 10.]), numpy.ndarray)"
            ]
          },
          "metadata": {},
          "execution_count": 105
        }
      ]
    },
    {
      "cell_type": "code",
      "source": [
        "tensor_np.numpy()[0]"
      ],
      "metadata": {
        "colab": {
          "base_uri": "https://localhost:8080/"
        },
        "id": "JcQ8rzvGLqDm",
        "outputId": "e481aa00-850c-463d-d080-6f3622a4d7c1"
      },
      "execution_count": 106,
      "outputs": [
        {
          "output_type": "execute_result",
          "data": {
            "text/plain": [
              "3.0"
            ]
          },
          "metadata": {},
          "execution_count": 106
        }
      ]
    },
    {
      "cell_type": "code",
      "source": [
        "# Default dtypes are different\n",
        "numpy_tensor = tf.constant(np.array([3., 7., 10.]))\n",
        "tensor = tf.constant([3., 7., 10.])\n",
        "\n",
        "numpy_tensor.dtype, tensor.dtype"
      ],
      "metadata": {
        "colab": {
          "base_uri": "https://localhost:8080/"
        },
        "id": "WrYGKrL2L7PX",
        "outputId": "9bb03b43-ffa7-4180-bbe5-2b04e9a6485a"
      },
      "execution_count": 107,
      "outputs": [
        {
          "output_type": "execute_result",
          "data": {
            "text/plain": [
              "(tf.float64, tf.float32)"
            ]
          },
          "metadata": {},
          "execution_count": 107
        }
      ]
    },
    {
      "cell_type": "markdown",
      "source": [
        "### Access to GPU"
      ],
      "metadata": {
        "id": "B-IW5OV-NzSg"
      }
    },
    {
      "cell_type": "code",
      "source": [
        "import tensorflow as tf\n",
        "\n",
        "tf.config.list_physical_devices()"
      ],
      "metadata": {
        "colab": {
          "base_uri": "https://localhost:8080/"
        },
        "id": "RoWAMIDXMn4O",
        "outputId": "c9216d34-550c-4886-ce4c-1e4e105c4e8a"
      },
      "execution_count": 108,
      "outputs": [
        {
          "output_type": "execute_result",
          "data": {
            "text/plain": [
              "[PhysicalDevice(name='/physical_device:CPU:0', device_type='CPU'),\n",
              " PhysicalDevice(name='/physical_device:GPU:0', device_type='GPU')]"
            ]
          },
          "metadata": {},
          "execution_count": 108
        }
      ]
    },
    {
      "cell_type": "code",
      "source": [
        "!nvidia-smi"
      ],
      "metadata": {
        "colab": {
          "base_uri": "https://localhost:8080/"
        },
        "id": "177XQCg9N5an",
        "outputId": "d510c3db-2e81-470b-c3d6-09ee39d7cd46"
      },
      "execution_count": 109,
      "outputs": [
        {
          "output_type": "stream",
          "name": "stdout",
          "text": [
            "Tue Jan 21 18:43:20 2025       \n",
            "+---------------------------------------------------------------------------------------+\n",
            "| NVIDIA-SMI 535.104.05             Driver Version: 535.104.05   CUDA Version: 12.2     |\n",
            "|-----------------------------------------+----------------------+----------------------+\n",
            "| GPU  Name                 Persistence-M | Bus-Id        Disp.A | Volatile Uncorr. ECC |\n",
            "| Fan  Temp   Perf          Pwr:Usage/Cap |         Memory-Usage | GPU-Util  Compute M. |\n",
            "|                                         |                      |               MIG M. |\n",
            "|=========================================+======================+======================|\n",
            "|   0  Tesla T4                       Off | 00000000:00:04.0 Off |                    0 |\n",
            "| N/A   54C    P0              29W /  70W |    107MiB / 15360MiB |      0%      Default |\n",
            "|                                         |                      |                  N/A |\n",
            "+-----------------------------------------+----------------------+----------------------+\n",
            "                                                                                         \n",
            "+---------------------------------------------------------------------------------------+\n",
            "| Processes:                                                                            |\n",
            "|  GPU   GI   CI        PID   Type   Process name                            GPU Memory |\n",
            "|        ID   ID                                                             Usage      |\n",
            "|=======================================================================================|\n",
            "+---------------------------------------------------------------------------------------+\n"
          ]
        }
      ]
    },
    {
      "cell_type": "markdown",
      "source": [
        "### **Exercises**"
      ],
      "metadata": {
        "id": "lGmIu5exLiiu"
      }
    },
    {
      "cell_type": "markdown",
      "source": [
        "![image.png](data:image/png;base64,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)"
      ],
      "metadata": {
        "id": "aweUh3vRLeU-"
      }
    },
    {
      "cell_type": "markdown",
      "source": [
        "**Create a vector, scalar, matrix and tensor with values of your choosing using tf.constant().**"
      ],
      "metadata": {
        "id": "KNMxU9r2NH0e"
      }
    },
    {
      "cell_type": "code",
      "source": [
        "scalar = tf.constant(1)\n",
        "scalar"
      ],
      "metadata": {
        "id": "3Kur5sXPP-Hl",
        "colab": {
          "base_uri": "https://localhost:8080/"
        },
        "outputId": "50afc540-7a7d-4d3c-e2cc-1cc3a917adc8"
      },
      "execution_count": 110,
      "outputs": [
        {
          "output_type": "execute_result",
          "data": {
            "text/plain": [
              "<tf.Tensor: shape=(), dtype=int32, numpy=1>"
            ]
          },
          "metadata": {},
          "execution_count": 110
        }
      ]
    },
    {
      "cell_type": "code",
      "source": [
        "vector = tf.constant([1,2])\n",
        "vector"
      ],
      "metadata": {
        "colab": {
          "base_uri": "https://localhost:8080/"
        },
        "id": "mLk9-knSMaWW",
        "outputId": "986eab7a-3425-4461-fd6d-b090fd872e3a"
      },
      "execution_count": 111,
      "outputs": [
        {
          "output_type": "execute_result",
          "data": {
            "text/plain": [
              "<tf.Tensor: shape=(2,), dtype=int32, numpy=array([1, 2], dtype=int32)>"
            ]
          },
          "metadata": {},
          "execution_count": 111
        }
      ]
    },
    {
      "cell_type": "code",
      "source": [
        "matrix = tf.constant([[1,2], [3,4]])\n",
        "matrix"
      ],
      "metadata": {
        "colab": {
          "base_uri": "https://localhost:8080/"
        },
        "id": "GR21rtk6MeQm",
        "outputId": "0f5b0e29-5c64-4654-e9d8-c1bb70f34cf4"
      },
      "execution_count": 112,
      "outputs": [
        {
          "output_type": "execute_result",
          "data": {
            "text/plain": [
              "<tf.Tensor: shape=(2, 2), dtype=int32, numpy=\n",
              "array([[1, 2],\n",
              "       [3, 4]], dtype=int32)>"
            ]
          },
          "metadata": {},
          "execution_count": 112
        }
      ]
    },
    {
      "cell_type": "code",
      "source": [
        "tensor = tf.constant([[[1,2], [3,4]], [[5,6], [7, 8.]]])\n",
        "tensor"
      ],
      "metadata": {
        "colab": {
          "base_uri": "https://localhost:8080/"
        },
        "id": "zKQPOYG9Mk5u",
        "outputId": "669b411b-5b4f-467d-90a4-4685b1734e0f"
      },
      "execution_count": 113,
      "outputs": [
        {
          "output_type": "execute_result",
          "data": {
            "text/plain": [
              "<tf.Tensor: shape=(2, 2, 2), dtype=float32, numpy=\n",
              "array([[[1., 2.],\n",
              "        [3., 4.]],\n",
              "\n",
              "       [[5., 6.],\n",
              "        [7., 8.]]], dtype=float32)>"
            ]
          },
          "metadata": {},
          "execution_count": 113
        }
      ]
    },
    {
      "cell_type": "markdown",
      "source": [
        "**Find the shape, rank and size of the tensors you created in 1.**"
      ],
      "metadata": {
        "id": "7jGQJOdCNPhu"
      }
    },
    {
      "cell_type": "code",
      "source": [
        "tensor.shape, tensor.ndim, tf.size(tensor)"
      ],
      "metadata": {
        "colab": {
          "base_uri": "https://localhost:8080/"
        },
        "id": "YJ5jthmrMv7W",
        "outputId": "e35c67d7-49a2-4621-cad2-df4c52a45d9b"
      },
      "execution_count": 114,
      "outputs": [
        {
          "output_type": "execute_result",
          "data": {
            "text/plain": [
              "(TensorShape([2, 2, 2]), 3, <tf.Tensor: shape=(), dtype=int32, numpy=8>)"
            ]
          },
          "metadata": {},
          "execution_count": 114
        }
      ]
    },
    {
      "cell_type": "markdown",
      "source": [
        "**Create two tensors containing random values between 0 and 1 with shape [5, 300].**"
      ],
      "metadata": {
        "id": "fFWGf4k2NKdd"
      }
    },
    {
      "cell_type": "code",
      "source": [
        "random_tensor_1 = tf.random.uniform([5, 300], 0, 1)\n",
        "random_tensor_2 = tf.random.uniform([5, 300], 0, 1)\n",
        "random_tensor_1, random_tensor_2"
      ],
      "metadata": {
        "colab": {
          "base_uri": "https://localhost:8080/"
        },
        "id": "4wYTzxeWM479",
        "outputId": "af536e3e-bccf-4dd6-d296-652924c6a945"
      },
      "execution_count": 116,
      "outputs": [
        {
          "output_type": "execute_result",
          "data": {
            "text/plain": [
              "(<tf.Tensor: shape=(5, 300), dtype=float32, numpy=\n",
              " array([[0.7413678 , 0.62854624, 0.01738465, ..., 0.4851334 , 0.21059811,\n",
              "         0.25082767],\n",
              "        [0.10842848, 0.48783147, 0.8240961 , ..., 0.9204427 , 0.36046863,\n",
              "         0.28176582],\n",
              "        [0.7326695 , 0.46489418, 0.13622475, ..., 0.28130388, 0.63987684,\n",
              "         0.9987265 ],\n",
              "        [0.01447165, 0.7845044 , 0.33475304, ..., 0.56194997, 0.0209924 ,\n",
              "         0.1740731 ],\n",
              "        [0.90936875, 0.19861352, 0.9481231 , ..., 0.3573054 , 0.13161755,\n",
              "         0.22565222]], dtype=float32)>,\n",
              " <tf.Tensor: shape=(5, 300), dtype=float32, numpy=\n",
              " array([[0.7402308 , 0.33938193, 0.5692506 , ..., 0.08656633, 0.19666708,\n",
              "         0.7110305 ],\n",
              "        [0.13257599, 0.81292987, 0.01284087, ..., 0.02695906, 0.2927854 ,\n",
              "         0.06227863],\n",
              "        [0.282601  , 0.47868013, 0.77569485, ..., 0.28239357, 0.632112  ,\n",
              "         0.44452012],\n",
              "        [0.02029276, 0.7841259 , 0.16919017, ..., 0.26143157, 0.43055534,\n",
              "         0.47421408],\n",
              "        [0.2616079 , 0.00913954, 0.20257103, ..., 0.3548187 , 0.9939178 ,\n",
              "         0.35239196]], dtype=float32)>)"
            ]
          },
          "metadata": {},
          "execution_count": 116
        }
      ]
    },
    {
      "cell_type": "markdown",
      "source": [
        "**Multiply the two tensors you created in 3 using matrix multiplication.**"
      ],
      "metadata": {
        "id": "ZYliz0dVN2iN"
      }
    },
    {
      "cell_type": "code",
      "source": [
        "random_tensor_1 * random_tensor_2"
      ],
      "metadata": {
        "colab": {
          "base_uri": "https://localhost:8080/"
        },
        "id": "G2od1iVhNu4l",
        "outputId": "48763209-0190-4ad5-c554-e9acb7de2154"
      },
      "execution_count": 119,
      "outputs": [
        {
          "output_type": "execute_result",
          "data": {
            "text/plain": [
              "<tf.Tensor: shape=(5, 300), dtype=float32, numpy=\n",
              "array([[5.48783302e-01, 2.13317230e-01, 9.89622157e-03, ...,\n",
              "        4.19962183e-02, 4.14177142e-02, 1.78346112e-01],\n",
              "       [1.43750124e-02, 3.96572769e-01, 1.05821081e-02, ...,\n",
              "        2.48142723e-02, 1.05539955e-01, 1.75479893e-02],\n",
              "       [2.07053125e-01, 2.22535610e-01, 1.05668835e-01, ...,\n",
              "        7.94384107e-02, 4.04473841e-01, 4.43954021e-01],\n",
              "       [2.93669698e-04, 6.15150273e-01, 5.66369221e-02, ...,\n",
              "        1.46911472e-01, 9.03838966e-03, 8.25479180e-02],\n",
              "       [2.37898037e-01, 1.81523582e-03, 1.92062274e-01, ...,\n",
              "        1.26778647e-01, 1.30817026e-01, 7.95180276e-02]], dtype=float32)>"
            ]
          },
          "metadata": {},
          "execution_count": 119
        }
      ]
    },
    {
      "cell_type": "markdown",
      "source": [
        "**Multiply the two tensors you created in 3 using dot product.**"
      ],
      "metadata": {
        "id": "8zKlTWqRONXd"
      }
    },
    {
      "cell_type": "code",
      "source": [
        "random_tensor_1 @ tf.transpose(random_tensor_2)"
      ],
      "metadata": {
        "colab": {
          "base_uri": "https://localhost:8080/"
        },
        "id": "R3Gy6P-MN_LN",
        "outputId": "399e9f2a-d8c5-4ffc-ab6b-a1d01bd7ccdc"
      },
      "execution_count": 120,
      "outputs": [
        {
          "output_type": "execute_result",
          "data": {
            "text/plain": [
              "<tf.Tensor: shape=(5, 5), dtype=float32, numpy=\n",
              "array([[72.63512 , 73.275154, 72.47875 , 73.89535 , 77.069084],\n",
              "       [76.148026, 77.387215, 76.156   , 78.4779  , 77.93585 ],\n",
              "       [74.06138 , 75.798744, 74.00404 , 74.954445, 74.857666],\n",
              "       [72.61861 , 77.07387 , 72.674484, 75.91608 , 73.15647 ],\n",
              "       [74.65548 , 76.221756, 75.43701 , 76.920525, 76.65762 ]],\n",
              "      dtype=float32)>"
            ]
          },
          "metadata": {},
          "execution_count": 120
        }
      ]
    },
    {
      "cell_type": "markdown",
      "source": [
        "**Create a tensor with random values between 0 and 1 with shape [224, 224, 3].**"
      ],
      "metadata": {
        "id": "8yIkyQfPOZct"
      }
    },
    {
      "cell_type": "code",
      "source": [
        "random_tensor_3 = tf.random.uniform((224, 224, 3), 0, 1)\n",
        "# random_tensor_3"
      ],
      "metadata": {
        "id": "40CiFG6MOTvN"
      },
      "execution_count": 123,
      "outputs": []
    },
    {
      "cell_type": "markdown",
      "source": [
        "**Find the min and max values of the tensor you created in 6 along the first axis.**"
      ],
      "metadata": {
        "id": "WAT-ImlNOsJ1"
      }
    },
    {
      "cell_type": "code",
      "source": [
        "tf.reduce_max(random_tensor_3)"
      ],
      "metadata": {
        "colab": {
          "base_uri": "https://localhost:8080/"
        },
        "id": "xF1L7hxjOiFl",
        "outputId": "3229fa6f-46ed-4996-c597-2cce880724cd"
      },
      "execution_count": 126,
      "outputs": [
        {
          "output_type": "execute_result",
          "data": {
            "text/plain": [
              "<tf.Tensor: shape=(), dtype=float32, numpy=0.99999976>"
            ]
          },
          "metadata": {},
          "execution_count": 126
        }
      ]
    },
    {
      "cell_type": "code",
      "source": [
        "tf.reduce_min(random_tensor_3)"
      ],
      "metadata": {
        "colab": {
          "base_uri": "https://localhost:8080/"
        },
        "id": "MhAOBBLsPDGN",
        "outputId": "1dcfb545-75fb-4602-df25-4f91b45afdb2"
      },
      "execution_count": 127,
      "outputs": [
        {
          "output_type": "execute_result",
          "data": {
            "text/plain": [
              "<tf.Tensor: shape=(), dtype=float32, numpy=3.2186508e-06>"
            ]
          },
          "metadata": {},
          "execution_count": 127
        }
      ]
    },
    {
      "cell_type": "markdown",
      "source": [
        "**Created a tensor with random values of shape [1, 224, 224, 3] then squeeze it to change the shape to [224, 224, 3].**"
      ],
      "metadata": {
        "id": "VPuk3sVLPuK9"
      }
    },
    {
      "cell_type": "code",
      "source": [
        "random_tensor_4 = tf.random.uniform((1, 224, 224, 3))\n",
        "# tf.squeeze(random_tensor_4)"
      ],
      "metadata": {
        "id": "HKqd71rNPl6V"
      },
      "execution_count": 129,
      "outputs": []
    },
    {
      "cell_type": "markdown",
      "source": [
        "**Create a tensor with shape [10] using your own choice of values, then find the index which has the maximum value.**"
      ],
      "metadata": {
        "id": "nRVikkEgQHmV"
      }
    },
    {
      "cell_type": "code",
      "source": [
        "random_tensor_5 = tf.random.uniform([10], 1, 10)\n",
        "random_tensor_5"
      ],
      "metadata": {
        "colab": {
          "base_uri": "https://localhost:8080/"
        },
        "id": "9H6KjAj_P_tk",
        "outputId": "f28aaa18-3bf4-44e5-836d-5654c2ab1796"
      },
      "execution_count": 136,
      "outputs": [
        {
          "output_type": "execute_result",
          "data": {
            "text/plain": [
              "<tf.Tensor: shape=(10,), dtype=float32, numpy=\n",
              "array([6.174435 , 2.7910538, 7.3344154, 1.4986924, 6.2961807, 5.887709 ,\n",
              "       9.266871 , 4.3430066, 8.609894 , 9.912686 ], dtype=float32)>"
            ]
          },
          "metadata": {},
          "execution_count": 136
        }
      ]
    },
    {
      "cell_type": "code",
      "source": [
        "tf.argmax(random_tensor_5)"
      ],
      "metadata": {
        "colab": {
          "base_uri": "https://localhost:8080/"
        },
        "id": "GfH4MPFPQYys",
        "outputId": "42cdf0b5-0c15-4596-da97-fdd85d7089e4"
      },
      "execution_count": 137,
      "outputs": [
        {
          "output_type": "execute_result",
          "data": {
            "text/plain": [
              "<tf.Tensor: shape=(), dtype=int64, numpy=9>"
            ]
          },
          "metadata": {},
          "execution_count": 137
        }
      ]
    },
    {
      "cell_type": "code",
      "source": [
        "random_tensor_5[tf.argmax(random_tensor_5)]"
      ],
      "metadata": {
        "colab": {
          "base_uri": "https://localhost:8080/"
        },
        "id": "f1oSuC9AQc2z",
        "outputId": "4867f342-b86c-43ed-bfb7-a978493df6c8"
      },
      "execution_count": 138,
      "outputs": [
        {
          "output_type": "execute_result",
          "data": {
            "text/plain": [
              "<tf.Tensor: shape=(), dtype=float32, numpy=9.912686>"
            ]
          },
          "metadata": {},
          "execution_count": 138
        }
      ]
    },
    {
      "cell_type": "markdown",
      "source": [
        "**One-hot encode the tensor you created in 9.**"
      ],
      "metadata": {
        "id": "IwcGTozQQndk"
      }
    },
    {
      "cell_type": "code",
      "source": [
        "casted_5 = tf.cast(random_tensor_5, tf.int8)\n",
        "casted_5"
      ],
      "metadata": {
        "colab": {
          "base_uri": "https://localhost:8080/"
        },
        "id": "53youiDKRKxk",
        "outputId": "5680c092-afc7-43c0-f774-4f2f26ee7257"
      },
      "execution_count": 143,
      "outputs": [
        {
          "output_type": "execute_result",
          "data": {
            "text/plain": [
              "<tf.Tensor: shape=(10,), dtype=int8, numpy=array([6, 2, 7, 1, 6, 5, 9, 4, 8, 9], dtype=int8)>"
            ]
          },
          "metadata": {},
          "execution_count": 143
        }
      ]
    },
    {
      "cell_type": "code",
      "source": [
        "tf.one_hot(casted_5, len(casted_5))"
      ],
      "metadata": {
        "colab": {
          "base_uri": "https://localhost:8080/"
        },
        "id": "K4iKTaQqQgbE",
        "outputId": "26175d87-cafe-4e34-d3ee-6183c5b2e307"
      },
      "execution_count": 142,
      "outputs": [
        {
          "output_type": "execute_result",
          "data": {
            "text/plain": [
              "<tf.Tensor: shape=(10, 10), dtype=float32, numpy=\n",
              "array([[0., 0., 0., 0., 0., 0., 1., 0., 0., 0.],\n",
              "       [0., 0., 1., 0., 0., 0., 0., 0., 0., 0.],\n",
              "       [0., 0., 0., 0., 0., 0., 0., 1., 0., 0.],\n",
              "       [0., 1., 0., 0., 0., 0., 0., 0., 0., 0.],\n",
              "       [0., 0., 0., 0., 0., 0., 1., 0., 0., 0.],\n",
              "       [0., 0., 0., 0., 0., 1., 0., 0., 0., 0.],\n",
              "       [0., 0., 0., 0., 0., 0., 0., 0., 0., 1.],\n",
              "       [0., 0., 0., 0., 1., 0., 0., 0., 0., 0.],\n",
              "       [0., 0., 0., 0., 0., 0., 0., 0., 1., 0.],\n",
              "       [0., 0., 0., 0., 0., 0., 0., 0., 0., 1.]], dtype=float32)>"
            ]
          },
          "metadata": {},
          "execution_count": 142
        }
      ]
    },
    {
      "cell_type": "code",
      "source": [
        "tf.keras.__version__"
      ],
      "metadata": {
        "colab": {
          "base_uri": "https://localhost:8080/",
          "height": 35
        },
        "id": "mdkyV3O5QzhE",
        "outputId": "022cc378-71b3-4699-b1e8-00eea739606f"
      },
      "execution_count": 144,
      "outputs": [
        {
          "output_type": "execute_result",
          "data": {
            "text/plain": [
              "'3.5.0'"
            ],
            "application/vnd.google.colaboratory.intrinsic+json": {
              "type": "string"
            }
          },
          "metadata": {},
          "execution_count": 144
        }
      ]
    },
    {
      "cell_type": "code",
      "source": [],
      "metadata": {
        "id": "cHbKRyRzRuWD"
      },
      "execution_count": null,
      "outputs": []
    }
  ]
}