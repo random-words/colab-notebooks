{
  "cells": [
    {
      "cell_type": "markdown",
      "metadata": {
        "id": "view-in-github",
        "colab_type": "text"
      },
      "source": [
        "<a href=\"https://colab.research.google.com/github/random-words/colab-notebooks/blob/main/06__transfer_learning_part_3_scaling_up.ipynb\" target=\"_parent\"><img src=\"https://colab.research.google.com/assets/colab-badge.svg\" alt=\"Open In Colab\"/></a>"
      ]
    },
    {
      "cell_type": "markdown",
      "metadata": {
        "id": "qS0RLmGym4xR"
      },
      "source": [
        "# Intro"
      ]
    },
    {
      "cell_type": "code",
      "execution_count": null,
      "metadata": {
        "colab": {
          "base_uri": "https://localhost:8080/"
        },
        "id": "6ggt96jNjtbJ",
        "outputId": "0a79c015-1978-44a4-8f36-08d6716e2a69"
      },
      "outputs": [
        {
          "output_type": "stream",
          "name": "stdout",
          "text": [
            "Tue Feb  4 23:16:34 2025       \n",
            "+-----------------------------------------------------------------------------------------+\n",
            "| NVIDIA-SMI 550.54.15              Driver Version: 550.54.15      CUDA Version: 12.4     |\n",
            "|-----------------------------------------+------------------------+----------------------+\n",
            "| GPU  Name                 Persistence-M | Bus-Id          Disp.A | Volatile Uncorr. ECC |\n",
            "| Fan  Temp   Perf          Pwr:Usage/Cap |           Memory-Usage | GPU-Util  Compute M. |\n",
            "|                                         |                        |               MIG M. |\n",
            "|=========================================+========================+======================|\n",
            "|   0  Tesla T4                       Off |   00000000:00:04.0 Off |                    0 |\n",
            "| N/A   50C    P8             10W /   70W |       0MiB /  15360MiB |      0%      Default |\n",
            "|                                         |                        |                  N/A |\n",
            "+-----------------------------------------+------------------------+----------------------+\n",
            "                                                                                         \n",
            "+-----------------------------------------------------------------------------------------+\n",
            "| Processes:                                                                              |\n",
            "|  GPU   GI   CI        PID   Type   Process name                              GPU Memory |\n",
            "|        ID   ID                                                               Usage      |\n",
            "|=========================================================================================|\n",
            "|  No running processes found                                                             |\n",
            "+-----------------------------------------------------------------------------------------+\n"
          ]
        }
      ],
      "source": [
        "!nvidia-smi"
      ]
    },
    {
      "cell_type": "code",
      "execution_count": null,
      "metadata": {
        "colab": {
          "base_uri": "https://localhost:8080/"
        },
        "id": "w_o2Rs_SmP1h",
        "outputId": "5b7c03cf-36e3-4bfb-a941-b6111032254f"
      },
      "outputs": [
        {
          "output_type": "stream",
          "name": "stdout",
          "text": [
            "--2025-02-05 00:33:33--  https://raw.githubusercontent.com/mrdbourke/tensorflow-deep-learning/refs/heads/main/extras/helper_functions.py\n",
            "Resolving raw.githubusercontent.com (raw.githubusercontent.com)... 185.199.108.133, 185.199.111.133, 185.199.109.133, ...\n",
            "Connecting to raw.githubusercontent.com (raw.githubusercontent.com)|185.199.108.133|:443... connected.\n",
            "HTTP request sent, awaiting response... 200 OK\n",
            "Length: 10246 (10K) [text/plain]\n",
            "Saving to: ‘helper_functions.py’\n",
            "\n",
            "helper_functions.py 100%[===================>]  10.01K  --.-KB/s    in 0s      \n",
            "\n",
            "2025-02-05 00:33:33 (24.4 MB/s) - ‘helper_functions.py’ saved [10246/10246]\n",
            "\n"
          ]
        }
      ],
      "source": [
        "# Download helper functions\n",
        "!wget https://raw.githubusercontent.com/mrdbourke/tensorflow-deep-learning/refs/heads/main/extras/helper_functions.py"
      ]
    },
    {
      "cell_type": "code",
      "execution_count": null,
      "metadata": {
        "id": "CSIhN7MkmgJo"
      },
      "outputs": [],
      "source": [
        "# import functions\n",
        "from helper_functions import create_tensorboard_callback, plot_loss_curves, unzip_data, compare_historys, walk_through_dir"
      ]
    },
    {
      "cell_type": "markdown",
      "metadata": {
        "id": "uqR0-zjNm1Wg"
      },
      "source": [
        "# 101 Food Classes"
      ]
    },
    {
      "cell_type": "code",
      "execution_count": null,
      "metadata": {
        "colab": {
          "base_uri": "https://localhost:8080/"
        },
        "id": "L4iHPH-hnAmg",
        "outputId": "0a78eab9-b9e9-46c8-cc8c-5d320e268a3c"
      },
      "outputs": [
        {
          "output_type": "stream",
          "name": "stdout",
          "text": [
            "--2025-02-04 23:16:40--  https://storage.googleapis.com/ztm_tf_course/food_vision/101_food_classes_10_percent.zip\n",
            "Resolving storage.googleapis.com (storage.googleapis.com)... 142.250.141.207, 74.125.137.207, 142.250.101.207, ...\n",
            "Connecting to storage.googleapis.com (storage.googleapis.com)|142.250.141.207|:443... connected.\n",
            "HTTP request sent, awaiting response... 200 OK\n",
            "Length: 1625420029 (1.5G) [application/zip]\n",
            "Saving to: ‘101_food_classes_10_percent.zip’\n",
            "\n",
            "101_food_classes_10 100%[===================>]   1.51G   141MB/s    in 16s     \n",
            "\n",
            "2025-02-04 23:16:56 (94.9 MB/s) - ‘101_food_classes_10_percent.zip’ saved [1625420029/1625420029]\n",
            "\n"
          ]
        }
      ],
      "source": [
        "!wget https://storage.googleapis.com/ztm_tf_course/food_vision/101_food_classes_10_percent.zip"
      ]
    },
    {
      "cell_type": "code",
      "execution_count": null,
      "metadata": {
        "id": "yKz0mfZWnLd4"
      },
      "outputs": [],
      "source": [
        "unzip_data(\"101_food_classes_10_percent.zip\")"
      ]
    },
    {
      "cell_type": "code",
      "execution_count": null,
      "metadata": {
        "id": "DgIFdLqYnO-w"
      },
      "outputs": [],
      "source": [
        "train_dir = \"101_food_classes_10_percent/train/\"\n",
        "test_dir = \"101_food_classes_10_percent/test/\""
      ]
    },
    {
      "cell_type": "code",
      "execution_count": null,
      "metadata": {
        "colab": {
          "base_uri": "https://localhost:8080/"
        },
        "id": "5lnbL2RInVsw",
        "outputId": "7e1d2fd7-8560-4eaf-fead-0cb61c4fa5b0"
      },
      "outputs": [
        {
          "output_type": "stream",
          "name": "stdout",
          "text": [
            "There are 2 directories and 0 images in '101_food_classes_10_percent'.\n",
            "There are 101 directories and 0 images in '101_food_classes_10_percent/test'.\n",
            "There are 0 directories and 250 images in '101_food_classes_10_percent/test/tuna_tartare'.\n",
            "There are 0 directories and 250 images in '101_food_classes_10_percent/test/foie_gras'.\n",
            "There are 0 directories and 250 images in '101_food_classes_10_percent/test/breakfast_burrito'.\n",
            "There are 0 directories and 250 images in '101_food_classes_10_percent/test/cannoli'.\n",
            "There are 0 directories and 250 images in '101_food_classes_10_percent/test/seaweed_salad'.\n",
            "There are 0 directories and 250 images in '101_food_classes_10_percent/test/french_onion_soup'.\n",
            "There are 0 directories and 250 images in '101_food_classes_10_percent/test/beef_tartare'.\n",
            "There are 0 directories and 250 images in '101_food_classes_10_percent/test/dumplings'.\n",
            "There are 0 directories and 250 images in '101_food_classes_10_percent/test/baklava'.\n",
            "There are 0 directories and 250 images in '101_food_classes_10_percent/test/clam_chowder'.\n",
            "There are 0 directories and 250 images in '101_food_classes_10_percent/test/grilled_salmon'.\n",
            "There are 0 directories and 250 images in '101_food_classes_10_percent/test/chicken_curry'.\n",
            "There are 0 directories and 250 images in '101_food_classes_10_percent/test/garlic_bread'.\n",
            "There are 0 directories and 250 images in '101_food_classes_10_percent/test/spaghetti_carbonara'.\n",
            "There are 0 directories and 250 images in '101_food_classes_10_percent/test/miso_soup'.\n",
            "There are 0 directories and 250 images in '101_food_classes_10_percent/test/fried_rice'.\n",
            "There are 0 directories and 250 images in '101_food_classes_10_percent/test/bread_pudding'.\n",
            "There are 0 directories and 250 images in '101_food_classes_10_percent/test/french_fries'.\n",
            "There are 0 directories and 250 images in '101_food_classes_10_percent/test/bibimbap'.\n",
            "There are 0 directories and 250 images in '101_food_classes_10_percent/test/hamburger'.\n",
            "There are 0 directories and 250 images in '101_food_classes_10_percent/test/gnocchi'.\n",
            "There are 0 directories and 250 images in '101_food_classes_10_percent/test/risotto'.\n",
            "There are 0 directories and 250 images in '101_food_classes_10_percent/test/fish_and_chips'.\n",
            "There are 0 directories and 250 images in '101_food_classes_10_percent/test/lasagna'.\n",
            "There are 0 directories and 250 images in '101_food_classes_10_percent/test/cheesecake'.\n",
            "There are 0 directories and 250 images in '101_food_classes_10_percent/test/chocolate_cake'.\n",
            "There are 0 directories and 250 images in '101_food_classes_10_percent/test/ravioli'.\n",
            "There are 0 directories and 250 images in '101_food_classes_10_percent/test/caesar_salad'.\n",
            "There are 0 directories and 250 images in '101_food_classes_10_percent/test/baby_back_ribs'.\n",
            "There are 0 directories and 250 images in '101_food_classes_10_percent/test/peking_duck'.\n",
            "There are 0 directories and 250 images in '101_food_classes_10_percent/test/churros'.\n",
            "There are 0 directories and 250 images in '101_food_classes_10_percent/test/lobster_bisque'.\n",
            "There are 0 directories and 250 images in '101_food_classes_10_percent/test/poutine'.\n",
            "There are 0 directories and 250 images in '101_food_classes_10_percent/test/scallops'.\n",
            "There are 0 directories and 250 images in '101_food_classes_10_percent/test/spring_rolls'.\n",
            "There are 0 directories and 250 images in '101_food_classes_10_percent/test/frozen_yogurt'.\n",
            "There are 0 directories and 250 images in '101_food_classes_10_percent/test/pork_chop'.\n",
            "There are 0 directories and 250 images in '101_food_classes_10_percent/test/onion_rings'.\n",
            "There are 0 directories and 250 images in '101_food_classes_10_percent/test/macaroni_and_cheese'.\n",
            "There are 0 directories and 250 images in '101_food_classes_10_percent/test/gyoza'.\n",
            "There are 0 directories and 250 images in '101_food_classes_10_percent/test/chicken_quesadilla'.\n",
            "There are 0 directories and 250 images in '101_food_classes_10_percent/test/greek_salad'.\n",
            "There are 0 directories and 250 images in '101_food_classes_10_percent/test/huevos_rancheros'.\n",
            "There are 0 directories and 250 images in '101_food_classes_10_percent/test/panna_cotta'.\n",
            "There are 0 directories and 250 images in '101_food_classes_10_percent/test/sashimi'.\n",
            "There are 0 directories and 250 images in '101_food_classes_10_percent/test/deviled_eggs'.\n",
            "There are 0 directories and 250 images in '101_food_classes_10_percent/test/pizza'.\n",
            "There are 0 directories and 250 images in '101_food_classes_10_percent/test/hot_and_sour_soup'.\n",
            "There are 0 directories and 250 images in '101_food_classes_10_percent/test/tacos'.\n",
            "There are 0 directories and 250 images in '101_food_classes_10_percent/test/tiramisu'.\n",
            "There are 0 directories and 250 images in '101_food_classes_10_percent/test/pulled_pork_sandwich'.\n",
            "There are 0 directories and 250 images in '101_food_classes_10_percent/test/escargots'.\n",
            "There are 0 directories and 250 images in '101_food_classes_10_percent/test/red_velvet_cake'.\n",
            "There are 0 directories and 250 images in '101_food_classes_10_percent/test/waffles'.\n",
            "There are 0 directories and 250 images in '101_food_classes_10_percent/test/hummus'.\n",
            "There are 0 directories and 250 images in '101_food_classes_10_percent/test/omelette'.\n",
            "There are 0 directories and 250 images in '101_food_classes_10_percent/test/lobster_roll_sandwich'.\n",
            "There are 0 directories and 250 images in '101_food_classes_10_percent/test/sushi'.\n",
            "There are 0 directories and 250 images in '101_food_classes_10_percent/test/ceviche'.\n",
            "There are 0 directories and 250 images in '101_food_classes_10_percent/test/bruschetta'.\n",
            "There are 0 directories and 250 images in '101_food_classes_10_percent/test/nachos'.\n",
            "There are 0 directories and 250 images in '101_food_classes_10_percent/test/takoyaki'.\n",
            "There are 0 directories and 250 images in '101_food_classes_10_percent/test/steak'.\n",
            "There are 0 directories and 250 images in '101_food_classes_10_percent/test/grilled_cheese_sandwich'.\n",
            "There are 0 directories and 250 images in '101_food_classes_10_percent/test/cup_cakes'.\n",
            "There are 0 directories and 250 images in '101_food_classes_10_percent/test/oysters'.\n",
            "There are 0 directories and 250 images in '101_food_classes_10_percent/test/crab_cakes'.\n",
            "There are 0 directories and 250 images in '101_food_classes_10_percent/test/chicken_wings'.\n",
            "There are 0 directories and 250 images in '101_food_classes_10_percent/test/pho'.\n",
            "There are 0 directories and 250 images in '101_food_classes_10_percent/test/beignets'.\n",
            "There are 0 directories and 250 images in '101_food_classes_10_percent/test/creme_brulee'.\n",
            "There are 0 directories and 250 images in '101_food_classes_10_percent/test/strawberry_shortcake'.\n",
            "There are 0 directories and 250 images in '101_food_classes_10_percent/test/club_sandwich'.\n",
            "There are 0 directories and 250 images in '101_food_classes_10_percent/test/spaghetti_bolognese'.\n",
            "There are 0 directories and 250 images in '101_food_classes_10_percent/test/french_toast'.\n",
            "There are 0 directories and 250 images in '101_food_classes_10_percent/test/filet_mignon'.\n",
            "There are 0 directories and 250 images in '101_food_classes_10_percent/test/chocolate_mousse'.\n",
            "There are 0 directories and 250 images in '101_food_classes_10_percent/test/carrot_cake'.\n",
            "There are 0 directories and 250 images in '101_food_classes_10_percent/test/pancakes'.\n",
            "There are 0 directories and 250 images in '101_food_classes_10_percent/test/guacamole'.\n",
            "There are 0 directories and 250 images in '101_food_classes_10_percent/test/prime_rib'.\n",
            "There are 0 directories and 250 images in '101_food_classes_10_percent/test/eggs_benedict'.\n",
            "There are 0 directories and 250 images in '101_food_classes_10_percent/test/pad_thai'.\n",
            "There are 0 directories and 250 images in '101_food_classes_10_percent/test/paella'.\n",
            "There are 0 directories and 250 images in '101_food_classes_10_percent/test/samosa'.\n",
            "There are 0 directories and 250 images in '101_food_classes_10_percent/test/beef_carpaccio'.\n",
            "There are 0 directories and 250 images in '101_food_classes_10_percent/test/donuts'.\n",
            "There are 0 directories and 250 images in '101_food_classes_10_percent/test/shrimp_and_grits'.\n",
            "There are 0 directories and 250 images in '101_food_classes_10_percent/test/croque_madame'.\n",
            "There are 0 directories and 250 images in '101_food_classes_10_percent/test/fried_calamari'.\n",
            "There are 0 directories and 250 images in '101_food_classes_10_percent/test/falafel'.\n",
            "There are 0 directories and 250 images in '101_food_classes_10_percent/test/caprese_salad'.\n",
            "There are 0 directories and 250 images in '101_food_classes_10_percent/test/hot_dog'.\n",
            "There are 0 directories and 250 images in '101_food_classes_10_percent/test/mussels'.\n",
            "There are 0 directories and 250 images in '101_food_classes_10_percent/test/ice_cream'.\n",
            "There are 0 directories and 250 images in '101_food_classes_10_percent/test/ramen'.\n",
            "There are 0 directories and 250 images in '101_food_classes_10_percent/test/beet_salad'.\n",
            "There are 0 directories and 250 images in '101_food_classes_10_percent/test/cheese_plate'.\n",
            "There are 0 directories and 250 images in '101_food_classes_10_percent/test/macarons'.\n",
            "There are 0 directories and 250 images in '101_food_classes_10_percent/test/apple_pie'.\n",
            "There are 0 directories and 250 images in '101_food_classes_10_percent/test/edamame'.\n",
            "There are 101 directories and 0 images in '101_food_classes_10_percent/train'.\n",
            "There are 0 directories and 75 images in '101_food_classes_10_percent/train/tuna_tartare'.\n",
            "There are 0 directories and 75 images in '101_food_classes_10_percent/train/foie_gras'.\n",
            "There are 0 directories and 75 images in '101_food_classes_10_percent/train/breakfast_burrito'.\n",
            "There are 0 directories and 75 images in '101_food_classes_10_percent/train/cannoli'.\n",
            "There are 0 directories and 75 images in '101_food_classes_10_percent/train/seaweed_salad'.\n",
            "There are 0 directories and 75 images in '101_food_classes_10_percent/train/french_onion_soup'.\n",
            "There are 0 directories and 75 images in '101_food_classes_10_percent/train/beef_tartare'.\n",
            "There are 0 directories and 75 images in '101_food_classes_10_percent/train/dumplings'.\n",
            "There are 0 directories and 75 images in '101_food_classes_10_percent/train/baklava'.\n",
            "There are 0 directories and 75 images in '101_food_classes_10_percent/train/clam_chowder'.\n",
            "There are 0 directories and 75 images in '101_food_classes_10_percent/train/grilled_salmon'.\n",
            "There are 0 directories and 75 images in '101_food_classes_10_percent/train/chicken_curry'.\n",
            "There are 0 directories and 75 images in '101_food_classes_10_percent/train/garlic_bread'.\n",
            "There are 0 directories and 75 images in '101_food_classes_10_percent/train/spaghetti_carbonara'.\n",
            "There are 0 directories and 75 images in '101_food_classes_10_percent/train/miso_soup'.\n",
            "There are 0 directories and 75 images in '101_food_classes_10_percent/train/fried_rice'.\n",
            "There are 0 directories and 75 images in '101_food_classes_10_percent/train/bread_pudding'.\n",
            "There are 0 directories and 75 images in '101_food_classes_10_percent/train/french_fries'.\n",
            "There are 0 directories and 75 images in '101_food_classes_10_percent/train/bibimbap'.\n",
            "There are 0 directories and 75 images in '101_food_classes_10_percent/train/hamburger'.\n",
            "There are 0 directories and 75 images in '101_food_classes_10_percent/train/gnocchi'.\n",
            "There are 0 directories and 75 images in '101_food_classes_10_percent/train/risotto'.\n",
            "There are 0 directories and 75 images in '101_food_classes_10_percent/train/fish_and_chips'.\n",
            "There are 0 directories and 75 images in '101_food_classes_10_percent/train/lasagna'.\n",
            "There are 0 directories and 75 images in '101_food_classes_10_percent/train/cheesecake'.\n",
            "There are 0 directories and 75 images in '101_food_classes_10_percent/train/chocolate_cake'.\n",
            "There are 0 directories and 75 images in '101_food_classes_10_percent/train/ravioli'.\n",
            "There are 0 directories and 75 images in '101_food_classes_10_percent/train/caesar_salad'.\n",
            "There are 0 directories and 75 images in '101_food_classes_10_percent/train/baby_back_ribs'.\n",
            "There are 0 directories and 75 images in '101_food_classes_10_percent/train/peking_duck'.\n",
            "There are 0 directories and 75 images in '101_food_classes_10_percent/train/churros'.\n",
            "There are 0 directories and 75 images in '101_food_classes_10_percent/train/lobster_bisque'.\n",
            "There are 0 directories and 75 images in '101_food_classes_10_percent/train/poutine'.\n",
            "There are 0 directories and 75 images in '101_food_classes_10_percent/train/scallops'.\n",
            "There are 0 directories and 75 images in '101_food_classes_10_percent/train/spring_rolls'.\n",
            "There are 0 directories and 75 images in '101_food_classes_10_percent/train/frozen_yogurt'.\n",
            "There are 0 directories and 75 images in '101_food_classes_10_percent/train/pork_chop'.\n",
            "There are 0 directories and 75 images in '101_food_classes_10_percent/train/onion_rings'.\n",
            "There are 0 directories and 75 images in '101_food_classes_10_percent/train/macaroni_and_cheese'.\n",
            "There are 0 directories and 75 images in '101_food_classes_10_percent/train/gyoza'.\n",
            "There are 0 directories and 75 images in '101_food_classes_10_percent/train/chicken_quesadilla'.\n",
            "There are 0 directories and 75 images in '101_food_classes_10_percent/train/greek_salad'.\n",
            "There are 0 directories and 75 images in '101_food_classes_10_percent/train/huevos_rancheros'.\n",
            "There are 0 directories and 75 images in '101_food_classes_10_percent/train/panna_cotta'.\n",
            "There are 0 directories and 75 images in '101_food_classes_10_percent/train/sashimi'.\n",
            "There are 0 directories and 75 images in '101_food_classes_10_percent/train/deviled_eggs'.\n",
            "There are 0 directories and 75 images in '101_food_classes_10_percent/train/pizza'.\n",
            "There are 0 directories and 75 images in '101_food_classes_10_percent/train/hot_and_sour_soup'.\n",
            "There are 0 directories and 75 images in '101_food_classes_10_percent/train/tacos'.\n",
            "There are 0 directories and 75 images in '101_food_classes_10_percent/train/tiramisu'.\n",
            "There are 0 directories and 75 images in '101_food_classes_10_percent/train/pulled_pork_sandwich'.\n",
            "There are 0 directories and 75 images in '101_food_classes_10_percent/train/escargots'.\n",
            "There are 0 directories and 75 images in '101_food_classes_10_percent/train/red_velvet_cake'.\n",
            "There are 0 directories and 75 images in '101_food_classes_10_percent/train/waffles'.\n",
            "There are 0 directories and 75 images in '101_food_classes_10_percent/train/hummus'.\n",
            "There are 0 directories and 75 images in '101_food_classes_10_percent/train/omelette'.\n",
            "There are 0 directories and 75 images in '101_food_classes_10_percent/train/lobster_roll_sandwich'.\n",
            "There are 0 directories and 75 images in '101_food_classes_10_percent/train/sushi'.\n",
            "There are 0 directories and 75 images in '101_food_classes_10_percent/train/ceviche'.\n",
            "There are 0 directories and 75 images in '101_food_classes_10_percent/train/bruschetta'.\n",
            "There are 0 directories and 75 images in '101_food_classes_10_percent/train/nachos'.\n",
            "There are 0 directories and 75 images in '101_food_classes_10_percent/train/takoyaki'.\n",
            "There are 0 directories and 75 images in '101_food_classes_10_percent/train/steak'.\n",
            "There are 0 directories and 75 images in '101_food_classes_10_percent/train/grilled_cheese_sandwich'.\n",
            "There are 0 directories and 75 images in '101_food_classes_10_percent/train/cup_cakes'.\n",
            "There are 0 directories and 75 images in '101_food_classes_10_percent/train/oysters'.\n",
            "There are 0 directories and 75 images in '101_food_classes_10_percent/train/crab_cakes'.\n",
            "There are 0 directories and 75 images in '101_food_classes_10_percent/train/chicken_wings'.\n",
            "There are 0 directories and 75 images in '101_food_classes_10_percent/train/pho'.\n",
            "There are 0 directories and 75 images in '101_food_classes_10_percent/train/beignets'.\n",
            "There are 0 directories and 75 images in '101_food_classes_10_percent/train/creme_brulee'.\n",
            "There are 0 directories and 75 images in '101_food_classes_10_percent/train/strawberry_shortcake'.\n",
            "There are 0 directories and 75 images in '101_food_classes_10_percent/train/club_sandwich'.\n",
            "There are 0 directories and 75 images in '101_food_classes_10_percent/train/spaghetti_bolognese'.\n",
            "There are 0 directories and 75 images in '101_food_classes_10_percent/train/french_toast'.\n",
            "There are 0 directories and 75 images in '101_food_classes_10_percent/train/filet_mignon'.\n",
            "There are 0 directories and 75 images in '101_food_classes_10_percent/train/chocolate_mousse'.\n",
            "There are 0 directories and 75 images in '101_food_classes_10_percent/train/carrot_cake'.\n",
            "There are 0 directories and 75 images in '101_food_classes_10_percent/train/pancakes'.\n",
            "There are 0 directories and 75 images in '101_food_classes_10_percent/train/guacamole'.\n",
            "There are 0 directories and 75 images in '101_food_classes_10_percent/train/prime_rib'.\n",
            "There are 0 directories and 75 images in '101_food_classes_10_percent/train/eggs_benedict'.\n",
            "There are 0 directories and 75 images in '101_food_classes_10_percent/train/pad_thai'.\n",
            "There are 0 directories and 75 images in '101_food_classes_10_percent/train/paella'.\n",
            "There are 0 directories and 75 images in '101_food_classes_10_percent/train/samosa'.\n",
            "There are 0 directories and 75 images in '101_food_classes_10_percent/train/beef_carpaccio'.\n",
            "There are 0 directories and 75 images in '101_food_classes_10_percent/train/donuts'.\n",
            "There are 0 directories and 75 images in '101_food_classes_10_percent/train/shrimp_and_grits'.\n",
            "There are 0 directories and 75 images in '101_food_classes_10_percent/train/croque_madame'.\n",
            "There are 0 directories and 75 images in '101_food_classes_10_percent/train/fried_calamari'.\n",
            "There are 0 directories and 75 images in '101_food_classes_10_percent/train/falafel'.\n",
            "There are 0 directories and 75 images in '101_food_classes_10_percent/train/caprese_salad'.\n",
            "There are 0 directories and 75 images in '101_food_classes_10_percent/train/hot_dog'.\n",
            "There are 0 directories and 75 images in '101_food_classes_10_percent/train/mussels'.\n",
            "There are 0 directories and 75 images in '101_food_classes_10_percent/train/ice_cream'.\n",
            "There are 0 directories and 75 images in '101_food_classes_10_percent/train/ramen'.\n",
            "There are 0 directories and 75 images in '101_food_classes_10_percent/train/beet_salad'.\n",
            "There are 0 directories and 75 images in '101_food_classes_10_percent/train/cheese_plate'.\n",
            "There are 0 directories and 75 images in '101_food_classes_10_percent/train/macarons'.\n",
            "There are 0 directories and 75 images in '101_food_classes_10_percent/train/apple_pie'.\n",
            "There are 0 directories and 75 images in '101_food_classes_10_percent/train/edamame'.\n"
          ]
        }
      ],
      "source": [
        "walk_through_dir(\"101_food_classes_10_percent\")"
      ]
    },
    {
      "cell_type": "code",
      "execution_count": null,
      "metadata": {
        "colab": {
          "base_uri": "https://localhost:8080/"
        },
        "id": "fIrSByqCngB4",
        "outputId": "dec581f1-c61b-4f9c-eb8e-f53828189b64"
      },
      "outputs": [
        {
          "output_type": "stream",
          "name": "stdout",
          "text": [
            "Found 7575 files belonging to 101 classes.\n",
            "Found 25250 files belonging to 101 classes.\n"
          ]
        }
      ],
      "source": [
        "# Setup data inputs\n",
        "import tensorflow as tf\n",
        "IMG_SIZE = (224, 224)\n",
        "\n",
        "train_data_all_10_percent = tf.keras.preprocessing.image_dataset_from_directory(train_dir,\n",
        "                                                                                image_size=IMG_SIZE,\n",
        "                                                                                label_mode=\"categorical\")\n",
        "test_data_all_10_percent = tf.keras.preprocessing.image_dataset_from_directory(test_dir,\n",
        "                                                                               image_size=IMG_SIZE,\n",
        "                                                                               label_mode=\"categorical\",\n",
        "                                                                               shuffle=False) # don't shuffle test data for pred analysis"
      ]
    },
    {
      "cell_type": "markdown",
      "metadata": {
        "id": "5A_w7T2ioNtx"
      },
      "source": [
        "## Training model"
      ]
    },
    {
      "cell_type": "code",
      "execution_count": null,
      "metadata": {
        "id": "W2Zb4IDMoxJK"
      },
      "outputs": [],
      "source": [
        "# Create checkpoint callback\n",
        "checkpoint_path = \"101_classes_10_percent_data_model_checkpoint.weights.h5\""
      ]
    },
    {
      "cell_type": "code",
      "execution_count": null,
      "metadata": {
        "id": "hBa8j25yqWxZ"
      },
      "outputs": [],
      "source": [
        "checkpoint_callback = tf.keras.callbacks.ModelCheckpoint(checkpoint_path,\n",
        "                                                         save_weights_only=True,\n",
        "                                                         monitor=\"val_accuracy\",\n",
        "                                                         save_best_only=True)"
      ]
    },
    {
      "cell_type": "code",
      "execution_count": null,
      "metadata": {
        "id": "Zg7GuSnequ1W"
      },
      "outputs": [],
      "source": [
        "# Create data augmentation layer\n",
        "from tensorflow.keras import layers\n",
        "from tensorflow.keras.models import Sequential\n",
        "\n",
        "data_augmentation = Sequential([\n",
        "    layers.RandomFlip(\"horizontal\"),\n",
        "    layers.RandomRotation(0.2),\n",
        "    layers.RandomHeight(0.2),\n",
        "    layers.RandomWidth(0.2),\n",
        "    layers.RandomZoom(0.2)\n",
        "    # layers.Rescaling(1/255.) # don't needed with our model\n",
        "], name=\"data_augmentation\")"
      ]
    },
    {
      "cell_type": "code",
      "execution_count": null,
      "metadata": {
        "colab": {
          "base_uri": "https://localhost:8080/"
        },
        "id": "R6RKu-0GrY7p",
        "outputId": "185437ac-15f1-4d50-80d7-0b4710f7d4a7"
      },
      "outputs": [
        {
          "output_type": "stream",
          "name": "stdout",
          "text": [
            "Downloading data from https://storage.googleapis.com/tensorflow/keras-applications/efficientnet_v2/efficientnetv2-b0_notop.h5\n",
            "\u001b[1m24274472/24274472\u001b[0m \u001b[32m━━━━━━━━━━━━━━━━━━━━\u001b[0m\u001b[37m\u001b[0m \u001b[1m0s\u001b[0m 0us/step\n"
          ]
        }
      ],
      "source": [
        "# Build model\n",
        "\n",
        "base_model = tf.keras.applications.EfficientNetV2B0(include_top=False) # backbone model\n",
        "base_model.trainable = False\n",
        "\n",
        "inputs = layers.Input(shape=IMG_SIZE+(3,), name=\"input_layer\")\n",
        "x = data_augmentation(inputs) # augment images (only on training phase)\n",
        "x = base_model(x, training=False)\n",
        "x = layers.GlobalAveragePooling2D()(x) # compress data tensors into feature vector\n",
        "outputs = layers.Dense(len(train_data_all_10_percent.class_names), activation=\"softmax\",\n",
        "                       name=\"output_layer\")(x)\n",
        "\n",
        "model = tf.keras.Model(inputs, outputs)"
      ]
    },
    {
      "cell_type": "code",
      "execution_count": null,
      "metadata": {
        "colab": {
          "base_uri": "https://localhost:8080/",
          "height": 305
        },
        "id": "_fZ14rPgvu8T",
        "outputId": "d7b413d9-9860-4235-e672-5be3264f930d"
      },
      "outputs": [
        {
          "output_type": "display_data",
          "data": {
            "text/plain": [
              "\u001b[1mModel: \"functional_1\"\u001b[0m\n"
            ],
            "text/html": [
              "<pre style=\"white-space:pre;overflow-x:auto;line-height:normal;font-family:Menlo,'DejaVu Sans Mono',consolas,'Courier New',monospace\"><span style=\"font-weight: bold\">Model: \"functional_1\"</span>\n",
              "</pre>\n"
            ]
          },
          "metadata": {}
        },
        {
          "output_type": "display_data",
          "data": {
            "text/plain": [
              "┏━━━━━━━━━━━━━━━━━━━━━━━━━━━━━━━━━━━━━━┳━━━━━━━━━━━━━━━━━━━━━━━━━━━━━┳━━━━━━━━━━━━━━━━━┓\n",
              "┃\u001b[1m \u001b[0m\u001b[1mLayer (type)                        \u001b[0m\u001b[1m \u001b[0m┃\u001b[1m \u001b[0m\u001b[1mOutput Shape               \u001b[0m\u001b[1m \u001b[0m┃\u001b[1m \u001b[0m\u001b[1m        Param #\u001b[0m\u001b[1m \u001b[0m┃\n",
              "┡━━━━━━━━━━━━━━━━━━━━━━━━━━━━━━━━━━━━━━╇━━━━━━━━━━━━━━━━━━━━━━━━━━━━━╇━━━━━━━━━━━━━━━━━┩\n",
              "│ input_layer (\u001b[38;5;33mInputLayer\u001b[0m)             │ (\u001b[38;5;45mNone\u001b[0m, \u001b[38;5;34m224\u001b[0m, \u001b[38;5;34m224\u001b[0m, \u001b[38;5;34m3\u001b[0m)         │               \u001b[38;5;34m0\u001b[0m │\n",
              "├──────────────────────────────────────┼─────────────────────────────┼─────────────────┤\n",
              "│ data_augmentation (\u001b[38;5;33mSequential\u001b[0m)       │ (\u001b[38;5;45mNone\u001b[0m, \u001b[38;5;45mNone\u001b[0m, \u001b[38;5;45mNone\u001b[0m, \u001b[38;5;34m3\u001b[0m)       │               \u001b[38;5;34m0\u001b[0m │\n",
              "├──────────────────────────────────────┼─────────────────────────────┼─────────────────┤\n",
              "│ efficientnetv2-b0 (\u001b[38;5;33mFunctional\u001b[0m)       │ (\u001b[38;5;45mNone\u001b[0m, \u001b[38;5;45mNone\u001b[0m, \u001b[38;5;45mNone\u001b[0m, \u001b[38;5;34m1280\u001b[0m)    │       \u001b[38;5;34m5,919,312\u001b[0m │\n",
              "├──────────────────────────────────────┼─────────────────────────────┼─────────────────┤\n",
              "│ global_average_pooling2d             │ (\u001b[38;5;45mNone\u001b[0m, \u001b[38;5;34m1280\u001b[0m)                │               \u001b[38;5;34m0\u001b[0m │\n",
              "│ (\u001b[38;5;33mGlobalAveragePooling2D\u001b[0m)             │                             │                 │\n",
              "├──────────────────────────────────────┼─────────────────────────────┼─────────────────┤\n",
              "│ output_layer (\u001b[38;5;33mDense\u001b[0m)                 │ (\u001b[38;5;45mNone\u001b[0m, \u001b[38;5;34m101\u001b[0m)                 │         \u001b[38;5;34m129,381\u001b[0m │\n",
              "└──────────────────────────────────────┴─────────────────────────────┴─────────────────┘\n"
            ],
            "text/html": [
              "<pre style=\"white-space:pre;overflow-x:auto;line-height:normal;font-family:Menlo,'DejaVu Sans Mono',consolas,'Courier New',monospace\">┏━━━━━━━━━━━━━━━━━━━━━━━━━━━━━━━━━━━━━━┳━━━━━━━━━━━━━━━━━━━━━━━━━━━━━┳━━━━━━━━━━━━━━━━━┓\n",
              "┃<span style=\"font-weight: bold\"> Layer (type)                         </span>┃<span style=\"font-weight: bold\"> Output Shape                </span>┃<span style=\"font-weight: bold\">         Param # </span>┃\n",
              "┡━━━━━━━━━━━━━━━━━━━━━━━━━━━━━━━━━━━━━━╇━━━━━━━━━━━━━━━━━━━━━━━━━━━━━╇━━━━━━━━━━━━━━━━━┩\n",
              "│ input_layer (<span style=\"color: #0087ff; text-decoration-color: #0087ff\">InputLayer</span>)             │ (<span style=\"color: #00d7ff; text-decoration-color: #00d7ff\">None</span>, <span style=\"color: #00af00; text-decoration-color: #00af00\">224</span>, <span style=\"color: #00af00; text-decoration-color: #00af00\">224</span>, <span style=\"color: #00af00; text-decoration-color: #00af00\">3</span>)         │               <span style=\"color: #00af00; text-decoration-color: #00af00\">0</span> │\n",
              "├──────────────────────────────────────┼─────────────────────────────┼─────────────────┤\n",
              "│ data_augmentation (<span style=\"color: #0087ff; text-decoration-color: #0087ff\">Sequential</span>)       │ (<span style=\"color: #00d7ff; text-decoration-color: #00d7ff\">None</span>, <span style=\"color: #00d7ff; text-decoration-color: #00d7ff\">None</span>, <span style=\"color: #00d7ff; text-decoration-color: #00d7ff\">None</span>, <span style=\"color: #00af00; text-decoration-color: #00af00\">3</span>)       │               <span style=\"color: #00af00; text-decoration-color: #00af00\">0</span> │\n",
              "├──────────────────────────────────────┼─────────────────────────────┼─────────────────┤\n",
              "│ efficientnetv2-b0 (<span style=\"color: #0087ff; text-decoration-color: #0087ff\">Functional</span>)       │ (<span style=\"color: #00d7ff; text-decoration-color: #00d7ff\">None</span>, <span style=\"color: #00d7ff; text-decoration-color: #00d7ff\">None</span>, <span style=\"color: #00d7ff; text-decoration-color: #00d7ff\">None</span>, <span style=\"color: #00af00; text-decoration-color: #00af00\">1280</span>)    │       <span style=\"color: #00af00; text-decoration-color: #00af00\">5,919,312</span> │\n",
              "├──────────────────────────────────────┼─────────────────────────────┼─────────────────┤\n",
              "│ global_average_pooling2d             │ (<span style=\"color: #00d7ff; text-decoration-color: #00d7ff\">None</span>, <span style=\"color: #00af00; text-decoration-color: #00af00\">1280</span>)                │               <span style=\"color: #00af00; text-decoration-color: #00af00\">0</span> │\n",
              "│ (<span style=\"color: #0087ff; text-decoration-color: #0087ff\">GlobalAveragePooling2D</span>)             │                             │                 │\n",
              "├──────────────────────────────────────┼─────────────────────────────┼─────────────────┤\n",
              "│ output_layer (<span style=\"color: #0087ff; text-decoration-color: #0087ff\">Dense</span>)                 │ (<span style=\"color: #00d7ff; text-decoration-color: #00d7ff\">None</span>, <span style=\"color: #00af00; text-decoration-color: #00af00\">101</span>)                 │         <span style=\"color: #00af00; text-decoration-color: #00af00\">129,381</span> │\n",
              "└──────────────────────────────────────┴─────────────────────────────┴─────────────────┘\n",
              "</pre>\n"
            ]
          },
          "metadata": {}
        },
        {
          "output_type": "display_data",
          "data": {
            "text/plain": [
              "\u001b[1m Total params: \u001b[0m\u001b[38;5;34m6,048,693\u001b[0m (23.07 MB)\n"
            ],
            "text/html": [
              "<pre style=\"white-space:pre;overflow-x:auto;line-height:normal;font-family:Menlo,'DejaVu Sans Mono',consolas,'Courier New',monospace\"><span style=\"font-weight: bold\"> Total params: </span><span style=\"color: #00af00; text-decoration-color: #00af00\">6,048,693</span> (23.07 MB)\n",
              "</pre>\n"
            ]
          },
          "metadata": {}
        },
        {
          "output_type": "display_data",
          "data": {
            "text/plain": [
              "\u001b[1m Trainable params: \u001b[0m\u001b[38;5;34m129,381\u001b[0m (505.39 KB)\n"
            ],
            "text/html": [
              "<pre style=\"white-space:pre;overflow-x:auto;line-height:normal;font-family:Menlo,'DejaVu Sans Mono',consolas,'Courier New',monospace\"><span style=\"font-weight: bold\"> Trainable params: </span><span style=\"color: #00af00; text-decoration-color: #00af00\">129,381</span> (505.39 KB)\n",
              "</pre>\n"
            ]
          },
          "metadata": {}
        },
        {
          "output_type": "display_data",
          "data": {
            "text/plain": [
              "\u001b[1m Non-trainable params: \u001b[0m\u001b[38;5;34m5,919,312\u001b[0m (22.58 MB)\n"
            ],
            "text/html": [
              "<pre style=\"white-space:pre;overflow-x:auto;line-height:normal;font-family:Menlo,'DejaVu Sans Mono',consolas,'Courier New',monospace\"><span style=\"font-weight: bold\"> Non-trainable params: </span><span style=\"color: #00af00; text-decoration-color: #00af00\">5,919,312</span> (22.58 MB)\n",
              "</pre>\n"
            ]
          },
          "metadata": {}
        }
      ],
      "source": [
        "model.summary()"
      ]
    },
    {
      "cell_type": "code",
      "execution_count": null,
      "metadata": {
        "id": "FIVsiIZhwp-i"
      },
      "outputs": [],
      "source": [
        "# Compile model\n",
        "model.compile(loss=\"categorical_crossentropy\",\n",
        "              optimizer=tf.keras.optimizers.Adam(),\n",
        "              metrics=[\"accuracy\"])"
      ]
    },
    {
      "cell_type": "code",
      "execution_count": null,
      "metadata": {
        "id": "obkXZ558xVU8"
      },
      "outputs": [],
      "source": [
        "initial_epochs = 5"
      ]
    },
    {
      "cell_type": "code",
      "execution_count": null,
      "metadata": {
        "colab": {
          "base_uri": "https://localhost:8080/"
        },
        "id": "uJQo42q9xQN7",
        "outputId": "0752e45d-a815-47e7-b58b-7aa468d09d66"
      },
      "outputs": [
        {
          "output_type": "stream",
          "name": "stdout",
          "text": [
            "Epoch 1/5\n",
            "\u001b[1m237/237\u001b[0m \u001b[32m━━━━━━━━━━━━━━━━━━━━\u001b[0m\u001b[37m\u001b[0m \u001b[1m97s\u001b[0m 343ms/step - accuracy: 0.1345 - loss: 4.0931 - val_accuracy: 0.3729 - val_loss: 2.8491\n",
            "Epoch 2/5\n",
            "\u001b[1m237/237\u001b[0m \u001b[32m━━━━━━━━━━━━━━━━━━━━\u001b[0m\u001b[37m\u001b[0m \u001b[1m80s\u001b[0m 336ms/step - accuracy: 0.4138 - loss: 2.6134 - val_accuracy: 0.4783 - val_loss: 2.2425\n",
            "Epoch 3/5\n",
            "\u001b[1m237/237\u001b[0m \u001b[32m━━━━━━━━━━━━━━━━━━━━\u001b[0m\u001b[37m\u001b[0m \u001b[1m84s\u001b[0m 353ms/step - accuracy: 0.4916 - loss: 2.1936 - val_accuracy: 0.5077 - val_loss: 2.0148\n",
            "Epoch 4/5\n",
            "\u001b[1m237/237\u001b[0m \u001b[32m━━━━━━━━━━━━━━━━━━━━\u001b[0m\u001b[37m\u001b[0m \u001b[1m56s\u001b[0m 236ms/step - accuracy: 0.5270 - loss: 1.9625 - val_accuracy: 0.5241 - val_loss: 1.9031\n",
            "Epoch 5/5\n",
            "\u001b[1m237/237\u001b[0m \u001b[32m━━━━━━━━━━━━━━━━━━━━\u001b[0m\u001b[37m\u001b[0m \u001b[1m83s\u001b[0m 352ms/step - accuracy: 0.5542 - loss: 1.8274 - val_accuracy: 0.5299 - val_loss: 1.8402\n"
          ]
        }
      ],
      "source": [
        "# Fit the model\n",
        "history_all_classes_10_percent = model.fit(train_data_all_10_percent,\n",
        "                                           epochs=initial_epochs,\n",
        "                                           steps_per_epoch=len(train_data_all_10_percent),\n",
        "                                           validation_data=test_data_all_10_percent,\n",
        "                                           validation_steps=int(0.15 * len(test_data_all_10_percent)),\n",
        "                                           callbacks=[checkpoint_callback])"
      ]
    },
    {
      "cell_type": "code",
      "execution_count": null,
      "metadata": {
        "colab": {
          "base_uri": "https://localhost:8080/"
        },
        "collapsed": true,
        "id": "KL8_EHQ4yFuj",
        "outputId": "bab1d465-3a92-4ec4-f68a-9284f9b18d3b"
      },
      "outputs": [
        {
          "output_type": "stream",
          "name": "stdout",
          "text": [
            "\u001b[1m790/790\u001b[0m \u001b[32m━━━━━━━━━━━━━━━━━━━━\u001b[0m\u001b[37m\u001b[0m \u001b[1m52s\u001b[0m 66ms/step - accuracy: 0.5508 - loss: 1.7326\n"
          ]
        },
        {
          "output_type": "execute_result",
          "data": {
            "text/plain": [
              "[1.649283766746521, 0.5666138529777527]"
            ]
          },
          "metadata": {},
          "execution_count": 18
        }
      ],
      "source": [
        "feature_extraction_results = model.evaluate(test_data_all_10_percent)\n",
        "feature_extraction_results"
      ]
    },
    {
      "cell_type": "code",
      "execution_count": null,
      "metadata": {
        "colab": {
          "base_uri": "https://localhost:8080/",
          "height": 927
        },
        "id": "dHT2mtczzwYz",
        "outputId": "397e6bf5-18e5-4b93-9c9d-5399d62745f8"
      },
      "outputs": [
        {
          "output_type": "display_data",
          "data": {
            "text/plain": [
              "<Figure size 640x480 with 1 Axes>"
            ],
            "image/png": "[encoded data removed]"
          },
          "metadata": {}
        },
        {
          "output_type": "display_data",
          "data": {
            "text/plain": [
              "<Figure size 640x480 with 1 Axes>"
            ],
            "image/png": "[encoded data removed]"
          },
          "metadata": {}
        }
      ],
      "source": [
        "plot_loss_curves(history_all_classes_10_percent)"
      ]
    },
    {
      "cell_type": "markdown",
      "metadata": {
        "id": "1unreMWmFPNX"
      },
      "source": [
        "## Fine-tuning"
      ]
    },
    {
      "cell_type": "code",
      "execution_count": null,
      "metadata": {
        "id": "6A3hk8fOF_HH"
      },
      "outputs": [],
      "source": [
        "# Unfreeze some layers\n",
        "base_model.trainable = True\n",
        "\n",
        "# Freeze all except last 5\n",
        "for layer in base_model.layers[:-5]:\n",
        "  layer.trainable = False"
      ]
    },
    {
      "cell_type": "code",
      "execution_count": null,
      "metadata": {
        "id": "jYlveUWMGlNv"
      },
      "outputs": [],
      "source": [
        "# Recompile the model (with lower learning rate)\n",
        "model.compile(loss=\"categorical_crossentropy\",\n",
        "              optimizer=tf.keras.optimizers.Adam(0.0001),\n",
        "              metrics=[\"accuracy\"])"
      ]
    },
    {
      "cell_type": "code",
      "execution_count": null,
      "metadata": {
        "colab": {
          "base_uri": "https://localhost:8080/"
        },
        "id": "1zkVHT23Hqko",
        "outputId": "d579fb25-8a34-4e3b-8981-d31ef822614a"
      },
      "outputs": [
        {
          "output_type": "stream",
          "name": "stdout",
          "text": [
            "input_layer True\n",
            "data_augmentation True\n",
            "efficientnetv2-b0 True\n",
            "global_average_pooling2d True\n",
            "output_layer True\n"
          ]
        }
      ],
      "source": [
        "for layer in model.layers:\n",
        "  print(layer.name, layer.trainable)"
      ]
    },
    {
      "cell_type": "code",
      "execution_count": null,
      "metadata": {
        "colab": {
          "base_uri": "https://localhost:8080/"
        },
        "collapsed": true,
        "id": "2KuamohwHx13",
        "outputId": "81b74ad1-30ae-4f0f-ea70-56d5f1459c5e"
      },
      "outputs": [
        {
          "output_type": "stream",
          "name": "stdout",
          "text": [
            "0 input_layer False\n",
            "1 rescaling False\n",
            "2 normalization False\n",
            "3 stem_conv False\n",
            "4 stem_bn False\n",
            "5 stem_activation False\n",
            "6 block1a_project_conv False\n",
            "7 block1a_project_bn False\n",
            "8 block1a_project_activation False\n",
            "9 block2a_expand_conv False\n",
            "10 block2a_expand_bn False\n",
            "11 block2a_expand_activation False\n",
            "12 block2a_project_conv False\n",
            "13 block2a_project_bn False\n",
            "14 block2b_expand_conv False\n",
            "15 block2b_expand_bn False\n",
            "16 block2b_expand_activation False\n",
            "17 block2b_project_conv False\n",
            "18 block2b_project_bn False\n",
            "19 block2b_drop False\n",
            "20 block2b_add False\n",
            "21 block3a_expand_conv False\n",
            "22 block3a_expand_bn False\n",
            "23 block3a_expand_activation False\n",
            "24 block3a_project_conv False\n",
            "25 block3a_project_bn False\n",
            "26 block3b_expand_conv False\n",
            "27 block3b_expand_bn False\n",
            "28 block3b_expand_activation False\n",
            "29 block3b_project_conv False\n",
            "30 block3b_project_bn False\n",
            "31 block3b_drop False\n",
            "32 block3b_add False\n",
            "33 block4a_expand_conv False\n",
            "34 block4a_expand_bn False\n",
            "35 block4a_expand_activation False\n",
            "36 block4a_dwconv2 False\n",
            "37 block4a_bn False\n",
            "38 block4a_activation False\n",
            "39 block4a_se_squeeze False\n",
            "40 block4a_se_reshape False\n",
            "41 block4a_se_reduce False\n",
            "42 block4a_se_expand False\n",
            "43 block4a_se_excite False\n",
            "44 block4a_project_conv False\n",
            "45 block4a_project_bn False\n",
            "46 block4b_expand_conv False\n",
            "47 block4b_expand_bn False\n",
            "48 block4b_expand_activation False\n",
            "49 block4b_dwconv2 False\n",
            "50 block4b_bn False\n",
            "51 block4b_activation False\n",
            "52 block4b_se_squeeze False\n",
            "53 block4b_se_reshape False\n",
            "54 block4b_se_reduce False\n",
            "55 block4b_se_expand False\n",
            "56 block4b_se_excite False\n",
            "57 block4b_project_conv False\n",
            "58 block4b_project_bn False\n",
            "59 block4b_drop False\n",
            "60 block4b_add False\n",
            "61 block4c_expand_conv False\n",
            "62 block4c_expand_bn False\n",
            "63 block4c_expand_activation False\n",
            "64 block4c_dwconv2 False\n",
            "65 block4c_bn False\n",
            "66 block4c_activation False\n",
            "67 block4c_se_squeeze False\n",
            "68 block4c_se_reshape False\n",
            "69 block4c_se_reduce False\n",
            "70 block4c_se_expand False\n",
            "71 block4c_se_excite False\n",
            "72 block4c_project_conv False\n",
            "73 block4c_project_bn False\n",
            "74 block4c_drop False\n",
            "75 block4c_add False\n",
            "76 block5a_expand_conv False\n",
            "77 block5a_expand_bn False\n",
            "78 block5a_expand_activation False\n",
            "79 block5a_dwconv2 False\n",
            "80 block5a_bn False\n",
            "81 block5a_activation False\n",
            "82 block5a_se_squeeze False\n",
            "83 block5a_se_reshape False\n",
            "84 block5a_se_reduce False\n",
            "85 block5a_se_expand False\n",
            "86 block5a_se_excite False\n",
            "87 block5a_project_conv False\n",
            "88 block5a_project_bn False\n",
            "89 block5b_expand_conv False\n",
            "90 block5b_expand_bn False\n",
            "91 block5b_expand_activation False\n",
            "92 block5b_dwconv2 False\n",
            "93 block5b_bn False\n",
            "94 block5b_activation False\n",
            "95 block5b_se_squeeze False\n",
            "96 block5b_se_reshape False\n",
            "97 block5b_se_reduce False\n",
            "98 block5b_se_expand False\n",
            "99 block5b_se_excite False\n",
            "100 block5b_project_conv False\n",
            "101 block5b_project_bn False\n",
            "102 block5b_drop False\n",
            "103 block5b_add False\n",
            "104 block5c_expand_conv False\n",
            "105 block5c_expand_bn False\n",
            "106 block5c_expand_activation False\n",
            "107 block5c_dwconv2 False\n",
            "108 block5c_bn False\n",
            "109 block5c_activation False\n",
            "110 block5c_se_squeeze False\n",
            "111 block5c_se_reshape False\n",
            "112 block5c_se_reduce False\n",
            "113 block5c_se_expand False\n",
            "114 block5c_se_excite False\n",
            "115 block5c_project_conv False\n",
            "116 block5c_project_bn False\n",
            "117 block5c_drop False\n",
            "118 block5c_add False\n",
            "119 block5d_expand_conv False\n",
            "120 block5d_expand_bn False\n",
            "121 block5d_expand_activation False\n",
            "122 block5d_dwconv2 False\n",
            "123 block5d_bn False\n",
            "124 block5d_activation False\n",
            "125 block5d_se_squeeze False\n",
            "126 block5d_se_reshape False\n",
            "127 block5d_se_reduce False\n",
            "128 block5d_se_expand False\n",
            "129 block5d_se_excite False\n",
            "130 block5d_project_conv False\n",
            "131 block5d_project_bn False\n",
            "132 block5d_drop False\n",
            "133 block5d_add False\n",
            "134 block5e_expand_conv False\n",
            "135 block5e_expand_bn False\n",
            "136 block5e_expand_activation False\n",
            "137 block5e_dwconv2 False\n",
            "138 block5e_bn False\n",
            "139 block5e_activation False\n",
            "140 block5e_se_squeeze False\n",
            "141 block5e_se_reshape False\n",
            "142 block5e_se_reduce False\n",
            "143 block5e_se_expand False\n",
            "144 block5e_se_excite False\n",
            "145 block5e_project_conv False\n",
            "146 block5e_project_bn False\n",
            "147 block5e_drop False\n",
            "148 block5e_add False\n",
            "149 block6a_expand_conv False\n",
            "150 block6a_expand_bn False\n",
            "151 block6a_expand_activation False\n",
            "152 block6a_dwconv2 False\n",
            "153 block6a_bn False\n",
            "154 block6a_activation False\n",
            "155 block6a_se_squeeze False\n",
            "156 block6a_se_reshape False\n",
            "157 block6a_se_reduce False\n",
            "158 block6a_se_expand False\n",
            "159 block6a_se_excite False\n",
            "160 block6a_project_conv False\n",
            "161 block6a_project_bn False\n",
            "162 block6b_expand_conv False\n",
            "163 block6b_expand_bn False\n",
            "164 block6b_expand_activation False\n",
            "165 block6b_dwconv2 False\n",
            "166 block6b_bn False\n",
            "167 block6b_activation False\n",
            "168 block6b_se_squeeze False\n",
            "169 block6b_se_reshape False\n",
            "170 block6b_se_reduce False\n",
            "171 block6b_se_expand False\n",
            "172 block6b_se_excite False\n",
            "173 block6b_project_conv False\n",
            "174 block6b_project_bn False\n",
            "175 block6b_drop False\n",
            "176 block6b_add False\n",
            "177 block6c_expand_conv False\n",
            "178 block6c_expand_bn False\n",
            "179 block6c_expand_activation False\n",
            "180 block6c_dwconv2 False\n",
            "181 block6c_bn False\n",
            "182 block6c_activation False\n",
            "183 block6c_se_squeeze False\n",
            "184 block6c_se_reshape False\n",
            "185 block6c_se_reduce False\n",
            "186 block6c_se_expand False\n",
            "187 block6c_se_excite False\n",
            "188 block6c_project_conv False\n",
            "189 block6c_project_bn False\n",
            "190 block6c_drop False\n",
            "191 block6c_add False\n",
            "192 block6d_expand_conv False\n",
            "193 block6d_expand_bn False\n",
            "194 block6d_expand_activation False\n",
            "195 block6d_dwconv2 False\n",
            "196 block6d_bn False\n",
            "197 block6d_activation False\n",
            "198 block6d_se_squeeze False\n",
            "199 block6d_se_reshape False\n",
            "200 block6d_se_reduce False\n",
            "201 block6d_se_expand False\n",
            "202 block6d_se_excite False\n",
            "203 block6d_project_conv False\n",
            "204 block6d_project_bn False\n",
            "205 block6d_drop False\n",
            "206 block6d_add False\n",
            "207 block6e_expand_conv False\n",
            "208 block6e_expand_bn False\n",
            "209 block6e_expand_activation False\n",
            "210 block6e_dwconv2 False\n",
            "211 block6e_bn False\n",
            "212 block6e_activation False\n",
            "213 block6e_se_squeeze False\n",
            "214 block6e_se_reshape False\n",
            "215 block6e_se_reduce False\n",
            "216 block6e_se_expand False\n",
            "217 block6e_se_excite False\n",
            "218 block6e_project_conv False\n",
            "219 block6e_project_bn False\n",
            "220 block6e_drop False\n",
            "221 block6e_add False\n",
            "222 block6f_expand_conv False\n",
            "223 block6f_expand_bn False\n",
            "224 block6f_expand_activation False\n",
            "225 block6f_dwconv2 False\n",
            "226 block6f_bn False\n",
            "227 block6f_activation False\n",
            "228 block6f_se_squeeze False\n",
            "229 block6f_se_reshape False\n",
            "230 block6f_se_reduce False\n",
            "231 block6f_se_expand False\n",
            "232 block6f_se_excite False\n",
            "233 block6f_project_conv False\n",
            "234 block6f_project_bn False\n",
            "235 block6f_drop False\n",
            "236 block6f_add False\n",
            "237 block6g_expand_conv False\n",
            "238 block6g_expand_bn False\n",
            "239 block6g_expand_activation False\n",
            "240 block6g_dwconv2 False\n",
            "241 block6g_bn False\n",
            "242 block6g_activation False\n",
            "243 block6g_se_squeeze False\n",
            "244 block6g_se_reshape False\n",
            "245 block6g_se_reduce False\n",
            "246 block6g_se_expand False\n",
            "247 block6g_se_excite False\n",
            "248 block6g_project_conv False\n",
            "249 block6g_project_bn False\n",
            "250 block6g_drop False\n",
            "251 block6g_add False\n",
            "252 block6h_expand_conv False\n",
            "253 block6h_expand_bn False\n",
            "254 block6h_expand_activation False\n",
            "255 block6h_dwconv2 False\n",
            "256 block6h_bn False\n",
            "257 block6h_activation False\n",
            "258 block6h_se_squeeze False\n",
            "259 block6h_se_reshape False\n",
            "260 block6h_se_reduce False\n",
            "261 block6h_se_expand False\n",
            "262 block6h_se_excite False\n",
            "263 block6h_project_conv False\n",
            "264 block6h_project_bn False\n",
            "265 block6h_drop True\n",
            "266 block6h_add True\n",
            "267 top_conv True\n",
            "268 top_bn True\n",
            "269 top_activation True\n"
          ]
        }
      ],
      "source": [
        "for i, layer in enumerate(base_model.layers):\n",
        "  print(i, layer.name, layer.trainable)"
      ]
    },
    {
      "cell_type": "code",
      "execution_count": null,
      "metadata": {
        "id": "Jh4k6QYSJcyR"
      },
      "outputs": [],
      "source": [
        "fine_tune_epochs = initial_epochs + 5"
      ]
    },
    {
      "cell_type": "code",
      "execution_count": null,
      "metadata": {
        "colab": {
          "base_uri": "https://localhost:8080/"
        },
        "id": "Fs184xU5IDwP",
        "outputId": "b5272084-88ef-4191-acda-8d83e9465088"
      },
      "outputs": [
        {
          "output_type": "stream",
          "name": "stdout",
          "text": [
            "Epoch 5/10\n",
            "\u001b[1m237/237\u001b[0m \u001b[32m━━━━━━━━━━━━━━━━━━━━\u001b[0m\u001b[37m\u001b[0m \u001b[1m65s\u001b[0m 219ms/step - accuracy: 0.5462 - loss: 1.9514 - val_accuracy: 0.5019 - val_loss: 1.9994\n",
            "Epoch 6/10\n",
            "\u001b[1m237/237\u001b[0m \u001b[32m━━━━━━━━━━━━━━━━━━━━\u001b[0m\u001b[37m\u001b[0m \u001b[1m80s\u001b[0m 215ms/step - accuracy: 0.5799 - loss: 1.7955 - val_accuracy: 0.5156 - val_loss: 1.8983\n",
            "Epoch 7/10\n",
            "\u001b[1m237/237\u001b[0m \u001b[32m━━━━━━━━━━━━━━━━━━━━\u001b[0m\u001b[37m\u001b[0m \u001b[1m83s\u001b[0m 353ms/step - accuracy: 0.6132 - loss: 1.6753 - val_accuracy: 0.5347 - val_loss: 1.8210\n",
            "Epoch 8/10\n",
            "\u001b[1m237/237\u001b[0m \u001b[32m━━━━━━━━━━━━━━━━━━━━\u001b[0m\u001b[37m\u001b[0m \u001b[1m140s\u001b[0m 346ms/step - accuracy: 0.6231 - loss: 1.6174 - val_accuracy: 0.5487 - val_loss: 1.7616\n",
            "Epoch 9/10\n",
            "\u001b[1m237/237\u001b[0m \u001b[32m━━━━━━━━━━━━━━━━━━━━\u001b[0m\u001b[37m\u001b[0m \u001b[1m41s\u001b[0m 171ms/step - accuracy: 0.6270 - loss: 1.5323 - val_accuracy: 0.5487 - val_loss: 1.7402\n",
            "Epoch 10/10\n",
            "\u001b[1m237/237\u001b[0m \u001b[32m━━━━━━━━━━━━━━━━━━━━\u001b[0m\u001b[37m\u001b[0m \u001b[1m37s\u001b[0m 156ms/step - accuracy: 0.6374 - loss: 1.5243 - val_accuracy: 0.5522 - val_loss: 1.7240\n"
          ]
        }
      ],
      "source": [
        "history_all_classes_10_percent_fine_tune = model.fit(train_data_all_10_percent,\n",
        "                                                     epochs=fine_tune_epochs,\n",
        "                                                     validation_data=test_data_all_10_percent,\n",
        "                                                     validation_steps=int(0.15 * len(test_data_all_10_percent)),\n",
        "                                                     initial_epoch=history_all_classes_10_percent.epoch[-1])"
      ]
    },
    {
      "cell_type": "code",
      "execution_count": null,
      "metadata": {
        "id": "IffyelTjKgCb",
        "colab": {
          "base_uri": "https://localhost:8080/"
        },
        "outputId": "3566c25e-9307-45b6-bbdb-38e89a2c835f"
      },
      "outputs": [
        {
          "output_type": "stream",
          "name": "stdout",
          "text": [
            "\u001b[1m790/790\u001b[0m \u001b[32m━━━━━━━━━━━━━━━━━━━━\u001b[0m\u001b[37m\u001b[0m \u001b[1m51s\u001b[0m 65ms/step - accuracy: 0.5758 - loss: 1.6062\n"
          ]
        },
        {
          "output_type": "execute_result",
          "data": {
            "text/plain": [
              "[1.4821211099624634, 0.6027326583862305]"
            ]
          },
          "metadata": {},
          "execution_count": 26
        }
      ],
      "source": [
        "all_classes_10_percent_fine_tune_results = model.evaluate(test_data_all_10_percent)\n",
        "all_classes_10_percent_fine_tune_results"
      ]
    },
    {
      "cell_type": "code",
      "execution_count": null,
      "metadata": {
        "id": "vTeBJBGQKroh",
        "colab": {
          "base_uri": "https://localhost:8080/",
          "height": 718
        },
        "outputId": "77aecb8c-1af8-4a98-ebd7-19268f3d525f"
      },
      "outputs": [
        {
          "output_type": "display_data",
          "data": {
            "text/plain": [
              "<Figure size 800x800 with 2 Axes>"
            ],
            "image/png": "[encoded data removed]"
          },
          "metadata": {}
        }
      ],
      "source": [
        "compare_historys(original_history=history_all_classes_10_percent,\n",
        "                 new_history=history_all_classes_10_percent_fine_tune,\n",
        "                 initial_epochs=initial_epochs)"
      ]
    },
    {
      "cell_type": "markdown",
      "metadata": {
        "id": "vYOVPaNQMZqx"
      },
      "source": [
        "## Model Deployment"
      ]
    },
    {
      "cell_type": "code",
      "execution_count": null,
      "metadata": {
        "id": "LahxmtEMLQ6i"
      },
      "outputs": [],
      "source": [
        "# Save model\n",
        "model.save(\"saved_models/model_1.keras\")"
      ]
    },
    {
      "cell_type": "code",
      "execution_count": null,
      "metadata": {
        "id": "zTL3FrUoMyqo"
      },
      "outputs": [],
      "source": [
        "# Load model\n",
        "loaded_model = tf.keras.models.load_model(\"saved_models/model_1.keras\")"
      ]
    },
    {
      "cell_type": "code",
      "execution_count": null,
      "metadata": {
        "id": "fxhmTCqBNVxh",
        "colab": {
          "base_uri": "https://localhost:8080/"
        },
        "outputId": "581d7a9a-95e1-4763-8be6-dd2ef26c84db"
      },
      "outputs": [
        {
          "output_type": "stream",
          "name": "stdout",
          "text": [
            "\u001b[1m790/790\u001b[0m \u001b[32m━━━━━━━━━━━━━━━━━━━━\u001b[0m\u001b[37m\u001b[0m \u001b[1m56s\u001b[0m 65ms/step - accuracy: 0.5758 - loss: 1.6062\n"
          ]
        },
        {
          "output_type": "execute_result",
          "data": {
            "text/plain": [
              "[1.4821211099624634, 0.6027326583862305]"
            ]
          },
          "metadata": {},
          "execution_count": 31
        }
      ],
      "source": [
        "# Evaluate model and compare it to pre-saved model\n",
        "loaded_model_results = loaded_model.evaluate(test_data_all_10_percent)\n",
        "loaded_model_results"
      ]
    },
    {
      "cell_type": "code",
      "execution_count": null,
      "metadata": {
        "id": "gMwMG6HANskx",
        "colab": {
          "base_uri": "https://localhost:8080/"
        },
        "outputId": "fcaf8141-3f39-49fd-c76e-a5628d3eb611"
      },
      "outputs": [
        {
          "output_type": "execute_result",
          "data": {
            "text/plain": [
              "[1.4821211099624634, 0.6027326583862305]"
            ]
          },
          "metadata": {},
          "execution_count": 32
        }
      ],
      "source": [
        "# results should be very similar\n",
        "all_classes_10_percent_fine_tune_results"
      ]
    },
    {
      "cell_type": "markdown",
      "metadata": {
        "id": "gp3ODMqMNuBb"
      },
      "source": [
        "## Model Evaluation"
      ]
    },
    {
      "cell_type": "code",
      "execution_count": null,
      "metadata": {
        "id": "T_mTA486OMF6",
        "colab": {
          "base_uri": "https://localhost:8080/"
        },
        "outputId": "76d02fea-5ef3-49d1-f4d2-5cde6dd37664"
      },
      "outputs": [
        {
          "output_type": "stream",
          "name": "stdout",
          "text": [
            "--2025-02-04 23:36:14--  https://storage.googleapis.com/ztm_tf_course/food_vision/06_101_food_class_10_percent_saved_big_dog_model.zip\n",
            "Resolving storage.googleapis.com (storage.googleapis.com)... 74.125.137.207, 142.250.101.207, 142.251.2.207, ...\n",
            "Connecting to storage.googleapis.com (storage.googleapis.com)|74.125.137.207|:443... connected.\n",
            "HTTP request sent, awaiting response... 200 OK\n",
            "Length: 46760742 (45M) [application/zip]\n",
            "Saving to: ‘06_101_food_class_10_percent_saved_big_dog_model.zip’\n",
            "\n",
            "06_101_food_class_1 100%[===================>]  44.59M  81.8MB/s    in 0.5s    \n",
            "\n",
            "2025-02-04 23:36:15 (81.8 MB/s) - ‘06_101_food_class_10_percent_saved_big_dog_model.zip’ saved [46760742/46760742]\n",
            "\n"
          ]
        }
      ],
      "source": [
        "import tensorflow as tf\n",
        "\n",
        "# download pretrained model\n",
        "!wget https://storage.googleapis.com/ztm_tf_course/food_vision/06_101_food_class_10_percent_saved_big_dog_model.zip"
      ]
    },
    {
      "cell_type": "code",
      "execution_count": null,
      "metadata": {
        "id": "NCOFODcMOa3C"
      },
      "outputs": [],
      "source": [
        "unzip_data(\"06_101_food_class_10_percent_saved_big_dog_model.zip\")"
      ]
    },
    {
      "cell_type": "code",
      "execution_count": null,
      "metadata": {
        "id": "sB5N_tKyOgt0",
        "colab": {
          "base_uri": "https://localhost:8080/",
          "height": 367
        },
        "outputId": "9b6cf5ec-6e42-498c-c8d7-2d3a26d8cdc4"
      },
      "outputs": [
        {
          "output_type": "error",
          "ename": "ValueError",
          "evalue": "File format not supported: filepath=06_101_food_class_10_percent_saved_big_dog_model. Keras 3 only supports V3 `.keras` files and legacy H5 format files (`.h5` extension). Note that the legacy SavedModel format is not supported by `load_model()` in Keras 3. In order to reload a TensorFlow SavedModel as an inference-only layer in Keras 3, use `keras.layers.TFSMLayer(06_101_food_class_10_percent_saved_big_dog_model, call_endpoint='serving_default')` (note that your `call_endpoint` might have a different name).",
          "traceback": [
            "\u001b[0;31m---------------------------------------------------------------------------\u001b[0m",
            "\u001b[0;31mValueError\u001b[0m                                Traceback (most recent call last)",
            "\u001b[0;32m<ipython-input-35-36c4531f4287>\u001b[0m in \u001b[0;36m<cell line: 0>\u001b[0;34m()\u001b[0m\n\u001b[1;32m      1\u001b[0m \u001b[0;31m# load in saved model\u001b[0m\u001b[0;34m\u001b[0m\u001b[0;34m\u001b[0m\u001b[0m\n\u001b[0;32m----> 2\u001b[0;31m \u001b[0mmodel\u001b[0m \u001b[0;34m=\u001b[0m \u001b[0mtf\u001b[0m\u001b[0;34m.\u001b[0m\u001b[0mkeras\u001b[0m\u001b[0;34m.\u001b[0m\u001b[0mmodels\u001b[0m\u001b[0;34m.\u001b[0m\u001b[0mload_model\u001b[0m\u001b[0;34m(\u001b[0m\u001b[0;34m\"06_101_food_class_10_percent_saved_big_dog_model\"\u001b[0m\u001b[0;34m)\u001b[0m\u001b[0;34m\u001b[0m\u001b[0;34m\u001b[0m\u001b[0m\n\u001b[0m",
            "\u001b[0;32m/usr/local/lib/python3.11/dist-packages/keras/src/saving/saving_api.py\u001b[0m in \u001b[0;36mload_model\u001b[0;34m(filepath, custom_objects, compile, safe_mode)\u001b[0m\n\u001b[1;32m    204\u001b[0m         )\n\u001b[1;32m    205\u001b[0m     \u001b[0;32melse\u001b[0m\u001b[0;34m:\u001b[0m\u001b[0;34m\u001b[0m\u001b[0;34m\u001b[0m\u001b[0m\n\u001b[0;32m--> 206\u001b[0;31m         raise ValueError(\n\u001b[0m\u001b[1;32m    207\u001b[0m             \u001b[0;34mf\"File format not supported: filepath={filepath}. \"\u001b[0m\u001b[0;34m\u001b[0m\u001b[0;34m\u001b[0m\u001b[0m\n\u001b[1;32m    208\u001b[0m             \u001b[0;34m\"Keras 3 only supports V3 `.keras` files and \"\u001b[0m\u001b[0;34m\u001b[0m\u001b[0;34m\u001b[0m\u001b[0m\n",
            "\u001b[0;31mValueError\u001b[0m: File format not supported: filepath=06_101_food_class_10_percent_saved_big_dog_model. Keras 3 only supports V3 `.keras` files and legacy H5 format files (`.h5` extension). Note that the legacy SavedModel format is not supported by `load_model()` in Keras 3. In order to reload a TensorFlow SavedModel as an inference-only layer in Keras 3, use `keras.layers.TFSMLayer(06_101_food_class_10_percent_saved_big_dog_model, call_endpoint='serving_default')` (note that your `call_endpoint` might have a different name)."
          ]
        }
      ],
      "source": [
        "# load in saved model\n",
        "model = tf.keras.models.load_model(\"06_101_food_class_10_percent_saved_big_dog_model\")"
      ]
    },
    {
      "cell_type": "code",
      "source": [
        "import tensorflow as tf\n",
        "from tensorflow import keras\n",
        "\n",
        "# 1. Create TFSMLayer\n",
        "saved_model_layer = keras.layers.TFSMLayer(\n",
        "    \"06_101_food_class_10_percent_saved_big_dog_model\",\n",
        "    call_endpoint=\"serving_default\"  # Make sure this matches your model's serving signature\n",
        ")\n",
        "\n",
        "# 2. Wrap this layer into a Keras Model\n",
        "#    (Assuming your model expects input shape [None, 224, 224, 3]; adjust as necessary.)\n",
        "inputs = keras.Input(shape=(224, 224, 3))\n",
        "outputs = saved_model_layer(inputs)\n",
        "model = keras.Model(inputs, outputs)\n",
        "\n",
        "model.compile(loss=\"categorical_crossentropy\",\n",
        "              optimizer=tf.keras.optimizers.Adam(),\n",
        "              metrics=[\"accuracy\"])\n"
      ],
      "metadata": {
        "colab": {
          "base_uri": "https://localhost:8080/"
        },
        "id": "ZNyyRXQ_mFjn",
        "outputId": "df1fab1d-ef8f-4c0c-ddfd-7c0fca2609ca"
      },
      "execution_count": null,
      "outputs": [
        {
          "output_type": "stream",
          "name": "stderr",
          "text": [
            "WARNING:absl:Importing a function (__inference_block6c_expand_activation_layer_call_and_return_conditional_losses_419470) with ops with unsaved custom gradients. Will likely fail if a gradient is requested.\n",
            "WARNING:absl:Importing a function (__inference_efficientnetb0_layer_call_and_return_conditional_losses_446460) with ops with unsaved custom gradients. Will likely fail if a gradient is requested.\n",
            "WARNING:absl:Importing a function (__inference_block2a_activation_layer_call_and_return_conditional_losses_450449) with ops with unsaved custom gradients. Will likely fail if a gradient is requested.\n",
            "WARNING:absl:Importing a function (__inference_block2a_expand_activation_layer_call_and_return_conditional_losses_415747) with ops with unsaved custom gradients. Will likely fail if a gradient is requested.\n",
            "WARNING:absl:Importing a function (__inference_block2b_activation_layer_call_and_return_conditional_losses_416083) with ops with unsaved custom gradients. Will likely fail if a gradient is requested.\n",
            "WARNING:absl:Importing a function (__inference_block2b_activation_layer_call_and_return_conditional_losses_450775) with ops with unsaved custom gradients. Will likely fail if a gradient is requested.\n",
            "WARNING:absl:Importing a function (__inference_block4a_activation_layer_call_and_return_conditional_losses_451847) with ops with unsaved custom gradients. Will likely fail if a gradient is requested.\n",
            "WARNING:absl:Importing a function (__inference_block5a_expand_activation_layer_call_and_return_conditional_losses_417915) with ops with unsaved custom gradients. Will likely fail if a gradient is requested.\n",
            "WARNING:absl:Importing a function (__inference_block4a_se_reduce_layer_call_and_return_conditional_losses_451887) with ops with unsaved custom gradients. Will likely fail if a gradient is requested.\n",
            "WARNING:absl:Importing a function (__inference_block4c_expand_activation_layer_call_and_return_conditional_losses_452467) with ops with unsaved custom gradients. Will likely fail if a gradient is requested.\n",
            "WARNING:absl:Importing a function (__inference_functional_17_layer_call_and_return_conditional_losses_438312) with ops with unsaved custom gradients. Will likely fail if a gradient is requested.\n",
            "WARNING:absl:Importing a function (__inference_block4c_expand_activation_layer_call_and_return_conditional_losses_417583) with ops with unsaved custom gradients. Will likely fail if a gradient is requested.\n",
            "WARNING:absl:Importing a function (__inference_block5c_activation_layer_call_and_return_conditional_losses_418582) with ops with unsaved custom gradients. Will likely fail if a gradient is requested.\n",
            "WARNING:absl:Importing a function (__inference_block6a_se_reduce_layer_call_and_return_conditional_losses_454031) with ops with unsaved custom gradients. Will likely fail if a gradient is requested.\n",
            "WARNING:absl:Importing a function (__inference_block7a_activation_layer_call_and_return_conditional_losses_455436) with ops with unsaved custom gradients. Will likely fail if a gradient is requested.\n",
            "WARNING:absl:Importing a function (__inference_block1a_activation_layer_call_and_return_conditional_losses_415524) with ops with unsaved custom gradients. Will likely fail if a gradient is requested.\n",
            "WARNING:absl:Importing a function (__inference_block3b_activation_layer_call_and_return_conditional_losses_451474) with ops with unsaved custom gradients. Will likely fail if a gradient is requested.\n",
            "WARNING:absl:Importing a function (__inference_block4a_expand_activation_layer_call_and_return_conditional_losses_451768) with ops with unsaved custom gradients. Will likely fail if a gradient is requested.\n",
            "WARNING:absl:Importing a function (__inference_efficientnetb0_layer_call_and_return_conditional_losses_441729) with ops with unsaved custom gradients. Will likely fail if a gradient is requested.\n",
            "WARNING:absl:Importing a function (__inference_block6b_se_reduce_layer_call_and_return_conditional_losses_454357) with ops with unsaved custom gradients. Will likely fail if a gradient is requested.\n",
            "WARNING:absl:Importing a function (__inference_block3b_activation_layer_call_and_return_conditional_losses_416695) with ops with unsaved custom gradients. Will likely fail if a gradient is requested.\n",
            "WARNING:absl:Importing a function (__inference_block6b_expand_activation_layer_call_and_return_conditional_losses_454238) with ops with unsaved custom gradients. Will likely fail if a gradient is requested.\n",
            "WARNING:absl:Importing a function (__inference_functional_17_layer_call_and_return_conditional_losses_436681) with ops with unsaved custom gradients. Will likely fail if a gradient is requested.\n",
            "WARNING:absl:Importing a function (__inference_block2a_activation_layer_call_and_return_conditional_losses_415804) with ops with unsaved custom gradients. Will likely fail if a gradient is requested.\n",
            "WARNING:absl:Importing a function (__inference_block5a_activation_layer_call_and_return_conditional_losses_452919) with ops with unsaved custom gradients. Will likely fail if a gradient is requested.\n",
            "WARNING:absl:Importing a function (__inference_block5c_se_reduce_layer_call_and_return_conditional_losses_453658) with ops with unsaved custom gradients. Will likely fail if a gradient is requested.\n",
            "WARNING:absl:Importing a function (__inference_efficientnetb0_layer_call_and_return_conditional_losses_448082) with ops with unsaved custom gradients. Will likely fail if a gradient is requested.\n",
            "WARNING:absl:Importing a function (__inference_block6a_activation_layer_call_and_return_conditional_losses_418915) with ops with unsaved custom gradients. Will likely fail if a gradient is requested.\n",
            "WARNING:absl:Importing a function (__inference_block5c_expand_activation_layer_call_and_return_conditional_losses_453539) with ops with unsaved custom gradients. Will likely fail if a gradient is requested.\n",
            "WARNING:absl:Importing a function (__inference_block4c_se_reduce_layer_call_and_return_conditional_losses_452586) with ops with unsaved custom gradients. Will likely fail if a gradient is requested.\n",
            "WARNING:absl:Importing a function (__inference_block1a_se_reduce_layer_call_and_return_conditional_losses_450163) with ops with unsaved custom gradients. Will likely fail if a gradient is requested.\n",
            "WARNING:absl:Importing a function (__inference_block5a_se_reduce_layer_call_and_return_conditional_losses_418018) with ops with unsaved custom gradients. Will likely fail if a gradient is requested.\n",
            "WARNING:absl:Importing a function (__inference_block7a_expand_activation_layer_call_and_return_conditional_losses_455357) with ops with unsaved custom gradients. Will likely fail if a gradient is requested.\n",
            "WARNING:absl:Importing a function (__inference_block4c_activation_layer_call_and_return_conditional_losses_417639) with ops with unsaved custom gradients. Will likely fail if a gradient is requested.\n",
            "WARNING:absl:Importing a function (__inference_block3a_se_reduce_layer_call_and_return_conditional_losses_451188) with ops with unsaved custom gradients. Will likely fail if a gradient is requested.\n",
            "WARNING:absl:Importing a function (__inference_block7a_activation_layer_call_and_return_conditional_losses_420190) with ops with unsaved custom gradients. Will likely fail if a gradient is requested.\n",
            "WARNING:absl:Importing a function (__inference_stem_activation_layer_call_and_return_conditional_losses_415468) with ops with unsaved custom gradients. Will likely fail if a gradient is requested.\n",
            "WARNING:absl:Importing a function (__inference_block7a_se_reduce_layer_call_and_return_conditional_losses_455476) with ops with unsaved custom gradients. Will likely fail if a gradient is requested.\n",
            "WARNING:absl:Importing a function (__inference_block4b_se_reduce_layer_call_and_return_conditional_losses_417354) with ops with unsaved custom gradients. Will likely fail if a gradient is requested.\n",
            "WARNING:absl:Importing a function (__inference_block4b_se_reduce_layer_call_and_return_conditional_losses_452213) with ops with unsaved custom gradients. Will likely fail if a gradient is requested.\n",
            "WARNING:absl:Importing a function (__inference_block4b_activation_layer_call_and_return_conditional_losses_452173) with ops with unsaved custom gradients. Will likely fail if a gradient is requested.\n",
            "WARNING:absl:Importing a function (__inference_block1a_se_reduce_layer_call_and_return_conditional_losses_415571) with ops with unsaved custom gradients. Will likely fail if a gradient is requested.\n",
            "WARNING:absl:Importing a function (__inference_block3b_se_reduce_layer_call_and_return_conditional_losses_451514) with ops with unsaved custom gradients. Will likely fail if a gradient is requested.\n",
            "WARNING:absl:Importing a function (__inference_block5a_activation_layer_call_and_return_conditional_losses_417971) with ops with unsaved custom gradients. Will likely fail if a gradient is requested.\n",
            "WARNING:absl:Importing a function (__inference_block6c_se_reduce_layer_call_and_return_conditional_losses_454730) with ops with unsaved custom gradients. Will likely fail if a gradient is requested.\n",
            "WARNING:absl:Importing a function (__inference_block3b_se_reduce_layer_call_and_return_conditional_losses_416742) with ops with unsaved custom gradients. Will likely fail if a gradient is requested.\n",
            "WARNING:absl:Importing a function (__inference_block2a_se_reduce_layer_call_and_return_conditional_losses_450489) with ops with unsaved custom gradients. Will likely fail if a gradient is requested.\n",
            "WARNING:absl:Importing a function (__inference_block3a_activation_layer_call_and_return_conditional_losses_451148) with ops with unsaved custom gradients. Will likely fail if a gradient is requested.\n",
            "WARNING:absl:Importing a function (__inference_block5b_expand_activation_layer_call_and_return_conditional_losses_418194) with ops with unsaved custom gradients. Will likely fail if a gradient is requested.\n",
            "WARNING:absl:Importing a function (__inference_block3a_se_reduce_layer_call_and_return_conditional_losses_416463) with ops with unsaved custom gradients. Will likely fail if a gradient is requested.\n",
            "WARNING:absl:Importing a function (__inference_efficientnetb0_layer_call_and_return_conditional_losses_429711) with ops with unsaved custom gradients. Will likely fail if a gradient is requested.\n",
            "WARNING:absl:Importing a function (__inference_efficientnetb0_layer_call_and_return_conditional_losses_443351) with ops with unsaved custom gradients. Will likely fail if a gradient is requested.\n",
            "WARNING:absl:Importing a function (__inference_block5c_expand_activation_layer_call_and_return_conditional_losses_418526) with ops with unsaved custom gradients. Will likely fail if a gradient is requested.\n",
            "WARNING:absl:Importing a function (__inference_block5b_activation_layer_call_and_return_conditional_losses_453245) with ops with unsaved custom gradients. Will likely fail if a gradient is requested.\n",
            "WARNING:absl:Importing a function (__inference_block3a_activation_layer_call_and_return_conditional_losses_416416) with ops with unsaved custom gradients. Will likely fail if a gradient is requested.\n",
            "WARNING:absl:Importing a function (__inference_efficientnetb0_layer_call_and_return_conditional_losses_428089) with ops with unsaved custom gradients. Will likely fail if a gradient is requested.\n",
            "WARNING:absl:Importing a function (__inference_block2b_expand_activation_layer_call_and_return_conditional_losses_416027) with ops with unsaved custom gradients. Will likely fail if a gradient is requested.\n",
            "WARNING:absl:Importing a function (__inference_block6a_expand_activation_layer_call_and_return_conditional_losses_453912) with ops with unsaved custom gradients. Will likely fail if a gradient is requested.\n",
            "WARNING:absl:Importing a function (__inference_block4c_activation_layer_call_and_return_conditional_losses_452546) with ops with unsaved custom gradients. Will likely fail if a gradient is requested.\n",
            "WARNING:absl:Importing a function (__inference_block7a_se_reduce_layer_call_and_return_conditional_losses_420237) with ops with unsaved custom gradients. Will likely fail if a gradient is requested.\n",
            "WARNING:absl:Importing a function (__inference_block5c_se_reduce_layer_call_and_return_conditional_losses_418629) with ops with unsaved custom gradients. Will likely fail if a gradient is requested.\n",
            "WARNING:absl:Importing a function (__inference_block3a_expand_activation_layer_call_and_return_conditional_losses_416359) with ops with unsaved custom gradients. Will likely fail if a gradient is requested.\n",
            "WARNING:absl:Importing a function (__inference_block3b_expand_activation_layer_call_and_return_conditional_losses_451395) with ops with unsaved custom gradients. Will likely fail if a gradient is requested.\n",
            "WARNING:absl:Importing a function (__inference_block6c_activation_layer_call_and_return_conditional_losses_454690) with ops with unsaved custom gradients. Will likely fail if a gradient is requested.\n",
            "WARNING:absl:Importing a function (__inference_block6d_se_reduce_layer_call_and_return_conditional_losses_419905) with ops with unsaved custom gradients. Will likely fail if a gradient is requested.\n",
            "WARNING:absl:Importing a function (__inference_block6c_activation_layer_call_and_return_conditional_losses_419526) with ops with unsaved custom gradients. Will likely fail if a gradient is requested.\n",
            "WARNING:absl:Importing a function (__inference_block5b_se_reduce_layer_call_and_return_conditional_losses_418297) with ops with unsaved custom gradients. Will likely fail if a gradient is requested.\n",
            "WARNING:absl:Importing a function (__inference_block4b_expand_activation_layer_call_and_return_conditional_losses_452094) with ops with unsaved custom gradients. Will likely fail if a gradient is requested.\n",
            "WARNING:absl:Importing a function (__inference__wrapped_model_408990) with ops with unsaved custom gradients. Will likely fail if a gradient is requested.\n",
            "WARNING:absl:Importing a function (__inference_block5c_activation_layer_call_and_return_conditional_losses_453618) with ops with unsaved custom gradients. Will likely fail if a gradient is requested.\n",
            "WARNING:absl:Importing a function (__inference_block6d_expand_activation_layer_call_and_return_conditional_losses_454984) with ops with unsaved custom gradients. Will likely fail if a gradient is requested.\n",
            "WARNING:absl:Importing a function (__inference_block2b_expand_activation_layer_call_and_return_conditional_losses_450696) with ops with unsaved custom gradients. Will likely fail if a gradient is requested.\n",
            "WARNING:absl:Importing a function (__inference_block6a_expand_activation_layer_call_and_return_conditional_losses_418858) with ops with unsaved custom gradients. Will likely fail if a gradient is requested.\n",
            "WARNING:absl:Importing a function (__inference_stem_activation_layer_call_and_return_conditional_losses_450044) with ops with unsaved custom gradients. Will likely fail if a gradient is requested.\n",
            "WARNING:absl:Importing a function (__inference_block5b_activation_layer_call_and_return_conditional_losses_418250) with ops with unsaved custom gradients. Will likely fail if a gradient is requested.\n",
            "WARNING:absl:Importing a function (__inference_block6a_activation_layer_call_and_return_conditional_losses_453991) with ops with unsaved custom gradients. Will likely fail if a gradient is requested.\n",
            "WARNING:absl:Importing a function (__inference_block5b_se_reduce_layer_call_and_return_conditional_losses_453285) with ops with unsaved custom gradients. Will likely fail if a gradient is requested.\n",
            "WARNING:absl:Importing a function (__inference_block4a_expand_activation_layer_call_and_return_conditional_losses_416971) with ops with unsaved custom gradients. Will likely fail if a gradient is requested.\n",
            "WARNING:absl:Importing a function (__inference_top_activation_layer_call_and_return_conditional_losses_455683) with ops with unsaved custom gradients. Will likely fail if a gradient is requested.\n",
            "WARNING:absl:Importing a function (__inference_block2a_se_reduce_layer_call_and_return_conditional_losses_415851) with ops with unsaved custom gradients. Will likely fail if a gradient is requested.\n",
            "WARNING:absl:Importing a function (__inference_block5b_expand_activation_layer_call_and_return_conditional_losses_453166) with ops with unsaved custom gradients. Will likely fail if a gradient is requested.\n",
            "WARNING:absl:Importing a function (__inference_top_activation_layer_call_and_return_conditional_losses_420413) with ops with unsaved custom gradients. Will likely fail if a gradient is requested.\n",
            "WARNING:absl:Importing a function (__inference_block1a_activation_layer_call_and_return_conditional_losses_450123) with ops with unsaved custom gradients. Will likely fail if a gradient is requested.\n",
            "WARNING:absl:Importing a function (__inference_block4a_se_reduce_layer_call_and_return_conditional_losses_417075) with ops with unsaved custom gradients. Will likely fail if a gradient is requested.\n",
            "WARNING:absl:Importing a function (__inference_block5a_expand_activation_layer_call_and_return_conditional_losses_452840) with ops with unsaved custom gradients. Will likely fail if a gradient is requested.\n",
            "WARNING:absl:Importing a function (__inference_block4b_activation_layer_call_and_return_conditional_losses_417307) with ops with unsaved custom gradients. Will likely fail if a gradient is requested.\n",
            "WARNING:absl:Importing a function (__inference_block6d_activation_layer_call_and_return_conditional_losses_455063) with ops with unsaved custom gradients. Will likely fail if a gradient is requested.\n",
            "WARNING:absl:Importing a function (__inference_block6d_expand_activation_layer_call_and_return_conditional_losses_419802) with ops with unsaved custom gradients. Will likely fail if a gradient is requested.\n",
            "WARNING:absl:Importing a function (__inference_block6d_activation_layer_call_and_return_conditional_losses_419858) with ops with unsaved custom gradients. Will likely fail if a gradient is requested.\n",
            "WARNING:absl:Importing a function (__inference_block5a_se_reduce_layer_call_and_return_conditional_losses_452959) with ops with unsaved custom gradients. Will likely fail if a gradient is requested.\n",
            "WARNING:absl:Importing a function (__inference_block3a_expand_activation_layer_call_and_return_conditional_losses_451069) with ops with unsaved custom gradients. Will likely fail if a gradient is requested.\n",
            "WARNING:absl:Importing a function (__inference_block2a_expand_activation_layer_call_and_return_conditional_losses_450370) with ops with unsaved custom gradients. Will likely fail if a gradient is requested.\n",
            "WARNING:absl:Importing a function (__inference_block6b_expand_activation_layer_call_and_return_conditional_losses_419138) with ops with unsaved custom gradients. Will likely fail if a gradient is requested.\n",
            "WARNING:absl:Importing a function (__inference_block6b_activation_layer_call_and_return_conditional_losses_419194) with ops with unsaved custom gradients. Will likely fail if a gradient is requested.\n",
            "WARNING:absl:Importing a function (__inference_block6c_se_reduce_layer_call_and_return_conditional_losses_419573) with ops with unsaved custom gradients. Will likely fail if a gradient is requested.\n",
            "WARNING:absl:Importing a function (__inference_block7a_expand_activation_layer_call_and_return_conditional_losses_420134) with ops with unsaved custom gradients. Will likely fail if a gradient is requested.\n",
            "WARNING:absl:Importing a function (__inference_block4a_activation_layer_call_and_return_conditional_losses_417028) with ops with unsaved custom gradients. Will likely fail if a gradient is requested.\n",
            "WARNING:absl:Importing a function (__inference_block6c_expand_activation_layer_call_and_return_conditional_losses_454611) with ops with unsaved custom gradients. Will likely fail if a gradient is requested.\n",
            "WARNING:absl:Importing a function (__inference_block3b_expand_activation_layer_call_and_return_conditional_losses_416639) with ops with unsaved custom gradients. Will likely fail if a gradient is requested.\n",
            "WARNING:absl:Importing a function (__inference_block4c_se_reduce_layer_call_and_return_conditional_losses_417686) with ops with unsaved custom gradients. Will likely fail if a gradient is requested.\n",
            "WARNING:absl:Importing a function (__inference_block4b_expand_activation_layer_call_and_return_conditional_losses_417251) with ops with unsaved custom gradients. Will likely fail if a gradient is requested.\n",
            "WARNING:absl:Importing a function (__inference_block6d_se_reduce_layer_call_and_return_conditional_losses_455103) with ops with unsaved custom gradients. Will likely fail if a gradient is requested.\n",
            "WARNING:absl:Importing a function (__inference_block2b_se_reduce_layer_call_and_return_conditional_losses_450815) with ops with unsaved custom gradients. Will likely fail if a gradient is requested.\n",
            "WARNING:absl:Importing a function (__inference_block2b_se_reduce_layer_call_and_return_conditional_losses_416130) with ops with unsaved custom gradients. Will likely fail if a gradient is requested.\n",
            "WARNING:absl:Importing a function (__inference_block6b_activation_layer_call_and_return_conditional_losses_454317) with ops with unsaved custom gradients. Will likely fail if a gradient is requested.\n",
            "WARNING:absl:Importing a function (__inference_block6a_se_reduce_layer_call_and_return_conditional_losses_418962) with ops with unsaved custom gradients. Will likely fail if a gradient is requested.\n",
            "WARNING:absl:Importing a function (__inference_block6b_se_reduce_layer_call_and_return_conditional_losses_419241) with ops with unsaved custom gradients. Will likely fail if a gradient is requested.\n"
          ]
        }
      ]
    },
    {
      "cell_type": "code",
      "source": [
        "# Example (in TF 2.x or older Keras)\n",
        "model.save(\"saved_models/my_model.h5\")"
      ],
      "metadata": {
        "colab": {
          "base_uri": "https://localhost:8080/",
          "height": 341
        },
        "id": "k2U8I9urV-lp",
        "outputId": "fad29534-24cd-47bf-c15b-3544ef9676b3"
      },
      "execution_count": null,
      "outputs": [
        {
          "output_type": "stream",
          "name": "stderr",
          "text": [
            "WARNING:absl:You are saving your model as an HDF5 file via `model.save()` or `keras.saving.save_model(model)`. This file format is considered legacy. We recommend using instead the native Keras format, e.g. `model.save('my_model.keras')` or `keras.saving.save_model(model, 'my_model.keras')`. \n"
          ]
        },
        {
          "output_type": "error",
          "ename": "AttributeError",
          "evalue": "'UninitializedVariable' object has no attribute 'path'",
          "traceback": [
            "\u001b[0;31m---------------------------------------------------------------------------\u001b[0m",
            "\u001b[0;31mAttributeError\u001b[0m                            Traceback (most recent call last)",
            "\u001b[0;32m<ipython-input-38-3129afbd8e9f>\u001b[0m in \u001b[0;36m<cell line: 0>\u001b[0;34m()\u001b[0m\n\u001b[1;32m      1\u001b[0m \u001b[0;31m# Example (in TF 2.x or older Keras)\u001b[0m\u001b[0;34m\u001b[0m\u001b[0;34m\u001b[0m\u001b[0m\n\u001b[0;32m----> 2\u001b[0;31m \u001b[0mmodel\u001b[0m\u001b[0;34m.\u001b[0m\u001b[0msave\u001b[0m\u001b[0;34m(\u001b[0m\u001b[0;34m\"saved_models/my_model.h5\"\u001b[0m\u001b[0;34m)\u001b[0m\u001b[0;34m\u001b[0m\u001b[0;34m\u001b[0m\u001b[0m\n\u001b[0m",
            "\u001b[0;32m/usr/local/lib/python3.11/dist-packages/keras/src/utils/traceback_utils.py\u001b[0m in \u001b[0;36merror_handler\u001b[0;34m(*args, **kwargs)\u001b[0m\n\u001b[1;32m    120\u001b[0m             \u001b[0;31m# To get the full stack trace, call:\u001b[0m\u001b[0;34m\u001b[0m\u001b[0;34m\u001b[0m\u001b[0m\n\u001b[1;32m    121\u001b[0m             \u001b[0;31m# `keras.config.disable_traceback_filtering()`\u001b[0m\u001b[0;34m\u001b[0m\u001b[0;34m\u001b[0m\u001b[0m\n\u001b[0;32m--> 122\u001b[0;31m             \u001b[0;32mraise\u001b[0m \u001b[0me\u001b[0m\u001b[0;34m.\u001b[0m\u001b[0mwith_traceback\u001b[0m\u001b[0;34m(\u001b[0m\u001b[0mfiltered_tb\u001b[0m\u001b[0;34m)\u001b[0m \u001b[0;32mfrom\u001b[0m \u001b[0;32mNone\u001b[0m\u001b[0;34m\u001b[0m\u001b[0;34m\u001b[0m\u001b[0m\n\u001b[0m\u001b[1;32m    123\u001b[0m         \u001b[0;32mfinally\u001b[0m\u001b[0;34m:\u001b[0m\u001b[0;34m\u001b[0m\u001b[0;34m\u001b[0m\u001b[0m\n\u001b[1;32m    124\u001b[0m             \u001b[0;32mdel\u001b[0m \u001b[0mfiltered_tb\u001b[0m\u001b[0;34m\u001b[0m\u001b[0;34m\u001b[0m\u001b[0m\n",
            "\u001b[0;32m/usr/local/lib/python3.11/dist-packages/keras/src/legacy/saving/legacy_h5_format.py\u001b[0m in \u001b[0;36m<listcomp>\u001b[0;34m(.0)\u001b[0m\n\u001b[1;32m    232\u001b[0m     \"\"\"\n\u001b[1;32m    233\u001b[0m     \u001b[0mweight_values\u001b[0m \u001b[0;34m=\u001b[0m \u001b[0;34m[\u001b[0m\u001b[0mbackend\u001b[0m\u001b[0;34m.\u001b[0m\u001b[0mconvert_to_numpy\u001b[0m\u001b[0;34m(\u001b[0m\u001b[0mw\u001b[0m\u001b[0;34m)\u001b[0m \u001b[0;32mfor\u001b[0m \u001b[0mw\u001b[0m \u001b[0;32min\u001b[0m \u001b[0mweights\u001b[0m\u001b[0;34m]\u001b[0m\u001b[0;34m\u001b[0m\u001b[0;34m\u001b[0m\u001b[0m\n\u001b[0;32m--> 234\u001b[0;31m     \u001b[0mweight_names\u001b[0m \u001b[0;34m=\u001b[0m \u001b[0;34m[\u001b[0m\u001b[0mstr\u001b[0m\u001b[0;34m(\u001b[0m\u001b[0mw\u001b[0m\u001b[0;34m.\u001b[0m\u001b[0mpath\u001b[0m\u001b[0;34m)\u001b[0m\u001b[0;34m.\u001b[0m\u001b[0mencode\u001b[0m\u001b[0;34m(\u001b[0m\u001b[0;34m\"utf8\"\u001b[0m\u001b[0;34m)\u001b[0m \u001b[0;32mfor\u001b[0m \u001b[0mw\u001b[0m \u001b[0;32min\u001b[0m \u001b[0mweights\u001b[0m\u001b[0;34m]\u001b[0m\u001b[0;34m\u001b[0m\u001b[0;34m\u001b[0m\u001b[0m\n\u001b[0m\u001b[1;32m    235\u001b[0m     \u001b[0msave_attributes_to_hdf5_group\u001b[0m\u001b[0;34m(\u001b[0m\u001b[0mf\u001b[0m\u001b[0;34m,\u001b[0m \u001b[0;34m\"weight_names\"\u001b[0m\u001b[0;34m,\u001b[0m \u001b[0mweight_names\u001b[0m\u001b[0;34m)\u001b[0m\u001b[0;34m\u001b[0m\u001b[0;34m\u001b[0m\u001b[0m\n\u001b[1;32m    236\u001b[0m     \u001b[0;32mfor\u001b[0m \u001b[0mname\u001b[0m\u001b[0;34m,\u001b[0m \u001b[0mval\u001b[0m \u001b[0;32min\u001b[0m \u001b[0mzip\u001b[0m\u001b[0;34m(\u001b[0m\u001b[0mweight_names\u001b[0m\u001b[0;34m,\u001b[0m \u001b[0mweight_values\u001b[0m\u001b[0;34m)\u001b[0m\u001b[0;34m:\u001b[0m\u001b[0;34m\u001b[0m\u001b[0;34m\u001b[0m\u001b[0m\n",
            "\u001b[0;31mAttributeError\u001b[0m: 'UninitializedVariable' object has no attribute 'path'"
          ]
        }
      ]
    },
    {
      "cell_type": "code",
      "execution_count": null,
      "metadata": {
        "id": "rWD6ExZ9O4hL",
        "colab": {
          "base_uri": "https://localhost:8080/",
          "height": 321
        },
        "outputId": "bca8d592-e549-47f2-952f-b235395eb140"
      },
      "outputs": [
        {
          "output_type": "error",
          "ename": "AttributeError",
          "evalue": "'UninitializedVariable' object has no attribute 'regularizer'",
          "traceback": [
            "\u001b[0;31m---------------------------------------------------------------------------\u001b[0m",
            "\u001b[0;31mAttributeError\u001b[0m                            Traceback (most recent call last)",
            "\u001b[0;32m<ipython-input-37-497575514023>\u001b[0m in \u001b[0;36m<cell line: 0>\u001b[0;34m()\u001b[0m\n\u001b[1;32m      1\u001b[0m \u001b[0;31m# evaluate downloaded model\u001b[0m\u001b[0;34m\u001b[0m\u001b[0;34m\u001b[0m\u001b[0m\n\u001b[0;32m----> 2\u001b[0;31m \u001b[0mdownloaded_model_results\u001b[0m \u001b[0;34m=\u001b[0m \u001b[0mmodel\u001b[0m\u001b[0;34m.\u001b[0m\u001b[0mevaluate\u001b[0m\u001b[0;34m(\u001b[0m\u001b[0mtest_data_all_10_percent\u001b[0m\u001b[0;34m)\u001b[0m\u001b[0;34m\u001b[0m\u001b[0;34m\u001b[0m\u001b[0m\n\u001b[0m\u001b[1;32m      3\u001b[0m \u001b[0mdownloaded_model_results\u001b[0m\u001b[0;34m\u001b[0m\u001b[0;34m\u001b[0m\u001b[0m\n",
            "\u001b[0;32m/usr/local/lib/python3.11/dist-packages/keras/src/utils/traceback_utils.py\u001b[0m in \u001b[0;36merror_handler\u001b[0;34m(*args, **kwargs)\u001b[0m\n\u001b[1;32m    120\u001b[0m             \u001b[0;31m# To get the full stack trace, call:\u001b[0m\u001b[0;34m\u001b[0m\u001b[0;34m\u001b[0m\u001b[0m\n\u001b[1;32m    121\u001b[0m             \u001b[0;31m# `keras.config.disable_traceback_filtering()`\u001b[0m\u001b[0;34m\u001b[0m\u001b[0;34m\u001b[0m\u001b[0m\n\u001b[0;32m--> 122\u001b[0;31m             \u001b[0;32mraise\u001b[0m \u001b[0me\u001b[0m\u001b[0;34m.\u001b[0m\u001b[0mwith_traceback\u001b[0m\u001b[0;34m(\u001b[0m\u001b[0mfiltered_tb\u001b[0m\u001b[0;34m)\u001b[0m \u001b[0;32mfrom\u001b[0m \u001b[0;32mNone\u001b[0m\u001b[0;34m\u001b[0m\u001b[0;34m\u001b[0m\u001b[0m\n\u001b[0m\u001b[1;32m    123\u001b[0m         \u001b[0;32mfinally\u001b[0m\u001b[0;34m:\u001b[0m\u001b[0;34m\u001b[0m\u001b[0;34m\u001b[0m\u001b[0m\n\u001b[1;32m    124\u001b[0m             \u001b[0;32mdel\u001b[0m \u001b[0mfiltered_tb\u001b[0m\u001b[0;34m\u001b[0m\u001b[0;34m\u001b[0m\u001b[0m\n",
            "\u001b[0;32m/usr/local/lib/python3.11/dist-packages/keras/src/layers/layer.py\u001b[0m in \u001b[0;36m_get_regularization_losses\u001b[0;34m(self)\u001b[0m\n\u001b[1;32m   1152\u001b[0m         \u001b[0mweight_regularization_losses\u001b[0m \u001b[0;34m=\u001b[0m \u001b[0;34m[\u001b[0m\u001b[0;34m]\u001b[0m\u001b[0;34m\u001b[0m\u001b[0;34m\u001b[0m\u001b[0m\n\u001b[1;32m   1153\u001b[0m         \u001b[0;32mfor\u001b[0m \u001b[0mvariable\u001b[0m \u001b[0;32min\u001b[0m \u001b[0mself\u001b[0m\u001b[0;34m.\u001b[0m\u001b[0mtrainable_weights\u001b[0m\u001b[0;34m:\u001b[0m\u001b[0;34m\u001b[0m\u001b[0;34m\u001b[0m\u001b[0m\n\u001b[0;32m-> 1154\u001b[0;31m             \u001b[0;32mif\u001b[0m \u001b[0mvariable\u001b[0m\u001b[0;34m.\u001b[0m\u001b[0mregularizer\u001b[0m \u001b[0;32mis\u001b[0m \u001b[0;32mNone\u001b[0m\u001b[0;34m:\u001b[0m\u001b[0;34m\u001b[0m\u001b[0;34m\u001b[0m\u001b[0m\n\u001b[0m\u001b[1;32m   1155\u001b[0m                 \u001b[0;32mcontinue\u001b[0m\u001b[0;34m\u001b[0m\u001b[0;34m\u001b[0m\u001b[0m\n\u001b[1;32m   1156\u001b[0m             \u001b[0;32mif\u001b[0m \u001b[0mbackend\u001b[0m\u001b[0;34m.\u001b[0m\u001b[0min_stateless_scope\u001b[0m\u001b[0;34m(\u001b[0m\u001b[0;34m)\u001b[0m \u001b[0;32mand\u001b[0m \u001b[0;32mnot\u001b[0m \u001b[0min_symbolic_scope\u001b[0m\u001b[0;34m(\u001b[0m\u001b[0;34m)\u001b[0m\u001b[0;34m:\u001b[0m\u001b[0;34m\u001b[0m\u001b[0;34m\u001b[0m\u001b[0m\n",
            "\u001b[0;31mAttributeError\u001b[0m: 'UninitializedVariable' object has no attribute 'regularizer'"
          ]
        }
      ],
      "source": [
        "# evaluate downloaded model\n",
        "downloaded_model_results = model.evaluate(test_data_all_10_percent)\n",
        "downloaded_model_results"
      ]
    },
    {
      "cell_type": "markdown",
      "metadata": {
        "id": "I-N9c9qYP6z6"
      },
      "source": [
        "## Making predictions with trained model"
      ]
    },
    {
      "cell_type": "code",
      "execution_count": null,
      "metadata": {
        "id": "nisWrh5pP-PT"
      },
      "outputs": [],
      "source": [
        "preds_probs = model.predict(test_data_all_10_percent, verbose=1)"
      ]
    },
    {
      "cell_type": "code",
      "execution_count": null,
      "metadata": {
        "id": "Xa9S-CZdQW0E"
      },
      "outputs": [],
      "source": [
        "len(test_data_all_10_percent)"
      ]
    },
    {
      "cell_type": "code",
      "execution_count": null,
      "metadata": {
        "id": "LbcOgBjsQrx5"
      },
      "outputs": [],
      "source": [
        "len(preds_probs)"
      ]
    },
    {
      "cell_type": "code",
      "execution_count": null,
      "metadata": {
        "id": "bBxKDXjlQs5T"
      },
      "outputs": [],
      "source": [
        "preds_probs.shape"
      ]
    },
    {
      "cell_type": "code",
      "execution_count": null,
      "metadata": {
        "id": "NgmS-yZvQ3rN"
      },
      "outputs": [],
      "source": [
        "preds_probs[:10]"
      ]
    },
    {
      "cell_type": "code",
      "execution_count": null,
      "metadata": {
        "id": "gOEQvD09RHrC"
      },
      "outputs": [],
      "source": [
        "preds_probs[0], len(preds_probs[0]), sum(preds_probs[0])"
      ]
    },
    {
      "cell_type": "code",
      "execution_count": null,
      "metadata": {
        "id": "lhH_ZHuEROVD"
      },
      "outputs": [],
      "source": [
        "preds_probs[0].argmax()"
      ]
    },
    {
      "cell_type": "code",
      "execution_count": null,
      "metadata": {
        "id": "jKexYWrQSH5e"
      },
      "outputs": [],
      "source": [
        "test_data_all_10_percent.class_names"
      ]
    },
    {
      "cell_type": "code",
      "execution_count": null,
      "metadata": {
        "id": "TSQx-2nnSaay"
      },
      "outputs": [],
      "source": [
        "test_data_all_10_percent.class_names[preds_probs[0].argmax()]"
      ]
    },
    {
      "cell_type": "code",
      "execution_count": null,
      "metadata": {
        "id": "_Y5na0hYSd4i"
      },
      "outputs": [],
      "source": [
        "# Get pred classes of each label\n",
        "pred_classes = preds_probs.argmax(axis=1)\n",
        "pred_classes[:10]"
      ]
    },
    {
      "cell_type": "code",
      "execution_count": null,
      "metadata": {
        "id": "Hv5U_6jDSu8F"
      },
      "outputs": [],
      "source": [
        "len(pred_classes)"
      ]
    },
    {
      "cell_type": "code",
      "execution_count": null,
      "metadata": {
        "id": "9yigLq_KS5AM"
      },
      "outputs": [],
      "source": [
        "test_data_all_10_percent"
      ]
    },
    {
      "cell_type": "code",
      "execution_count": null,
      "metadata": {
        "id": "ytjuOZHaUUtK"
      },
      "outputs": [],
      "source": [
        "# To get test labels we need to unravel our test_data Batch\n",
        "y_labels = []\n",
        "for images, labels in test_data_all_10_percent.unbatch():\n",
        "  y_labels.append(labels.numpy().argmax())\n",
        "\n",
        "y_labels[:10]"
      ]
    },
    {
      "cell_type": "code",
      "execution_count": null,
      "metadata": {
        "id": "g2Yodp0jVWk1"
      },
      "outputs": [],
      "source": [
        "len(y_labels)"
      ]
    },
    {
      "cell_type": "markdown",
      "source": [
        "## Evaluating predictions"
      ],
      "metadata": {
        "id": "NoBvjULFV7gn"
      }
    },
    {
      "cell_type": "code",
      "source": [
        "from sklearn.metrics import accuracy_score"
      ],
      "metadata": {
        "id": "64jbvDxKgTcI"
      },
      "execution_count": null,
      "outputs": []
    },
    {
      "cell_type": "code",
      "source": [
        "sklearn_accuracy = accuracy_score(y_labels, pred_classes)\n",
        "sklearn_accuracy"
      ],
      "metadata": {
        "colab": {
          "base_uri": "https://localhost:8080/",
          "height": 158
        },
        "id": "zBwW3MG5gtkh",
        "outputId": "da28ba6d-830a-415f-8d5a-cb3ef3f7a484"
      },
      "execution_count": null,
      "outputs": [
        {
          "output_type": "error",
          "ename": "NameError",
          "evalue": "name 'y_labels' is not defined",
          "traceback": [
            "\u001b[0;31m---------------------------------------------------------------------------\u001b[0m",
            "\u001b[0;31mNameError\u001b[0m                                 Traceback (most recent call last)",
            "\u001b[0;32m<ipython-input-3-5f2b7a0fa33a>\u001b[0m in \u001b[0;36m<cell line: 0>\u001b[0;34m()\u001b[0m\n\u001b[0;32m----> 1\u001b[0;31m \u001b[0msklearn_accuracy\u001b[0m \u001b[0;34m=\u001b[0m \u001b[0maccuracy_score\u001b[0m\u001b[0;34m(\u001b[0m\u001b[0my_labels\u001b[0m\u001b[0;34m,\u001b[0m \u001b[0mpred_classes\u001b[0m\u001b[0;34m)\u001b[0m\u001b[0;34m\u001b[0m\u001b[0;34m\u001b[0m\u001b[0m\n\u001b[0m\u001b[1;32m      2\u001b[0m \u001b[0msklearn_accuracy\u001b[0m\u001b[0;34m\u001b[0m\u001b[0;34m\u001b[0m\u001b[0m\n",
            "\u001b[0;31mNameError\u001b[0m: name 'y_labels' is not defined"
          ]
        }
      ]
    },
    {
      "cell_type": "code",
      "source": [
        "import numpy as np\n",
        "np.isclose(results_loaded_model[1], sklearn_accuracy)"
      ],
      "metadata": {
        "colab": {
          "base_uri": "https://localhost:8080/",
          "height": 158
        },
        "id": "mw3VGm52g2YA",
        "outputId": "f1b931ad-d71e-4053-feec-d54dc1e6d90d"
      },
      "execution_count": null,
      "outputs": [
        {
          "output_type": "error",
          "ename": "NameError",
          "evalue": "name 'results_loaded_model' is not defined",
          "traceback": [
            "\u001b[0;31m---------------------------------------------------------------------------\u001b[0m",
            "\u001b[0;31mNameError\u001b[0m                                 Traceback (most recent call last)",
            "\u001b[0;32m<ipython-input-4-5597bf9cd0ce>\u001b[0m in \u001b[0;36m<cell line: 0>\u001b[0;34m()\u001b[0m\n\u001b[1;32m      1\u001b[0m \u001b[0;32mimport\u001b[0m \u001b[0mnumpy\u001b[0m \u001b[0;32mas\u001b[0m \u001b[0mnp\u001b[0m\u001b[0;34m\u001b[0m\u001b[0;34m\u001b[0m\u001b[0m\n\u001b[0;32m----> 2\u001b[0;31m \u001b[0mnp\u001b[0m\u001b[0;34m.\u001b[0m\u001b[0misclose\u001b[0m\u001b[0;34m(\u001b[0m\u001b[0mresults_loaded_model\u001b[0m\u001b[0;34m[\u001b[0m\u001b[0;36m1\u001b[0m\u001b[0;34m]\u001b[0m\u001b[0;34m,\u001b[0m \u001b[0msklearn_accuracy\u001b[0m\u001b[0;34m)\u001b[0m\u001b[0;34m\u001b[0m\u001b[0;34m\u001b[0m\u001b[0m\n\u001b[0m",
            "\u001b[0;31mNameError\u001b[0m: name 'results_loaded_model' is not defined"
          ]
        }
      ]
    },
    {
      "cell_type": "markdown",
      "source": [
        "## Visualize Performance"
      ],
      "metadata": {
        "id": "BT-wV7AZhmcR"
      }
    },
    {
      "cell_type": "code",
      "source": [
        "from helper_functions import make_confusion_matrix"
      ],
      "metadata": {
        "id": "Te8G0xvghKjA"
      },
      "execution_count": null,
      "outputs": []
    },
    {
      "cell_type": "code",
      "source": [
        "class_names = test_data_all_10_percent.class_names\n",
        "class_names"
      ],
      "metadata": {
        "colab": {
          "base_uri": "https://localhost:8080/",
          "height": 158
        },
        "id": "z66ArW_-iCHh",
        "outputId": "7585c5b5-362b-40e0-f4dc-178b7c6ba6c3"
      },
      "execution_count": null,
      "outputs": [
        {
          "output_type": "error",
          "ename": "NameError",
          "evalue": "name 'test_data_all_10_percent' is not defined",
          "traceback": [
            "\u001b[0;31m---------------------------------------------------------------------------\u001b[0m",
            "\u001b[0;31mNameError\u001b[0m                                 Traceback (most recent call last)",
            "\u001b[0;32m<ipython-input-7-fbd0b939e5e8>\u001b[0m in \u001b[0;36m<cell line: 0>\u001b[0;34m()\u001b[0m\n\u001b[0;32m----> 1\u001b[0;31m \u001b[0mclass_names\u001b[0m \u001b[0;34m=\u001b[0m \u001b[0mtest_data_all_10_percent\u001b[0m\u001b[0;34m.\u001b[0m\u001b[0mclass_names\u001b[0m\u001b[0;34m\u001b[0m\u001b[0;34m\u001b[0m\u001b[0m\n\u001b[0m\u001b[1;32m      2\u001b[0m \u001b[0mclass_names\u001b[0m\u001b[0;34m\u001b[0m\u001b[0;34m\u001b[0m\u001b[0m\n",
            "\u001b[0;31mNameError\u001b[0m: name 'test_data_all_10_percent' is not defined"
          ]
        }
      ]
    },
    {
      "cell_type": "code",
      "source": [
        "import matplotlib.pyplot as plt"
      ],
      "metadata": {
        "id": "kaWtEY6uiys4"
      },
      "execution_count": null,
      "outputs": []
    },
    {
      "cell_type": "code",
      "source": [
        "plt.xticks(rotation=70, fontsize=20)\n",
        "plt.yticks(fontsize=20)\n",
        "make_confusion_matrix(y_labels,\n",
        "                      pred_classes,\n",
        "                      class_names,\n",
        "                      figsize=(100, 100),\n",
        "                      text_size=20)"
      ],
      "metadata": {
        "colab": {
          "base_uri": "https://localhost:8080/",
          "height": 672
        },
        "id": "GzKrPu0nhy6Q",
        "outputId": "690ce6bb-fa38-407a-c44b-ceb2a0f13737"
      },
      "execution_count": null,
      "outputs": [
        {
          "output_type": "error",
          "ename": "NameError",
          "evalue": "name 'y_labels' is not defined",
          "traceback": [
            "\u001b[0;31m---------------------------------------------------------------------------\u001b[0m",
            "\u001b[0;31mNameError\u001b[0m                                 Traceback (most recent call last)",
            "\u001b[0;32m<ipython-input-11-2bb6f2e24bb0>\u001b[0m in \u001b[0;36m<cell line: 0>\u001b[0;34m()\u001b[0m\n\u001b[1;32m      1\u001b[0m \u001b[0mplt\u001b[0m\u001b[0;34m.\u001b[0m\u001b[0mxticks\u001b[0m\u001b[0;34m(\u001b[0m\u001b[0mrotation\u001b[0m\u001b[0;34m=\u001b[0m\u001b[0;36m70\u001b[0m\u001b[0;34m,\u001b[0m \u001b[0mfontsize\u001b[0m\u001b[0;34m=\u001b[0m\u001b[0;36m20\u001b[0m\u001b[0;34m)\u001b[0m\u001b[0;34m\u001b[0m\u001b[0;34m\u001b[0m\u001b[0m\n\u001b[1;32m      2\u001b[0m \u001b[0mplt\u001b[0m\u001b[0;34m.\u001b[0m\u001b[0myticks\u001b[0m\u001b[0;34m(\u001b[0m\u001b[0mfontsize\u001b[0m\u001b[0;34m=\u001b[0m\u001b[0;36m20\u001b[0m\u001b[0;34m)\u001b[0m\u001b[0;34m\u001b[0m\u001b[0;34m\u001b[0m\u001b[0m\n\u001b[0;32m----> 3\u001b[0;31m make_confusion_matrix(y_labels,\n\u001b[0m\u001b[1;32m      4\u001b[0m                       \u001b[0mpred_classes\u001b[0m\u001b[0;34m,\u001b[0m\u001b[0;34m\u001b[0m\u001b[0;34m\u001b[0m\u001b[0m\n\u001b[1;32m      5\u001b[0m                       \u001b[0mclass_names\u001b[0m\u001b[0;34m,\u001b[0m\u001b[0;34m\u001b[0m\u001b[0;34m\u001b[0m\u001b[0m\n",
            "\u001b[0;31mNameError\u001b[0m: name 'y_labels' is not defined"
          ]
        },
        {
          "output_type": "display_data",
          "data": {
            "text/plain": [
              "<Figure size 640x480 with 1 Axes>"
            ],
            "image/png": "[encoded data removed]"
          },
          "metadata": {}
        }
      ]
    },
    {
      "cell_type": "code",
      "source": [
        "from sklearn.metrics import classification_report"
      ],
      "metadata": {
        "id": "Crcq3-GUiORg"
      },
      "execution_count": null,
      "outputs": []
    },
    {
      "cell_type": "markdown",
      "source": [
        "* metrics evaluation class-by-class"
      ],
      "metadata": {
        "id": "2ngYpy9gk_RR"
      }
    },
    {
      "cell_type": "code",
      "source": [
        "print(classification_report(y_labels, pred_classes))"
      ],
      "metadata": {
        "colab": {
          "base_uri": "https://localhost:8080/",
          "height": 141
        },
        "id": "XJTwiIc2kQ2Z",
        "outputId": "18b67030-fe42-4452-a311-db662556ee74"
      },
      "execution_count": null,
      "outputs": [
        {
          "output_type": "error",
          "ename": "NameError",
          "evalue": "name 'y_labels' is not defined",
          "traceback": [
            "\u001b[0;31m---------------------------------------------------------------------------\u001b[0m",
            "\u001b[0;31mNameError\u001b[0m                                 Traceback (most recent call last)",
            "\u001b[0;32m<ipython-input-13-cd0e95baee80>\u001b[0m in \u001b[0;36m<cell line: 0>\u001b[0;34m()\u001b[0m\n\u001b[0;32m----> 1\u001b[0;31m \u001b[0mprint\u001b[0m\u001b[0;34m(\u001b[0m\u001b[0mclassification_report\u001b[0m\u001b[0;34m(\u001b[0m\u001b[0my_labels\u001b[0m\u001b[0;34m,\u001b[0m \u001b[0mpred_classes\u001b[0m\u001b[0;34m)\u001b[0m\u001b[0;34m)\u001b[0m\u001b[0;34m\u001b[0m\u001b[0;34m\u001b[0m\u001b[0m\n\u001b[0m",
            "\u001b[0;31mNameError\u001b[0m: name 'y_labels' is not defined"
          ]
        }
      ]
    },
    {
      "cell_type": "code",
      "source": [
        "classification_report_dict = classification_report(y_labels, pred_classes, output_dict=True)\n",
        "classification_report_dict"
      ],
      "metadata": {
        "colab": {
          "base_uri": "https://localhost:8080/",
          "height": 158
        },
        "id": "KC10mvyDkbnR",
        "outputId": "9bef7dd3-09a7-4e8c-b783-436489ecc0cc"
      },
      "execution_count": null,
      "outputs": [
        {
          "output_type": "error",
          "ename": "NameError",
          "evalue": "name 'y_labels' is not defined",
          "traceback": [
            "\u001b[0;31m---------------------------------------------------------------------------\u001b[0m",
            "\u001b[0;31mNameError\u001b[0m                                 Traceback (most recent call last)",
            "\u001b[0;32m<ipython-input-16-df93fc73ffe9>\u001b[0m in \u001b[0;36m<cell line: 0>\u001b[0;34m()\u001b[0m\n\u001b[0;32m----> 1\u001b[0;31m \u001b[0mclassification_report_dict\u001b[0m \u001b[0;34m=\u001b[0m \u001b[0mclassification_report\u001b[0m\u001b[0;34m(\u001b[0m\u001b[0my_labels\u001b[0m\u001b[0;34m,\u001b[0m \u001b[0mpred_classes\u001b[0m\u001b[0;34m,\u001b[0m \u001b[0moutput_dict\u001b[0m\u001b[0;34m=\u001b[0m\u001b[0;32mTrue\u001b[0m\u001b[0;34m)\u001b[0m\u001b[0;34m\u001b[0m\u001b[0;34m\u001b[0m\u001b[0m\n\u001b[0m\u001b[1;32m      2\u001b[0m \u001b[0mclassification_report_dict\u001b[0m\u001b[0;34m\u001b[0m\u001b[0;34m\u001b[0m\u001b[0m\n",
            "\u001b[0;31mNameError\u001b[0m: name 'y_labels' is not defined"
          ]
        }
      ]
    },
    {
      "cell_type": "code",
      "source": [
        "# create empty dictionary for key-value pair of index-f1-score\n",
        "class_f1_scores = {}\n",
        "\n",
        "# loop through classification report dictionary items\n",
        "for key, values_dict in classification_report_dict.items():\n",
        "  if key == \"accuracy\":\n",
        "    break\n",
        "  else:\n",
        "    class_f1_scores[class_names[int(key)]] = values_dict[\"f1-score\"]\n",
        "\n",
        "class_f1_scores"
      ],
      "metadata": {
        "colab": {
          "base_uri": "https://localhost:8080/",
          "height": 211
        },
        "id": "w8yo-ePGlLxA",
        "outputId": "25f7a78a-8a19-45e7-f8b7-ed3ed33132f9"
      },
      "execution_count": null,
      "outputs": [
        {
          "output_type": "error",
          "ename": "NameError",
          "evalue": "name 'classification_report_dict' is not defined",
          "traceback": [
            "\u001b[0;31m---------------------------------------------------------------------------\u001b[0m",
            "\u001b[0;31mNameError\u001b[0m                                 Traceback (most recent call last)",
            "\u001b[0;32m<ipython-input-17-5abaf317082e>\u001b[0m in \u001b[0;36m<cell line: 0>\u001b[0;34m()\u001b[0m\n\u001b[1;32m      3\u001b[0m \u001b[0;34m\u001b[0m\u001b[0m\n\u001b[1;32m      4\u001b[0m \u001b[0;31m# loop through classification report dictionary items\u001b[0m\u001b[0;34m\u001b[0m\u001b[0;34m\u001b[0m\u001b[0m\n\u001b[0;32m----> 5\u001b[0;31m \u001b[0;32mfor\u001b[0m \u001b[0mkey\u001b[0m\u001b[0;34m,\u001b[0m \u001b[0mvalues_dict\u001b[0m \u001b[0;32min\u001b[0m \u001b[0mclassification_report_dict\u001b[0m\u001b[0;34m.\u001b[0m\u001b[0mitems\u001b[0m\u001b[0;34m(\u001b[0m\u001b[0;34m)\u001b[0m\u001b[0;34m:\u001b[0m\u001b[0;34m\u001b[0m\u001b[0;34m\u001b[0m\u001b[0m\n\u001b[0m\u001b[1;32m      6\u001b[0m   \u001b[0;32mif\u001b[0m \u001b[0mkey\u001b[0m \u001b[0;34m==\u001b[0m \u001b[0;34m\"accuracy\"\u001b[0m\u001b[0;34m:\u001b[0m\u001b[0;34m\u001b[0m\u001b[0;34m\u001b[0m\u001b[0m\n\u001b[1;32m      7\u001b[0m     \u001b[0;32mbreak\u001b[0m\u001b[0;34m\u001b[0m\u001b[0;34m\u001b[0m\u001b[0m\n",
            "\u001b[0;31mNameError\u001b[0m: name 'classification_report_dict' is not defined"
          ]
        }
      ]
    },
    {
      "cell_type": "code",
      "source": [
        "# Turn dictionary into dataframe\n",
        "import pandas as pd\n",
        "\n",
        "f1_scores = pd.DataFrame(class_f1_scores).sort_values(\"f1-score\", ascending=False)"
      ],
      "metadata": {
        "colab": {
          "base_uri": "https://localhost:8080/",
          "height": 321
        },
        "id": "jcegnbYsnhth",
        "outputId": "40398b5d-3269-4410-9703-f71c5c8a2c5b"
      },
      "execution_count": null,
      "outputs": [
        {
          "output_type": "error",
          "ename": "KeyError",
          "evalue": "'f1-score'",
          "traceback": [
            "\u001b[0;31m---------------------------------------------------------------------------\u001b[0m",
            "\u001b[0;31mKeyError\u001b[0m                                  Traceback (most recent call last)",
            "\u001b[0;32m<ipython-input-18-3d53b23f894a>\u001b[0m in \u001b[0;36m<cell line: 0>\u001b[0;34m()\u001b[0m\n\u001b[1;32m      2\u001b[0m \u001b[0;32mimport\u001b[0m \u001b[0mpandas\u001b[0m \u001b[0;32mas\u001b[0m \u001b[0mpd\u001b[0m\u001b[0;34m\u001b[0m\u001b[0;34m\u001b[0m\u001b[0m\n\u001b[1;32m      3\u001b[0m \u001b[0;34m\u001b[0m\u001b[0m\n\u001b[0;32m----> 4\u001b[0;31m \u001b[0mf1_scores\u001b[0m \u001b[0;34m=\u001b[0m \u001b[0mpd\u001b[0m\u001b[0;34m.\u001b[0m\u001b[0mDataFrame\u001b[0m\u001b[0;34m(\u001b[0m\u001b[0mclass_f1_scores\u001b[0m\u001b[0;34m)\u001b[0m\u001b[0;34m.\u001b[0m\u001b[0msort_values\u001b[0m\u001b[0;34m(\u001b[0m\u001b[0;34m\"f1-score\"\u001b[0m\u001b[0;34m,\u001b[0m \u001b[0mascending\u001b[0m\u001b[0;34m=\u001b[0m\u001b[0;32mFalse\u001b[0m\u001b[0;34m)\u001b[0m\u001b[0;34m\u001b[0m\u001b[0;34m\u001b[0m\u001b[0m\n\u001b[0m",
            "\u001b[0;32m/usr/local/lib/python3.11/dist-packages/pandas/core/frame.py\u001b[0m in \u001b[0;36msort_values\u001b[0;34m(self, by, axis, ascending, inplace, kind, na_position, ignore_index, key)\u001b[0m\n\u001b[1;32m   7187\u001b[0m             \u001b[0;31m# len(by) == 1\u001b[0m\u001b[0;34m\u001b[0m\u001b[0;34m\u001b[0m\u001b[0m\n\u001b[1;32m   7188\u001b[0m \u001b[0;34m\u001b[0m\u001b[0m\n\u001b[0;32m-> 7189\u001b[0;31m             \u001b[0mk\u001b[0m \u001b[0;34m=\u001b[0m \u001b[0mself\u001b[0m\u001b[0;34m.\u001b[0m\u001b[0m_get_label_or_level_values\u001b[0m\u001b[0;34m(\u001b[0m\u001b[0mby\u001b[0m\u001b[0;34m[\u001b[0m\u001b[0;36m0\u001b[0m\u001b[0;34m]\u001b[0m\u001b[0;34m,\u001b[0m \u001b[0maxis\u001b[0m\u001b[0;34m=\u001b[0m\u001b[0maxis\u001b[0m\u001b[0;34m)\u001b[0m\u001b[0;34m\u001b[0m\u001b[0;34m\u001b[0m\u001b[0m\n\u001b[0m\u001b[1;32m   7190\u001b[0m \u001b[0;34m\u001b[0m\u001b[0m\n\u001b[1;32m   7191\u001b[0m             \u001b[0;31m# need to rewrap column in Series to apply key function\u001b[0m\u001b[0;34m\u001b[0m\u001b[0;34m\u001b[0m\u001b[0m\n",
            "\u001b[0;32m/usr/local/lib/python3.11/dist-packages/pandas/core/generic.py\u001b[0m in \u001b[0;36m_get_label_or_level_values\u001b[0;34m(self, key, axis)\u001b[0m\n\u001b[1;32m   1909\u001b[0m             \u001b[0mvalues\u001b[0m \u001b[0;34m=\u001b[0m \u001b[0mself\u001b[0m\u001b[0;34m.\u001b[0m\u001b[0maxes\u001b[0m\u001b[0;34m[\u001b[0m\u001b[0maxis\u001b[0m\u001b[0;34m]\u001b[0m\u001b[0;34m.\u001b[0m\u001b[0mget_level_values\u001b[0m\u001b[0;34m(\u001b[0m\u001b[0mkey\u001b[0m\u001b[0;34m)\u001b[0m\u001b[0;34m.\u001b[0m\u001b[0m_values\u001b[0m\u001b[0;34m\u001b[0m\u001b[0;34m\u001b[0m\u001b[0m\n\u001b[1;32m   1910\u001b[0m         \u001b[0;32melse\u001b[0m\u001b[0;34m:\u001b[0m\u001b[0;34m\u001b[0m\u001b[0;34m\u001b[0m\u001b[0m\n\u001b[0;32m-> 1911\u001b[0;31m             \u001b[0;32mraise\u001b[0m \u001b[0mKeyError\u001b[0m\u001b[0;34m(\u001b[0m\u001b[0mkey\u001b[0m\u001b[0;34m)\u001b[0m\u001b[0;34m\u001b[0m\u001b[0;34m\u001b[0m\u001b[0m\n\u001b[0m\u001b[1;32m   1912\u001b[0m \u001b[0;34m\u001b[0m\u001b[0m\n\u001b[1;32m   1913\u001b[0m         \u001b[0;31m# Check for duplicates\u001b[0m\u001b[0;34m\u001b[0m\u001b[0;34m\u001b[0m\u001b[0m\n",
            "\u001b[0;31mKeyError\u001b[0m: 'f1-score'"
          ]
        }
      ]
    },
    {
      "cell_type": "code",
      "source": [
        "f1_scores.head()"
      ],
      "metadata": {
        "colab": {
          "base_uri": "https://localhost:8080/",
          "height": 141
        },
        "id": "cJOh-VrooHZx",
        "outputId": "229aeaab-7a2e-4afb-afc6-50a8e54e861a"
      },
      "execution_count": null,
      "outputs": [
        {
          "output_type": "error",
          "ename": "NameError",
          "evalue": "name 'f1_scores' is not defined",
          "traceback": [
            "\u001b[0;31m---------------------------------------------------------------------------\u001b[0m",
            "\u001b[0;31mNameError\u001b[0m                                 Traceback (most recent call last)",
            "\u001b[0;32m<ipython-input-19-4b28bb9362d0>\u001b[0m in \u001b[0;36m<cell line: 0>\u001b[0;34m()\u001b[0m\n\u001b[0;32m----> 1\u001b[0;31m \u001b[0mf1_scores\u001b[0m\u001b[0;34m.\u001b[0m\u001b[0mhead\u001b[0m\u001b[0;34m(\u001b[0m\u001b[0;34m)\u001b[0m\u001b[0;34m\u001b[0m\u001b[0;34m\u001b[0m\u001b[0m\n\u001b[0m",
            "\u001b[0;31mNameError\u001b[0m: name 'f1_scores' is not defined"
          ]
        }
      ]
    },
    {
      "cell_type": "code",
      "source": [
        "f1_scores.tail()"
      ],
      "metadata": {
        "colab": {
          "base_uri": "https://localhost:8080/",
          "height": 141
        },
        "id": "jghYYcgJoMFR",
        "outputId": "4f719b9b-5479-4a41-b67f-8864a2929693"
      },
      "execution_count": null,
      "outputs": [
        {
          "output_type": "error",
          "ename": "NameError",
          "evalue": "name 'f1_scores' is not defined",
          "traceback": [
            "\u001b[0;31m---------------------------------------------------------------------------\u001b[0m",
            "\u001b[0;31mNameError\u001b[0m                                 Traceback (most recent call last)",
            "\u001b[0;32m<ipython-input-20-94c4fda2d01a>\u001b[0m in \u001b[0;36m<cell line: 0>\u001b[0;34m()\u001b[0m\n\u001b[0;32m----> 1\u001b[0;31m \u001b[0mf1_scores\u001b[0m\u001b[0;34m.\u001b[0m\u001b[0mtail\u001b[0m\u001b[0;34m(\u001b[0m\u001b[0;34m)\u001b[0m\u001b[0;34m\u001b[0m\u001b[0;34m\u001b[0m\u001b[0m\n\u001b[0m",
            "\u001b[0;31mNameError\u001b[0m: name 'f1_scores' is not defined"
          ]
        }
      ]
    },
    {
      "cell_type": "code",
      "source": [
        "import seaborn as sns"
      ],
      "metadata": {
        "id": "IKJh_XWxoM05"
      },
      "execution_count": null,
      "outputs": []
    },
    {
      "cell_type": "code",
      "source": [
        "sns.barplot(f1_scores)"
      ],
      "metadata": {
        "colab": {
          "base_uri": "https://localhost:8080/",
          "height": 141
        },
        "id": "OGC8F1G5oSkx",
        "outputId": "2d521b50-4476-45b2-b841-2ee6902eb289"
      },
      "execution_count": null,
      "outputs": [
        {
          "output_type": "error",
          "ename": "NameError",
          "evalue": "name 'f1_scores' is not defined",
          "traceback": [
            "\u001b[0;31m---------------------------------------------------------------------------\u001b[0m",
            "\u001b[0;31mNameError\u001b[0m                                 Traceback (most recent call last)",
            "\u001b[0;32m<ipython-input-22-c139ea8c5823>\u001b[0m in \u001b[0;36m<cell line: 0>\u001b[0;34m()\u001b[0m\n\u001b[0;32m----> 1\u001b[0;31m \u001b[0msns\u001b[0m\u001b[0;34m.\u001b[0m\u001b[0mbarplot\u001b[0m\u001b[0;34m(\u001b[0m\u001b[0mf1_scores\u001b[0m\u001b[0;34m)\u001b[0m\u001b[0;34m\u001b[0m\u001b[0;34m\u001b[0m\u001b[0m\n\u001b[0m",
            "\u001b[0;31mNameError\u001b[0m: name 'f1_scores' is not defined"
          ]
        }
      ]
    },
    {
      "cell_type": "markdown",
      "source": [
        "## Visualization with our own food images"
      ],
      "metadata": {
        "id": "LIEAV6OCpgli"
      }
    },
    {
      "cell_type": "code",
      "source": [
        "import tensorflow as tf\n",
        "import numpy as np\n",
        "import matplotlib.pyplot as plt\n",
        "import os\n",
        "import random"
      ],
      "metadata": {
        "id": "YK7olsPrqwuK"
      },
      "execution_count": null,
      "outputs": []
    },
    {
      "cell_type": "code",
      "source": [
        "# Create a function to load and prepare images\n",
        "def load_and_pred_image(filename, img_shape=224, scale=True):\n",
        "  # read in image\n",
        "  img = tf.io.read_file(filename)\n",
        "\n",
        "  # decode image into tensor\n",
        "  img = tf.io.decode_image(img, channels=3)\n",
        "\n",
        "  # resize image\n",
        "  img = tf.image.resize(img, (img_shape, img_shape))\n",
        "\n",
        "  if scale:\n",
        "    # rescale image\n",
        "    return img/255.\n",
        "  else:\n",
        "    return img"
      ],
      "metadata": {
        "id": "HrX2DiOhoWRB"
      },
      "execution_count": null,
      "outputs": []
    },
    {
      "cell_type": "code",
      "source": [
        "plt.figure(figsize=(17, 10))\n",
        "for i in range(3):\n",
        "  # choose random image from random class\n",
        "  class_name = random.choice(class_names)\n",
        "  filename = random.choice(os.listdir(test_dir + \"/\" + class_name))\n",
        "  filepath = test_dir + class_name + \"/\" + filename\n",
        "\n",
        "  img = load_and_pred_image(filepath, scale=False)\n",
        "  pred_prob = model.predict(tf.expand_dims(img, axis=0))\n",
        "  pred_class = class_names[pred_prob.argmax()]\n",
        "\n",
        "  # Plot images\n",
        "  plt.subplot(1, 3, i+1)\n",
        "  # if not properly working, delete division\n",
        "  plt.imshow(img/255)\n",
        "  if class_name == pred_class:\n",
        "    title_color = \"g\"\n",
        "  else:\n",
        "    title_color = \"r\"\n",
        "  plt.title(f\"actual: {class_name}, pred: {pred_class}, prob: {pred_prob.max():.2f}\",\n",
        "            c=title_color)\n",
        "  plt.axis(False);"
      ],
      "metadata": {
        "colab": {
          "base_uri": "https://localhost:8080/",
          "height": 228
        },
        "id": "Ms3t5wOgs_5l",
        "outputId": "7058683a-d65e-4cb0-85fc-119f14f6eb22"
      },
      "execution_count": null,
      "outputs": [
        {
          "output_type": "error",
          "ename": "NameError",
          "evalue": "name 'class_names' is not defined",
          "traceback": [
            "\u001b[0;31m---------------------------------------------------------------------------\u001b[0m",
            "\u001b[0;31mNameError\u001b[0m                                 Traceback (most recent call last)",
            "\u001b[0;32m<ipython-input-26-3a0697ad23b2>\u001b[0m in \u001b[0;36m<cell line: 0>\u001b[0;34m()\u001b[0m\n\u001b[1;32m      2\u001b[0m \u001b[0;32mfor\u001b[0m \u001b[0mi\u001b[0m \u001b[0;32min\u001b[0m \u001b[0mrange\u001b[0m\u001b[0;34m(\u001b[0m\u001b[0;36m3\u001b[0m\u001b[0;34m)\u001b[0m\u001b[0;34m:\u001b[0m\u001b[0;34m\u001b[0m\u001b[0;34m\u001b[0m\u001b[0m\n\u001b[1;32m      3\u001b[0m   \u001b[0;31m# choose random image from random class\u001b[0m\u001b[0;34m\u001b[0m\u001b[0;34m\u001b[0m\u001b[0m\n\u001b[0;32m----> 4\u001b[0;31m   \u001b[0mclass_name\u001b[0m \u001b[0;34m=\u001b[0m \u001b[0mrandom\u001b[0m\u001b[0;34m.\u001b[0m\u001b[0mchoice\u001b[0m\u001b[0;34m(\u001b[0m\u001b[0mclass_names\u001b[0m\u001b[0;34m)\u001b[0m\u001b[0;34m\u001b[0m\u001b[0;34m\u001b[0m\u001b[0m\n\u001b[0m\u001b[1;32m      5\u001b[0m   \u001b[0mfilename\u001b[0m \u001b[0;34m=\u001b[0m \u001b[0mrandom\u001b[0m\u001b[0;34m.\u001b[0m\u001b[0mchoice\u001b[0m\u001b[0;34m(\u001b[0m\u001b[0mos\u001b[0m\u001b[0;34m.\u001b[0m\u001b[0mlistdir\u001b[0m\u001b[0;34m(\u001b[0m\u001b[0mtest_dir\u001b[0m \u001b[0;34m+\u001b[0m \u001b[0;34m\"/\"\u001b[0m \u001b[0;34m+\u001b[0m \u001b[0mclass_name\u001b[0m\u001b[0;34m)\u001b[0m\u001b[0;34m)\u001b[0m\u001b[0;34m\u001b[0m\u001b[0;34m\u001b[0m\u001b[0m\n\u001b[1;32m      6\u001b[0m   \u001b[0mfilepath\u001b[0m \u001b[0;34m=\u001b[0m \u001b[0mtest_dir\u001b[0m \u001b[0;34m+\u001b[0m \u001b[0mclass_name\u001b[0m \u001b[0;34m+\u001b[0m \u001b[0;34m\"/\"\u001b[0m \u001b[0;34m+\u001b[0m \u001b[0mfilename\u001b[0m\u001b[0;34m\u001b[0m\u001b[0;34m\u001b[0m\u001b[0m\n",
            "\u001b[0;31mNameError\u001b[0m: name 'class_names' is not defined"
          ]
        },
        {
          "output_type": "display_data",
          "data": {
            "text/plain": [
              "<Figure size 1700x1000 with 0 Axes>"
            ]
          },
          "metadata": {}
        }
      ]
    },
    {
      "cell_type": "markdown",
      "source": [
        "### Finding most wrong predictions"
      ],
      "metadata": {
        "id": "mZ0lngh8y_Vo"
      }
    },
    {
      "cell_type": "code",
      "source": [
        "# Get all the image filepaths in the test dataset\n",
        "filepaths = []\n",
        "for filepath in test_data_all_10_percent.list_files(\"/content/101_food_classes_10_percent/test/*/*.jpg\",\n",
        "                                                    shuffle=False):\n",
        "  filepaths.append(filepath.numpy())\n",
        "filepaths[:10]"
      ],
      "metadata": {
        "colab": {
          "base_uri": "https://localhost:8080/",
          "height": 211
        },
        "id": "b0FmHcOqt8Rj",
        "outputId": "580b39f0-c3f8-4fbf-e47b-a8ae94227d78"
      },
      "execution_count": null,
      "outputs": [
        {
          "output_type": "error",
          "ename": "NameError",
          "evalue": "name 'test_data_all_10_percent' is not defined",
          "traceback": [
            "\u001b[0;31m---------------------------------------------------------------------------\u001b[0m",
            "\u001b[0;31mNameError\u001b[0m                                 Traceback (most recent call last)",
            "\u001b[0;32m<ipython-input-29-e6d2e0a3043f>\u001b[0m in \u001b[0;36m<cell line: 0>\u001b[0;34m()\u001b[0m\n\u001b[1;32m      1\u001b[0m \u001b[0;31m# Get all the image filepaths in the test dataset\u001b[0m\u001b[0;34m\u001b[0m\u001b[0;34m\u001b[0m\u001b[0m\n\u001b[1;32m      2\u001b[0m \u001b[0mfilepaths\u001b[0m \u001b[0;34m=\u001b[0m \u001b[0;34m[\u001b[0m\u001b[0;34m]\u001b[0m\u001b[0;34m\u001b[0m\u001b[0;34m\u001b[0m\u001b[0m\n\u001b[0;32m----> 3\u001b[0;31m for filepath in test_data_all_10_percent.list_files(\"/content/101_food_classes_10_percent/test/*/*.jpg\",\n\u001b[0m\u001b[1;32m      4\u001b[0m                                                     shuffle=False):\n\u001b[1;32m      5\u001b[0m   \u001b[0mfilepaths\u001b[0m\u001b[0;34m.\u001b[0m\u001b[0mappend\u001b[0m\u001b[0;34m(\u001b[0m\u001b[0mfilepath\u001b[0m\u001b[0;34m.\u001b[0m\u001b[0mnumpy\u001b[0m\u001b[0;34m(\u001b[0m\u001b[0;34m)\u001b[0m\u001b[0;34m)\u001b[0m\u001b[0;34m\u001b[0m\u001b[0;34m\u001b[0m\u001b[0m\n",
            "\u001b[0;31mNameError\u001b[0m: name 'test_data_all_10_percent' is not defined"
          ]
        }
      ]
    },
    {
      "cell_type": "code",
      "source": [
        "# Create a DataFrame\n",
        "pred_df = pd.DataFrame({\"img_path\": filepaths,\n",
        "                        \"y_true\": y_labels,\n",
        "                        \"y_pred\": pred_classes,\n",
        "                        \"pred_prob\": preds_probs.max(axis=1),\n",
        "                        \"y_true_classname\": [class_names[i] for i in y_labels],\n",
        "                        \"y_pred_classname\":[class_names[i] for i in pred_classes]})\n",
        "\n",
        "pred_df"
      ],
      "metadata": {
        "colab": {
          "base_uri": "https://localhost:8080/",
          "height": 211
        },
        "id": "oNL3yMzo1kZE",
        "outputId": "babecacf-c18b-42b9-c418-14b79d55c924"
      },
      "execution_count": null,
      "outputs": [
        {
          "output_type": "error",
          "ename": "NameError",
          "evalue": "name 'y_labels' is not defined",
          "traceback": [
            "\u001b[0;31m---------------------------------------------------------------------------\u001b[0m",
            "\u001b[0;31mNameError\u001b[0m                                 Traceback (most recent call last)",
            "\u001b[0;32m<ipython-input-30-c0bc82b548bc>\u001b[0m in \u001b[0;36m<cell line: 0>\u001b[0;34m()\u001b[0m\n\u001b[1;32m      1\u001b[0m \u001b[0;31m# Create a DataFrame\u001b[0m\u001b[0;34m\u001b[0m\u001b[0;34m\u001b[0m\u001b[0m\n\u001b[1;32m      2\u001b[0m pred_df = pd.DataFrame({\"img_path\": filepaths,\n\u001b[0;32m----> 3\u001b[0;31m                         \u001b[0;34m\"y_true\"\u001b[0m\u001b[0;34m:\u001b[0m \u001b[0my_labels\u001b[0m\u001b[0;34m,\u001b[0m\u001b[0;34m\u001b[0m\u001b[0;34m\u001b[0m\u001b[0m\n\u001b[0m\u001b[1;32m      4\u001b[0m                         \u001b[0;34m\"y_pred\"\u001b[0m\u001b[0;34m:\u001b[0m \u001b[0mpred_classes\u001b[0m\u001b[0;34m,\u001b[0m\u001b[0;34m\u001b[0m\u001b[0;34m\u001b[0m\u001b[0m\n\u001b[1;32m      5\u001b[0m                         \u001b[0;34m\"pred_prob\"\u001b[0m\u001b[0;34m:\u001b[0m \u001b[0mpreds_probs\u001b[0m\u001b[0;34m.\u001b[0m\u001b[0mmax\u001b[0m\u001b[0;34m(\u001b[0m\u001b[0maxis\u001b[0m\u001b[0;34m=\u001b[0m\u001b[0;36m1\u001b[0m\u001b[0;34m)\u001b[0m\u001b[0;34m,\u001b[0m\u001b[0;34m\u001b[0m\u001b[0;34m\u001b[0m\u001b[0m\n",
            "\u001b[0;31mNameError\u001b[0m: name 'y_labels' is not defined"
          ]
        }
      ]
    },
    {
      "cell_type": "code",
      "source": [
        "pred_df[\"pred_correct\"] = pred_df[\"y_true\"] == pred_df[\"y_pred\"]"
      ],
      "metadata": {
        "colab": {
          "base_uri": "https://localhost:8080/",
          "height": 141
        },
        "id": "3CQDS_wM21xt",
        "outputId": "1bd85adf-d4cf-4d29-d419-5855f0499189"
      },
      "execution_count": null,
      "outputs": [
        {
          "output_type": "error",
          "ename": "NameError",
          "evalue": "name 'pred_df' is not defined",
          "traceback": [
            "\u001b[0;31m---------------------------------------------------------------------------\u001b[0m",
            "\u001b[0;31mNameError\u001b[0m                                 Traceback (most recent call last)",
            "\u001b[0;32m<ipython-input-31-d894dfe1e7d4>\u001b[0m in \u001b[0;36m<cell line: 0>\u001b[0;34m()\u001b[0m\n\u001b[0;32m----> 1\u001b[0;31m \u001b[0mpred_df\u001b[0m\u001b[0;34m[\u001b[0m\u001b[0;34m\"pred_correct\"\u001b[0m\u001b[0;34m]\u001b[0m \u001b[0;34m=\u001b[0m \u001b[0mpred_df\u001b[0m\u001b[0;34m[\u001b[0m\u001b[0;34m\"y_true\"\u001b[0m\u001b[0;34m]\u001b[0m \u001b[0;34m==\u001b[0m \u001b[0mpred_df\u001b[0m\u001b[0;34m[\u001b[0m\u001b[0;34m\"y_pred\"\u001b[0m\u001b[0;34m]\u001b[0m\u001b[0;34m\u001b[0m\u001b[0;34m\u001b[0m\u001b[0m\n\u001b[0m",
            "\u001b[0;31mNameError\u001b[0m: name 'pred_df' is not defined"
          ]
        }
      ]
    },
    {
      "cell_type": "code",
      "source": [
        "# sort dataframe\n",
        "# pred_df.groupby(\"pred_correct\").iloc[\"False\"].sort_values(\"pred_conf\")"
      ],
      "metadata": {
        "id": "yZWhG7Ni3MP1"
      },
      "execution_count": null,
      "outputs": []
    },
    {
      "cell_type": "code",
      "source": [
        "top_100_wrong = pred_df[pred_df[\"pred_correct\"] == False].sort_values(\"pred_conf\", ascending=False)[:100]\n",
        "top_100_wrong"
      ],
      "metadata": {
        "colab": {
          "base_uri": "https://localhost:8080/",
          "height": 158
        },
        "id": "LSKnS6Zj3sNR",
        "outputId": "6da1341a-ed08-47fe-af89-2473da6d275d"
      },
      "execution_count": null,
      "outputs": [
        {
          "output_type": "error",
          "ename": "NameError",
          "evalue": "name 'pred_df' is not defined",
          "traceback": [
            "\u001b[0;31m---------------------------------------------------------------------------\u001b[0m",
            "\u001b[0;31mNameError\u001b[0m                                 Traceback (most recent call last)",
            "\u001b[0;32m<ipython-input-32-dc4db77df8d5>\u001b[0m in \u001b[0;36m<cell line: 0>\u001b[0;34m()\u001b[0m\n\u001b[0;32m----> 1\u001b[0;31m \u001b[0mtop_100_wrong\u001b[0m \u001b[0;34m=\u001b[0m \u001b[0mpred_df\u001b[0m\u001b[0;34m[\u001b[0m\u001b[0mpred_df\u001b[0m\u001b[0;34m[\u001b[0m\u001b[0;34m\"pred_correct\"\u001b[0m\u001b[0;34m]\u001b[0m \u001b[0;34m==\u001b[0m \u001b[0;32mFalse\u001b[0m\u001b[0;34m]\u001b[0m\u001b[0;34m.\u001b[0m\u001b[0msort_values\u001b[0m\u001b[0;34m(\u001b[0m\u001b[0;34m\"pred_conf\"\u001b[0m\u001b[0;34m,\u001b[0m \u001b[0mascending\u001b[0m\u001b[0;34m=\u001b[0m\u001b[0;32mFalse\u001b[0m\u001b[0;34m)\u001b[0m\u001b[0;34m[\u001b[0m\u001b[0;34m:\u001b[0m\u001b[0;36m100\u001b[0m\u001b[0;34m]\u001b[0m\u001b[0;34m\u001b[0m\u001b[0;34m\u001b[0m\u001b[0m\n\u001b[0m\u001b[1;32m      2\u001b[0m \u001b[0mtop_100_wrong\u001b[0m\u001b[0;34m\u001b[0m\u001b[0;34m\u001b[0m\u001b[0m\n",
            "\u001b[0;31mNameError\u001b[0m: name 'pred_df' is not defined"
          ]
        }
      ]
    },
    {
      "cell_type": "code",
      "source": [
        "# visualize false high predictions\n",
        "images_to_view = 9\n",
        "start_index = 0\n",
        "\n",
        "plt.figure(figsize=(15, 10))\n",
        "for i, row in enumerate(top_100_wrong[start_index:start_index + images_to_view].itertuples()):\n",
        "  plt.subplot(3, 3, i+1)\n",
        "  img = load_and_pred_image(row[1], scale=False)\n",
        "  _, _, _, _, pred_prob, y_true_classname, y_pred_classname, _ = row # only few parameters from row\n",
        "  plt.imshow(img/255.)\n",
        "  plt.title(f\"actual: {class_name}, pred: {pred_class}, prob: {pred_prob.max():.2f}\")"
      ],
      "metadata": {
        "colab": {
          "base_uri": "https://localhost:8080/",
          "height": 228
        },
        "id": "7drJNKgk4OcG",
        "outputId": "b28196e2-ae1f-4251-9b8d-04f9ff14c7bc"
      },
      "execution_count": null,
      "outputs": [
        {
          "output_type": "error",
          "ename": "NameError",
          "evalue": "name 'top_100_wrong' is not defined",
          "traceback": [
            "\u001b[0;31m---------------------------------------------------------------------------\u001b[0m",
            "\u001b[0;31mNameError\u001b[0m                                 Traceback (most recent call last)",
            "\u001b[0;32m<ipython-input-33-103052bd080f>\u001b[0m in \u001b[0;36m<cell line: 0>\u001b[0;34m()\u001b[0m\n\u001b[1;32m      4\u001b[0m \u001b[0;34m\u001b[0m\u001b[0m\n\u001b[1;32m      5\u001b[0m \u001b[0mplt\u001b[0m\u001b[0;34m.\u001b[0m\u001b[0mfigure\u001b[0m\u001b[0;34m(\u001b[0m\u001b[0mfigsize\u001b[0m\u001b[0;34m=\u001b[0m\u001b[0;34m(\u001b[0m\u001b[0;36m15\u001b[0m\u001b[0;34m,\u001b[0m \u001b[0;36m10\u001b[0m\u001b[0;34m)\u001b[0m\u001b[0;34m)\u001b[0m\u001b[0;34m\u001b[0m\u001b[0;34m\u001b[0m\u001b[0m\n\u001b[0;32m----> 6\u001b[0;31m \u001b[0;32mfor\u001b[0m \u001b[0mi\u001b[0m\u001b[0;34m,\u001b[0m \u001b[0mrow\u001b[0m \u001b[0;32min\u001b[0m \u001b[0menumerate\u001b[0m\u001b[0;34m(\u001b[0m\u001b[0mtop_100_wrong\u001b[0m\u001b[0;34m[\u001b[0m\u001b[0mstart_index\u001b[0m\u001b[0;34m:\u001b[0m\u001b[0mstart_index\u001b[0m \u001b[0;34m+\u001b[0m \u001b[0mimages_to_view\u001b[0m\u001b[0;34m]\u001b[0m\u001b[0;34m.\u001b[0m\u001b[0mitertuples\u001b[0m\u001b[0;34m(\u001b[0m\u001b[0;34m)\u001b[0m\u001b[0;34m)\u001b[0m\u001b[0;34m:\u001b[0m\u001b[0;34m\u001b[0m\u001b[0;34m\u001b[0m\u001b[0m\n\u001b[0m\u001b[1;32m      7\u001b[0m   \u001b[0mplt\u001b[0m\u001b[0;34m.\u001b[0m\u001b[0msubplot\u001b[0m\u001b[0;34m(\u001b[0m\u001b[0;36m3\u001b[0m\u001b[0;34m,\u001b[0m \u001b[0;36m3\u001b[0m\u001b[0;34m,\u001b[0m \u001b[0mi\u001b[0m\u001b[0;34m+\u001b[0m\u001b[0;36m1\u001b[0m\u001b[0;34m)\u001b[0m\u001b[0;34m\u001b[0m\u001b[0;34m\u001b[0m\u001b[0m\n\u001b[1;32m      8\u001b[0m   \u001b[0mimg\u001b[0m \u001b[0;34m=\u001b[0m \u001b[0mload_and_pred_image\u001b[0m\u001b[0;34m(\u001b[0m\u001b[0mrow\u001b[0m\u001b[0;34m[\u001b[0m\u001b[0;36m1\u001b[0m\u001b[0;34m]\u001b[0m\u001b[0;34m,\u001b[0m \u001b[0mscale\u001b[0m\u001b[0;34m=\u001b[0m\u001b[0;32mFalse\u001b[0m\u001b[0;34m)\u001b[0m\u001b[0;34m\u001b[0m\u001b[0;34m\u001b[0m\u001b[0m\n",
            "\u001b[0;31mNameError\u001b[0m: name 'top_100_wrong' is not defined"
          ]
        },
        {
          "output_type": "display_data",
          "data": {
            "text/plain": [
              "<Figure size 1500x1000 with 0 Axes>"
            ]
          },
          "metadata": {}
        }
      ]
    },
    {
      "cell_type": "markdown",
      "source": [
        "## Test on our images"
      ],
      "metadata": {
        "id": "fkuy9DVK7mjO"
      }
    },
    {
      "cell_type": "code",
      "source": [
        "!wget https://storage.googleapis.com/ztm_tf_course/food_vision/custom_food_images.zip\n",
        "\n",
        "unzip_data(\"custom_food_images.zip\")"
      ],
      "metadata": {
        "colab": {
          "base_uri": "https://localhost:8080/",
          "height": 367
        },
        "id": "B9MHVx8z7sPH",
        "outputId": "233b4895-d351-4541-864a-499c64714891"
      },
      "execution_count": null,
      "outputs": [
        {
          "output_type": "stream",
          "name": "stdout",
          "text": [
            "--2025-02-05 02:28:16--  https://storage.googleapis.com/ztm_tf_course/food_vision/custom_food_images.zip\n",
            "Resolving storage.googleapis.com (storage.googleapis.com)... 142.250.101.207, 142.251.2.207, 142.250.141.207, ...\n",
            "Connecting to storage.googleapis.com (storage.googleapis.com)|142.250.101.207|:443... connected.\n",
            "HTTP request sent, awaiting response... 200 OK\n",
            "Length: 13192985 (13M) [application/zip]\n",
            "Saving to: ‘custom_food_images.zip’\n",
            "\n",
            "custom_food_images. 100%[===================>]  12.58M  35.4MB/s    in 0.4s    \n",
            "\n",
            "2025-02-05 02:28:17 (35.4 MB/s) - ‘custom_food_images.zip’ saved [13192985/13192985]\n",
            "\n"
          ]
        },
        {
          "output_type": "error",
          "ename": "NameError",
          "evalue": "name 'unzip_data' is not defined",
          "traceback": [
            "\u001b[0;31m---------------------------------------------------------------------------\u001b[0m",
            "\u001b[0;31mNameError\u001b[0m                                 Traceback (most recent call last)",
            "\u001b[0;32m<ipython-input-34-3b4d6969298d>\u001b[0m in \u001b[0;36m<cell line: 0>\u001b[0;34m()\u001b[0m\n\u001b[1;32m      1\u001b[0m \u001b[0mget_ipython\u001b[0m\u001b[0;34m(\u001b[0m\u001b[0;34m)\u001b[0m\u001b[0;34m.\u001b[0m\u001b[0msystem\u001b[0m\u001b[0;34m(\u001b[0m\u001b[0;34m'wget https://storage.googleapis.com/ztm_tf_course/food_vision/custom_food_images.zip'\u001b[0m\u001b[0;34m)\u001b[0m\u001b[0;34m\u001b[0m\u001b[0;34m\u001b[0m\u001b[0m\n\u001b[1;32m      2\u001b[0m \u001b[0;34m\u001b[0m\u001b[0m\n\u001b[0;32m----> 3\u001b[0;31m \u001b[0munzip_data\u001b[0m\u001b[0;34m(\u001b[0m\u001b[0;34m\"custom_food_images.zip\"\u001b[0m\u001b[0;34m)\u001b[0m\u001b[0;34m\u001b[0m\u001b[0;34m\u001b[0m\u001b[0m\n\u001b[0m",
            "\u001b[0;31mNameError\u001b[0m: name 'unzip_data' is not defined"
          ]
        }
      ]
    },
    {
      "cell_type": "code",
      "source": [
        "custom_food_images = [\"custom_food_images/\" + img_path for img_path in os.listdir(\"custom_food_images\")]\n",
        "custom_food_images"
      ],
      "metadata": {
        "colab": {
          "base_uri": "https://localhost:8080/",
          "height": 158
        },
        "id": "cnFMOphp785G",
        "outputId": "a6fd3a17-f114-4d2e-fc8e-5090d3bd88c6"
      },
      "execution_count": null,
      "outputs": [
        {
          "output_type": "error",
          "ename": "FileNotFoundError",
          "evalue": "[Errno 2] No such file or directory: 'custom_food_images'",
          "traceback": [
            "\u001b[0;31m---------------------------------------------------------------------------\u001b[0m",
            "\u001b[0;31mFileNotFoundError\u001b[0m                         Traceback (most recent call last)",
            "\u001b[0;32m<ipython-input-35-6d68a6067d24>\u001b[0m in \u001b[0;36m<cell line: 0>\u001b[0;34m()\u001b[0m\n\u001b[0;32m----> 1\u001b[0;31m \u001b[0mcustom_food_images\u001b[0m \u001b[0;34m=\u001b[0m \u001b[0;34m[\u001b[0m\u001b[0;34m\"custom_food_images/\"\u001b[0m \u001b[0;34m+\u001b[0m \u001b[0mimg_path\u001b[0m \u001b[0;32mfor\u001b[0m \u001b[0mimg_path\u001b[0m \u001b[0;32min\u001b[0m \u001b[0mos\u001b[0m\u001b[0;34m.\u001b[0m\u001b[0mlistdir\u001b[0m\u001b[0;34m(\u001b[0m\u001b[0;34m\"custom_food_images\"\u001b[0m\u001b[0;34m)\u001b[0m\u001b[0;34m]\u001b[0m\u001b[0;34m\u001b[0m\u001b[0;34m\u001b[0m\u001b[0m\n\u001b[0m\u001b[1;32m      2\u001b[0m \u001b[0mcustom_food_images\u001b[0m\u001b[0;34m\u001b[0m\u001b[0;34m\u001b[0m\u001b[0m\n",
            "\u001b[0;31mFileNotFoundError\u001b[0m: [Errno 2] No such file or directory: 'custom_food_images'"
          ]
        }
      ]
    },
    {
      "cell_type": "code",
      "source": [
        "# Make preds and plot custom images\n",
        "for img in custom_food_images:\n",
        "  img = load_and_pred_image(img, scale=False)\n",
        "  pred_prob = model.predict(tf.expand_dims(img, axis=0)) # shape=(1, 224, 224, 3)\n",
        "  pred_class = class_names[pred_prob.argmax()] # get index with the highest value\n",
        "\n",
        "  # plot\n",
        "  plt.figure()\n",
        "  plt.imshow(img/255.)\n",
        "  plt.title(f\"pred: {pred_class}, prob: {pred_prob.max():.2f}\")\n",
        "  plt.axis(False)"
      ],
      "metadata": {
        "colab": {
          "base_uri": "https://localhost:8080/",
          "height": 211
        },
        "id": "F-XQsFzI8RVW",
        "outputId": "e24502c7-6b30-492d-f857-befa18c2da95"
      },
      "execution_count": null,
      "outputs": [
        {
          "output_type": "error",
          "ename": "NameError",
          "evalue": "name 'custom_food_images' is not defined",
          "traceback": [
            "\u001b[0;31m---------------------------------------------------------------------------\u001b[0m",
            "\u001b[0;31mNameError\u001b[0m                                 Traceback (most recent call last)",
            "\u001b[0;32m<ipython-input-36-502bc6d5fbc4>\u001b[0m in \u001b[0;36m<cell line: 0>\u001b[0;34m()\u001b[0m\n\u001b[1;32m      1\u001b[0m \u001b[0;31m# Make preds and plot custom images\u001b[0m\u001b[0;34m\u001b[0m\u001b[0;34m\u001b[0m\u001b[0m\n\u001b[0;32m----> 2\u001b[0;31m \u001b[0;32mfor\u001b[0m \u001b[0mimg\u001b[0m \u001b[0;32min\u001b[0m \u001b[0mcustom_food_images\u001b[0m\u001b[0;34m:\u001b[0m\u001b[0;34m\u001b[0m\u001b[0;34m\u001b[0m\u001b[0m\n\u001b[0m\u001b[1;32m      3\u001b[0m   \u001b[0mimg\u001b[0m \u001b[0;34m=\u001b[0m \u001b[0mload_and_pred_image\u001b[0m\u001b[0;34m(\u001b[0m\u001b[0mimg\u001b[0m\u001b[0;34m,\u001b[0m \u001b[0mscale\u001b[0m\u001b[0;34m=\u001b[0m\u001b[0;32mFalse\u001b[0m\u001b[0;34m)\u001b[0m\u001b[0;34m\u001b[0m\u001b[0;34m\u001b[0m\u001b[0m\n\u001b[1;32m      4\u001b[0m   \u001b[0mpred_prob\u001b[0m \u001b[0;34m=\u001b[0m \u001b[0mmodel\u001b[0m\u001b[0;34m.\u001b[0m\u001b[0mpredict\u001b[0m\u001b[0;34m(\u001b[0m\u001b[0mtf\u001b[0m\u001b[0;34m.\u001b[0m\u001b[0mexpand_dims\u001b[0m\u001b[0;34m(\u001b[0m\u001b[0mimg\u001b[0m\u001b[0;34m,\u001b[0m \u001b[0maxis\u001b[0m\u001b[0;34m=\u001b[0m\u001b[0;36m0\u001b[0m\u001b[0;34m)\u001b[0m\u001b[0;34m)\u001b[0m \u001b[0;31m# shape=(1, 224, 224, 3)\u001b[0m\u001b[0;34m\u001b[0m\u001b[0;34m\u001b[0m\u001b[0m\n\u001b[1;32m      5\u001b[0m   \u001b[0mpred_class\u001b[0m \u001b[0;34m=\u001b[0m \u001b[0mclass_names\u001b[0m\u001b[0;34m[\u001b[0m\u001b[0mpred_prob\u001b[0m\u001b[0;34m.\u001b[0m\u001b[0margmax\u001b[0m\u001b[0;34m(\u001b[0m\u001b[0;34m)\u001b[0m\u001b[0;34m]\u001b[0m \u001b[0;31m# get index with the highest value\u001b[0m\u001b[0;34m\u001b[0m\u001b[0;34m\u001b[0m\u001b[0m\n",
            "\u001b[0;31mNameError\u001b[0m: name 'custom_food_images' is not defined"
          ]
        }
      ]
    },
    {
      "cell_type": "markdown",
      "source": [
        "# Exercises Section"
      ],
      "metadata": {
        "id": "i0-8MYxEM73Y"
      }
    },
    {
      "cell_type": "markdown",
      "source": [
        "![image.png](data:image/png;base64,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)"
      ],
      "metadata": {
        "id": "WZ8F4IosNNdC"
      }
    },
    {
      "cell_type": "code",
      "source": [
        "import tensorflow as tf\n",
        "import numpy as np\n",
        "import pandas as pd\n",
        "import matplotlib.pyplot as plt\n",
        "import os\n",
        "import random"
      ],
      "metadata": {
        "id": "LjlJRCBTYt1r"
      },
      "execution_count": 1,
      "outputs": []
    },
    {
      "cell_type": "code",
      "source": [
        "!wget https://raw.githubusercontent.com/mrdbourke/tensorflow-deep-learning/refs/heads/main/extras/helper_functions.py\n",
        "\n",
        "from helper_functions import create_tensorboard_callback, plot_loss_curves, unzip_data, compare_historys, walk_through_dir"
      ],
      "metadata": {
        "colab": {
          "base_uri": "https://localhost:8080/"
        },
        "id": "zdKF1R8fY9sl",
        "outputId": "4b931452-e991-4ebf-eeb3-bd2fb78ee6ba"
      },
      "execution_count": 3,
      "outputs": [
        {
          "output_type": "stream",
          "name": "stdout",
          "text": [
            "--2025-02-05 13:55:33--  https://raw.githubusercontent.com/mrdbourke/tensorflow-deep-learning/refs/heads/main/extras/helper_functions.py\n",
            "Resolving raw.githubusercontent.com (raw.githubusercontent.com)... 185.199.109.133, 185.199.108.133, 185.199.110.133, ...\n",
            "Connecting to raw.githubusercontent.com (raw.githubusercontent.com)|185.199.109.133|:443... connected.\n",
            "HTTP request sent, awaiting response... 200 OK\n",
            "Length: 10246 (10K) [text/plain]\n",
            "Saving to: ‘helper_functions.py.1’\n",
            "\n",
            "\rhelper_functions.py   0%[                    ]       0  --.-KB/s               \rhelper_functions.py 100%[===================>]  10.01K  --.-KB/s    in 0s      \n",
            "\n",
            "2025-02-05 13:55:33 (68.0 MB/s) - ‘helper_functions.py.1’ saved [10246/10246]\n",
            "\n"
          ]
        }
      ]
    },
    {
      "cell_type": "code",
      "source": [
        "!wget https://raw.githubusercontent.com/mrdbourke/tensorflow-deep-learning/refs/heads/main/images/03-pizza-dad.jpeg\n",
        "!wget https://raw.githubusercontent.com/mrdbourke/tensorflow-deep-learning/refs/heads/main/images/03-hamburger.jpeg\n",
        "!wget https://raw.githubusercontent.com/mrdbourke/tensorflow-deep-learning/refs/heads/main/images/03-steak.jpeg"
      ],
      "metadata": {
        "colab": {
          "base_uri": "https://localhost:8080/"
        },
        "id": "c3tmxJAcZTDj",
        "outputId": "923705af-7f1e-454d-8dbb-89d2c7ca2a7c"
      },
      "execution_count": 5,
      "outputs": [
        {
          "output_type": "stream",
          "name": "stdout",
          "text": [
            "--2025-02-05 13:56:16--  https://raw.githubusercontent.com/mrdbourke/tensorflow-deep-learning/refs/heads/main/images/03-pizza-dad.jpeg\n",
            "Resolving raw.githubusercontent.com (raw.githubusercontent.com)... 185.199.108.133, 185.199.109.133, 185.199.110.133, ...\n",
            "Connecting to raw.githubusercontent.com (raw.githubusercontent.com)|185.199.108.133|:443... connected.\n",
            "HTTP request sent, awaiting response... 200 OK\n",
            "Length: 2874848 (2.7M) [image/jpeg]\n",
            "Saving to: ‘03-pizza-dad.jpeg.1’\n",
            "\n",
            "\r03-pizza-dad.jpeg.1   0%[                    ]       0  --.-KB/s               \r03-pizza-dad.jpeg.1 100%[===================>]   2.74M  --.-KB/s    in 0.08s   \n",
            "\n",
            "2025-02-05 13:56:16 (35.6 MB/s) - ‘03-pizza-dad.jpeg.1’ saved [2874848/2874848]\n",
            "\n",
            "--2025-02-05 13:56:16--  https://raw.githubusercontent.com/mrdbourke/tensorflow-deep-learning/refs/heads/main/images/03-hamburger.jpeg\n",
            "Resolving raw.githubusercontent.com (raw.githubusercontent.com)... 185.199.110.133, 185.199.109.133, 185.199.111.133, ...\n",
            "Connecting to raw.githubusercontent.com (raw.githubusercontent.com)|185.199.110.133|:443... connected.\n",
            "HTTP request sent, awaiting response... 200 OK\n",
            "Length: 3564285 (3.4M) [image/jpeg]\n",
            "Saving to: ‘03-hamburger.jpeg’\n",
            "\n",
            "03-hamburger.jpeg   100%[===================>]   3.40M  --.-KB/s    in 0.08s   \n",
            "\n",
            "2025-02-05 13:56:17 (42.9 MB/s) - ‘03-hamburger.jpeg’ saved [3564285/3564285]\n",
            "\n",
            "--2025-02-05 13:56:17--  https://raw.githubusercontent.com/mrdbourke/tensorflow-deep-learning/refs/heads/main/images/03-steak.jpeg\n",
            "Resolving raw.githubusercontent.com (raw.githubusercontent.com)... 185.199.111.133, 185.199.110.133, 185.199.109.133, ...\n",
            "Connecting to raw.githubusercontent.com (raw.githubusercontent.com)|185.199.111.133|:443... connected.\n",
            "HTTP request sent, awaiting response... 200 OK\n",
            "Length: 1978213 (1.9M) [image/jpeg]\n",
            "Saving to: ‘03-steak.jpeg’\n",
            "\n",
            "03-steak.jpeg       100%[===================>]   1.89M  --.-KB/s    in 0.08s   \n",
            "\n",
            "2025-02-05 13:56:17 (25.1 MB/s) - ‘03-steak.jpeg’ saved [1978213/1978213]\n",
            "\n"
          ]
        }
      ]
    },
    {
      "cell_type": "code",
      "source": [
        "!wget https://storage.googleapis.com/ztm_tf_course/food_vision/101_food_classes_10_percent.zip\n",
        "\n",
        "unzip_data(\"101_food_classes_10_percent.zip\")"
      ],
      "metadata": {
        "colab": {
          "base_uri": "https://localhost:8080/"
        },
        "id": "3Jd1j8dQbJRM",
        "outputId": "c09fbddf-3082-478e-debd-ad0c8ac0f938"
      },
      "execution_count": 12,
      "outputs": [
        {
          "output_type": "stream",
          "name": "stdout",
          "text": [
            "--2025-02-05 14:05:44--  https://storage.googleapis.com/ztm_tf_course/food_vision/101_food_classes_10_percent.zip\n",
            "Resolving storage.googleapis.com (storage.googleapis.com)... 74.125.196.207, 173.194.217.207, 74.125.134.207, ...\n",
            "Connecting to storage.googleapis.com (storage.googleapis.com)|74.125.196.207|:443... connected.\n",
            "HTTP request sent, awaiting response... 200 OK\n",
            "Length: 1625420029 (1.5G) [application/zip]\n",
            "Saving to: ‘101_food_classes_10_percent.zip’\n",
            "\n",
            "101_food_classes_10 100%[===================>]   1.51G  93.1MB/s    in 22s     \n",
            "\n",
            "2025-02-05 14:06:06 (70.4 MB/s) - ‘101_food_classes_10_percent.zip’ saved [1625420029/1625420029]\n",
            "\n"
          ]
        }
      ]
    },
    {
      "cell_type": "code",
      "source": [
        "train_dir = \"101_food_classes_10_percent/train/\"\n",
        "test_dir = \"101_food_classes_10_percent/test/\""
      ],
      "metadata": {
        "id": "P_bxQ_pfblYk"
      },
      "execution_count": 13,
      "outputs": []
    },
    {
      "cell_type": "code",
      "source": [
        "from tensorflow.keras.preprocessing import image_dataset_from_directory"
      ],
      "metadata": {
        "id": "hdac_gXNbvZM"
      },
      "execution_count": 14,
      "outputs": []
    },
    {
      "cell_type": "code",
      "source": [
        "tf.random.set_seed(42)\n",
        "\n",
        "train_data = image_dataset_from_directory(train_dir,\n",
        "                                          label_mode=\"categorical\",\n",
        "                                          image_size=(224, 224))\n",
        "test_data = image_dataset_from_directory(test_dir,\n",
        "                                         label_mode=\"categorical\",\n",
        "                                         image_size=(224, 224))"
      ],
      "metadata": {
        "colab": {
          "base_uri": "https://localhost:8080/"
        },
        "id": "pqncnV78bsQs",
        "outputId": "21adfbf1-7f44-4d8e-8796-12d04d0443de"
      },
      "execution_count": 18,
      "outputs": [
        {
          "output_type": "stream",
          "name": "stdout",
          "text": [
            "Found 7575 files belonging to 101 classes.\n",
            "Found 25250 files belonging to 101 classes.\n"
          ]
        }
      ]
    },
    {
      "cell_type": "code",
      "source": [
        "from tensorflow.keras import layers\n",
        "from tensorflow.keras.models import Sequential"
      ],
      "metadata": {
        "id": "bOElJH6tZxEb"
      },
      "execution_count": 7,
      "outputs": []
    },
    {
      "cell_type": "code",
      "source": [
        "os.mkdir(\"checkpoints\")"
      ],
      "metadata": {
        "id": "Mtfbmbp1dlbU"
      },
      "execution_count": 21,
      "outputs": []
    },
    {
      "cell_type": "code",
      "source": [
        "checkpoint_callback = tf.keras.callbacks.ModelCheckpoint(\"checkpoints/model_checkpoint.weights.h5\",\n",
        "                                                         save_weights_only=True)"
      ],
      "metadata": {
        "id": "D1LNAV1zdac0"
      },
      "execution_count": 24,
      "outputs": []
    },
    {
      "cell_type": "code",
      "source": [
        "tf.random.set_seed(42)\n",
        "\n",
        "augmentation_layer = Sequential([\n",
        "    layers.RandomFlip(\"horizontal\"),\n",
        "    layers.RandomHeight(0.2),\n",
        "    layers.RandomWidth(0.2),\n",
        "    layers.RandomRotation(0.2)\n",
        "])"
      ],
      "metadata": {
        "id": "_VV53yKmaBlT"
      },
      "execution_count": 9,
      "outputs": []
    },
    {
      "cell_type": "code",
      "source": [
        "# 1. Create model\n",
        "base_model = tf.keras.applications.EfficientNetV2B0(include_top=False)\n",
        "base_model.trainable = False\n",
        "\n",
        "inputs = layers.Input(shape=(224, 224, 3), name=\"input_layer\")\n",
        "x = augmentation_layer(inputs)\n",
        "x = base_model(x)\n",
        "x = layers.GlobalAveragePooling2D()(x)\n",
        "outputs = layers.Dense(101, activation=\"softmax\",\n",
        "                       name=\"output_layer\")(x)\n",
        "\n",
        "feature_extraction_model = tf.keras.models.Model(inputs, outputs)\n",
        "\n",
        "feature_extraction_model.compile(loss=\"categorical_crossentropy\",\n",
        "                                 optimizer=tf.keras.optimizers.Adam(),\n",
        "                                 metrics=[\"accuracy\"])"
      ],
      "metadata": {
        "id": "gUdUBjob9Y-X"
      },
      "execution_count": 19,
      "outputs": []
    },
    {
      "cell_type": "code",
      "source": [
        "feature_extractor_epochs = 10"
      ],
      "metadata": {
        "id": "h85Z_JNqcv9c"
      },
      "execution_count": 20,
      "outputs": []
    },
    {
      "cell_type": "code",
      "source": [
        "tf.random.set_seed(42)\n",
        "\n",
        "model.fit(train_data,\n",
        "          epochs=feature_extractor_epochs,\n",
        "          steps_per_epoch=len(train_data),\n",
        "          callbacks=[create_tensorboard_callback(\"tensorboard\", \"feature_extraction_model\"),\n",
        "                     checkpoint_callback])"
      ],
      "metadata": {
        "colab": {
          "base_uri": "https://localhost:8080/"
        },
        "id": "k73gS_eZZtWm",
        "outputId": "dd6a594a-0d57-4c4d-babd-23e43bee58ce"
      },
      "execution_count": 25,
      "outputs": [
        {
          "output_type": "stream",
          "name": "stdout",
          "text": [
            "Saving TensorBoard log files to: tensorboard/feature_extraction_model/20250205-141758\n",
            "Epoch 1/10\n",
            "\u001b[1m237/237\u001b[0m \u001b[32m━━━━━━━━━━━━━━━━━━━━\u001b[0m\u001b[37m\u001b[0m \u001b[1m644s\u001b[0m 3s/step - accuracy: 0.1514 - loss: 4.0042\n",
            "Epoch 2/10\n",
            "\u001b[1m237/237\u001b[0m \u001b[32m━━━━━━━━━━━━━━━━━━━━\u001b[0m\u001b[37m\u001b[0m \u001b[1m626s\u001b[0m 3s/step - accuracy: 0.4450 - loss: 2.4577\n",
            "Epoch 3/10\n",
            "\u001b[1m237/237\u001b[0m \u001b[32m━━━━━━━━━━━━━━━━━━━━\u001b[0m\u001b[37m\u001b[0m \u001b[1m608s\u001b[0m 3s/step - accuracy: 0.5223 - loss: 2.0283\n",
            "Epoch 4/10\n",
            "\u001b[1m237/237\u001b[0m \u001b[32m━━━━━━━━━━━━━━━━━━━━\u001b[0m\u001b[37m\u001b[0m \u001b[1m596s\u001b[0m 3s/step - accuracy: 0.5589 - loss: 1.8191\n",
            "Epoch 5/10\n",
            "\u001b[1m237/237\u001b[0m \u001b[32m━━━━━━━━━━━━━━━━━━━━\u001b[0m\u001b[37m\u001b[0m \u001b[1m596s\u001b[0m 2s/step - accuracy: 0.5851 - loss: 1.6619\n",
            "Epoch 6/10\n",
            "\u001b[1m237/237\u001b[0m \u001b[32m━━━━━━━━━━━━━━━━━━━━\u001b[0m\u001b[37m\u001b[0m \u001b[1m585s\u001b[0m 2s/step - accuracy: 0.6104 - loss: 1.5473\n",
            "Epoch 7/10\n",
            "\u001b[1m237/237\u001b[0m \u001b[32m━━━━━━━━━━━━━━━━━━━━\u001b[0m\u001b[37m\u001b[0m \u001b[1m575s\u001b[0m 2s/step - accuracy: 0.6380 - loss: 1.4505\n",
            "Epoch 8/10\n",
            "\u001b[1m237/237\u001b[0m \u001b[32m━━━━━━━━━━━━━━━━━━━━\u001b[0m\u001b[37m\u001b[0m \u001b[1m548s\u001b[0m 2s/step - accuracy: 0.6573 - loss: 1.3744\n",
            "Epoch 9/10\n",
            "\u001b[1m237/237\u001b[0m \u001b[32m━━━━━━━━━━━━━━━━━━━━\u001b[0m\u001b[37m\u001b[0m \u001b[1m625s\u001b[0m 3s/step - accuracy: 0.6713 - loss: 1.3180\n",
            "Epoch 10/10\n",
            "\u001b[1m237/237\u001b[0m \u001b[32m━━━━━━━━━━━━━━━━━━━━\u001b[0m\u001b[37m\u001b[0m \u001b[1m539s\u001b[0m 2s/step - accuracy: 0.6785 - loss: 1.2484\n"
          ]
        },
        {
          "output_type": "execute_result",
          "data": {
            "text/plain": [
              "<keras.src.callbacks.history.History at 0x7a2c5bacff50>"
            ]
          },
          "metadata": {},
          "execution_count": 25
        }
      ]
    },
    {
      "cell_type": "code",
      "source": [
        "base_model.trainable = True\n",
        "\n",
        "for layer in base_model.layers[:5]:\n",
        "  layer.trainable = False"
      ],
      "metadata": {
        "id": "tHXYz5_heYAF"
      },
      "execution_count": 26,
      "outputs": []
    },
    {
      "cell_type": "code",
      "source": [
        "feature_extraction_model.compile(loss=\"categorical_crossentropy\",\n",
        "                                 optimizer=tf.keras.optimisers.Adam(0.0001),\n",
        "                                 metrics=[\"accuracy\"])"
      ],
      "metadata": {
        "colab": {
          "base_uri": "https://localhost:8080/",
          "height": 176
        },
        "id": "eGu3vi3UyAa-",
        "outputId": "99f6bb1e-d7ab-4420-8ebd-5ae22551c661"
      },
      "execution_count": 27,
      "outputs": [
        {
          "output_type": "error",
          "ename": "AttributeError",
          "evalue": "module 'tensorflow.keras' has no attribute 'optimisers'",
          "traceback": [
            "\u001b[0;31m---------------------------------------------------------------------------\u001b[0m",
            "\u001b[0;31mAttributeError\u001b[0m                            Traceback (most recent call last)",
            "\u001b[0;32m<ipython-input-27-5fa91bbf6ae7>\u001b[0m in \u001b[0;36m<cell line: 0>\u001b[0;34m()\u001b[0m\n\u001b[1;32m      1\u001b[0m model.compile(loss=\"categorical_crossentropy\",\n\u001b[0;32m----> 2\u001b[0;31m               \u001b[0moptimizer\u001b[0m\u001b[0;34m=\u001b[0m\u001b[0mtf\u001b[0m\u001b[0;34m.\u001b[0m\u001b[0mkeras\u001b[0m\u001b[0;34m.\u001b[0m\u001b[0moptimisers\u001b[0m\u001b[0;34m.\u001b[0m\u001b[0mAdam\u001b[0m\u001b[0;34m(\u001b[0m\u001b[0;36m0.0001\u001b[0m\u001b[0;34m)\u001b[0m\u001b[0;34m,\u001b[0m\u001b[0;34m\u001b[0m\u001b[0;34m\u001b[0m\u001b[0m\n\u001b[0m\u001b[1;32m      3\u001b[0m               metrics=[\"accuracy\"])\n",
            "\u001b[0;31mAttributeError\u001b[0m: module 'tensorflow.keras' has no attribute 'optimisers'"
          ]
        }
      ]
    },
    {
      "cell_type": "code",
      "source": [
        "tf.random.set_seed(42)\n",
        "\n",
        "feature_extraction_model.fit(train_data,\n",
        "                             epochs=feature_extractor_epochs,\n",
        "                             steps_per_epoch=len(train_data),\n",
        "                             initial_epochs=history.epochs[-5],\n",
        "                             callbacks=[create_tensorboard_callback(\"tensorboard\", \"fine_tuned_model\"),\n",
        "                                       checkpoint_callback])"
      ],
      "metadata": {
        "id": "ZpMdNQT9yKwm"
      },
      "execution_count": null,
      "outputs": []
    },
    {
      "cell_type": "code",
      "source": [],
      "metadata": {
        "id": "cte4Wt98yrv_"
      },
      "execution_count": null,
      "outputs": []
    }
  ],
  "metadata": {
    "colab": {
      "provenance": [],
      "gpuType": "T4",
      "authorship_tag": "ABX9TyMLmgwOO4ZH9HSi9JJwbF8a",
      "include_colab_link": true
    },
    "kernelspec": {
      "display_name": "Python 3",
      "name": "python3"
    },
    "language_info": {
      "name": "python"
    },
    "accelerator": "GPU"
  },
  "nbformat": 4,
  "nbformat_minor": 0
}