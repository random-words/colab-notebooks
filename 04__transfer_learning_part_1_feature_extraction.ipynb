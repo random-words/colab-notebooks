{
  "nbformat": 4,
  "nbformat_minor": 0,
  "metadata": {
    "colab": {
      "provenance": [],
      "toc_visible": true,
      "gpuType": "T4",
      "authorship_tag": "ABX9TyPdiPOtKdSwpuj6vfdysTgD",
      "include_colab_link": true
    },
    "kernelspec": {
      "name": "python3",
      "display_name": "Python 3"
    },
    "language_info": {
      "name": "python"
    },
    "accelerator": "GPU"
  },
  "cells": [
    {
      "cell_type": "markdown",
      "metadata": {
        "id": "view-in-github",
        "colab_type": "text"
      },
      "source": [
        "<a href=\"https://colab.research.google.com/github/random-words/colab-notebooks/blob/main/04__transfer_learning_part_1_feature_extraction.ipynb\" target=\"_parent\"><img src=\"https://colab.research.google.com/assets/colab-badge.svg\" alt=\"Open In Colab\"/></a>"
      ]
    },
    {
      "cell_type": "markdown",
      "source": [
        "# Feature Extraction"
      ],
      "metadata": {
        "id": "g1g11zjBjAON"
      }
    },
    {
      "cell_type": "code",
      "source": [
        "import tensorflow as tf\n",
        "import pandas as pd\n",
        "import numpy as np\n",
        "import matplotlib.pyplot as plt\n",
        "import random\n",
        "import os"
      ],
      "metadata": {
        "id": "LDIlQE24mie0"
      },
      "execution_count": null,
      "outputs": []
    },
    {
      "cell_type": "code",
      "source": [
        "!nvidia-smi"
      ],
      "metadata": {
        "colab": {
          "base_uri": "https://localhost:8080/"
        },
        "id": "005l7AaSjfik",
        "outputId": "120e8bd5-293c-40a9-b7f9-7c1cc1d060d5"
      },
      "execution_count": null,
      "outputs": [
        {
          "output_type": "stream",
          "name": "stdout",
          "text": [
            "Thu Jan 30 21:33:27 2025       \n",
            "+-----------------------------------------------------------------------------------------+\n",
            "| NVIDIA-SMI 550.54.15              Driver Version: 550.54.15      CUDA Version: 12.4     |\n",
            "|-----------------------------------------+------------------------+----------------------+\n",
            "| GPU  Name                 Persistence-M | Bus-Id          Disp.A | Volatile Uncorr. ECC |\n",
            "| Fan  Temp   Perf          Pwr:Usage/Cap |           Memory-Usage | GPU-Util  Compute M. |\n",
            "|                                         |                        |               MIG M. |\n",
            "|=========================================+========================+======================|\n",
            "|   0  Tesla T4                       Off |   00000000:00:04.0 Off |                    0 |\n",
            "| N/A   56C    P8             10W /   70W |       0MiB /  15360MiB |      0%      Default |\n",
            "|                                         |                        |                  N/A |\n",
            "+-----------------------------------------+------------------------+----------------------+\n",
            "                                                                                         \n",
            "+-----------------------------------------------------------------------------------------+\n",
            "| Processes:                                                                              |\n",
            "|  GPU   GI   CI        PID   Type   Process name                              GPU Memory |\n",
            "|        ID   ID                                                               Usage      |\n",
            "|=========================================================================================|\n",
            "|  No running processes found                                                             |\n",
            "+-----------------------------------------------------------------------------------------+\n"
          ]
        }
      ]
    },
    {
      "cell_type": "markdown",
      "source": [
        "## Exploratory Data Analysis"
      ],
      "metadata": {
        "id": "JVXu8bNCj1AF"
      }
    },
    {
      "cell_type": "code",
      "source": [
        "# Get data (10% of 10 food classes)\n",
        "import zipfile\n",
        "\n",
        "# Download zip\n",
        "!wget https://storage.googleapis.com/ztm_tf_course/food_vision/10_food_classes_10_percent.zip\n",
        "\n",
        "# Unzip file\n",
        "zip_ref = zipfile.ZipFile(\"10_food_classes_10_percent.zip\")\n",
        "zip_ref.extractall()\n",
        "zip_ref.close()"
      ],
      "metadata": {
        "colab": {
          "base_uri": "https://localhost:8080/"
        },
        "id": "GNh7v4wykGfc",
        "outputId": "d346d5e8-694c-41f3-f956-df51a60f50e3"
      },
      "execution_count": null,
      "outputs": [
        {
          "output_type": "stream",
          "name": "stdout",
          "text": [
            "--2025-01-30 21:33:27--  https://storage.googleapis.com/ztm_tf_course/food_vision/10_food_classes_10_percent.zip\n",
            "Resolving storage.googleapis.com (storage.googleapis.com)... 64.233.170.207, 142.251.175.207, 74.125.24.207, ...\n",
            "Connecting to storage.googleapis.com (storage.googleapis.com)|64.233.170.207|:443... connected.\n",
            "HTTP request sent, awaiting response... 200 OK\n",
            "Length: 168546183 (161M) [application/zip]\n",
            "Saving to: ‘10_food_classes_10_percent.zip’\n",
            "\n",
            "10_food_classes_10_ 100%[===================>] 160.74M  22.9MB/s    in 8.1s    \n",
            "\n",
            "2025-01-30 21:33:35 (19.8 MB/s) - ‘10_food_classes_10_percent.zip’ saved [168546183/168546183]\n",
            "\n"
          ]
        }
      ]
    },
    {
      "cell_type": "code",
      "source": [
        "import os\n",
        "\n",
        "for dirpath, dirnames, filenames in os.walk(\"10_food_classes_10_percent\"):\n",
        "  print(f\"there are {len(dirnames)} directories and {len(filenames)} in {dirpath}\")"
      ],
      "metadata": {
        "colab": {
          "base_uri": "https://localhost:8080/"
        },
        "id": "a4PRk4MhktH1",
        "outputId": "4839900a-0833-4eb1-d9c0-5a9129311778"
      },
      "execution_count": null,
      "outputs": [
        {
          "output_type": "stream",
          "name": "stdout",
          "text": [
            "there are 2 directories and 0 in 10_food_classes_10_percent\n",
            "there are 10 directories and 0 in 10_food_classes_10_percent/train\n",
            "there are 0 directories and 75 in 10_food_classes_10_percent/train/pizza\n",
            "there are 0 directories and 75 in 10_food_classes_10_percent/train/chicken_curry\n",
            "there are 0 directories and 75 in 10_food_classes_10_percent/train/fried_rice\n",
            "there are 0 directories and 75 in 10_food_classes_10_percent/train/ice_cream\n",
            "there are 0 directories and 75 in 10_food_classes_10_percent/train/grilled_salmon\n",
            "there are 0 directories and 75 in 10_food_classes_10_percent/train/hamburger\n",
            "there are 0 directories and 75 in 10_food_classes_10_percent/train/steak\n",
            "there are 0 directories and 75 in 10_food_classes_10_percent/train/chicken_wings\n",
            "there are 0 directories and 75 in 10_food_classes_10_percent/train/ramen\n",
            "there are 0 directories and 75 in 10_food_classes_10_percent/train/sushi\n",
            "there are 10 directories and 0 in 10_food_classes_10_percent/test\n",
            "there are 0 directories and 250 in 10_food_classes_10_percent/test/pizza\n",
            "there are 0 directories and 250 in 10_food_classes_10_percent/test/chicken_curry\n",
            "there are 0 directories and 250 in 10_food_classes_10_percent/test/fried_rice\n",
            "there are 0 directories and 250 in 10_food_classes_10_percent/test/ice_cream\n",
            "there are 0 directories and 250 in 10_food_classes_10_percent/test/grilled_salmon\n",
            "there are 0 directories and 250 in 10_food_classes_10_percent/test/hamburger\n",
            "there are 0 directories and 250 in 10_food_classes_10_percent/test/steak\n",
            "there are 0 directories and 250 in 10_food_classes_10_percent/test/chicken_wings\n",
            "there are 0 directories and 250 in 10_food_classes_10_percent/test/ramen\n",
            "there are 0 directories and 250 in 10_food_classes_10_percent/test/sushi\n"
          ]
        }
      ]
    },
    {
      "cell_type": "markdown",
      "source": [
        "## Data Preprocessing"
      ],
      "metadata": {
        "id": "8V8MPpJMmBtT"
      }
    },
    {
      "cell_type": "code",
      "source": [
        "# Setup data inputs\n",
        "from tensorflow.keras.preprocessing.image import ImageDataGenerator\n",
        "\n",
        "IMAGE_SHAPE = (224, 224)\n",
        "BATCH_SIZE = 32\n",
        "\n",
        "train_dir = \"10_food_classes_10_percent/train/\"\n",
        "test_dir = \"10_food_classes_10_percent/test/\"\n",
        "\n",
        "train_datagen = ImageDataGenerator(rescale=1/255.)\n",
        "test_datagen = ImageDataGenerator(rescale=1/255.)\n",
        "\n",
        "train_data = train_datagen.flow_from_directory(train_dir,\n",
        "                                               target_size=IMAGE_SHAPE,\n",
        "                                               batch_size=BATCH_SIZE,\n",
        "                                               class_mode=\"categorical\")\n",
        "\n",
        "test_data = test_datagen.flow_from_directory(test_dir,\n",
        "                                             target_size=IMAGE_SHAPE,\n",
        "                                             batch_size=BATCH_SIZE,\n",
        "                                             class_mode=\"categorical\")"
      ],
      "metadata": {
        "colab": {
          "base_uri": "https://localhost:8080/"
        },
        "id": "6M-1K6XSldNk",
        "outputId": "2c1b9886-91d3-402a-c0c5-990d70a59f25"
      },
      "execution_count": null,
      "outputs": [
        {
          "output_type": "stream",
          "name": "stdout",
          "text": [
            "Found 750 images belonging to 10 classes.\n",
            "Found 2500 images belonging to 10 classes.\n"
          ]
        }
      ]
    },
    {
      "cell_type": "markdown",
      "source": [
        "## Setting up callbacks\n",
        "\n",
        "Callbacks are extra functionality you can add to your models to be performed during or after training. Some of the most popular callbacks include:\n",
        "\n",
        "* Experiment tracking with TensorBoard - log the performance of multiple models and then view and compare these models in a visual way on TensorBoard (a dashboard for inspecting neural network parameters). Helpful to compare the results of different models on your data.\n",
        "* Model checkpointing - save your model as it trains so you can stop training if needed and come back to continue off where you left. Helpful if training takes a long time and can't be done in one sitting.\n",
        "* Early stopping - leave your model training for an arbitrary amount of time and have it stop training automatically when it ceases to improve. Helpful when you've got a large dataset and don't know how long training will take."
      ],
      "metadata": {
        "id": "BfzGWShOneDE"
      }
    },
    {
      "cell_type": "code",
      "source": [
        "# Create TensorBoard callback\n",
        "import datetime\n",
        "\n",
        "def create_tensorboard_callback(dir_name, experiment_name):\n",
        "  log_dir = dir_name + \"/\" + experiment_name + \"/\" + datetime.datetime.now().strftime(\"%Y%m%d-%H%M%S\")\n",
        "  tensorboard_callback = tf.keras.callbacks.TensorBoard(log_dir=log_dir, update_freq='epoch')\n",
        "  print(f\"Saving TensorBoard files to {log_dir}\")\n",
        "\n",
        "  return tensorboard_callback"
      ],
      "metadata": {
        "id": "ngFOG1h8oa3b"
      },
      "execution_count": null,
      "outputs": []
    },
    {
      "cell_type": "code",
      "source": [
        "# URLs of two pretrained models\n",
        "resnet_url = \"https://www.kaggle.com/models/google/resnet-v2/TensorFlow2/50-feature-vector/2\"\n",
        "efficientnet_url = \"https://www.kaggle.com/models/google/efficientnet-v2/TensorFlow2/imagenet1k-b0-feature-vector/2\""
      ],
      "metadata": {
        "id": "6wwYPrnArve6"
      },
      "execution_count": null,
      "outputs": []
    },
    {
      "cell_type": "code",
      "source": [
        "# Import dependencies\n",
        "import tensorflow as tf\n",
        "import tensorflow_hub as hub\n",
        "# from tensorflow.keras import layers\n",
        "# import keras"
      ],
      "metadata": {
        "id": "CEd6QxHYynNZ"
      },
      "execution_count": null,
      "outputs": []
    },
    {
      "cell_type": "code",
      "source": [
        "IMAGE_SHAPE + (3,)"
      ],
      "metadata": {
        "colab": {
          "base_uri": "https://localhost:8080/"
        },
        "id": "Elmkna7W1P53",
        "outputId": "822c75aa-8e6c-4277-d9de-1fba17585814"
      },
      "execution_count": null,
      "outputs": [
        {
          "output_type": "execute_result",
          "data": {
            "text/plain": [
              "(224, 224, 3)"
            ]
          },
          "metadata": {},
          "execution_count": 9
        }
      ]
    },
    {
      "cell_type": "code",
      "source": [
        "# !pip install tf_keras\n",
        "import tf_keras\n",
        "\n",
        "def create_model(model_url, num_classes=10):\n",
        "  \"\"\"Takes a TensorFlow Hub URL and creates a Keras Sequential model with it.\n",
        "\n",
        "  Args:\n",
        "    model_url (str): A TensorFlow Hub feature extraction URL.\n",
        "    num_classes (int): Number of output neurons in output layer,\n",
        "      should be equal to number of target classes, default 10.\n",
        "\n",
        "  Returns:\n",
        "    An uncompiled Keras Sequential model with model_url as feature\n",
        "    extractor layer and Dense output layer with num_classes outputs.\n",
        "  \"\"\"\n",
        "\n",
        "  feature_extractor_layer = hub.KerasLayer(\n",
        "        model_url,\n",
        "        trainable=False,\n",
        "        name=\"feature_extractor_layer\",\n",
        "        input_shape=IMAGE_SHAPE + (3,)\n",
        "  )\n",
        "\n",
        "  model = tf_keras.Sequential()\n",
        "  model.add(feature_extractor_layer)\n",
        "  model.add(tf_keras.layers.Dense(num_classes, activation=\"softmax\", name='output_layer'))\n",
        "\n",
        "  return model"
      ],
      "metadata": {
        "id": "8ufufVXqzJPv"
      },
      "execution_count": null,
      "outputs": []
    },
    {
      "cell_type": "markdown",
      "source": [
        "### Creating and testing ResNet Feature Extraction model"
      ],
      "metadata": {
        "id": "GlGR4lxe2BeH"
      }
    },
    {
      "cell_type": "code",
      "source": [
        "resnet_model = create_model(resnet_url, train_data.num_classes)"
      ],
      "metadata": {
        "id": "-vJTZhBN112Y"
      },
      "execution_count": null,
      "outputs": []
    },
    {
      "cell_type": "code",
      "source": [
        "resnet_model.summary()"
      ],
      "metadata": {
        "colab": {
          "base_uri": "https://localhost:8080/"
        },
        "id": "njSeuwhM2fQu",
        "outputId": "f977a174-5655-4d66-e34c-d05cbc7d97af"
      },
      "execution_count": null,
      "outputs": [
        {
          "output_type": "stream",
          "name": "stdout",
          "text": [
            "Model: \"sequential\"\n",
            "_________________________________________________________________\n",
            " Layer (type)                Output Shape              Param #   \n",
            "=================================================================\n",
            " feature_extractor_layer (K  (None, 2048)              23564800  \n",
            " erasLayer)                                                      \n",
            "                                                                 \n",
            " output_layer (Dense)        (None, 10)                20490     \n",
            "                                                                 \n",
            "=================================================================\n",
            "Total params: 23585290 (89.97 MB)\n",
            "Trainable params: 20490 (80.04 KB)\n",
            "Non-trainable params: 23564800 (89.89 MB)\n",
            "_________________________________________________________________\n"
          ]
        }
      ]
    },
    {
      "cell_type": "code",
      "source": [
        "# compile model\n",
        "resnet_model.compile(loss=\"categorical_crossentropy\",\n",
        "                     optimizer=\"Adam\",\n",
        "                     metrics=[\"accuracy\"])"
      ],
      "metadata": {
        "id": "cRGnlQK85SM-"
      },
      "execution_count": null,
      "outputs": []
    },
    {
      "cell_type": "code",
      "source": [
        "tensorboard_callback = create_tensorboard_callback(\"experiments\", \"resnet50V2\")"
      ],
      "metadata": {
        "colab": {
          "base_uri": "https://localhost:8080/"
        },
        "id": "O1YDL2jH6L4G",
        "outputId": "b09dcfd1-992f-459c-9127-28b34c6b99cd"
      },
      "execution_count": null,
      "outputs": [
        {
          "output_type": "stream",
          "name": "stdout",
          "text": [
            "Saving TensorBoard files to experiments/resnet50V2/20250130-213348\n"
          ]
        }
      ]
    },
    {
      "cell_type": "code",
      "source": [
        "tensorboard_callback = tf.keras.callbacks.TensorBoard(log_dir=\"/content/experiments/resnet50V2\")"
      ],
      "metadata": {
        "id": "gFat4JOtEbw8"
      },
      "execution_count": null,
      "outputs": []
    },
    {
      "cell_type": "code",
      "source": [
        "# fit model\n",
        "resnet_history = resnet_model.fit(train_data, epochs=5,\n",
        "                                  steps_per_epoch=len(train_data),\n",
        "#                                 validation_data=test_data,\n",
        "#                                  callbacks=[tensorboard_callback]\n",
        "                                  )"
      ],
      "metadata": {
        "colab": {
          "base_uri": "https://localhost:8080/"
        },
        "id": "hB2oWhtw5syt",
        "outputId": "1be01746-e12a-4f98-8c1f-98da16732db7"
      },
      "execution_count": null,
      "outputs": [
        {
          "output_type": "stream",
          "name": "stdout",
          "text": [
            "Epoch 1/5\n",
            "24/24 [==============================] - 2s 102ms/step - loss: 0.9874 - accuracy: 0.6947\n",
            "Epoch 2/5\n",
            "24/24 [==============================] - 3s 119ms/step - loss: 0.6728 - accuracy: 0.8093\n",
            "Epoch 3/5\n",
            "24/24 [==============================] - 3s 107ms/step - loss: 0.5128 - accuracy: 0.8587\n",
            "Epoch 4/5\n",
            "24/24 [==============================] - 2s 101ms/step - loss: 0.4090 - accuracy: 0.8920\n",
            "Epoch 5/5\n",
            "24/24 [==============================] - 2s 98ms/step - loss: 0.3301 - accuracy: 0.9280\n"
          ]
        }
      ]
    },
    {
      "cell_type": "code",
      "source": [
        "# resnet_model.evaluate(test_data)"
      ],
      "metadata": {
        "id": "3msWlcGfEJaS"
      },
      "execution_count": null,
      "outputs": []
    },
    {
      "cell_type": "code",
      "source": [
        "pd.DataFrame(resnet_history.history).plot()"
      ],
      "metadata": {
        "colab": {
          "base_uri": "https://localhost:8080/",
          "height": 447
        },
        "id": "VFnSUttPJXIJ",
        "outputId": "7c421310-9c28-4654-89ca-ba5a4925178f"
      },
      "execution_count": null,
      "outputs": [
        {
          "output_type": "execute_result",
          "data": {
            "text/plain": [
              "<Axes: >"
            ]
          },
          "metadata": {},
          "execution_count": 20
        },
        {
          "output_type": "display_data",
          "data": {
            "text/plain": [
              "<Figure size 640x480 with 1 Axes>"
            ],
            "image/png": "[encoded data removed]"
          },
          "metadata": {}
        }
      ]
    },
    {
      "cell_type": "markdown",
      "source": [
        "### Creating and testing EfficientNetB0 Feature Extraction model"
      ],
      "metadata": {
        "id": "9BFh-MxTKO95"
      }
    },
    {
      "cell_type": "code",
      "source": [
        "efficientnet_model = create_model(efficientnet_url, train_data.num_classes)"
      ],
      "metadata": {
        "id": "ROt_rf-7ME0R"
      },
      "execution_count": null,
      "outputs": []
    },
    {
      "cell_type": "code",
      "source": [
        "efficientnet_model.summary()"
      ],
      "metadata": {
        "colab": {
          "base_uri": "https://localhost:8080/"
        },
        "id": "UjWUF62iMczY",
        "outputId": "9eccb5d6-9a47-4496-8d1f-92aaf8617ed6"
      },
      "execution_count": null,
      "outputs": [
        {
          "output_type": "stream",
          "name": "stdout",
          "text": [
            "Model: \"sequential_1\"\n",
            "_________________________________________________________________\n",
            " Layer (type)                Output Shape              Param #   \n",
            "=================================================================\n",
            " feature_extractor_layer (K  (None, 1280)              5919312   \n",
            " erasLayer)                                                      \n",
            "                                                                 \n",
            " output_layer (Dense)        (None, 10)                12810     \n",
            "                                                                 \n",
            "=================================================================\n",
            "Total params: 5932122 (22.63 MB)\n",
            "Trainable params: 12810 (50.04 KB)\n",
            "Non-trainable params: 5919312 (22.58 MB)\n",
            "_________________________________________________________________\n"
          ]
        }
      ]
    },
    {
      "cell_type": "code",
      "source": [
        "efficientnet_model.compile(loss=\"categorical_crossentropy\",\n",
        "                           optimizer=\"Adam\",\n",
        "                           metrics=[\"accuracy\"])"
      ],
      "metadata": {
        "id": "9hBg-TrmMlPg"
      },
      "execution_count": null,
      "outputs": []
    },
    {
      "cell_type": "code",
      "source": [
        "efficientnet_history = efficientnet_model.fit(train_data, epochs=5,\n",
        "                       steps_per_epoch=len(train_data))"
      ],
      "metadata": {
        "colab": {
          "base_uri": "https://localhost:8080/"
        },
        "id": "-PR4Mq4RMv9g",
        "outputId": "efa422da-192e-4b6d-cc88-b13f78fa32a1"
      },
      "execution_count": null,
      "outputs": [
        {
          "output_type": "stream",
          "name": "stdout",
          "text": [
            "Epoch 1/5\n",
            "24/24 [==============================] - 9s 81ms/step - loss: 1.9863 - accuracy: 0.3267\n",
            "Epoch 2/5\n",
            "24/24 [==============================] - 2s 84ms/step - loss: 1.3576 - accuracy: 0.6547\n",
            "Epoch 3/5\n",
            "24/24 [==============================] - 2s 85ms/step - loss: 1.0315 - accuracy: 0.7467\n",
            "Epoch 4/5\n",
            "24/24 [==============================] - 2s 87ms/step - loss: 0.8514 - accuracy: 0.7933\n",
            "Epoch 5/5\n",
            "24/24 [==============================] - 3s 116ms/step - loss: 0.7479 - accuracy: 0.8240\n"
          ]
        }
      ]
    },
    {
      "cell_type": "code",
      "source": [
        "# efficientnet_model.evaluate(test_data)"
      ],
      "metadata": {
        "id": "t9Lv7mgiM5Iw"
      },
      "execution_count": null,
      "outputs": []
    },
    {
      "cell_type": "code",
      "source": [
        "pd.DataFrame(efficientnet_history.history).plot()"
      ],
      "metadata": {
        "colab": {
          "base_uri": "https://localhost:8080/",
          "height": 447
        },
        "id": "RZLFM5ETNFjI",
        "outputId": "f5632b6f-2b92-4386-e301-f3f52bd62a39"
      },
      "execution_count": null,
      "outputs": [
        {
          "output_type": "execute_result",
          "data": {
            "text/plain": [
              "<Axes: >"
            ]
          },
          "metadata": {},
          "execution_count": 37
        },
        {
          "output_type": "display_data",
          "data": {
            "text/plain": [
              "<Figure size 640x480 with 1 Axes>"
            ],
            "image/png": "[encoded data removed]"
          },
          "metadata": {}
        }
      ]
    },
    {
      "cell_type": "markdown",
      "source": [
        "## Different types of Transfer Learning\n",
        "\n",
        "* **\"As is\"** - use pretrained model on the native dataset\n",
        "* **\"Feature extraction\"** - use pretrained model with your own dataset and output layer\n",
        "* **\"Fine-tuning\"** - use pretrained model and change its layers and use it with your own dataset"
      ],
      "metadata": {
        "id": "wHqd74hiQlLY"
      }
    },
    {
      "cell_type": "code",
      "source": [
        "len(efficientnet_model.layers[0].weights)"
      ],
      "metadata": {
        "colab": {
          "base_uri": "https://localhost:8080/"
        },
        "id": "oOZOJgEAPnnq",
        "outputId": "8d000b13-97bf-46cc-82bb-9bd0e9babe39"
      },
      "execution_count": null,
      "outputs": [
        {
          "output_type": "execute_result",
          "data": {
            "text/plain": [
              "359"
            ]
          },
          "metadata": {},
          "execution_count": 41
        }
      ]
    },
    {
      "cell_type": "markdown",
      "source": [
        "### Comparing results using TensorBoard\n",
        "\n",
        "* Cannot do that because of an error that I don't know how to fix"
      ],
      "metadata": {
        "id": "T-Go805xT20I"
      }
    },
    {
      "cell_type": "code",
      "source": [],
      "metadata": {
        "id": "Nf5YOrgERfXv"
      },
      "execution_count": null,
      "outputs": []
    }
  ]
}