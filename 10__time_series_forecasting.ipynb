{
  "nbformat": 4,
  "nbformat_minor": 0,
  "metadata": {
    "colab": {
      "provenance": [],
      "toc_visible": true,
      "authorship_tag": "ABX9TyNworPhIC678c20Pi0pb6qZ",
      "include_colab_link": true
    },
    "kernelspec": {
      "name": "python3",
      "display_name": "Python 3"
    },
    "language_info": {
      "name": "python"
    }
  },
  "cells": [
    {
      "cell_type": "markdown",
      "metadata": {
        "id": "view-in-github",
        "colab_type": "text"
      },
      "source": [
        "<a href=\"https://colab.research.google.com/github/random-words/colab-notebooks/blob/main/10__time_series_forecasting.ipynb\" target=\"_parent\"><img src=\"https://colab.research.google.com/assets/colab-badge.svg\" alt=\"Open In Colab\"/></a>"
      ]
    },
    {
      "cell_type": "markdown",
      "source": [
        "# Time series forecatsing + Milestone Project 3"
      ],
      "metadata": {
        "id": "lRQ6qokjPchZ"
      }
    },
    {
      "cell_type": "markdown",
      "source": [
        "## Get data"
      ],
      "metadata": {
        "id": "FAgfymKUP9Z8"
      }
    },
    {
      "cell_type": "code",
      "source": [
        "!wget https://raw.githubusercontent.com/mrdbourke/tensorflow-deep-learning/main/extras/BTC_USD_2013-10-01_2021-05-18-CoinDesk.csv"
      ],
      "metadata": {
        "colab": {
          "base_uri": "https://localhost:8080/"
        },
        "id": "ca6BoJXLRkjF",
        "outputId": "b177fd3e-e705-4053-834b-c9ffae0a1b8f"
      },
      "execution_count": 74,
      "outputs": [
        {
          "output_type": "stream",
          "name": "stdout",
          "text": [
            "--2025-02-19 21:21:20--  https://raw.githubusercontent.com/mrdbourke/tensorflow-deep-learning/main/extras/BTC_USD_2013-10-01_2021-05-18-CoinDesk.csv\n",
            "Resolving raw.githubusercontent.com (raw.githubusercontent.com)... 185.199.108.133, 185.199.110.133, 185.199.109.133, ...\n",
            "Connecting to raw.githubusercontent.com (raw.githubusercontent.com)|185.199.108.133|:443... connected.\n",
            "HTTP request sent, awaiting response... 200 OK\n",
            "Length: 178509 (174K) [text/plain]\n",
            "Saving to: ‘BTC_USD_2013-10-01_2021-05-18-CoinDesk.csv.1’\n",
            "\n",
            "BTC_USD_2013-10-01_ 100%[===================>] 174.33K  --.-KB/s    in 0.03s   \n",
            "\n",
            "2025-02-19 21:21:20 (5.16 MB/s) - ‘BTC_USD_2013-10-01_2021-05-18-CoinDesk.csv.1’ saved [178509/178509]\n",
            "\n"
          ]
        }
      ]
    },
    {
      "cell_type": "markdown",
      "source": [
        "## Importing time series with Pandas\n"
      ],
      "metadata": {
        "id": "FWGjOFT2R2mK"
      }
    },
    {
      "cell_type": "code",
      "source": [
        "import pandas as pd\n",
        "\n",
        "df = pd.read_csv(\"/content/BTC_USD_2013-10-01_2021-05-18-CoinDesk.csv\",\n",
        "                 parse_dates=[\"Date\"],\n",
        "                 index_col=[\"Date\"])\n",
        "\n",
        "df.head()"
      ],
      "metadata": {
        "colab": {
          "base_uri": "https://localhost:8080/",
          "height": 237
        },
        "id": "Yr-hNZx5SVXN",
        "outputId": "5e246ccd-3e7b-4544-ff69-1954e037db5b"
      },
      "execution_count": 75,
      "outputs": [
        {
          "output_type": "execute_result",
          "data": {
            "text/plain": [
              "           Currency  Closing Price (USD)  24h Open (USD)  24h High (USD)  \\\n",
              "Date                                                                       \n",
              "2013-10-01      BTC            123.65499       124.30466       124.75166   \n",
              "2013-10-02      BTC            125.45500       123.65499       125.75850   \n",
              "2013-10-03      BTC            108.58483       125.45500       125.66566   \n",
              "2013-10-04      BTC            118.67466       108.58483       118.67500   \n",
              "2013-10-05      BTC            121.33866       118.67466       121.93633   \n",
              "\n",
              "            24h Low (USD)  \n",
              "Date                       \n",
              "2013-10-01      122.56349  \n",
              "2013-10-02      123.63383  \n",
              "2013-10-03       83.32833  \n",
              "2013-10-04      107.05816  \n",
              "2013-10-05      118.00566  "
            ],
            "text/html": [
              "\n",
              "  <div id=\"df-74a2b258-b58c-431d-b94e-661f11c0f120\" class=\"colab-df-container\">\n",
              "    <div>\n",
              "<style scoped>\n",
              "    .dataframe tbody tr th:only-of-type {\n",
              "        vertical-align: middle;\n",
              "    }\n",
              "\n",
              "    .dataframe tbody tr th {\n",
              "        vertical-align: top;\n",
              "    }\n",
              "\n",
              "    .dataframe thead th {\n",
              "        text-align: right;\n",
              "    }\n",
              "</style>\n",
              "<table border=\"1\" class=\"dataframe\">\n",
              "  <thead>\n",
              "    <tr style=\"text-align: right;\">\n",
              "      <th></th>\n",
              "      <th>Currency</th>\n",
              "      <th>Closing Price (USD)</th>\n",
              "      <th>24h Open (USD)</th>\n",
              "      <th>24h High (USD)</th>\n",
              "      <th>24h Low (USD)</th>\n",
              "    </tr>\n",
              "    <tr>\n",
              "      <th>Date</th>\n",
              "      <th></th>\n",
              "      <th></th>\n",
              "      <th></th>\n",
              "      <th></th>\n",
              "      <th></th>\n",
              "    </tr>\n",
              "  </thead>\n",
              "  <tbody>\n",
              "    <tr>\n",
              "      <th>2013-10-01</th>\n",
              "      <td>BTC</td>\n",
              "      <td>123.65499</td>\n",
              "      <td>124.30466</td>\n",
              "      <td>124.75166</td>\n",
              "      <td>122.56349</td>\n",
              "    </tr>\n",
              "    <tr>\n",
              "      <th>2013-10-02</th>\n",
              "      <td>BTC</td>\n",
              "      <td>125.45500</td>\n",
              "      <td>123.65499</td>\n",
              "      <td>125.75850</td>\n",
              "      <td>123.63383</td>\n",
              "    </tr>\n",
              "    <tr>\n",
              "      <th>2013-10-03</th>\n",
              "      <td>BTC</td>\n",
              "      <td>108.58483</td>\n",
              "      <td>125.45500</td>\n",
              "      <td>125.66566</td>\n",
              "      <td>83.32833</td>\n",
              "    </tr>\n",
              "    <tr>\n",
              "      <th>2013-10-04</th>\n",
              "      <td>BTC</td>\n",
              "      <td>118.67466</td>\n",
              "      <td>108.58483</td>\n",
              "      <td>118.67500</td>\n",
              "      <td>107.05816</td>\n",
              "    </tr>\n",
              "    <tr>\n",
              "      <th>2013-10-05</th>\n",
              "      <td>BTC</td>\n",
              "      <td>121.33866</td>\n",
              "      <td>118.67466</td>\n",
              "      <td>121.93633</td>\n",
              "      <td>118.00566</td>\n",
              "    </tr>\n",
              "  </tbody>\n",
              "</table>\n",
              "</div>\n",
              "    <div class=\"colab-df-buttons\">\n",
              "\n",
              "  <div class=\"colab-df-container\">\n",
              "    <button class=\"colab-df-convert\" onclick=\"convertToInteractive('df-74a2b258-b58c-431d-b94e-661f11c0f120')\"\n",
              "            title=\"Convert this dataframe to an interactive table.\"\n",
              "            style=\"display:none;\">\n",
              "\n",
              "  <svg xmlns=\"http://www.w3.org/2000/svg\" height=\"24px\" viewBox=\"0 -960 960 960\">\n",
              "    <path d=\"M120-120v-720h720v720H120Zm60-500h600v-160H180v160Zm220 220h160v-160H400v160Zm0 220h160v-160H400v160ZM180-400h160v-160H180v160Zm440 0h160v-160H620v160ZM180-180h160v-160H180v160Zm440 0h160v-160H620v160Z\"/>\n",
              "  </svg>\n",
              "    </button>\n",
              "\n",
              "  <style>\n",
              "    .colab-df-container {\n",
              "      display:flex;\n",
              "      gap: 12px;\n",
              "    }\n",
              "\n",
              "    .colab-df-convert {\n",
              "      background-color: #E8F0FE;\n",
              "      border: none;\n",
              "      border-radius: 50%;\n",
              "      cursor: pointer;\n",
              "      display: none;\n",
              "      fill: #1967D2;\n",
              "      height: 32px;\n",
              "      padding: 0 0 0 0;\n",
              "      width: 32px;\n",
              "    }\n",
              "\n",
              "    .colab-df-convert:hover {\n",
              "      background-color: #E2EBFA;\n",
              "      box-shadow: 0px 1px 2px rgba(60, 64, 67, 0.3), 0px 1px 3px 1px rgba(60, 64, 67, 0.15);\n",
              "      fill: #174EA6;\n",
              "    }\n",
              "\n",
              "    .colab-df-buttons div {\n",
              "      margin-bottom: 4px;\n",
              "    }\n",
              "\n",
              "    [theme=dark] .colab-df-convert {\n",
              "      background-color: #3B4455;\n",
              "      fill: #D2E3FC;\n",
              "    }\n",
              "\n",
              "    [theme=dark] .colab-df-convert:hover {\n",
              "      background-color: #434B5C;\n",
              "      box-shadow: 0px 1px 3px 1px rgba(0, 0, 0, 0.15);\n",
              "      filter: drop-shadow(0px 1px 2px rgba(0, 0, 0, 0.3));\n",
              "      fill: #FFFFFF;\n",
              "    }\n",
              "  </style>\n",
              "\n",
              "    <script>\n",
              "      const buttonEl =\n",
              "        document.querySelector('#df-74a2b258-b58c-431d-b94e-661f11c0f120 button.colab-df-convert');\n",
              "      buttonEl.style.display =\n",
              "        google.colab.kernel.accessAllowed ? 'block' : 'none';\n",
              "\n",
              "      async function convertToInteractive(key) {\n",
              "        const element = document.querySelector('#df-74a2b258-b58c-431d-b94e-661f11c0f120');\n",
              "        const dataTable =\n",
              "          await google.colab.kernel.invokeFunction('convertToInteractive',\n",
              "                                                    [key], {});\n",
              "        if (!dataTable) return;\n",
              "\n",
              "        const docLinkHtml = 'Like what you see? Visit the ' +\n",
              "          '<a target=\"_blank\" href=https://colab.research.google.com/notebooks/data_table.ipynb>data table notebook</a>'\n",
              "          + ' to learn more about interactive tables.';\n",
              "        element.innerHTML = '';\n",
              "        dataTable['output_type'] = 'display_data';\n",
              "        await google.colab.output.renderOutput(dataTable, element);\n",
              "        const docLink = document.createElement('div');\n",
              "        docLink.innerHTML = docLinkHtml;\n",
              "        element.appendChild(docLink);\n",
              "      }\n",
              "    </script>\n",
              "  </div>\n",
              "\n",
              "\n",
              "<div id=\"df-38a08218-8417-471a-b490-1df8997c19c4\">\n",
              "  <button class=\"colab-df-quickchart\" onclick=\"quickchart('df-38a08218-8417-471a-b490-1df8997c19c4')\"\n",
              "            title=\"Suggest charts\"\n",
              "            style=\"display:none;\">\n",
              "\n",
              "<svg xmlns=\"http://www.w3.org/2000/svg\" height=\"24px\"viewBox=\"0 0 24 24\"\n",
              "     width=\"24px\">\n",
              "    <g>\n",
              "        <path d=\"M19 3H5c-1.1 0-2 .9-2 2v14c0 1.1.9 2 2 2h14c1.1 0 2-.9 2-2V5c0-1.1-.9-2-2-2zM9 17H7v-7h2v7zm4 0h-2V7h2v10zm4 0h-2v-4h2v4z\"/>\n",
              "    </g>\n",
              "</svg>\n",
              "  </button>\n",
              "\n",
              "<style>\n",
              "  .colab-df-quickchart {\n",
              "      --bg-color: #E8F0FE;\n",
              "      --fill-color: #1967D2;\n",
              "      --hover-bg-color: #E2EBFA;\n",
              "      --hover-fill-color: #174EA6;\n",
              "      --disabled-fill-color: #AAA;\n",
              "      --disabled-bg-color: #DDD;\n",
              "  }\n",
              "\n",
              "  [theme=dark] .colab-df-quickchart {\n",
              "      --bg-color: #3B4455;\n",
              "      --fill-color: #D2E3FC;\n",
              "      --hover-bg-color: #434B5C;\n",
              "      --hover-fill-color: #FFFFFF;\n",
              "      --disabled-bg-color: #3B4455;\n",
              "      --disabled-fill-color: #666;\n",
              "  }\n",
              "\n",
              "  .colab-df-quickchart {\n",
              "    background-color: var(--bg-color);\n",
              "    border: none;\n",
              "    border-radius: 50%;\n",
              "    cursor: pointer;\n",
              "    display: none;\n",
              "    fill: var(--fill-color);\n",
              "    height: 32px;\n",
              "    padding: 0;\n",
              "    width: 32px;\n",
              "  }\n",
              "\n",
              "  .colab-df-quickchart:hover {\n",
              "    background-color: var(--hover-bg-color);\n",
              "    box-shadow: 0 1px 2px rgba(60, 64, 67, 0.3), 0 1px 3px 1px rgba(60, 64, 67, 0.15);\n",
              "    fill: var(--button-hover-fill-color);\n",
              "  }\n",
              "\n",
              "  .colab-df-quickchart-complete:disabled,\n",
              "  .colab-df-quickchart-complete:disabled:hover {\n",
              "    background-color: var(--disabled-bg-color);\n",
              "    fill: var(--disabled-fill-color);\n",
              "    box-shadow: none;\n",
              "  }\n",
              "\n",
              "  .colab-df-spinner {\n",
              "    border: 2px solid var(--fill-color);\n",
              "    border-color: transparent;\n",
              "    border-bottom-color: var(--fill-color);\n",
              "    animation:\n",
              "      spin 1s steps(1) infinite;\n",
              "  }\n",
              "\n",
              "  @keyframes spin {\n",
              "    0% {\n",
              "      border-color: transparent;\n",
              "      border-bottom-color: var(--fill-color);\n",
              "      border-left-color: var(--fill-color);\n",
              "    }\n",
              "    20% {\n",
              "      border-color: transparent;\n",
              "      border-left-color: var(--fill-color);\n",
              "      border-top-color: var(--fill-color);\n",
              "    }\n",
              "    30% {\n",
              "      border-color: transparent;\n",
              "      border-left-color: var(--fill-color);\n",
              "      border-top-color: var(--fill-color);\n",
              "      border-right-color: var(--fill-color);\n",
              "    }\n",
              "    40% {\n",
              "      border-color: transparent;\n",
              "      border-right-color: var(--fill-color);\n",
              "      border-top-color: var(--fill-color);\n",
              "    }\n",
              "    60% {\n",
              "      border-color: transparent;\n",
              "      border-right-color: var(--fill-color);\n",
              "    }\n",
              "    80% {\n",
              "      border-color: transparent;\n",
              "      border-right-color: var(--fill-color);\n",
              "      border-bottom-color: var(--fill-color);\n",
              "    }\n",
              "    90% {\n",
              "      border-color: transparent;\n",
              "      border-bottom-color: var(--fill-color);\n",
              "    }\n",
              "  }\n",
              "</style>\n",
              "\n",
              "  <script>\n",
              "    async function quickchart(key) {\n",
              "      const quickchartButtonEl =\n",
              "        document.querySelector('#' + key + ' button');\n",
              "      quickchartButtonEl.disabled = true;  // To prevent multiple clicks.\n",
              "      quickchartButtonEl.classList.add('colab-df-spinner');\n",
              "      try {\n",
              "        const charts = await google.colab.kernel.invokeFunction(\n",
              "            'suggestCharts', [key], {});\n",
              "      } catch (error) {\n",
              "        console.error('Error during call to suggestCharts:', error);\n",
              "      }\n",
              "      quickchartButtonEl.classList.remove('colab-df-spinner');\n",
              "      quickchartButtonEl.classList.add('colab-df-quickchart-complete');\n",
              "    }\n",
              "    (() => {\n",
              "      let quickchartButtonEl =\n",
              "        document.querySelector('#df-38a08218-8417-471a-b490-1df8997c19c4 button');\n",
              "      quickchartButtonEl.style.display =\n",
              "        google.colab.kernel.accessAllowed ? 'block' : 'none';\n",
              "    })();\n",
              "  </script>\n",
              "</div>\n",
              "    </div>\n",
              "  </div>\n"
            ],
            "application/vnd.google.colaboratory.intrinsic+json": {
              "type": "dataframe",
              "variable_name": "df",
              "summary": "{\n  \"name\": \"df\",\n  \"rows\": 2787,\n  \"fields\": [\n    {\n      \"column\": \"Date\",\n      \"properties\": {\n        \"dtype\": \"date\",\n        \"min\": \"2013-10-01 00:00:00\",\n        \"max\": \"2021-05-18 00:00:00\",\n        \"num_unique_values\": 2787,\n        \"samples\": [\n          \"2019-06-11 00:00:00\",\n          \"2021-05-03 00:00:00\",\n          \"2017-10-05 00:00:00\"\n        ],\n        \"semantic_type\": \"\",\n        \"description\": \"\"\n      }\n    },\n    {\n      \"column\": \"Currency\",\n      \"properties\": {\n        \"dtype\": \"category\",\n        \"num_unique_values\": 1,\n        \"samples\": [\n          \"BTC\"\n        ],\n        \"semantic_type\": \"\",\n        \"description\": \"\"\n      }\n    },\n    {\n      \"column\": \"Closing Price (USD)\",\n      \"properties\": {\n        \"dtype\": \"number\",\n        \"std\": 10887.847444369514,\n        \"min\": 108.58483,\n        \"max\": 63346.7890351052,\n        \"num_unique_values\": 2787,\n        \"samples\": [\n          7954.0062377205\n        ],\n        \"semantic_type\": \"\",\n        \"description\": \"\"\n      }\n    },\n    {\n      \"column\": \"24h Open (USD)\",\n      \"properties\": {\n        \"dtype\": \"number\",\n        \"std\": 10863.800772123866,\n        \"min\": 108.58483,\n        \"max\": 63562.6735446382,\n        \"num_unique_values\": 2787,\n        \"samples\": [\n          7600.9225047785\n        ],\n        \"semantic_type\": \"\",\n        \"description\": \"\"\n      }\n    },\n    {\n      \"column\": \"24h High (USD)\",\n      \"properties\": {\n        \"dtype\": \"number\",\n        \"std\": 11206.779756254147,\n        \"min\": 118.675,\n        \"max\": 64801.787869525,\n        \"num_unique_values\": 2787,\n        \"samples\": [\n          8064.9001353225\n        ],\n        \"semantic_type\": \"\",\n        \"description\": \"\"\n      }\n    },\n    {\n      \"column\": \"24h Low (USD)\",\n      \"properties\": {\n        \"dtype\": \"number\",\n        \"std\": 10475.811251828402,\n        \"min\": 83.32833,\n        \"max\": 62094.6329143272,\n        \"num_unique_values\": 2785,\n        \"samples\": [\n          7714.610306452\n        ],\n        \"semantic_type\": \"\",\n        \"description\": \"\"\n      }\n    }\n  ]\n}"
            }
          },
          "metadata": {},
          "execution_count": 75
        }
      ]
    },
    {
      "cell_type": "code",
      "source": [
        "df.info()"
      ],
      "metadata": {
        "colab": {
          "base_uri": "https://localhost:8080/"
        },
        "id": "9GOpa-LoTHaF",
        "outputId": "52ebcc17-874e-473d-83a5-75e8041e45ae"
      },
      "execution_count": 76,
      "outputs": [
        {
          "output_type": "stream",
          "name": "stdout",
          "text": [
            "<class 'pandas.core.frame.DataFrame'>\n",
            "DatetimeIndex: 2787 entries, 2013-10-01 to 2021-05-18\n",
            "Data columns (total 5 columns):\n",
            " #   Column               Non-Null Count  Dtype  \n",
            "---  ------               --------------  -----  \n",
            " 0   Currency             2787 non-null   object \n",
            " 1   Closing Price (USD)  2787 non-null   float64\n",
            " 2   24h Open (USD)       2787 non-null   float64\n",
            " 3   24h High (USD)       2787 non-null   float64\n",
            " 4   24h Low (USD)        2787 non-null   float64\n",
            "dtypes: float64(4), object(1)\n",
            "memory usage: 130.6+ KB\n"
          ]
        }
      ]
    },
    {
      "cell_type": "code",
      "source": [
        "# len of samples\n",
        "len(df)"
      ],
      "metadata": {
        "colab": {
          "base_uri": "https://localhost:8080/"
        },
        "id": "heYMNJA2TRxV",
        "outputId": "02ee889d-dd22-4fcb-e071-d30c9dfc7240"
      },
      "execution_count": 77,
      "outputs": [
        {
          "output_type": "execute_result",
          "data": {
            "text/plain": [
              "2787"
            ]
          },
          "metadata": {},
          "execution_count": 77
        }
      ]
    },
    {
      "cell_type": "code",
      "source": [
        "# only closing price feature needed\n",
        "bitcoin_prices = pd.DataFrame(df[\"Closing Price (USD)\"]).rename(columns={\"Closing Price (USD)\":\"Price\"})\n",
        "bitcoin_prices.head()"
      ],
      "metadata": {
        "colab": {
          "base_uri": "https://localhost:8080/",
          "height": 237
        },
        "id": "_YdG2n6ETc11",
        "outputId": "0a820821-7e01-4141-fb82-869f0bc4afbc"
      },
      "execution_count": 78,
      "outputs": [
        {
          "output_type": "execute_result",
          "data": {
            "text/plain": [
              "                Price\n",
              "Date                 \n",
              "2013-10-01  123.65499\n",
              "2013-10-02  125.45500\n",
              "2013-10-03  108.58483\n",
              "2013-10-04  118.67466\n",
              "2013-10-05  121.33866"
            ],
            "text/html": [
              "\n",
              "  <div id=\"df-cfd11d8a-4b52-4702-a0bf-38a659271fb8\" class=\"colab-df-container\">\n",
              "    <div>\n",
              "<style scoped>\n",
              "    .dataframe tbody tr th:only-of-type {\n",
              "        vertical-align: middle;\n",
              "    }\n",
              "\n",
              "    .dataframe tbody tr th {\n",
              "        vertical-align: top;\n",
              "    }\n",
              "\n",
              "    .dataframe thead th {\n",
              "        text-align: right;\n",
              "    }\n",
              "</style>\n",
              "<table border=\"1\" class=\"dataframe\">\n",
              "  <thead>\n",
              "    <tr style=\"text-align: right;\">\n",
              "      <th></th>\n",
              "      <th>Price</th>\n",
              "    </tr>\n",
              "    <tr>\n",
              "      <th>Date</th>\n",
              "      <th></th>\n",
              "    </tr>\n",
              "  </thead>\n",
              "  <tbody>\n",
              "    <tr>\n",
              "      <th>2013-10-01</th>\n",
              "      <td>123.65499</td>\n",
              "    </tr>\n",
              "    <tr>\n",
              "      <th>2013-10-02</th>\n",
              "      <td>125.45500</td>\n",
              "    </tr>\n",
              "    <tr>\n",
              "      <th>2013-10-03</th>\n",
              "      <td>108.58483</td>\n",
              "    </tr>\n",
              "    <tr>\n",
              "      <th>2013-10-04</th>\n",
              "      <td>118.67466</td>\n",
              "    </tr>\n",
              "    <tr>\n",
              "      <th>2013-10-05</th>\n",
              "      <td>121.33866</td>\n",
              "    </tr>\n",
              "  </tbody>\n",
              "</table>\n",
              "</div>\n",
              "    <div class=\"colab-df-buttons\">\n",
              "\n",
              "  <div class=\"colab-df-container\">\n",
              "    <button class=\"colab-df-convert\" onclick=\"convertToInteractive('df-cfd11d8a-4b52-4702-a0bf-38a659271fb8')\"\n",
              "            title=\"Convert this dataframe to an interactive table.\"\n",
              "            style=\"display:none;\">\n",
              "\n",
              "  <svg xmlns=\"http://www.w3.org/2000/svg\" height=\"24px\" viewBox=\"0 -960 960 960\">\n",
              "    <path d=\"M120-120v-720h720v720H120Zm60-500h600v-160H180v160Zm220 220h160v-160H400v160Zm0 220h160v-160H400v160ZM180-400h160v-160H180v160Zm440 0h160v-160H620v160ZM180-180h160v-160H180v160Zm440 0h160v-160H620v160Z\"/>\n",
              "  </svg>\n",
              "    </button>\n",
              "\n",
              "  <style>\n",
              "    .colab-df-container {\n",
              "      display:flex;\n",
              "      gap: 12px;\n",
              "    }\n",
              "\n",
              "    .colab-df-convert {\n",
              "      background-color: #E8F0FE;\n",
              "      border: none;\n",
              "      border-radius: 50%;\n",
              "      cursor: pointer;\n",
              "      display: none;\n",
              "      fill: #1967D2;\n",
              "      height: 32px;\n",
              "      padding: 0 0 0 0;\n",
              "      width: 32px;\n",
              "    }\n",
              "\n",
              "    .colab-df-convert:hover {\n",
              "      background-color: #E2EBFA;\n",
              "      box-shadow: 0px 1px 2px rgba(60, 64, 67, 0.3), 0px 1px 3px 1px rgba(60, 64, 67, 0.15);\n",
              "      fill: #174EA6;\n",
              "    }\n",
              "\n",
              "    .colab-df-buttons div {\n",
              "      margin-bottom: 4px;\n",
              "    }\n",
              "\n",
              "    [theme=dark] .colab-df-convert {\n",
              "      background-color: #3B4455;\n",
              "      fill: #D2E3FC;\n",
              "    }\n",
              "\n",
              "    [theme=dark] .colab-df-convert:hover {\n",
              "      background-color: #434B5C;\n",
              "      box-shadow: 0px 1px 3px 1px rgba(0, 0, 0, 0.15);\n",
              "      filter: drop-shadow(0px 1px 2px rgba(0, 0, 0, 0.3));\n",
              "      fill: #FFFFFF;\n",
              "    }\n",
              "  </style>\n",
              "\n",
              "    <script>\n",
              "      const buttonEl =\n",
              "        document.querySelector('#df-cfd11d8a-4b52-4702-a0bf-38a659271fb8 button.colab-df-convert');\n",
              "      buttonEl.style.display =\n",
              "        google.colab.kernel.accessAllowed ? 'block' : 'none';\n",
              "\n",
              "      async function convertToInteractive(key) {\n",
              "        const element = document.querySelector('#df-cfd11d8a-4b52-4702-a0bf-38a659271fb8');\n",
              "        const dataTable =\n",
              "          await google.colab.kernel.invokeFunction('convertToInteractive',\n",
              "                                                    [key], {});\n",
              "        if (!dataTable) return;\n",
              "\n",
              "        const docLinkHtml = 'Like what you see? Visit the ' +\n",
              "          '<a target=\"_blank\" href=https://colab.research.google.com/notebooks/data_table.ipynb>data table notebook</a>'\n",
              "          + ' to learn more about interactive tables.';\n",
              "        element.innerHTML = '';\n",
              "        dataTable['output_type'] = 'display_data';\n",
              "        await google.colab.output.renderOutput(dataTable, element);\n",
              "        const docLink = document.createElement('div');\n",
              "        docLink.innerHTML = docLinkHtml;\n",
              "        element.appendChild(docLink);\n",
              "      }\n",
              "    </script>\n",
              "  </div>\n",
              "\n",
              "\n",
              "<div id=\"df-f772e9e8-f07a-4e2a-9fce-a269b14975a5\">\n",
              "  <button class=\"colab-df-quickchart\" onclick=\"quickchart('df-f772e9e8-f07a-4e2a-9fce-a269b14975a5')\"\n",
              "            title=\"Suggest charts\"\n",
              "            style=\"display:none;\">\n",
              "\n",
              "<svg xmlns=\"http://www.w3.org/2000/svg\" height=\"24px\"viewBox=\"0 0 24 24\"\n",
              "     width=\"24px\">\n",
              "    <g>\n",
              "        <path d=\"M19 3H5c-1.1 0-2 .9-2 2v14c0 1.1.9 2 2 2h14c1.1 0 2-.9 2-2V5c0-1.1-.9-2-2-2zM9 17H7v-7h2v7zm4 0h-2V7h2v10zm4 0h-2v-4h2v4z\"/>\n",
              "    </g>\n",
              "</svg>\n",
              "  </button>\n",
              "\n",
              "<style>\n",
              "  .colab-df-quickchart {\n",
              "      --bg-color: #E8F0FE;\n",
              "      --fill-color: #1967D2;\n",
              "      --hover-bg-color: #E2EBFA;\n",
              "      --hover-fill-color: #174EA6;\n",
              "      --disabled-fill-color: #AAA;\n",
              "      --disabled-bg-color: #DDD;\n",
              "  }\n",
              "\n",
              "  [theme=dark] .colab-df-quickchart {\n",
              "      --bg-color: #3B4455;\n",
              "      --fill-color: #D2E3FC;\n",
              "      --hover-bg-color: #434B5C;\n",
              "      --hover-fill-color: #FFFFFF;\n",
              "      --disabled-bg-color: #3B4455;\n",
              "      --disabled-fill-color: #666;\n",
              "  }\n",
              "\n",
              "  .colab-df-quickchart {\n",
              "    background-color: var(--bg-color);\n",
              "    border: none;\n",
              "    border-radius: 50%;\n",
              "    cursor: pointer;\n",
              "    display: none;\n",
              "    fill: var(--fill-color);\n",
              "    height: 32px;\n",
              "    padding: 0;\n",
              "    width: 32px;\n",
              "  }\n",
              "\n",
              "  .colab-df-quickchart:hover {\n",
              "    background-color: var(--hover-bg-color);\n",
              "    box-shadow: 0 1px 2px rgba(60, 64, 67, 0.3), 0 1px 3px 1px rgba(60, 64, 67, 0.15);\n",
              "    fill: var(--button-hover-fill-color);\n",
              "  }\n",
              "\n",
              "  .colab-df-quickchart-complete:disabled,\n",
              "  .colab-df-quickchart-complete:disabled:hover {\n",
              "    background-color: var(--disabled-bg-color);\n",
              "    fill: var(--disabled-fill-color);\n",
              "    box-shadow: none;\n",
              "  }\n",
              "\n",
              "  .colab-df-spinner {\n",
              "    border: 2px solid var(--fill-color);\n",
              "    border-color: transparent;\n",
              "    border-bottom-color: var(--fill-color);\n",
              "    animation:\n",
              "      spin 1s steps(1) infinite;\n",
              "  }\n",
              "\n",
              "  @keyframes spin {\n",
              "    0% {\n",
              "      border-color: transparent;\n",
              "      border-bottom-color: var(--fill-color);\n",
              "      border-left-color: var(--fill-color);\n",
              "    }\n",
              "    20% {\n",
              "      border-color: transparent;\n",
              "      border-left-color: var(--fill-color);\n",
              "      border-top-color: var(--fill-color);\n",
              "    }\n",
              "    30% {\n",
              "      border-color: transparent;\n",
              "      border-left-color: var(--fill-color);\n",
              "      border-top-color: var(--fill-color);\n",
              "      border-right-color: var(--fill-color);\n",
              "    }\n",
              "    40% {\n",
              "      border-color: transparent;\n",
              "      border-right-color: var(--fill-color);\n",
              "      border-top-color: var(--fill-color);\n",
              "    }\n",
              "    60% {\n",
              "      border-color: transparent;\n",
              "      border-right-color: var(--fill-color);\n",
              "    }\n",
              "    80% {\n",
              "      border-color: transparent;\n",
              "      border-right-color: var(--fill-color);\n",
              "      border-bottom-color: var(--fill-color);\n",
              "    }\n",
              "    90% {\n",
              "      border-color: transparent;\n",
              "      border-bottom-color: var(--fill-color);\n",
              "    }\n",
              "  }\n",
              "</style>\n",
              "\n",
              "  <script>\n",
              "    async function quickchart(key) {\n",
              "      const quickchartButtonEl =\n",
              "        document.querySelector('#' + key + ' button');\n",
              "      quickchartButtonEl.disabled = true;  // To prevent multiple clicks.\n",
              "      quickchartButtonEl.classList.add('colab-df-spinner');\n",
              "      try {\n",
              "        const charts = await google.colab.kernel.invokeFunction(\n",
              "            'suggestCharts', [key], {});\n",
              "      } catch (error) {\n",
              "        console.error('Error during call to suggestCharts:', error);\n",
              "      }\n",
              "      quickchartButtonEl.classList.remove('colab-df-spinner');\n",
              "      quickchartButtonEl.classList.add('colab-df-quickchart-complete');\n",
              "    }\n",
              "    (() => {\n",
              "      let quickchartButtonEl =\n",
              "        document.querySelector('#df-f772e9e8-f07a-4e2a-9fce-a269b14975a5 button');\n",
              "      quickchartButtonEl.style.display =\n",
              "        google.colab.kernel.accessAllowed ? 'block' : 'none';\n",
              "    })();\n",
              "  </script>\n",
              "</div>\n",
              "    </div>\n",
              "  </div>\n"
            ],
            "application/vnd.google.colaboratory.intrinsic+json": {
              "type": "dataframe",
              "variable_name": "bitcoin_prices",
              "summary": "{\n  \"name\": \"bitcoin_prices\",\n  \"rows\": 2787,\n  \"fields\": [\n    {\n      \"column\": \"Date\",\n      \"properties\": {\n        \"dtype\": \"date\",\n        \"min\": \"2013-10-01 00:00:00\",\n        \"max\": \"2021-05-18 00:00:00\",\n        \"num_unique_values\": 2787,\n        \"samples\": [\n          \"2019-06-11 00:00:00\",\n          \"2021-05-03 00:00:00\",\n          \"2017-10-05 00:00:00\"\n        ],\n        \"semantic_type\": \"\",\n        \"description\": \"\"\n      }\n    },\n    {\n      \"column\": \"Price\",\n      \"properties\": {\n        \"dtype\": \"number\",\n        \"std\": 10887.847444369514,\n        \"min\": 108.58483,\n        \"max\": 63346.7890351052,\n        \"num_unique_values\": 2787,\n        \"samples\": [\n          7954.0062377205,\n          56427.0431250152,\n          4186.78374\n        ],\n        \"semantic_type\": \"\",\n        \"description\": \"\"\n      }\n    }\n  ]\n}"
            }
          },
          "metadata": {},
          "execution_count": 78
        }
      ]
    },
    {
      "cell_type": "code",
      "source": [
        "import matplotlib.pyplot as plt\n",
        "bitcoin_prices.plot()\n",
        "plt.ylabel(\"BTC Price\")\n",
        "plt.title(\"Price of Bitcoin\", fontsize=16)\n",
        "plt.legend()"
      ],
      "metadata": {
        "colab": {
          "base_uri": "https://localhost:8080/",
          "height": 491
        },
        "id": "A0IgLITHWlN-",
        "outputId": "1905cc35-5377-4ea8-f338-3473b5df7c04"
      },
      "execution_count": 79,
      "outputs": [
        {
          "output_type": "execute_result",
          "data": {
            "text/plain": [
              "<matplotlib.legend.Legend at 0x79945b1cc250>"
            ]
          },
          "metadata": {},
          "execution_count": 79
        },
        {
          "output_type": "display_data",
          "data": {
            "text/plain": [
              "<Figure size 640x480 with 1 Axes>"
            ],
            "image/png": "[encoded data removed]"
          },
          "metadata": {}
        }
      ]
    },
    {
      "cell_type": "markdown",
      "source": [
        "## Importing time series with Python's CSV"
      ],
      "metadata": {
        "id": "uxymp-aUW1JF"
      }
    },
    {
      "cell_type": "code",
      "source": [
        "# Importing with Python\n",
        "import csv\n",
        "from datetime import datetime\n",
        "\n",
        "timesteps = []\n",
        "btc_price = []\n",
        "with open(\"/content/BTC_USD_2013-10-01_2021-05-18-CoinDesk.csv\", \"r\") as f:\n",
        "  csv_reader = csv.reader(f, delimiter=\",\")\n",
        "  next(csv_reader) # skip first line wich is titles\n",
        "  for line in csv_reader:\n",
        "    timesteps.append(datetime.strptime(line[1], \"%Y-%m-%d\")) # get dates\n",
        "    btc_price.append(float(line[2])) # get closing price\n",
        "\n",
        "timesteps[:10], btc_price[:10]"
      ],
      "metadata": {
        "colab": {
          "base_uri": "https://localhost:8080/"
        },
        "id": "SuOUrgq_YY_F",
        "outputId": "e3fb0b6f-d5de-4672-de5f-33c3bfb9de53"
      },
      "execution_count": 80,
      "outputs": [
        {
          "output_type": "execute_result",
          "data": {
            "text/plain": [
              "([datetime.datetime(2013, 10, 1, 0, 0),\n",
              "  datetime.datetime(2013, 10, 2, 0, 0),\n",
              "  datetime.datetime(2013, 10, 3, 0, 0),\n",
              "  datetime.datetime(2013, 10, 4, 0, 0),\n",
              "  datetime.datetime(2013, 10, 5, 0, 0),\n",
              "  datetime.datetime(2013, 10, 6, 0, 0),\n",
              "  datetime.datetime(2013, 10, 7, 0, 0),\n",
              "  datetime.datetime(2013, 10, 8, 0, 0),\n",
              "  datetime.datetime(2013, 10, 9, 0, 0),\n",
              "  datetime.datetime(2013, 10, 10, 0, 0)],\n",
              " [123.65499,\n",
              "  125.455,\n",
              "  108.58483,\n",
              "  118.67466,\n",
              "  121.33866,\n",
              "  120.65533,\n",
              "  121.795,\n",
              "  123.033,\n",
              "  124.049,\n",
              "  125.96116])"
            ]
          },
          "metadata": {},
          "execution_count": 80
        }
      ]
    },
    {
      "cell_type": "code",
      "source": [
        "# Plot from CSV\n",
        "import numpy as np\n",
        "plt.figure()\n",
        "plt.plot(timesteps, btc_price)\n",
        "plt.ylabel(\"BTC Price\")\n",
        "plt.xlabel(\"Date\")\n",
        "plt.title(\"Price of Bitcoin\", fontsize=16)\n",
        "plt.legend()"
      ],
      "metadata": {
        "colab": {
          "base_uri": "https://localhost:8080/",
          "height": 546
        },
        "id": "uNNQlYCPaB22",
        "outputId": "462f4ad0-918c-4a02-f61f-5e70ffec9568"
      },
      "execution_count": 81,
      "outputs": [
        {
          "output_type": "stream",
          "name": "stderr",
          "text": [
            "<ipython-input-81-e93ad1f3881c>:8: UserWarning: No artists with labels found to put in legend.  Note that artists whose label start with an underscore are ignored when legend() is called with no argument.\n",
            "  plt.legend()\n"
          ]
        },
        {
          "output_type": "execute_result",
          "data": {
            "text/plain": [
              "<matplotlib.legend.Legend at 0x79945b2a3a10>"
            ]
          },
          "metadata": {},
          "execution_count": 81
        },
        {
          "output_type": "display_data",
          "data": {
            "text/plain": [
              "<Figure size 640x480 with 1 Axes>"
            ],
            "image/png": "[encoded data removed]"
          },
          "metadata": {}
        }
      ]
    },
    {
      "cell_type": "markdown",
      "source": [
        "## Format data part 1: Create train/test sets"
      ],
      "metadata": {
        "id": "71WVNMZ3al0H"
      }
    },
    {
      "cell_type": "markdown",
      "source": [
        "### Train & test sets (wrong way)"
      ],
      "metadata": {
        "id": "9TD32O_Ua5qu"
      }
    },
    {
      "cell_type": "code",
      "source": [
        "# Get bitcoin date array\n",
        "timesteps = bitcoin_prices.index.to_numpy()\n",
        "prices = bitcoin_prices[\"Price\"].to_numpy()\n",
        "\n",
        "timesteps[:10], prices[:10]"
      ],
      "metadata": {
        "colab": {
          "base_uri": "https://localhost:8080/"
        },
        "id": "K37P0tzFbEgt",
        "outputId": "65a8aae9-9317-4398-d7cb-d6ab98b9c23a"
      },
      "execution_count": 82,
      "outputs": [
        {
          "output_type": "execute_result",
          "data": {
            "text/plain": [
              "(array(['2013-10-01T00:00:00.000000000', '2013-10-02T00:00:00.000000000',\n",
              "        '2013-10-03T00:00:00.000000000', '2013-10-04T00:00:00.000000000',\n",
              "        '2013-10-05T00:00:00.000000000', '2013-10-06T00:00:00.000000000',\n",
              "        '2013-10-07T00:00:00.000000000', '2013-10-08T00:00:00.000000000',\n",
              "        '2013-10-09T00:00:00.000000000', '2013-10-10T00:00:00.000000000'],\n",
              "       dtype='datetime64[ns]'),\n",
              " array([123.65499, 125.455  , 108.58483, 118.67466, 121.33866, 120.65533,\n",
              "        121.795  , 123.033  , 124.049  , 125.96116]))"
            ]
          },
          "metadata": {},
          "execution_count": 82
        }
      ]
    },
    {
      "cell_type": "code",
      "source": [
        "from sklearn.model_selection import train_test_split\n",
        "\n",
        "X_train, X_test, y_train, y_test = train_test_split(timesteps, prices, test_size=0.2, random_state=42)\n",
        "\n",
        "X_train.shape, X_test.shape, y_train.shape, y_test.shape"
      ],
      "metadata": {
        "colab": {
          "base_uri": "https://localhost:8080/"
        },
        "id": "AKlSWY-abcAu",
        "outputId": "1a90325e-e299-454f-c295-bfbeddd5b1d0"
      },
      "execution_count": 83,
      "outputs": [
        {
          "output_type": "execute_result",
          "data": {
            "text/plain": [
              "((2229,), (558,), (2229,), (558,))"
            ]
          },
          "metadata": {},
          "execution_count": 83
        }
      ]
    },
    {
      "cell_type": "code",
      "source": [
        "# Let's plot wrong splits\n",
        "plt.figure()\n",
        "plt.scatter(X_train, y_train, s=5, label=\"Train data\")\n",
        "plt.scatter(X_test, y_test, s=5, label=\"Test data\")\n",
        "plt.xlabel(\"Date\")\n",
        "plt.ylabel(\"BTC Price\")\n",
        "plt.legend()"
      ],
      "metadata": {
        "colab": {
          "base_uri": "https://localhost:8080/",
          "height": 466
        },
        "id": "dnRFXalibp4V",
        "outputId": "249c5186-f59c-4f4f-fa2f-ec19ad0324c6"
      },
      "execution_count": 84,
      "outputs": [
        {
          "output_type": "execute_result",
          "data": {
            "text/plain": [
              "<matplotlib.legend.Legend at 0x79945b56d490>"
            ]
          },
          "metadata": {},
          "execution_count": 84
        },
        {
          "output_type": "display_data",
          "data": {
            "text/plain": [
              "<Figure size 640x480 with 1 Axes>"
            ],
            "image/png": "[encoded data removed]"
          },
          "metadata": {}
        }
      ]
    },
    {
      "cell_type": "markdown",
      "source": [
        "### Train & test sets (right way)"
      ],
      "metadata": {
        "id": "6uiy5F_8cvc2"
      }
    },
    {
      "cell_type": "code",
      "source": [
        "prices[:10]"
      ],
      "metadata": {
        "colab": {
          "base_uri": "https://localhost:8080/"
        },
        "id": "6b04HnX2eDzg",
        "outputId": "3edacec2-fee5-4f66-ebc7-7fcee31a87cc"
      },
      "execution_count": 85,
      "outputs": [
        {
          "output_type": "execute_result",
          "data": {
            "text/plain": [
              "array([123.65499, 125.455  , 108.58483, 118.67466, 121.33866, 120.65533,\n",
              "       121.795  , 123.033  , 124.049  , 125.96116])"
            ]
          },
          "metadata": {},
          "execution_count": 85
        }
      ]
    },
    {
      "cell_type": "code",
      "source": [
        "split_size = int(0.8 * len(prices)) # 80% train, 20% test\n",
        "\n",
        "# Create train data splits (everything before the split)\n",
        "X_train, y_train = timesteps[:split_size], prices[:split_size]\n",
        "\n",
        "# Create test data splits (everything beyond the split)\n",
        "X_test, y_test = timesteps[split_size:], prices[split_size:]\n",
        "\n",
        "len(X_train), len(y_train), len(X_test), len(y_test)"
      ],
      "metadata": {
        "colab": {
          "base_uri": "https://localhost:8080/"
        },
        "id": "AvFsE0B6dRrO",
        "outputId": "ba81be13-3716-4589-eafa-0042fc570448"
      },
      "execution_count": 86,
      "outputs": [
        {
          "output_type": "execute_result",
          "data": {
            "text/plain": [
              "(2229, 2229, 558, 558)"
            ]
          },
          "metadata": {},
          "execution_count": 86
        }
      ]
    },
    {
      "cell_type": "code",
      "source": [
        "# Plot correctly splitted data\n",
        "plt.figure()\n",
        "plt.scatter(X_train, y_train, s=5, label=\"Train data\")\n",
        "plt.scatter(X_test, y_test, s=5, label=\"Test data\")\n",
        "plt.xlabel(\"Date\")\n",
        "plt.ylabel(\"BTC Price\")\n",
        "plt.legend()"
      ],
      "metadata": {
        "colab": {
          "base_uri": "https://localhost:8080/",
          "height": 466
        },
        "id": "HCx9QcZGrfK_",
        "outputId": "d31238a9-c168-48fb-f807-3d1b0bbfa563"
      },
      "execution_count": 87,
      "outputs": [
        {
          "output_type": "execute_result",
          "data": {
            "text/plain": [
              "<matplotlib.legend.Legend at 0x79945ae11b10>"
            ]
          },
          "metadata": {},
          "execution_count": 87
        },
        {
          "output_type": "display_data",
          "data": {
            "text/plain": [
              "<Figure size 640x480 with 1 Axes>"
            ],
            "image/png": "[encoded data removed]"
          },
          "metadata": {}
        }
      ]
    },
    {
      "cell_type": "markdown",
      "source": [
        "## Create a plotting function"
      ],
      "metadata": {
        "id": "i1kNauduroh_"
      }
    },
    {
      "cell_type": "code",
      "source": [
        "timesteps"
      ],
      "metadata": {
        "colab": {
          "base_uri": "https://localhost:8080/"
        },
        "id": "STHRVDMqsLsJ",
        "outputId": "5b177bef-9397-4580-ef41-6cf9b73df5cc"
      },
      "execution_count": 88,
      "outputs": [
        {
          "output_type": "execute_result",
          "data": {
            "text/plain": [
              "array(['2013-10-01T00:00:00.000000000', '2013-10-02T00:00:00.000000000',\n",
              "       '2013-10-03T00:00:00.000000000', ...,\n",
              "       '2021-05-16T00:00:00.000000000', '2021-05-17T00:00:00.000000000',\n",
              "       '2021-05-18T00:00:00.000000000'], dtype='datetime64[ns]')"
            ]
          },
          "metadata": {},
          "execution_count": 88
        }
      ]
    },
    {
      "cell_type": "code",
      "source": [
        "prices"
      ],
      "metadata": {
        "colab": {
          "base_uri": "https://localhost:8080/"
        },
        "id": "nJypCg4YuBTC",
        "outputId": "e97d6079-f10c-430d-c5e4-90448cb94533"
      },
      "execution_count": 89,
      "outputs": [
        {
          "output_type": "execute_result",
          "data": {
            "text/plain": [
              "array([  123.65499   ,   125.455     ,   108.58483   , ...,\n",
              "       47885.62525472, 45604.61575361, 43144.47129086])"
            ]
          },
          "metadata": {},
          "execution_count": 89
        }
      ]
    },
    {
      "cell_type": "code",
      "source": [
        "X_train"
      ],
      "metadata": {
        "colab": {
          "base_uri": "https://localhost:8080/"
        },
        "id": "XzHPcpkUulBw",
        "outputId": "3e75d5c0-2fdc-4668-ce6b-e3857545ac59"
      },
      "execution_count": 90,
      "outputs": [
        {
          "output_type": "execute_result",
          "data": {
            "text/plain": [
              "array(['2013-10-01T00:00:00.000000000', '2013-10-02T00:00:00.000000000',\n",
              "       '2013-10-03T00:00:00.000000000', ...,\n",
              "       '2019-11-05T00:00:00.000000000', '2019-11-06T00:00:00.000000000',\n",
              "       '2019-11-07T00:00:00.000000000'], dtype='datetime64[ns]')"
            ]
          },
          "metadata": {},
          "execution_count": 90
        }
      ]
    },
    {
      "cell_type": "code",
      "source": [
        "y_train"
      ],
      "metadata": {
        "colab": {
          "base_uri": "https://localhost:8080/"
        },
        "id": "SuWo0JXcunlP",
        "outputId": "dd9bb8a0-e1ad-4e2d-af05-a71f2e3e05bf"
      },
      "execution_count": 91,
      "outputs": [
        {
          "output_type": "execute_result",
          "data": {
            "text/plain": [
              "array([ 123.65499   ,  125.455     ,  108.58483   , ..., 9369.62808116,\n",
              "       9326.59962378, 9335.75240233])"
            ]
          },
          "metadata": {},
          "execution_count": 91
        }
      ]
    },
    {
      "cell_type": "code",
      "source": [
        "def plot_time_series(timesteps, values, format=\".\", start=0, end=None, label=None):\n",
        "  plt.plot(timesteps[start:end], values[start:end], format, label=label)\n",
        "  plt.xlabel(\"Time\")\n",
        "  plt.ylabel(\"BTC Price\")\n",
        "  if label:\n",
        "    plt.legend(fontsize=14)\n",
        "  plt.grid(True)"
      ],
      "metadata": {
        "id": "Z3YAs2F4r5gY"
      },
      "execution_count": 92,
      "outputs": []
    },
    {
      "cell_type": "code",
      "source": [
        "# Test the function\n",
        "plot_time_series(timesteps=X_train, values=y_train, label=\"Train data\")\n",
        "plot_time_series(timesteps=X_test, values=y_test, label=\"Test data\")"
      ],
      "metadata": {
        "colab": {
          "base_uri": "https://localhost:8080/",
          "height": 449
        },
        "id": "0BKsuVQ3tojo",
        "outputId": "7fcae12e-675c-445b-e141-c9a3c6e83c5c"
      },
      "execution_count": 93,
      "outputs": [
        {
          "output_type": "display_data",
          "data": {
            "text/plain": [
              "<Figure size 640x480 with 1 Axes>"
            ],
            "image/png": "[encoded data removed]"
          },
          "metadata": {}
        }
      ]
    },
    {
      "cell_type": "markdown",
      "source": [
        "## Modelling experiments"
      ],
      "metadata": {
        "id": "jKlll0fruZLf"
      }
    },
    {
      "cell_type": "markdown",
      "source": [
        "## Model 0: Naive forecast (baseline)"
      ],
      "metadata": {
        "id": "KKLOCugKv41g"
      }
    },
    {
      "cell_type": "code",
      "source": [
        "# Create a naive forecast\n",
        "naive_forecast = y_test[:-1]\n",
        "\n",
        "naive_forecast[:10], naive_forecast[-10:]"
      ],
      "metadata": {
        "colab": {
          "base_uri": "https://localhost:8080/"
        },
        "id": "rJL3cyVkz1Zv",
        "outputId": "c3b56fde-d425-4436-ee0f-510a202bb763"
      },
      "execution_count": 94,
      "outputs": [
        {
          "output_type": "execute_result",
          "data": {
            "text/plain": [
              "(array([9226.48582088, 8794.35864452, 8798.04205463, 9081.18687849,\n",
              "        8711.53433917, 8760.89271814, 8749.52059102, 8656.97092235,\n",
              "        8500.64355816, 8469.2608989 ]),\n",
              " array([57107.12067189, 58788.20967893, 58102.19142623, 55715.54665129,\n",
              "        56573.5554719 , 52147.82118698, 49764.1320816 , 50032.69313676,\n",
              "        47885.62525472, 45604.61575361]))"
            ]
          },
          "metadata": {},
          "execution_count": 94
        }
      ]
    },
    {
      "cell_type": "code",
      "source": [
        "y_test[-10:]"
      ],
      "metadata": {
        "colab": {
          "base_uri": "https://localhost:8080/"
        },
        "id": "31Bb2z5L1BGv",
        "outputId": "296331a0-b652-4908-f026-5079c2dbbd08"
      },
      "execution_count": 95,
      "outputs": [
        {
          "output_type": "execute_result",
          "data": {
            "text/plain": [
              "array([58788.20967893, 58102.19142623, 55715.54665129, 56573.5554719 ,\n",
              "       52147.82118698, 49764.1320816 , 50032.69313676, 47885.62525472,\n",
              "       45604.61575361, 43144.47129086])"
            ]
          },
          "metadata": {},
          "execution_count": 95
        }
      ]
    },
    {
      "cell_type": "code",
      "source": [
        "# Plot naive forecast\n",
        "# plot_time_series(X_train, y_train, label=\"Train data\")\n",
        "plt.figure(figsize=(10, 7))\n",
        "plot_time_series(X_test, y_test, label=\"Test data\", start=350, format=\"-\")\n",
        "plot_time_series(X_test[1:], naive_forecast, format=\"-\", label=\"Naive Forecast\",\n",
        "                 start=350)"
      ],
      "metadata": {
        "colab": {
          "base_uri": "https://localhost:8080/",
          "height": 610
        },
        "id": "AT0e1kOA1K1v",
        "outputId": "6085ad79-bc7b-421e-be94-47d8940fe4b4"
      },
      "execution_count": 96,
      "outputs": [
        {
          "output_type": "display_data",
          "data": {
            "text/plain": [
              "<Figure size 1000x700 with 1 Axes>"
            ],
            "image/png": "[encoded data removed]"
          },
          "metadata": {}
        }
      ]
    },
    {
      "cell_type": "markdown",
      "source": [
        "## Evaluating a time series model"
      ],
      "metadata": {
        "id": "foRK3cqw18xQ"
      }
    },
    {
      "cell_type": "code",
      "source": [
        "import tensorflow as tf"
      ],
      "metadata": {
        "id": "oky6NCxQ4b4Y"
      },
      "execution_count": 97,
      "outputs": []
    },
    {
      "cell_type": "code",
      "source": [
        "# MASE implementation\n",
        "def mean_absolute_scaled_error(y_true, y_pred):\n",
        "  mae = tf.reduce_mean(tf.abs(y_true - y_pred))\n",
        "\n",
        "  # MAE of naive forecast\n",
        "  mae_naive_no_season = tf.reduce_mean(tf.abs(y_true[1:] - y_true[:-1])) # seasonality of 1 day (hence shift of 1)\n",
        "\n",
        "  return mae / mae_naive_no_season"
      ],
      "metadata": {
        "id": "3_q-lhrN8wOB"
      },
      "execution_count": 98,
      "outputs": []
    },
    {
      "cell_type": "code",
      "source": [
        "mean_absolute_scaled_error(y_test[1:], naive_forecast).numpy()"
      ],
      "metadata": {
        "colab": {
          "base_uri": "https://localhost:8080/"
        },
        "id": "uuhM4pAe-VwZ",
        "outputId": "6122fc44-c81a-47f9-8270-19c9ab3e5fc6"
      },
      "execution_count": 99,
      "outputs": [
        {
          "output_type": "execute_result",
          "data": {
            "text/plain": [
              "0.9995699939182624"
            ]
          },
          "metadata": {},
          "execution_count": 99
        }
      ]
    },
    {
      "cell_type": "code",
      "source": [
        "# Create a function to return evaluation metrics\n",
        "def evaluate_preds(y_true, y_pred):\n",
        "  # cast to float32 because tensorflow uses it\n",
        "  y_true = tf.cast(y_true, dtype=tf.float32)\n",
        "  y_pred = tf.cast(y_pred, dtype=tf.float32)\n",
        "\n",
        "  # Calculate metrics\n",
        "  mae = tf.keras.metrics.mae(y_true, y_pred)\n",
        "  mse = tf.keras.metrics.mse(y_true, y_pred)\n",
        "  rmse = tf.sqrt(mse)\n",
        "  mape = tf.keras.metrics.mape(y_true, y_pred)\n",
        "  mase = mean_absolute_scaled_error(y_true, y_pred)\n",
        "\n",
        "  return {\"mae\": mae.numpy(),\n",
        "          \"mse\": mse.numpy(),\n",
        "          \"rmse\": rmse.numpy(),\n",
        "          \"mape\": mape.numpy(),\n",
        "          \"mase\": mase.numpy()}"
      ],
      "metadata": {
        "id": "OTp-EK5G-bCI"
      },
      "execution_count": 100,
      "outputs": []
    },
    {
      "cell_type": "code",
      "source": [
        "naive_results = evaluate_preds(y_test[1:], naive_forecast)\n",
        "naive_results"
      ],
      "metadata": {
        "colab": {
          "base_uri": "https://localhost:8080/"
        },
        "id": "Ow0-l5lzEmDR",
        "outputId": "88cce59f-27b0-411c-94c7-41775db30113"
      },
      "execution_count": 101,
      "outputs": [
        {
          "output_type": "execute_result",
          "data": {
            "text/plain": [
              "{'mae': 567.9802,\n",
              " 'mse': 1147547.0,\n",
              " 'rmse': 1071.2362,\n",
              " 'mape': 2.5165248,\n",
              " 'mase': 0.99957}"
            ]
          },
          "metadata": {},
          "execution_count": 101
        }
      ]
    },
    {
      "cell_type": "code",
      "source": [
        "tf.reduce_mean(y_test)"
      ],
      "metadata": {
        "colab": {
          "base_uri": "https://localhost:8080/"
        },
        "id": "7UFVD9IkEza5",
        "outputId": "0bd08534-0bda-4e7f-a03a-afc9c4cdb45e"
      },
      "execution_count": 102,
      "outputs": [
        {
          "output_type": "execute_result",
          "data": {
            "text/plain": [
              "<tf.Tensor: shape=(), dtype=float64, numpy=20056.632963737226>"
            ]
          },
          "metadata": {},
          "execution_count": 102
        }
      ]
    },
    {
      "cell_type": "code",
      "source": [
        "tf.reduce_min(y_test), tf.reduce_max(y_test)"
      ],
      "metadata": {
        "colab": {
          "base_uri": "https://localhost:8080/"
        },
        "id": "tV3J8yh-F3zx",
        "outputId": "b46c8f49-b587-4078-90b2-7433bb2c0986"
      },
      "execution_count": 103,
      "outputs": [
        {
          "output_type": "execute_result",
          "data": {
            "text/plain": [
              "(<tf.Tensor: shape=(), dtype=float64, numpy=4944.7023359837>,\n",
              " <tf.Tensor: shape=(), dtype=float64, numpy=63346.7890351052>)"
            ]
          },
          "metadata": {},
          "execution_count": 103
        }
      ]
    },
    {
      "cell_type": "markdown",
      "source": [
        "## Format Data Part 2: Windowing our dataset"
      ],
      "metadata": {
        "id": "0KE5lXAaF93p"
      }
    },
    {
      "cell_type": "code",
      "source": [
        "import numpy as np\n",
        "import pandas as pd\n",
        "import matplotlib.pyplot as plt\n",
        "import tensorflow as tf"
      ],
      "metadata": {
        "id": "Trqov-KuVH2E"
      },
      "execution_count": 104,
      "outputs": []
    },
    {
      "cell_type": "code",
      "source": [
        "print(f\"From this: {btc_price[:7]} => to that: {btc_price[7]}\")"
      ],
      "metadata": {
        "colab": {
          "base_uri": "https://localhost:8080/"
        },
        "id": "0YI8y974HQb5",
        "outputId": "7e8aaa07-0a71-41ed-8f2b-fd674a1d1434"
      },
      "execution_count": 105,
      "outputs": [
        {
          "output_type": "stream",
          "name": "stdout",
          "text": [
            "From this: [123.65499, 125.455, 108.58483, 118.67466, 121.33866, 120.65533, 121.795] => to that: 123.033\n"
          ]
        }
      ]
    },
    {
      "cell_type": "code",
      "source": [
        "# Setup global variables\n",
        "HORIZON = 1 # predict next 1 day\n",
        "WINDOW_SIZE = 7 # use past week of data to make a prediction"
      ],
      "metadata": {
        "id": "uE2cB_TfH9fC"
      },
      "execution_count": 106,
      "outputs": []
    },
    {
      "cell_type": "code",
      "source": [
        "# Create a function to label windowed data\n",
        "def get_labelled_windows(x, horizon=HORIZON):\n",
        "  return x[:, :-horizon], x[:, -horizon:]"
      ],
      "metadata": {
        "id": "T5BuEUkRIitQ"
      },
      "execution_count": 107,
      "outputs": []
    },
    {
      "cell_type": "code",
      "source": [
        "tf.expand_dims(tf.range(8), axis=0)"
      ],
      "metadata": {
        "colab": {
          "base_uri": "https://localhost:8080/"
        },
        "id": "StvA1v0HKT-T",
        "outputId": "dfe38c51-7837-43a2-f5f3-fe52a4b3505e"
      },
      "execution_count": 108,
      "outputs": [
        {
          "output_type": "execute_result",
          "data": {
            "text/plain": [
              "<tf.Tensor: shape=(1, 8), dtype=int32, numpy=array([[0, 1, 2, 3, 4, 5, 6, 7]], dtype=int32)>"
            ]
          },
          "metadata": {},
          "execution_count": 108
        }
      ]
    },
    {
      "cell_type": "code",
      "source": [
        "# Test function\n",
        "test_window, test_label = get_labelled_windows(tf.expand_dims(tf.range(8), axis=0))\n",
        "test_window, test_label"
      ],
      "metadata": {
        "colab": {
          "base_uri": "https://localhost:8080/"
        },
        "id": "ys5O6rRYJzNq",
        "outputId": "f3e851e8-5869-4ab2-de89-200377760590"
      },
      "execution_count": 109,
      "outputs": [
        {
          "output_type": "execute_result",
          "data": {
            "text/plain": [
              "(<tf.Tensor: shape=(1, 7), dtype=int32, numpy=array([[0, 1, 2, 3, 4, 5, 6]], dtype=int32)>,\n",
              " <tf.Tensor: shape=(1, 1), dtype=int32, numpy=array([[7]], dtype=int32)>)"
            ]
          },
          "metadata": {},
          "execution_count": 109
        }
      ]
    },
    {
      "cell_type": "code",
      "source": [
        "# Create a function to view NumPy arrays as windows\n",
        "def make_windows(x, window_size=WINDOW_SIZE, horizon=HORIZON):\n",
        "  # Create as window\n",
        "  window_step = np.expand_dims(np.arange(window_size+horizon), axis=0)\n",
        "\n",
        "  # Create a 2D array of window_steps (-1 for 0-indexing)\n",
        "  window_indexes = window_step + np.expand_dims(np.arange(len(x)-(window_size+horizon-1)), axis=0).T # create as 2D array of windows of window_size size\n",
        "  # print(window_indexes, window_indexes.shape)\n",
        "\n",
        "  # Index the target array with 2D array of widow steps\n",
        "  windowed_array = x[window_indexes]\n",
        "  # print(windowed_array.shape)\n",
        "\n",
        "  # Get labelled windows\n",
        "  windows, labels = get_labelled_windows(windowed_array)\n",
        "  return windows, labels"
      ],
      "metadata": {
        "id": "S-D9_qPQKN2h"
      },
      "execution_count": 110,
      "outputs": []
    },
    {
      "cell_type": "code",
      "source": [
        "full_windows, full_labels = make_windows(prices)\n",
        "len(full_windows), len(full_labels)"
      ],
      "metadata": {
        "colab": {
          "base_uri": "https://localhost:8080/"
        },
        "id": "Yg6yRIsmWRAk",
        "outputId": "0d853b63-bd44-428c-90d7-adef20cb853f"
      },
      "execution_count": 111,
      "outputs": [
        {
          "output_type": "execute_result",
          "data": {
            "text/plain": [
              "(2780, 2780)"
            ]
          },
          "metadata": {},
          "execution_count": 111
        }
      ]
    },
    {
      "cell_type": "code",
      "source": [
        "len(prices)"
      ],
      "metadata": {
        "colab": {
          "base_uri": "https://localhost:8080/"
        },
        "id": "yKGMGyv3VWvM",
        "outputId": "6e898e9f-3108-4cdf-d279-e3cd12ab9e2f"
      },
      "execution_count": 112,
      "outputs": [
        {
          "output_type": "execute_result",
          "data": {
            "text/plain": [
              "2787"
            ]
          },
          "metadata": {},
          "execution_count": 112
        }
      ]
    },
    {
      "cell_type": "code",
      "source": [
        "# First 3\n",
        "for i in range(3):\n",
        "  print(f\"Window: {full_windows[i]} -> Label: {full_labels[i]}\")"
      ],
      "metadata": {
        "colab": {
          "base_uri": "https://localhost:8080/"
        },
        "id": "iwtLAM5GbHcl",
        "outputId": "8cd26c14-6bf3-47d5-fd3e-ed37273d0494"
      },
      "execution_count": 113,
      "outputs": [
        {
          "output_type": "stream",
          "name": "stdout",
          "text": [
            "Window: [123.65499 125.455   108.58483 118.67466 121.33866 120.65533 121.795  ] -> Label: [123.033]\n",
            "Window: [125.455   108.58483 118.67466 121.33866 120.65533 121.795   123.033  ] -> Label: [124.049]\n",
            "Window: [108.58483 118.67466 121.33866 120.65533 121.795   123.033   124.049  ] -> Label: [125.96116]\n"
          ]
        }
      ]
    },
    {
      "cell_type": "code",
      "source": [
        "# Last 3\n",
        "for i in range(3):\n",
        "  print(f\"Window: {full_windows[i-3]} -> Label: {full_labels[i-3]}\")"
      ],
      "metadata": {
        "colab": {
          "base_uri": "https://localhost:8080/"
        },
        "id": "Zw82ZYjrbbfF",
        "outputId": "de7ccf79-6b3b-4e1b-8d0c-5ff837ee95c4"
      },
      "execution_count": 114,
      "outputs": [
        {
          "output_type": "stream",
          "name": "stdout",
          "text": [
            "Window: [58788.20967893 58102.19142623 55715.54665129 56573.5554719\n",
            " 52147.82118698 49764.1320816  50032.69313676] -> Label: [47885.62525472]\n",
            "Window: [58102.19142623 55715.54665129 56573.5554719  52147.82118698\n",
            " 49764.1320816  50032.69313676 47885.62525472] -> Label: [45604.61575361]\n",
            "Window: [55715.54665129 56573.5554719  52147.82118698 49764.1320816\n",
            " 50032.69313676 47885.62525472 45604.61575361] -> Label: [43144.47129086]\n"
          ]
        }
      ]
    },
    {
      "cell_type": "code",
      "source": [
        "prices[-1:]"
      ],
      "metadata": {
        "colab": {
          "base_uri": "https://localhost:8080/"
        },
        "id": "MKEthtrmbveF",
        "outputId": "3a5e7668-a329-4b2a-ae44-61ba6217c8c1"
      },
      "execution_count": 115,
      "outputs": [
        {
          "output_type": "execute_result",
          "data": {
            "text/plain": [
              "array([43144.47129086])"
            ]
          },
          "metadata": {},
          "execution_count": 115
        }
      ]
    },
    {
      "cell_type": "markdown",
      "source": [
        "## Turning windows into train & test datasets"
      ],
      "metadata": {
        "id": "RDvZKGkqb1fN"
      }
    },
    {
      "cell_type": "code",
      "source": [
        "full_windows[:5], full_labels[:5]"
      ],
      "metadata": {
        "colab": {
          "base_uri": "https://localhost:8080/"
        },
        "id": "FAOyEpBGcrWt",
        "outputId": "27273fa0-db26-44dc-b52e-47d83e699862"
      },
      "execution_count": 116,
      "outputs": [
        {
          "output_type": "execute_result",
          "data": {
            "text/plain": [
              "(array([[123.65499, 125.455  , 108.58483, 118.67466, 121.33866, 120.65533,\n",
              "         121.795  ],\n",
              "        [125.455  , 108.58483, 118.67466, 121.33866, 120.65533, 121.795  ,\n",
              "         123.033  ],\n",
              "        [108.58483, 118.67466, 121.33866, 120.65533, 121.795  , 123.033  ,\n",
              "         124.049  ],\n",
              "        [118.67466, 121.33866, 120.65533, 121.795  , 123.033  , 124.049  ,\n",
              "         125.96116],\n",
              "        [121.33866, 120.65533, 121.795  , 123.033  , 124.049  , 125.96116,\n",
              "         125.27966]]),\n",
              " array([[123.033  ],\n",
              "        [124.049  ],\n",
              "        [125.96116],\n",
              "        [125.27966],\n",
              "        [125.9275 ]]))"
            ]
          },
          "metadata": {},
          "execution_count": 116
        }
      ]
    },
    {
      "cell_type": "code",
      "source": [
        "# Make train/test splits\n",
        "def make_train_test_splits(windows, labels, test_split=0.2):\n",
        "  split_size = int(len(windows) * (1 - test_split)) # default to 80% train/20% test\n",
        "  train_windows = windows[:split_size]\n",
        "  train_labels = labels[:split_size]\n",
        "  test_windows = windows[split_size:]\n",
        "  test_labels = labels[split_size:]\n",
        "\n",
        "  return train_windows, test_windows, train_labels, test_labels"
      ],
      "metadata": {
        "id": "pDFi_ciEcWJl"
      },
      "execution_count": 117,
      "outputs": []
    },
    {
      "cell_type": "code",
      "source": [
        "# Create train/test windows\n",
        "train_windows, test_windows, train_labels, test_labels = make_train_test_splits(full_windows, full_labels)\n",
        "len(train_windows), len(test_windows), len(train_labels), len(test_labels)"
      ],
      "metadata": {
        "colab": {
          "base_uri": "https://localhost:8080/"
        },
        "id": "2pQwNqcYdx10",
        "outputId": "a03e7eaf-4c2e-40a8-8fb7-8a651b4d5bfb"
      },
      "execution_count": 118,
      "outputs": [
        {
          "output_type": "execute_result",
          "data": {
            "text/plain": [
              "(2224, 556, 2224, 556)"
            ]
          },
          "metadata": {},
          "execution_count": 118
        }
      ]
    },
    {
      "cell_type": "code",
      "source": [
        "train_windows[:5], train_labels[:5]"
      ],
      "metadata": {
        "colab": {
          "base_uri": "https://localhost:8080/"
        },
        "id": "9qzeffKIeAJl",
        "outputId": "881e1f41-90f8-4509-942d-b47824529356"
      },
      "execution_count": 119,
      "outputs": [
        {
          "output_type": "execute_result",
          "data": {
            "text/plain": [
              "(array([[123.65499, 125.455  , 108.58483, 118.67466, 121.33866, 120.65533,\n",
              "         121.795  ],\n",
              "        [125.455  , 108.58483, 118.67466, 121.33866, 120.65533, 121.795  ,\n",
              "         123.033  ],\n",
              "        [108.58483, 118.67466, 121.33866, 120.65533, 121.795  , 123.033  ,\n",
              "         124.049  ],\n",
              "        [118.67466, 121.33866, 120.65533, 121.795  , 123.033  , 124.049  ,\n",
              "         125.96116],\n",
              "        [121.33866, 120.65533, 121.795  , 123.033  , 124.049  , 125.96116,\n",
              "         125.27966]]),\n",
              " array([[123.033  ],\n",
              "        [124.049  ],\n",
              "        [125.96116],\n",
              "        [125.27966],\n",
              "        [125.9275 ]]))"
            ]
          },
          "metadata": {},
          "execution_count": 119
        }
      ]
    },
    {
      "cell_type": "code",
      "source": [
        "test_windows[:5], test_labels[:5]"
      ],
      "metadata": {
        "colab": {
          "base_uri": "https://localhost:8080/"
        },
        "id": "K31z0WO8eKb1",
        "outputId": "5355f7b6-6985-4b5c-8a28-00804947d533"
      },
      "execution_count": 120,
      "outputs": [
        {
          "output_type": "execute_result",
          "data": {
            "text/plain": [
              "(array([[9290.89660239, 9202.41545055, 9369.62808116, 9326.59962378,\n",
              "         9335.75240233, 9226.48582088, 8794.35864452],\n",
              "        [9202.41545055, 9369.62808116, 9326.59962378, 9335.75240233,\n",
              "         9226.48582088, 8794.35864452, 8798.04205463],\n",
              "        [9369.62808116, 9326.59962378, 9335.75240233, 9226.48582088,\n",
              "         8794.35864452, 8798.04205463, 9081.18687849],\n",
              "        [9326.59962378, 9335.75240233, 9226.48582088, 8794.35864452,\n",
              "         8798.04205463, 9081.18687849, 8711.53433917],\n",
              "        [9335.75240233, 9226.48582088, 8794.35864452, 8798.04205463,\n",
              "         9081.18687849, 8711.53433917, 8760.89271814]]),\n",
              " array([[8798.04205463],\n",
              "        [9081.18687849],\n",
              "        [8711.53433917],\n",
              "        [8760.89271814],\n",
              "        [8749.52059102]]))"
            ]
          },
          "metadata": {},
          "execution_count": 120
        }
      ]
    },
    {
      "cell_type": "code",
      "source": [
        "# if train array's the same as before\n",
        "np.array_equal(np.squeeze(train_labels[:-HORIZON-1]), y_train[WINDOW_SIZE:])"
      ],
      "metadata": {
        "colab": {
          "base_uri": "https://localhost:8080/"
        },
        "id": "OArL1MflePid",
        "outputId": "7c0f291f-94e4-4436-907d-b580b75d7bd0"
      },
      "execution_count": 121,
      "outputs": [
        {
          "output_type": "execute_result",
          "data": {
            "text/plain": [
              "True"
            ]
          },
          "metadata": {},
          "execution_count": 121
        }
      ]
    },
    {
      "cell_type": "markdown",
      "source": [
        "## Make a modelling checkpoint callback"
      ],
      "metadata": {
        "id": "MCCNoKvaexod"
      }
    },
    {
      "cell_type": "code",
      "source": [
        "import os\n",
        "\n",
        "# Create a function to create a ModelCheckpoint callback with a filename\n",
        "def create_model_checkpoint(model_name, save_path=\"model_experiments\"):\n",
        "  full_path = save_path + \"/\" + model_name + \".keras\"\n",
        "  return tf.keras.callbacks.ModelCheckpoint(filepath=full_path,\n",
        "                                            verbose=0,\n",
        "                                            save_best_only=True)"
      ],
      "metadata": {
        "id": "mmBNI8QP3uOo"
      },
      "execution_count": 122,
      "outputs": []
    },
    {
      "cell_type": "markdown",
      "source": [
        "## Model 1: Dense Model (window = 7, horizon = 1)"
      ],
      "metadata": {
        "id": "ebE6EtOz4-n4"
      }
    },
    {
      "cell_type": "code",
      "source": [
        "import tensorflow as tf\n",
        "from tensorflow.keras import layers\n",
        "\n",
        "# Set random seed\n",
        "tf.random.set_seed(42)\n",
        "\n",
        "# Construct Model\n",
        "model_1 = tf.keras.Sequential([\n",
        "    layers.Dense(128, activation=\"relu\"),\n",
        "    layers.Dense(HORIZON, activation=\"linear\")\n",
        "], name=\"model_1_dense\")\n",
        "\n",
        "# Compile model\n",
        "model_1.compile(loss=\"mae\",\n",
        "                optimizer=tf.keras.optimizers.Adam(),\n",
        "                metrics=[\"mae\", \"mse\"])\n",
        "\n",
        "# Fit model\n",
        "model_1.fit(x=train_windows,\n",
        "            y=train_labels,\n",
        "            epochs=100,\n",
        "            verbose=1,\n",
        "            batch_size=128,\n",
        "            validation_data=(test_windows, test_labels),\n",
        "            callbacks=[create_model_checkpoint(model_name=model_1.name)])"
      ],
      "metadata": {
        "colab": {
          "base_uri": "https://localhost:8080/"
        },
        "id": "4HIUcs4J5I_Z",
        "outputId": "53dee1ed-6d5e-4a45-bf83-de9873c80bf9"
      },
      "execution_count": 123,
      "outputs": [
        {
          "output_type": "stream",
          "name": "stdout",
          "text": [
            "Epoch 1/100\n",
            "\u001b[1m18/18\u001b[0m \u001b[32m━━━━━━━━━━━━━━━━━━━━\u001b[0m\u001b[37m\u001b[0m \u001b[1m5s\u001b[0m 59ms/step - loss: 2476.3088 - mae: 2476.3088 - mse: 15769119.0000 - val_loss: 2286.4426 - val_mae: 2286.4426 - val_mse: 11583395.0000\n",
            "Epoch 2/100\n",
            "\u001b[1m18/18\u001b[0m \u001b[32m━━━━━━━━━━━━━━━━━━━━\u001b[0m\u001b[37m\u001b[0m \u001b[1m1s\u001b[0m 29ms/step - loss: 332.9841 - mae: 332.9841 - mse: 431097.8750 - val_loss: 1214.6794 - val_mae: 1214.6794 - val_mse: 4108880.0000\n",
            "Epoch 3/100\n",
            "\u001b[1m18/18\u001b[0m \u001b[32m━━━━━━━━━━━━━━━━━━━━\u001b[0m\u001b[37m\u001b[0m \u001b[1m0s\u001b[0m 19ms/step - loss: 226.8609 - mae: 226.8609 - mse: 232236.1250 - val_loss: 1070.6143 - val_mae: 1070.6143 - val_mse: 3783463.2500\n",
            "Epoch 4/100\n",
            "\u001b[1m18/18\u001b[0m \u001b[32m━━━━━━━━━━━━━━━━━━━━\u001b[0m\u001b[37m\u001b[0m \u001b[1m1s\u001b[0m 20ms/step - loss: 186.2959 - mae: 186.2959 - mse: 169042.2812 - val_loss: 994.9177 - val_mae: 994.9177 - val_mse: 3326542.7500\n",
            "Epoch 5/100\n",
            "\u001b[1m18/18\u001b[0m \u001b[32m━━━━━━━━━━━━━━━━━━━━\u001b[0m\u001b[37m\u001b[0m \u001b[1m1s\u001b[0m 25ms/step - loss: 174.9491 - mae: 174.9491 - mse: 159593.4375 - val_loss: 994.7020 - val_mae: 994.7020 - val_mse: 3196539.0000\n",
            "Epoch 6/100\n",
            "\u001b[1m18/18\u001b[0m \u001b[32m━━━━━━━━━━━━━━━━━━━━\u001b[0m\u001b[37m\u001b[0m \u001b[1m0s\u001b[0m 12ms/step - loss: 170.0527 - mae: 170.0527 - mse: 154194.5938 - val_loss: 998.0505 - val_mae: 998.0505 - val_mse: 3129804.0000\n",
            "Epoch 7/100\n",
            "\u001b[1m18/18\u001b[0m \u001b[32m━━━━━━━━━━━━━━━━━━━━\u001b[0m\u001b[37m\u001b[0m \u001b[1m0s\u001b[0m 14ms/step - loss: 167.9209 - mae: 167.9209 - mse: 148969.7812 - val_loss: 981.4589 - val_mae: 981.4589 - val_mse: 3014607.5000\n",
            "Epoch 8/100\n",
            "\u001b[1m18/18\u001b[0m \u001b[32m━━━━━━━━━━━━━━━━━━━━\u001b[0m\u001b[37m\u001b[0m \u001b[1m1s\u001b[0m 15ms/step - loss: 165.5371 - mae: 165.5371 - mse: 143032.2031 - val_loss: 948.9104 - val_mae: 948.9104 - val_mse: 2861781.2500\n",
            "Epoch 9/100\n",
            "\u001b[1m18/18\u001b[0m \u001b[32m━━━━━━━━━━━━━━━━━━━━\u001b[0m\u001b[37m\u001b[0m \u001b[1m1s\u001b[0m 30ms/step - loss: 161.3727 - mae: 161.3727 - mse: 137100.6406 - val_loss: 925.7309 - val_mae: 925.7309 - val_mse: 2734330.7500\n",
            "Epoch 10/100\n",
            "\u001b[1m18/18\u001b[0m \u001b[32m━━━━━━━━━━━━━━━━━━━━\u001b[0m\u001b[37m\u001b[0m \u001b[1m0s\u001b[0m 20ms/step - loss: 157.7288 - mae: 157.7288 - mse: 131714.7188 - val_loss: 908.5840 - val_mae: 908.5840 - val_mse: 2624598.0000\n",
            "Epoch 11/100\n",
            "\u001b[1m18/18\u001b[0m \u001b[32m━━━━━━━━━━━━━━━━━━━━\u001b[0m\u001b[37m\u001b[0m \u001b[1m1s\u001b[0m 38ms/step - loss: 154.5839 - mae: 154.5839 - mse: 126518.8984 - val_loss: 890.2828 - val_mae: 890.2828 - val_mse: 2513920.5000\n",
            "Epoch 12/100\n",
            "\u001b[1m18/18\u001b[0m \u001b[32m━━━━━━━━━━━━━━━━━━━━\u001b[0m\u001b[37m\u001b[0m \u001b[1m1s\u001b[0m 23ms/step - loss: 151.1298 - mae: 151.1298 - mse: 121969.7188 - val_loss: 877.7307 - val_mae: 877.7307 - val_mse: 2417774.5000\n",
            "Epoch 13/100\n",
            "\u001b[1m18/18\u001b[0m \u001b[32m━━━━━━━━━━━━━━━━━━━━\u001b[0m\u001b[37m\u001b[0m \u001b[1m1s\u001b[0m 19ms/step - loss: 148.0560 - mae: 148.0560 - mse: 117697.0703 - val_loss: 847.6592 - val_mae: 847.6592 - val_mse: 2285886.2500\n",
            "Epoch 14/100\n",
            "\u001b[1m18/18\u001b[0m \u001b[32m━━━━━━━━━━━━━━━━━━━━\u001b[0m\u001b[37m\u001b[0m \u001b[1m0s\u001b[0m 23ms/step - loss: 144.9169 - mae: 144.9169 - mse: 112366.6172 - val_loss: 839.7515 - val_mae: 839.7515 - val_mse: 2212257.5000\n",
            "Epoch 15/100\n",
            "\u001b[1m18/18\u001b[0m \u001b[32m━━━━━━━━━━━━━━━━━━━━\u001b[0m\u001b[37m\u001b[0m \u001b[1m1s\u001b[0m 22ms/step - loss: 142.5535 - mae: 142.5535 - mse: 108676.1172 - val_loss: 800.2454 - val_mae: 800.2454 - val_mse: 2073091.6250\n",
            "Epoch 16/100\n",
            "\u001b[1m18/18\u001b[0m \u001b[32m━━━━━━━━━━━━━━━━━━━━\u001b[0m\u001b[37m\u001b[0m \u001b[1m0s\u001b[0m 8ms/step - loss: 138.9246 - mae: 138.9246 - mse: 104957.5781 - val_loss: 798.8912 - val_mae: 798.8912 - val_mse: 2024403.6250\n",
            "Epoch 17/100\n",
            "\u001b[1m18/18\u001b[0m \u001b[32m━━━━━━━━━━━━━━━━━━━━\u001b[0m\u001b[37m\u001b[0m \u001b[1m0s\u001b[0m 10ms/step - loss: 137.8913 - mae: 137.8913 - mse: 101656.7656 - val_loss: 789.4996 - val_mae: 789.4996 - val_mse: 1964689.2500\n",
            "Epoch 18/100\n",
            "\u001b[1m18/18\u001b[0m \u001b[32m━━━━━━━━━━━━━━━━━━━━\u001b[0m\u001b[37m\u001b[0m \u001b[1m0s\u001b[0m 9ms/step - loss: 136.3558 - mae: 136.3558 - mse: 98738.1562 - val_loss: 770.9250 - val_mae: 770.9250 - val_mse: 1888006.8750\n",
            "Epoch 19/100\n",
            "\u001b[1m18/18\u001b[0m \u001b[32m━━━━━━━━━━━━━━━━━━━━\u001b[0m\u001b[37m\u001b[0m \u001b[1m0s\u001b[0m 9ms/step - loss: 134.2750 - mae: 134.2750 - mse: 96065.0312 - val_loss: 745.6310 - val_mae: 745.6310 - val_mse: 1800915.0000\n",
            "Epoch 20/100\n",
            "\u001b[1m18/18\u001b[0m \u001b[32m━━━━━━━━━━━━━━━━━━━━\u001b[0m\u001b[37m\u001b[0m \u001b[1m1s\u001b[0m 30ms/step - loss: 131.7619 - mae: 131.7619 - mse: 93547.3594 - val_loss: 729.9386 - val_mae: 729.9386 - val_mse: 1739961.1250\n",
            "Epoch 21/100\n",
            "\u001b[1m18/18\u001b[0m \u001b[32m━━━━━━━━━━━━━━━━━━━━\u001b[0m\u001b[37m\u001b[0m \u001b[1m0s\u001b[0m 14ms/step - loss: 130.2670 - mae: 130.2670 - mse: 91414.3281 - val_loss: 712.3885 - val_mae: 712.3885 - val_mse: 1680353.6250\n",
            "Epoch 22/100\n",
            "\u001b[1m18/18\u001b[0m \u001b[32m━━━━━━━━━━━━━━━━━━━━\u001b[0m\u001b[37m\u001b[0m \u001b[1m0s\u001b[0m 26ms/step - loss: 128.4684 - mae: 128.4684 - mse: 89888.5156 - val_loss: 696.6389 - val_mae: 696.6389 - val_mse: 1626966.1250\n",
            "Epoch 23/100\n",
            "\u001b[1m18/18\u001b[0m \u001b[32m━━━━━━━━━━━━━━━━━━━━\u001b[0m\u001b[37m\u001b[0m \u001b[1m1s\u001b[0m 15ms/step - loss: 127.5557 - mae: 127.5557 - mse: 88264.8281 - val_loss: 683.7035 - val_mae: 683.7035 - val_mse: 1585615.1250\n",
            "Epoch 24/100\n",
            "\u001b[1m18/18\u001b[0m \u001b[32m━━━━━━━━━━━━━━━━━━━━\u001b[0m\u001b[37m\u001b[0m \u001b[1m0s\u001b[0m 9ms/step - loss: 127.1586 - mae: 127.1586 - mse: 87187.5391 - val_loss: 679.1337 - val_mae: 679.1337 - val_mse: 1558511.7500\n",
            "Epoch 25/100\n",
            "\u001b[1m18/18\u001b[0m \u001b[32m━━━━━━━━━━━━━━━━━━━━\u001b[0m\u001b[37m\u001b[0m \u001b[1m0s\u001b[0m 11ms/step - loss: 126.3756 - mae: 126.3756 - mse: 85999.9141 - val_loss: 672.1650 - val_mae: 672.1650 - val_mse: 1531964.3750\n",
            "Epoch 26/100\n",
            "\u001b[1m18/18\u001b[0m \u001b[32m━━━━━━━━━━━━━━━━━━━━\u001b[0m\u001b[37m\u001b[0m \u001b[1m1s\u001b[0m 41ms/step - loss: 125.2193 - mae: 125.2193 - mse: 85048.6953 - val_loss: 664.4279 - val_mae: 664.4279 - val_mse: 1504963.6250\n",
            "Epoch 27/100\n",
            "\u001b[1m18/18\u001b[0m \u001b[32m━━━━━━━━━━━━━━━━━━━━\u001b[0m\u001b[37m\u001b[0m \u001b[1m1s\u001b[0m 17ms/step - loss: 124.0813 - mae: 124.0813 - mse: 84414.9062 - val_loss: 656.8098 - val_mae: 656.8098 - val_mse: 1481296.6250\n",
            "Epoch 28/100\n",
            "\u001b[1m18/18\u001b[0m \u001b[32m━━━━━━━━━━━━━━━━━━━━\u001b[0m\u001b[37m\u001b[0m \u001b[1m0s\u001b[0m 11ms/step - loss: 123.0898 - mae: 123.0898 - mse: 83982.8438 - val_loss: 652.3176 - val_mae: 652.3176 - val_mse: 1473978.7500\n",
            "Epoch 29/100\n",
            "\u001b[1m18/18\u001b[0m \u001b[32m━━━━━━━━━━━━━━━━━━━━\u001b[0m\u001b[37m\u001b[0m \u001b[1m0s\u001b[0m 9ms/step - loss: 121.7374 - mae: 121.7374 - mse: 83589.5781 - val_loss: 648.0556 - val_mae: 648.0556 - val_mse: 1459763.7500\n",
            "Epoch 30/100\n",
            "\u001b[1m18/18\u001b[0m \u001b[32m━━━━━━━━━━━━━━━━━━━━\u001b[0m\u001b[37m\u001b[0m \u001b[1m0s\u001b[0m 8ms/step - loss: 120.8908 - mae: 120.8908 - mse: 83064.6250 - val_loss: 642.9685 - val_mae: 642.9685 - val_mse: 1439488.7500\n",
            "Epoch 31/100\n",
            "\u001b[1m18/18\u001b[0m \u001b[32m━━━━━━━━━━━━━━━━━━━━\u001b[0m\u001b[37m\u001b[0m \u001b[1m0s\u001b[0m 13ms/step - loss: 119.7223 - mae: 119.7223 - mse: 82829.2656 - val_loss: 636.5258 - val_mae: 636.5258 - val_mse: 1409504.6250\n",
            "Epoch 32/100\n",
            "\u001b[1m18/18\u001b[0m \u001b[32m━━━━━━━━━━━━━━━━━━━━\u001b[0m\u001b[37m\u001b[0m \u001b[1m1s\u001b[0m 26ms/step - loss: 121.0803 - mae: 121.0803 - mse: 83573.1172 - val_loss: 643.7808 - val_mae: 643.7808 - val_mse: 1416270.0000\n",
            "Epoch 33/100\n",
            "\u001b[1m18/18\u001b[0m \u001b[32m━━━━━━━━━━━━━━━━━━━━\u001b[0m\u001b[37m\u001b[0m \u001b[1m0s\u001b[0m 17ms/step - loss: 120.2590 - mae: 120.2590 - mse: 81334.4609 - val_loss: 640.3231 - val_mae: 640.3231 - val_mse: 1432547.6250\n",
            "Epoch 34/100\n",
            "\u001b[1m18/18\u001b[0m \u001b[32m━━━━━━━━━━━━━━━━━━━━\u001b[0m\u001b[37m\u001b[0m \u001b[1m1s\u001b[0m 20ms/step - loss: 118.8966 - mae: 118.8966 - mse: 81579.8281 - val_loss: 626.5898 - val_mae: 626.5898 - val_mse: 1378077.8750\n",
            "Epoch 35/100\n",
            "\u001b[1m18/18\u001b[0m \u001b[32m━━━━━━━━━━━━━━━━━━━━\u001b[0m\u001b[37m\u001b[0m \u001b[1m0s\u001b[0m 21ms/step - loss: 118.3242 - mae: 118.3242 - mse: 81478.1953 - val_loss: 633.1226 - val_mae: 633.1226 - val_mse: 1378515.1250\n",
            "Epoch 36/100\n",
            "\u001b[1m18/18\u001b[0m \u001b[32m━━━━━━━━━━━━━━━━━━━━\u001b[0m\u001b[37m\u001b[0m \u001b[1m1s\u001b[0m 27ms/step - loss: 119.3035 - mae: 119.3035 - mse: 80261.3594 - val_loss: 622.4449 - val_mae: 622.4449 - val_mse: 1364530.6250\n",
            "Epoch 37/100\n",
            "\u001b[1m18/18\u001b[0m \u001b[32m━━━━━━━━━━━━━━━━━━━━\u001b[0m\u001b[37m\u001b[0m \u001b[1m0s\u001b[0m 20ms/step - loss: 117.2517 - mae: 117.2517 - mse: 79829.5781 - val_loss: 617.9757 - val_mae: 617.9757 - val_mse: 1346262.1250\n",
            "Epoch 38/100\n",
            "\u001b[1m18/18\u001b[0m \u001b[32m━━━━━━━━━━━━━━━━━━━━\u001b[0m\u001b[37m\u001b[0m \u001b[1m0s\u001b[0m 9ms/step - loss: 117.2112 - mae: 117.2112 - mse: 80359.6562 - val_loss: 615.8580 - val_mae: 615.8580 - val_mse: 1330152.5000\n",
            "Epoch 39/100\n",
            "\u001b[1m18/18\u001b[0m \u001b[32m━━━━━━━━━━━━━━━━━━━━\u001b[0m\u001b[37m\u001b[0m \u001b[1m0s\u001b[0m 7ms/step - loss: 115.8566 - mae: 115.8566 - mse: 78833.5234 - val_loss: 617.7292 - val_mae: 617.7292 - val_mse: 1347063.0000\n",
            "Epoch 40/100\n",
            "\u001b[1m18/18\u001b[0m \u001b[32m━━━━━━━━━━━━━━━━━━━━\u001b[0m\u001b[37m\u001b[0m \u001b[1m0s\u001b[0m 8ms/step - loss: 115.7072 - mae: 115.7072 - mse: 78997.1953 - val_loss: 616.4731 - val_mae: 616.4731 - val_mse: 1342146.2500\n",
            "Epoch 41/100\n",
            "\u001b[1m18/18\u001b[0m \u001b[32m━━━━━━━━━━━━━━━━━━━━\u001b[0m\u001b[37m\u001b[0m \u001b[1m0s\u001b[0m 10ms/step - loss: 115.3368 - mae: 115.3368 - mse: 78767.3906 - val_loss: 611.2950 - val_mae: 611.2950 - val_mse: 1323740.7500\n",
            "Epoch 42/100\n",
            "\u001b[1m18/18\u001b[0m \u001b[32m━━━━━━━━━━━━━━━━━━━━\u001b[0m\u001b[37m\u001b[0m \u001b[1m0s\u001b[0m 8ms/step - loss: 115.0465 - mae: 115.0465 - mse: 78298.5000 - val_loss: 610.0483 - val_mae: 610.0483 - val_mse: 1319148.8750\n",
            "Epoch 43/100\n",
            "\u001b[1m18/18\u001b[0m \u001b[32m━━━━━━━━━━━━━━━━━━━━\u001b[0m\u001b[37m\u001b[0m \u001b[1m0s\u001b[0m 8ms/step - loss: 114.6492 - mae: 114.6492 - mse: 78094.7031 - val_loss: 609.1315 - val_mae: 609.1315 - val_mse: 1315047.8750\n",
            "Epoch 44/100\n",
            "\u001b[1m18/18\u001b[0m \u001b[32m━━━━━━━━━━━━━━━━━━━━\u001b[0m\u001b[37m\u001b[0m \u001b[1m0s\u001b[0m 9ms/step - loss: 114.2798 - mae: 114.2798 - mse: 77937.3906 - val_loss: 609.3569 - val_mae: 609.3569 - val_mse: 1313983.3750\n",
            "Epoch 45/100\n",
            "\u001b[1m18/18\u001b[0m \u001b[32m━━━━━━━━━━━━━━━━━━━━\u001b[0m\u001b[37m\u001b[0m \u001b[1m0s\u001b[0m 11ms/step - loss: 114.1695 - mae: 114.1695 - mse: 77824.6641 - val_loss: 609.5690 - val_mae: 609.5690 - val_mse: 1312690.5000\n",
            "Epoch 46/100\n",
            "\u001b[1m18/18\u001b[0m \u001b[32m━━━━━━━━━━━━━━━━━━━━\u001b[0m\u001b[37m\u001b[0m \u001b[1m0s\u001b[0m 11ms/step - loss: 113.8072 - mae: 113.8072 - mse: 77493.5469 - val_loss: 606.7088 - val_mae: 606.7088 - val_mse: 1302535.8750\n",
            "Epoch 47/100\n",
            "\u001b[1m18/18\u001b[0m \u001b[32m━━━━━━━━━━━━━━━━━━━━\u001b[0m\u001b[37m\u001b[0m \u001b[1m0s\u001b[0m 8ms/step - loss: 113.4127 - mae: 113.4127 - mse: 77176.4922 - val_loss: 597.4136 - val_mae: 597.4136 - val_mse: 1269654.3750\n",
            "Epoch 48/100\n",
            "\u001b[1m18/18\u001b[0m \u001b[32m━━━━━━━━━━━━━━━━━━━━\u001b[0m\u001b[37m\u001b[0m \u001b[1m0s\u001b[0m 7ms/step - loss: 113.4456 - mae: 113.4456 - mse: 76712.3984 - val_loss: 597.6765 - val_mae: 597.6765 - val_mse: 1272019.6250\n",
            "Epoch 49/100\n",
            "\u001b[1m18/18\u001b[0m \u001b[32m━━━━━━━━━━━━━━━━━━━━\u001b[0m\u001b[37m\u001b[0m \u001b[1m0s\u001b[0m 9ms/step - loss: 112.8188 - mae: 112.8188 - mse: 76526.4688 - val_loss: 594.8341 - val_mae: 594.8341 - val_mse: 1261397.8750\n",
            "Epoch 50/100\n",
            "\u001b[1m18/18\u001b[0m \u001b[32m━━━━━━━━━━━━━━━━━━━━\u001b[0m\u001b[37m\u001b[0m \u001b[1m0s\u001b[0m 8ms/step - loss: 112.6949 - mae: 112.6949 - mse: 76142.0312 - val_loss: 594.3908 - val_mae: 594.3908 - val_mse: 1260344.7500\n",
            "Epoch 51/100\n",
            "\u001b[1m18/18\u001b[0m \u001b[32m━━━━━━━━━━━━━━━━━━━━\u001b[0m\u001b[37m\u001b[0m \u001b[1m0s\u001b[0m 14ms/step - loss: 112.2785 - mae: 112.2785 - mse: 75933.0469 - val_loss: 591.6914 - val_mae: 591.6914 - val_mse: 1248762.1250\n",
            "Epoch 52/100\n",
            "\u001b[1m18/18\u001b[0m \u001b[32m━━━━━━━━━━━━━━━━━━━━\u001b[0m\u001b[37m\u001b[0m \u001b[1m0s\u001b[0m 10ms/step - loss: 113.2346 - mae: 113.2346 - mse: 76092.6406 - val_loss: 599.0424 - val_mae: 599.0424 - val_mse: 1270854.1250\n",
            "Epoch 53/100\n",
            "\u001b[1m18/18\u001b[0m \u001b[32m━━━━━━━━━━━━━━━━━━━━\u001b[0m\u001b[37m\u001b[0m \u001b[1m0s\u001b[0m 14ms/step - loss: 111.8395 - mae: 111.8395 - mse: 75347.4453 - val_loss: 589.4800 - val_mae: 589.4800 - val_mse: 1241360.2500\n",
            "Epoch 54/100\n",
            "\u001b[1m18/18\u001b[0m \u001b[32m━━━━━━━━━━━━━━━━━━━━\u001b[0m\u001b[37m\u001b[0m \u001b[1m0s\u001b[0m 10ms/step - loss: 112.9603 - mae: 112.9603 - mse: 75659.9609 - val_loss: 598.2011 - val_mae: 598.2011 - val_mse: 1265401.0000\n",
            "Epoch 55/100\n",
            "\u001b[1m18/18\u001b[0m \u001b[32m━━━━━━━━━━━━━━━━━━━━\u001b[0m\u001b[37m\u001b[0m \u001b[1m0s\u001b[0m 14ms/step - loss: 111.5017 - mae: 111.5017 - mse: 75298.5469 - val_loss: 587.8343 - val_mae: 587.8343 - val_mse: 1237424.6250\n",
            "Epoch 56/100\n",
            "\u001b[1m18/18\u001b[0m \u001b[32m━━━━━━━━━━━━━━━━━━━━\u001b[0m\u001b[37m\u001b[0m \u001b[1m0s\u001b[0m 11ms/step - loss: 111.5649 - mae: 111.5649 - mse: 74934.3594 - val_loss: 589.8433 - val_mae: 589.8433 - val_mse: 1242640.2500\n",
            "Epoch 57/100\n",
            "\u001b[1m18/18\u001b[0m \u001b[32m━━━━━━━━━━━━━━━━━━━━\u001b[0m\u001b[37m\u001b[0m \u001b[1m0s\u001b[0m 13ms/step - loss: 111.0178 - mae: 111.0178 - mse: 74644.8281 - val_loss: 586.7225 - val_mae: 586.7225 - val_mse: 1233987.8750\n",
            "Epoch 58/100\n",
            "\u001b[1m18/18\u001b[0m \u001b[32m━━━━━━━━━━━━━━━━━━━━\u001b[0m\u001b[37m\u001b[0m \u001b[1m0s\u001b[0m 12ms/step - loss: 111.1129 - mae: 111.1129 - mse: 74659.3672 - val_loss: 586.0626 - val_mae: 586.0626 - val_mse: 1231646.8750\n",
            "Epoch 59/100\n",
            "\u001b[1m18/18\u001b[0m \u001b[32m━━━━━━━━━━━━━━━━━━━━\u001b[0m\u001b[37m\u001b[0m \u001b[1m0s\u001b[0m 7ms/step - loss: 110.8348 - mae: 110.8348 - mse: 74314.5078 - val_loss: 586.5493 - val_mae: 586.5493 - val_mse: 1231643.1250\n",
            "Epoch 60/100\n",
            "\u001b[1m18/18\u001b[0m \u001b[32m━━━━━━━━━━━━━━━━━━━━\u001b[0m\u001b[37m\u001b[0m \u001b[1m0s\u001b[0m 8ms/step - loss: 110.4090 - mae: 110.4090 - mse: 73983.6797 - val_loss: 584.0800 - val_mae: 584.0800 - val_mse: 1223590.2500\n",
            "Epoch 61/100\n",
            "\u001b[1m18/18\u001b[0m \u001b[32m━━━━━━━━━━━━━━━━━━━━\u001b[0m\u001b[37m\u001b[0m \u001b[1m0s\u001b[0m 7ms/step - loss: 111.7353 - mae: 111.7353 - mse: 74205.3047 - val_loss: 591.5027 - val_mae: 591.5027 - val_mse: 1240125.7500\n",
            "Epoch 62/100\n",
            "\u001b[1m18/18\u001b[0m \u001b[32m━━━━━━━━━━━━━━━━━━━━\u001b[0m\u001b[37m\u001b[0m \u001b[1m0s\u001b[0m 8ms/step - loss: 110.2766 - mae: 110.2766 - mse: 73949.5859 - val_loss: 582.7021 - val_mae: 582.7021 - val_mse: 1220062.3750\n",
            "Epoch 63/100\n",
            "\u001b[1m18/18\u001b[0m \u001b[32m━━━━━━━━━━━━━━━━━━━━\u001b[0m\u001b[37m\u001b[0m \u001b[1m0s\u001b[0m 8ms/step - loss: 110.2589 - mae: 110.2589 - mse: 73708.2969 - val_loss: 580.5897 - val_mae: 580.5897 - val_mse: 1214664.5000\n",
            "Epoch 64/100\n",
            "\u001b[1m18/18\u001b[0m \u001b[32m━━━━━━━━━━━━━━━━━━━━\u001b[0m\u001b[37m\u001b[0m \u001b[1m0s\u001b[0m 8ms/step - loss: 110.5241 - mae: 110.5241 - mse: 73446.3203 - val_loss: 581.3094 - val_mae: 581.3094 - val_mse: 1215336.8750\n",
            "Epoch 65/100\n",
            "\u001b[1m18/18\u001b[0m \u001b[32m━━━━━━━━━━━━━━━━━━━━\u001b[0m\u001b[37m\u001b[0m \u001b[1m0s\u001b[0m 8ms/step - loss: 109.6763 - mae: 109.6763 - mse: 73151.5234 - val_loss: 579.0413 - val_mae: 579.0413 - val_mse: 1209827.8750\n",
            "Epoch 66/100\n",
            "\u001b[1m18/18\u001b[0m \u001b[32m━━━━━━━━━━━━━━━━━━━━\u001b[0m\u001b[37m\u001b[0m \u001b[1m0s\u001b[0m 7ms/step - loss: 110.1780 - mae: 110.1780 - mse: 73050.3594 - val_loss: 585.3458 - val_mae: 585.3458 - val_mse: 1220521.8750\n",
            "Epoch 67/100\n",
            "\u001b[1m18/18\u001b[0m \u001b[32m━━━━━━━━━━━━━━━━━━━━\u001b[0m\u001b[37m\u001b[0m \u001b[1m0s\u001b[0m 8ms/step - loss: 109.1274 - mae: 109.1274 - mse: 72128.1875 - val_loss: 576.7045 - val_mae: 576.7045 - val_mse: 1202739.1250\n",
            "Epoch 68/100\n",
            "\u001b[1m18/18\u001b[0m \u001b[32m━━━━━━━━━━━━━━━━━━━━\u001b[0m\u001b[37m\u001b[0m \u001b[1m0s\u001b[0m 7ms/step - loss: 110.2452 - mae: 110.2452 - mse: 72800.8125 - val_loss: 577.2734 - val_mae: 577.2734 - val_mse: 1202985.2500\n",
            "Epoch 69/100\n",
            "\u001b[1m18/18\u001b[0m \u001b[32m━━━━━━━━━━━━━━━━━━━━\u001b[0m\u001b[37m\u001b[0m \u001b[1m0s\u001b[0m 7ms/step - loss: 109.7419 - mae: 109.7419 - mse: 72387.6719 - val_loss: 577.7877 - val_mae: 577.7877 - val_mse: 1203732.7500\n",
            "Epoch 70/100\n",
            "\u001b[1m18/18\u001b[0m \u001b[32m━━━━━━━━━━━━━━━━━━━━\u001b[0m\u001b[37m\u001b[0m \u001b[1m0s\u001b[0m 8ms/step - loss: 109.3178 - mae: 109.3178 - mse: 71931.7734 - val_loss: 577.4450 - val_mae: 577.4450 - val_mse: 1201747.7500\n",
            "Epoch 71/100\n",
            "\u001b[1m18/18\u001b[0m \u001b[32m━━━━━━━━━━━━━━━━━━━━\u001b[0m\u001b[37m\u001b[0m \u001b[1m0s\u001b[0m 7ms/step - loss: 108.8275 - mae: 108.8275 - mse: 71665.3984 - val_loss: 577.3030 - val_mae: 577.3030 - val_mse: 1200189.5000\n",
            "Epoch 72/100\n",
            "\u001b[1m18/18\u001b[0m \u001b[32m━━━━━━━━━━━━━━━━━━━━\u001b[0m\u001b[37m\u001b[0m \u001b[1m0s\u001b[0m 9ms/step - loss: 108.8337 - mae: 108.8337 - mse: 71877.7734 - val_loss: 574.0634 - val_mae: 574.0634 - val_mse: 1194230.3750\n",
            "Epoch 73/100\n",
            "\u001b[1m18/18\u001b[0m \u001b[32m━━━━━━━━━━━━━━━━━━━━\u001b[0m\u001b[37m\u001b[0m \u001b[1m0s\u001b[0m 8ms/step - loss: 108.7001 - mae: 108.7001 - mse: 71455.6328 - val_loss: 573.1089 - val_mae: 573.1089 - val_mse: 1191396.1250\n",
            "Epoch 74/100\n",
            "\u001b[1m18/18\u001b[0m \u001b[32m━━━━━━━━━━━━━━━━━━━━\u001b[0m\u001b[37m\u001b[0m \u001b[1m0s\u001b[0m 8ms/step - loss: 108.9459 - mae: 108.9459 - mse: 71540.7734 - val_loss: 573.0839 - val_mae: 573.0839 - val_mse: 1191316.2500\n",
            "Epoch 75/100\n",
            "\u001b[1m18/18\u001b[0m \u001b[32m━━━━━━━━━━━━━━━━━━━━\u001b[0m\u001b[37m\u001b[0m \u001b[1m0s\u001b[0m 8ms/step - loss: 108.2818 - mae: 108.2818 - mse: 71168.3438 - val_loss: 572.5051 - val_mae: 572.5051 - val_mse: 1189701.3750\n",
            "Epoch 76/100\n",
            "\u001b[1m18/18\u001b[0m \u001b[32m━━━━━━━━━━━━━━━━━━━━\u001b[0m\u001b[37m\u001b[0m \u001b[1m0s\u001b[0m 7ms/step - loss: 109.2953 - mae: 109.2953 - mse: 71607.2188 - val_loss: 574.5247 - val_mae: 574.5247 - val_mse: 1191235.1250\n",
            "Epoch 77/100\n",
            "\u001b[1m18/18\u001b[0m \u001b[32m━━━━━━━━━━━━━━━━━━━━\u001b[0m\u001b[37m\u001b[0m \u001b[1m0s\u001b[0m 8ms/step - loss: 108.8176 - mae: 108.8176 - mse: 71380.3125 - val_loss: 571.2499 - val_mae: 571.2499 - val_mse: 1185645.0000\n",
            "Epoch 78/100\n",
            "\u001b[1m18/18\u001b[0m \u001b[32m━━━━━━━━━━━━━━━━━━━━\u001b[0m\u001b[37m\u001b[0m \u001b[1m0s\u001b[0m 8ms/step - loss: 108.3306 - mae: 108.3306 - mse: 70871.7891 - val_loss: 570.7808 - val_mae: 570.7808 - val_mse: 1184634.7500\n",
            "Epoch 79/100\n",
            "\u001b[1m18/18\u001b[0m \u001b[32m━━━━━━━━━━━━━━━━━━━━\u001b[0m\u001b[37m\u001b[0m \u001b[1m0s\u001b[0m 7ms/step - loss: 109.1604 - mae: 109.1604 - mse: 71189.9922 - val_loss: 571.1242 - val_mae: 571.1242 - val_mse: 1184806.3750\n",
            "Epoch 80/100\n",
            "\u001b[1m18/18\u001b[0m \u001b[32m━━━━━━━━━━━━━━━━━━━━\u001b[0m\u001b[37m\u001b[0m \u001b[1m0s\u001b[0m 7ms/step - loss: 108.5708 - mae: 108.5708 - mse: 70983.2891 - val_loss: 570.9150 - val_mae: 570.9150 - val_mse: 1184276.8750\n",
            "Epoch 81/100\n",
            "\u001b[1m18/18\u001b[0m \u001b[32m━━━━━━━━━━━━━━━━━━━━\u001b[0m\u001b[37m\u001b[0m \u001b[1m0s\u001b[0m 8ms/step - loss: 107.8355 - mae: 107.8355 - mse: 70532.6953 - val_loss: 570.9009 - val_mae: 570.9009 - val_mse: 1183396.2500\n",
            "Epoch 82/100\n",
            "\u001b[1m18/18\u001b[0m \u001b[32m━━━━━━━━━━━━━━━━━━━━\u001b[0m\u001b[37m\u001b[0m \u001b[1m0s\u001b[0m 9ms/step - loss: 107.8344 - mae: 107.8344 - mse: 70533.8828 - val_loss: 570.3313 - val_mae: 570.3313 - val_mse: 1181394.8750\n",
            "Epoch 83/100\n",
            "\u001b[1m18/18\u001b[0m \u001b[32m━━━━━━━━━━━━━━━━━━━━\u001b[0m\u001b[37m\u001b[0m \u001b[1m0s\u001b[0m 7ms/step - loss: 108.9137 - mae: 108.9137 - mse: 70851.3203 - val_loss: 570.8756 - val_mae: 570.8756 - val_mse: 1182420.6250\n",
            "Epoch 84/100\n",
            "\u001b[1m18/18\u001b[0m \u001b[32m━━━━━━━━━━━━━━━━━━━━\u001b[0m\u001b[37m\u001b[0m \u001b[1m0s\u001b[0m 7ms/step - loss: 107.6001 - mae: 107.6001 - mse: 70351.5859 - val_loss: 570.7284 - val_mae: 570.7284 - val_mse: 1180955.2500\n",
            "Epoch 85/100\n",
            "\u001b[1m18/18\u001b[0m \u001b[32m━━━━━━━━━━━━━━━━━━━━\u001b[0m\u001b[37m\u001b[0m \u001b[1m0s\u001b[0m 10ms/step - loss: 108.0154 - mae: 108.0154 - mse: 69800.7812 - val_loss: 568.7642 - val_mae: 568.7642 - val_mse: 1177262.7500\n",
            "Epoch 86/100\n",
            "\u001b[1m18/18\u001b[0m \u001b[32m━━━━━━━━━━━━━━━━━━━━\u001b[0m\u001b[37m\u001b[0m \u001b[1m0s\u001b[0m 7ms/step - loss: 107.5005 - mae: 107.5005 - mse: 69773.4141 - val_loss: 569.2087 - val_mae: 569.2087 - val_mse: 1176491.1250\n",
            "Epoch 87/100\n",
            "\u001b[1m18/18\u001b[0m \u001b[32m━━━━━━━━━━━━━━━━━━━━\u001b[0m\u001b[37m\u001b[0m \u001b[1m0s\u001b[0m 8ms/step - loss: 107.4437 - mae: 107.4437 - mse: 70188.3438 - val_loss: 567.8534 - val_mae: 567.8534 - val_mse: 1173921.1250\n",
            "Epoch 88/100\n",
            "\u001b[1m18/18\u001b[0m \u001b[32m━━━━━━━━━━━━━━━━━━━━\u001b[0m\u001b[37m\u001b[0m \u001b[1m0s\u001b[0m 7ms/step - loss: 107.0613 - mae: 107.0613 - mse: 69374.7578 - val_loss: 569.4055 - val_mae: 569.4055 - val_mse: 1175717.7500\n",
            "Epoch 89/100\n",
            "\u001b[1m18/18\u001b[0m \u001b[32m━━━━━━━━━━━━━━━━━━━━\u001b[0m\u001b[37m\u001b[0m \u001b[1m0s\u001b[0m 7ms/step - loss: 107.1741 - mae: 107.1741 - mse: 69635.1406 - val_loss: 570.7587 - val_mae: 570.7587 - val_mse: 1176704.0000\n",
            "Epoch 90/100\n",
            "\u001b[1m18/18\u001b[0m \u001b[32m━━━━━━━━━━━━━━━━━━━━\u001b[0m\u001b[37m\u001b[0m \u001b[1m0s\u001b[0m 9ms/step - loss: 107.0050 - mae: 107.0050 - mse: 69763.1172 - val_loss: 566.6497 - val_mae: 566.6497 - val_mse: 1169345.5000\n",
            "Epoch 91/100\n",
            "\u001b[1m18/18\u001b[0m \u001b[32m━━━━━━━━━━━━━━━━━━━━\u001b[0m\u001b[37m\u001b[0m \u001b[1m0s\u001b[0m 8ms/step - loss: 107.2634 - mae: 107.2634 - mse: 69296.3281 - val_loss: 568.8527 - val_mae: 568.8527 - val_mse: 1172506.0000\n",
            "Epoch 92/100\n",
            "\u001b[1m18/18\u001b[0m \u001b[32m━━━━━━━━━━━━━━━━━━━━\u001b[0m\u001b[37m\u001b[0m \u001b[1m0s\u001b[0m 7ms/step - loss: 107.3399 - mae: 107.3399 - mse: 69656.2031 - val_loss: 571.8606 - val_mae: 571.8606 - val_mse: 1177067.6250\n",
            "Epoch 93/100\n",
            "\u001b[1m18/18\u001b[0m \u001b[32m━━━━━━━━━━━━━━━━━━━━\u001b[0m\u001b[37m\u001b[0m \u001b[1m0s\u001b[0m 7ms/step - loss: 106.1583 - mae: 106.1583 - mse: 69072.3438 - val_loss: 567.8536 - val_mae: 567.8536 - val_mse: 1172034.8750\n",
            "Epoch 94/100\n",
            "\u001b[1m18/18\u001b[0m \u001b[32m━━━━━━━━━━━━━━━━━━━━\u001b[0m\u001b[37m\u001b[0m \u001b[1m0s\u001b[0m 8ms/step - loss: 106.7052 - mae: 106.7052 - mse: 69212.6250 - val_loss: 566.1155 - val_mae: 566.1155 - val_mse: 1167133.5000\n",
            "Epoch 95/100\n",
            "\u001b[1m18/18\u001b[0m \u001b[32m━━━━━━━━━━━━━━━━━━━━\u001b[0m\u001b[37m\u001b[0m \u001b[1m0s\u001b[0m 7ms/step - loss: 106.8981 - mae: 106.8981 - mse: 69226.2500 - val_loss: 567.3099 - val_mae: 567.3099 - val_mse: 1168683.3750\n",
            "Epoch 96/100\n",
            "\u001b[1m18/18\u001b[0m \u001b[32m━━━━━━━━━━━━━━━━━━━━\u001b[0m\u001b[37m\u001b[0m \u001b[1m0s\u001b[0m 7ms/step - loss: 106.6534 - mae: 106.6534 - mse: 68984.2266 - val_loss: 567.9204 - val_mae: 567.9204 - val_mse: 1169567.1250\n",
            "Epoch 97/100\n",
            "\u001b[1m18/18\u001b[0m \u001b[32m━━━━━━━━━━━━━━━━━━━━\u001b[0m\u001b[37m\u001b[0m \u001b[1m0s\u001b[0m 8ms/step - loss: 106.4626 - mae: 106.4626 - mse: 68867.0156 - val_loss: 565.9272 - val_mae: 565.9272 - val_mse: 1164244.5000\n",
            "Epoch 98/100\n",
            "\u001b[1m18/18\u001b[0m \u001b[32m━━━━━━━━━━━━━━━━━━━━\u001b[0m\u001b[37m\u001b[0m \u001b[1m0s\u001b[0m 8ms/step - loss: 106.8330 - mae: 106.8330 - mse: 68919.3281 - val_loss: 567.3097 - val_mae: 567.3097 - val_mse: 1166615.2500\n",
            "Epoch 99/100\n",
            "\u001b[1m18/18\u001b[0m \u001b[32m━━━━━━━━━━━━━━━━━━━━\u001b[0m\u001b[37m\u001b[0m \u001b[1m0s\u001b[0m 9ms/step - loss: 106.2526 - mae: 106.2526 - mse: 68589.5547 - val_loss: 566.4529 - val_mae: 566.4529 - val_mse: 1165145.6250\n",
            "Epoch 100/100\n",
            "\u001b[1m18/18\u001b[0m \u001b[32m━━━━━━━━━━━━━━━━━━━━\u001b[0m\u001b[37m\u001b[0m \u001b[1m0s\u001b[0m 11ms/step - loss: 106.5611 - mae: 106.5611 - mse: 68756.5156 - val_loss: 570.1110 - val_mae: 570.1110 - val_mse: 1169649.1250\n"
          ]
        },
        {
          "output_type": "execute_result",
          "data": {
            "text/plain": [
              "<keras.src.callbacks.history.History at 0x79945af7a490>"
            ]
          },
          "metadata": {},
          "execution_count": 123
        }
      ]
    },
    {
      "cell_type": "code",
      "source": [
        "naive_results"
      ],
      "metadata": {
        "colab": {
          "base_uri": "https://localhost:8080/"
        },
        "id": "Csh3TEkz7Cy-",
        "outputId": "addecbb9-f9ed-4568-de1a-babe0131995b"
      },
      "execution_count": 124,
      "outputs": [
        {
          "output_type": "execute_result",
          "data": {
            "text/plain": [
              "{'mae': 567.9802,\n",
              " 'mse': 1147547.0,\n",
              " 'rmse': 1071.2362,\n",
              " 'mape': 2.5165248,\n",
              " 'mase': 0.99957}"
            ]
          },
          "metadata": {},
          "execution_count": 124
        }
      ]
    },
    {
      "cell_type": "code",
      "source": [
        "# Evaluate on test data\n",
        "model_1.evaluate(test_windows, test_labels)"
      ],
      "metadata": {
        "colab": {
          "base_uri": "https://localhost:8080/"
        },
        "id": "eoBhBpEA7WVg",
        "outputId": "e0d026aa-d186-476f-e6d1-99966b75bef7"
      },
      "execution_count": 125,
      "outputs": [
        {
          "output_type": "stream",
          "name": "stdout",
          "text": [
            "\u001b[1m18/18\u001b[0m \u001b[32m━━━━━━━━━━━━━━━━━━━━\u001b[0m\u001b[37m\u001b[0m \u001b[1m0s\u001b[0m 5ms/step - loss: 287.3589 - mae: 287.3589 - mse: 347293.3125\n"
          ]
        },
        {
          "output_type": "execute_result",
          "data": {
            "text/plain": [
              "[570.1109619140625, 570.1109619140625, 1169649.0]"
            ]
          },
          "metadata": {},
          "execution_count": 125
        }
      ]
    },
    {
      "cell_type": "code",
      "source": [
        "# Load in saved best performing model_1 and evaluate\n",
        "model_1 = tf.keras.models.load_model(\"/content/model_experiments/model_1_dense.keras\")\n",
        "model_1.evaluate(test_windows, test_labels)"
      ],
      "metadata": {
        "colab": {
          "base_uri": "https://localhost:8080/"
        },
        "id": "SpFP-ffu7984",
        "outputId": "8f83d23c-03d6-4cc5-ec71-c1fb091445fa"
      },
      "execution_count": 126,
      "outputs": [
        {
          "output_type": "stream",
          "name": "stdout",
          "text": [
            "\u001b[1m18/18\u001b[0m \u001b[32m━━━━━━━━━━━━━━━━━━━━\u001b[0m\u001b[37m\u001b[0m \u001b[1m1s\u001b[0m 6ms/step - loss: 284.7590 - mae: 284.7590 - mse: 346778.9062\n"
          ]
        },
        {
          "output_type": "execute_result",
          "data": {
            "text/plain": [
              "[565.9271850585938, 565.9271850585938, 1164244.625]"
            ]
          },
          "metadata": {},
          "execution_count": 126
        }
      ]
    },
    {
      "cell_type": "markdown",
      "source": [
        "## Making forecast"
      ],
      "metadata": {
        "id": "LNezZMfl_Lwp"
      }
    },
    {
      "cell_type": "code",
      "source": [
        "def make_preds(model, input_data):\n",
        "  forecast = model.predict(input_data)\n",
        "  return tf.squeeze(forecast) # 1D array of preds"
      ],
      "metadata": {
        "id": "jTxB1kBk-Po5"
      },
      "execution_count": 127,
      "outputs": []
    },
    {
      "cell_type": "code",
      "source": [
        "# Make preds\n",
        "model_1_preds = make_preds(model_1, test_windows)\n",
        "len(model_1_preds), model_1_preds[:10]"
      ],
      "metadata": {
        "colab": {
          "base_uri": "https://localhost:8080/"
        },
        "id": "8LzwuocB_3b4",
        "outputId": "0aef49de-8066-46bf-b8ac-d2e6aeeebb6c"
      },
      "execution_count": 128,
      "outputs": [
        {
          "output_type": "stream",
          "name": "stdout",
          "text": [
            "\u001b[1m18/18\u001b[0m \u001b[32m━━━━━━━━━━━━━━━━━━━━\u001b[0m\u001b[37m\u001b[0m \u001b[1m0s\u001b[0m 5ms/step\n"
          ]
        },
        {
          "output_type": "execute_result",
          "data": {
            "text/plain": [
              "(556,\n",
              " <tf.Tensor: shape=(10,), dtype=float32, numpy=\n",
              " array([8863.415 , 8782.332 , 9021.774 , 8808.64  , 8746.5625, 8710.464 ,\n",
              "        8692.962 , 8550.655 , 8441.872 , 8533.058 ], dtype=float32)>)"
            ]
          },
          "metadata": {},
          "execution_count": 128
        }
      ]
    },
    {
      "cell_type": "code",
      "source": [
        "tf.squeeze(test_labels).shape, model_1_preds.shape"
      ],
      "metadata": {
        "colab": {
          "base_uri": "https://localhost:8080/"
        },
        "id": "GBisCgpeAd6y",
        "outputId": "57889404-657a-4632-a28b-cc379c8d6865"
      },
      "execution_count": 129,
      "outputs": [
        {
          "output_type": "execute_result",
          "data": {
            "text/plain": [
              "(TensorShape([556]), TensorShape([556]))"
            ]
          },
          "metadata": {},
          "execution_count": 129
        }
      ]
    },
    {
      "cell_type": "code",
      "source": [
        "# Evaluate preds\n",
        "model_1_results = evaluate_preds(y_true=tf.squeeze(test_labels),\n",
        "                                 y_pred=model_1_preds)\n",
        "model_1_results"
      ],
      "metadata": {
        "colab": {
          "base_uri": "https://localhost:8080/"
        },
        "id": "L4cmoK0RAJug",
        "outputId": "88d7e698-be50-434b-f4c4-2e401391407a"
      },
      "execution_count": 130,
      "outputs": [
        {
          "output_type": "execute_result",
          "data": {
            "text/plain": [
              "{'mae': 565.92725,\n",
              " 'mse': 1164244.8,\n",
              " 'rmse': 1079.0017,\n",
              " 'mape': 2.5573826,\n",
              " 'mase': 0.9941774}"
            ]
          },
          "metadata": {},
          "execution_count": 130
        }
      ]
    },
    {
      "cell_type": "code",
      "source": [
        "test_labels.shape"
      ],
      "metadata": {
        "colab": {
          "base_uri": "https://localhost:8080/"
        },
        "id": "qVvIBRILBKE7",
        "outputId": "e628594a-e305-40f3-cdfc-8f77c8bddd5a"
      },
      "execution_count": 131,
      "outputs": [
        {
          "output_type": "execute_result",
          "data": {
            "text/plain": [
              "(556, 1)"
            ]
          },
          "metadata": {},
          "execution_count": 131
        }
      ]
    },
    {
      "cell_type": "code",
      "source": [
        "# Plot preds\n",
        "offset=300\n",
        "plt.figure(figsize=(10, 7))\n",
        "# Ensure correct plotting\n",
        "plot_time_series(timesteps=X_test[-len(test_windows):], values=test_labels[:, 0],\n",
        "                 start=offset, label=\"Test data\")\n",
        "\n",
        "plot_time_series(timesteps=X_test[-len(test_windows):],\n",
        "                 values=model_1_preds, format=\"-\",\n",
        "                 start=offset, label=\"Model_1_preds\")"
      ],
      "metadata": {
        "colab": {
          "base_uri": "https://localhost:8080/",
          "height": 610
        },
        "id": "z-OcqqtgAXJY",
        "outputId": "16ec444b-49a9-48d1-9feb-433b4ed41a1b"
      },
      "execution_count": 132,
      "outputs": [
        {
          "output_type": "display_data",
          "data": {
            "text/plain": [
              "<Figure size 1000x700 with 1 Axes>"
            ],
            "image/png": "[encoded data removed]"
          },
          "metadata": {}
        }
      ]
    },
    {
      "cell_type": "markdown",
      "source": [
        "## Model 2: Dense Model (window = 30, horizon = 1)"
      ],
      "metadata": {
        "id": "rsgXs0zuBVnY"
      }
    },
    {
      "cell_type": "code",
      "source": [
        "HORIZON = 1\n",
        "WINDOW_SIZE = 30"
      ],
      "metadata": {
        "id": "cjhPZi8mD5FZ"
      },
      "execution_count": 133,
      "outputs": []
    },
    {
      "cell_type": "code",
      "source": [
        "# Make appropriate sizes for data\n",
        "full_windows, full_labels = make_windows(prices, window_size=WINDOW_SIZE,\n",
        "                                         horizon=HORIZON)\n",
        "len(full_windows), len(full_labels)"
      ],
      "metadata": {
        "colab": {
          "base_uri": "https://localhost:8080/"
        },
        "id": "rUZFn0B_Fv1J",
        "outputId": "476296d5-aa82-4381-b5d6-5f04cfb74dbb"
      },
      "execution_count": 134,
      "outputs": [
        {
          "output_type": "execute_result",
          "data": {
            "text/plain": [
              "(2757, 2757)"
            ]
          },
          "metadata": {},
          "execution_count": 134
        }
      ]
    },
    {
      "cell_type": "code",
      "source": [
        "# Make train test windows\n",
        "train_windows, test_windows, train_labels, test_labels = make_train_test_splits(full_windows, full_labels)\n",
        "len(train_windows), len(test_windows), len(train_labels), len(test_labels)"
      ],
      "metadata": {
        "colab": {
          "base_uri": "https://localhost:8080/"
        },
        "id": "oHXdri2NGFNp",
        "outputId": "3c9089f6-438b-4a4a-ee33-dfafd7cdd3f6"
      },
      "execution_count": 135,
      "outputs": [
        {
          "output_type": "execute_result",
          "data": {
            "text/plain": [
              "(2205, 552, 2205, 552)"
            ]
          },
          "metadata": {},
          "execution_count": 135
        }
      ]
    },
    {
      "cell_type": "code",
      "source": [
        "tf.random.set_seed(42)\n",
        "\n",
        "model_2 = tf.keras.Sequential([\n",
        "    layers.Dense(128, activation=\"relu\"),\n",
        "    layers.Dense(HORIZON, activation=\"linear\")\n",
        "], name=\"model_2_dense\")\n",
        "\n",
        "model_2.compile(loss=\"mae\",\n",
        "                optimizer=tf.keras.optimizers.Adam(),\n",
        "                metrics=[\"mae\", \"mse\"])\n",
        "\n",
        "model_2.fit(train_windows,\n",
        "            train_labels,\n",
        "            epochs=100,\n",
        "            batch_size=128,\n",
        "            verbose=0,\n",
        "            validation_data=(test_windows,\n",
        "                             test_labels),\n",
        "            callbacks=[create_model_checkpoint(model_name=model_2.name)])"
      ],
      "metadata": {
        "colab": {
          "base_uri": "https://localhost:8080/"
        },
        "id": "a2LXSOn9GVJB",
        "outputId": "b520a41a-2ceb-4864-81cc-2feb61bb1e4d"
      },
      "execution_count": 143,
      "outputs": [
        {
          "output_type": "execute_result",
          "data": {
            "text/plain": [
              "<keras.src.callbacks.history.History at 0x79945ac1fa90>"
            ]
          },
          "metadata": {},
          "execution_count": 143
        }
      ]
    },
    {
      "cell_type": "code",
      "source": [
        "# Evaluate on test data\n",
        "model_2.evaluate(test_windows, test_labels)"
      ],
      "metadata": {
        "colab": {
          "base_uri": "https://localhost:8080/"
        },
        "id": "N4CGpH4GGzjJ",
        "outputId": "9285ddf9-541a-4096-b75e-eafc2d92be01"
      },
      "execution_count": 144,
      "outputs": [
        {
          "output_type": "stream",
          "name": "stdout",
          "text": [
            "\u001b[1m18/18\u001b[0m \u001b[32m━━━━━━━━━━━━━━━━━━━━\u001b[0m\u001b[37m\u001b[0m \u001b[1m0s\u001b[0m 5ms/step - loss: 318.3828 - mae: 318.3828 - mse: 391119.9688\n"
          ]
        },
        {
          "output_type": "execute_result",
          "data": {
            "text/plain": [
              "[623.1326293945312, 623.1326293945312, 1277904.375]"
            ]
          },
          "metadata": {},
          "execution_count": 144
        }
      ]
    },
    {
      "cell_type": "code",
      "source": [
        "# Load pest performing model\n",
        "model_2 = tf.keras.models.load_model(\"/content/model_experiments/model_2_dense.keras\")\n",
        "model_2.evaluate(test_windows, test_labels)"
      ],
      "metadata": {
        "colab": {
          "base_uri": "https://localhost:8080/"
        },
        "id": "Qjnx5r02H94B",
        "outputId": "4734b218-8bbd-47b1-aa21-08f5c165cfcc"
      },
      "execution_count": 145,
      "outputs": [
        {
          "output_type": "stream",
          "name": "stdout",
          "text": [
            "\u001b[1m18/18\u001b[0m \u001b[32m━━━━━━━━━━━━━━━━━━━━\u001b[0m\u001b[37m\u001b[0m \u001b[1m1s\u001b[0m 5ms/step - loss: 310.7321 - mae: 310.7321 - mse: 368498.1875\n"
          ]
        },
        {
          "output_type": "execute_result",
          "data": {
            "text/plain": [
              "[605.785888671875, 605.785888671875, 1221473.5]"
            ]
          },
          "metadata": {},
          "execution_count": 145
        }
      ]
    },
    {
      "cell_type": "code",
      "source": [
        "# Get forecast preds\n",
        "model_2_preds = make_preds(model_2,\n",
        "                           test_windows)\n",
        "model_2_preds[:3]"
      ],
      "metadata": {
        "colab": {
          "base_uri": "https://localhost:8080/"
        },
        "id": "N_dguNSwIL-B",
        "outputId": "f1e76e2d-681a-4d68-f9ff-71209609ba56"
      },
      "execution_count": 149,
      "outputs": [
        {
          "output_type": "stream",
          "name": "stdout",
          "text": [
            "\u001b[1m18/18\u001b[0m \u001b[32m━━━━━━━━━━━━━━━━━━━━\u001b[0m\u001b[37m\u001b[0m \u001b[1m0s\u001b[0m 5ms/step \n"
          ]
        },
        {
          "output_type": "execute_result",
          "data": {
            "text/plain": [
              "<tf.Tensor: shape=(3,), dtype=float32, numpy=array([8909.682, 8935.875, 8800.961], dtype=float32)>"
            ]
          },
          "metadata": {},
          "execution_count": 149
        }
      ]
    },
    {
      "cell_type": "code",
      "source": [
        "model_2_results = evaluate_preds(y_true=tf.squeeze(test_labels),\n",
        "                                 y_pred=model_2_preds)\n",
        "model_2_results"
      ],
      "metadata": {
        "colab": {
          "base_uri": "https://localhost:8080/"
        },
        "id": "HUfVJ15BIQNB",
        "outputId": "5ac9b5a4-c5bf-4ace-c9f5-afe3e2218a44"
      },
      "execution_count": 153,
      "outputs": [
        {
          "output_type": "execute_result",
          "data": {
            "text/plain": [
              "{'mae': 605.7859,\n",
              " 'mse': 1221473.5,\n",
              " 'rmse': 1105.2029,\n",
              " 'mape': 2.7742414,\n",
              " 'mase': 1.0589195}"
            ]
          },
          "metadata": {},
          "execution_count": 153
        }
      ]
    },
    {
      "cell_type": "code",
      "source": [
        "model_1_results"
      ],
      "metadata": {
        "colab": {
          "base_uri": "https://localhost:8080/"
        },
        "id": "bw2GJb-kIjSh",
        "outputId": "5cd8fead-1f09-4e37-abd5-e78ea25aff85"
      },
      "execution_count": 154,
      "outputs": [
        {
          "output_type": "execute_result",
          "data": {
            "text/plain": [
              "{'mae': 565.92725,\n",
              " 'mse': 1164244.8,\n",
              " 'rmse': 1079.0017,\n",
              " 'mape': 2.5573826,\n",
              " 'mase': 0.9941774}"
            ]
          },
          "metadata": {},
          "execution_count": 154
        }
      ]
    },
    {
      "cell_type": "code",
      "source": [
        "X_test[:10]"
      ],
      "metadata": {
        "colab": {
          "base_uri": "https://localhost:8080/"
        },
        "id": "N0PDhpbhJQtb",
        "outputId": "7b9c14dd-c44a-4554-fee9-b8308bdac58b"
      },
      "execution_count": 155,
      "outputs": [
        {
          "output_type": "execute_result",
          "data": {
            "text/plain": [
              "array(['2019-11-08T00:00:00.000000000', '2019-11-09T00:00:00.000000000',\n",
              "       '2019-11-10T00:00:00.000000000', '2019-11-11T00:00:00.000000000',\n",
              "       '2019-11-12T00:00:00.000000000', '2019-11-13T00:00:00.000000000',\n",
              "       '2019-11-14T00:00:00.000000000', '2019-11-15T00:00:00.000000000',\n",
              "       '2019-11-16T00:00:00.000000000', '2019-11-17T00:00:00.000000000'],\n",
              "      dtype='datetime64[ns]')"
            ]
          },
          "metadata": {},
          "execution_count": 155
        }
      ]
    },
    {
      "cell_type": "code",
      "source": [
        "offset = 300\n",
        "plt.figure(figsize=(10, 7))\n",
        "plot_time_series(timesteps=X_test[-len(test_windows):], values=test_labels[:, 0],\n",
        "                 start=offset, label=\"Test Data\")\n",
        "plot_time_series(timesteps=X_test[-len(test_windows):], values=model_2_preds,\n",
        "                 start=offset, label=\"Model 2 preds\", format=\"-\")"
      ],
      "metadata": {
        "colab": {
          "base_uri": "https://localhost:8080/",
          "height": 610
        },
        "id": "_b_ZUAnyIyJR",
        "outputId": "1f7fd231-62a6-4a7d-8b88-06838f4ba6d6"
      },
      "execution_count": 157,
      "outputs": [
        {
          "output_type": "display_data",
          "data": {
            "text/plain": [
              "<Figure size 1000x700 with 1 Axes>"
            ],
            "image/png": "[encoded data removed]"
          },
          "metadata": {}
        }
      ]
    },
    {
      "cell_type": "markdown",
      "source": [
        "## Model 3: Dense (window=30, horizon=7)"
      ],
      "metadata": {
        "id": "r-ULFQ4dJlPC"
      }
    },
    {
      "cell_type": "code",
      "source": [
        "HORIZON = 7\n",
        "WINDOW_SIZE = 30"
      ],
      "metadata": {
        "id": "oRyxLAl8LpRq"
      },
      "execution_count": 173,
      "outputs": []
    },
    {
      "cell_type": "code",
      "source": [
        "full_windows, full_labels = make_windows(prices, window_size=WINDOW_SIZE,\n",
        "                                         horizon=HORIZON)\n",
        "len(full_windows), len(full_labels)"
      ],
      "metadata": {
        "colab": {
          "base_uri": "https://localhost:8080/"
        },
        "id": "EddJ3MIVLvYa",
        "outputId": "5fc86735-21e2-4384-f709-3e2388d97742"
      },
      "execution_count": 174,
      "outputs": [
        {
          "output_type": "execute_result",
          "data": {
            "text/plain": [
              "(2751, 2751)"
            ]
          },
          "metadata": {},
          "execution_count": 174
        }
      ]
    },
    {
      "cell_type": "code",
      "source": [
        "# Create train/test windows\n",
        "train_windows, test_windows, train_labels, test_labels = make_train_test_splits(full_windows, full_labels)\n",
        "len(train_windows), len(test_windows), len(train_labels), len(test_labels)"
      ],
      "metadata": {
        "colab": {
          "base_uri": "https://localhost:8080/"
        },
        "id": "AVcTYMP3MAFB",
        "outputId": "8d8b235e-9c2a-4870-cab1-a8d31e008e71"
      },
      "execution_count": 175,
      "outputs": [
        {
          "output_type": "execute_result",
          "data": {
            "text/plain": [
              "(2200, 551, 2200, 551)"
            ]
          },
          "metadata": {},
          "execution_count": 175
        }
      ]
    },
    {
      "cell_type": "code",
      "source": [
        "tf.random.set_seed(42)\n",
        "\n",
        "# Create model\n",
        "model_3 = tf.keras.Sequential([\n",
        "    layers.Dense(128, activation=\"relu\"),\n",
        "    layers.Dense(HORIZON)\n",
        "], name=\"model_3_dense\")\n",
        "\n",
        "model_3.compile(loss=\"mae\",\n",
        "                optimizer=tf.keras.optimizers.Adam())\n",
        "\n",
        "model_3.fit(train_windows,\n",
        "            train_labels,\n",
        "            epochs=100,\n",
        "            batch_size=128,\n",
        "            validation_data=(test_windows,\n",
        "                             test_labels),\n",
        "            callbacks=[create_model_checkpoint(model_name=model_3.name)])"
      ],
      "metadata": {
        "colab": {
          "base_uri": "https://localhost:8080/"
        },
        "id": "fCjrQ2W8MFbK",
        "outputId": "e227e73e-b9ee-4be0-9657-02b1ff917468"
      },
      "execution_count": 176,
      "outputs": [
        {
          "output_type": "stream",
          "name": "stdout",
          "text": [
            "Epoch 1/100\n",
            "\u001b[1m18/18\u001b[0m \u001b[32m━━━━━━━━━━━━━━━━━━━━\u001b[0m\u001b[37m\u001b[0m \u001b[1m1s\u001b[0m 17ms/step - loss: 2509.0967 - val_loss: 3439.9446\n",
            "Epoch 2/100\n",
            "\u001b[1m18/18\u001b[0m \u001b[32m━━━━━━━━━━━━━━━━━━━━\u001b[0m\u001b[37m\u001b[0m \u001b[1m0s\u001b[0m 10ms/step - loss: 649.1260 - val_loss: 2568.8857\n",
            "Epoch 3/100\n",
            "\u001b[1m18/18\u001b[0m \u001b[32m━━━━━━━━━━━━━━━━━━━━\u001b[0m\u001b[37m\u001b[0m \u001b[1m0s\u001b[0m 8ms/step - loss: 442.9547 - val_loss: 2007.5299\n",
            "Epoch 4/100\n",
            "\u001b[1m18/18\u001b[0m \u001b[32m━━━━━━━━━━━━━━━━━━━━\u001b[0m\u001b[37m\u001b[0m \u001b[1m0s\u001b[0m 9ms/step - loss: 378.9708 - val_loss: 1759.2371\n",
            "Epoch 5/100\n",
            "\u001b[1m18/18\u001b[0m \u001b[32m━━━━━━━━━━━━━━━━━━━━\u001b[0m\u001b[37m\u001b[0m \u001b[1m0s\u001b[0m 8ms/step - loss: 338.5289 - val_loss: 1608.8940\n",
            "Epoch 6/100\n",
            "\u001b[1m18/18\u001b[0m \u001b[32m━━━━━━━━━━━━━━━━━━━━\u001b[0m\u001b[37m\u001b[0m \u001b[1m0s\u001b[0m 10ms/step - loss: 313.9989 - val_loss: 1527.4597\n",
            "Epoch 7/100\n",
            "\u001b[1m18/18\u001b[0m \u001b[32m━━━━━━━━━━━━━━━━━━━━\u001b[0m\u001b[37m\u001b[0m \u001b[1m0s\u001b[0m 8ms/step - loss: 282.8252 - val_loss: 1359.1167\n",
            "Epoch 8/100\n",
            "\u001b[1m18/18\u001b[0m \u001b[32m━━━━━━━━━━━━━━━━━━━━\u001b[0m\u001b[37m\u001b[0m \u001b[1m0s\u001b[0m 8ms/step - loss: 264.4608 - val_loss: 1231.8046\n",
            "Epoch 9/100\n",
            "\u001b[1m18/18\u001b[0m \u001b[32m━━━━━━━━━━━━━━━━━━━━\u001b[0m\u001b[37m\u001b[0m \u001b[1m0s\u001b[0m 9ms/step - loss: 248.0634 - val_loss: 1183.9061\n",
            "Epoch 10/100\n",
            "\u001b[1m18/18\u001b[0m \u001b[32m━━━━━━━━━━━━━━━━━━━━\u001b[0m\u001b[37m\u001b[0m \u001b[1m0s\u001b[0m 10ms/step - loss: 244.9796 - val_loss: 1124.1492\n",
            "Epoch 11/100\n",
            "\u001b[1m18/18\u001b[0m \u001b[32m━━━━━━━━━━━━━━━━━━━━\u001b[0m\u001b[37m\u001b[0m \u001b[1m0s\u001b[0m 8ms/step - loss: 230.5047 - val_loss: 1113.4535\n",
            "Epoch 12/100\n",
            "\u001b[1m18/18\u001b[0m \u001b[32m━━━━━━━━━━━━━━━━━━━━\u001b[0m\u001b[37m\u001b[0m \u001b[1m0s\u001b[0m 8ms/step - loss: 225.7739 - val_loss: 1100.3607\n",
            "Epoch 13/100\n",
            "\u001b[1m18/18\u001b[0m \u001b[32m━━━━━━━━━━━━━━━━━━━━\u001b[0m\u001b[37m\u001b[0m \u001b[1m0s\u001b[0m 8ms/step - loss: 223.1922 - val_loss: 1095.5601\n",
            "Epoch 14/100\n",
            "\u001b[1m18/18\u001b[0m \u001b[32m━━━━━━━━━━━━━━━━━━━━\u001b[0m\u001b[37m\u001b[0m \u001b[1m0s\u001b[0m 8ms/step - loss: 221.2263 - val_loss: 1052.6237\n",
            "Epoch 15/100\n",
            "\u001b[1m18/18\u001b[0m \u001b[32m━━━━━━━━━━━━━━━━━━━━\u001b[0m\u001b[37m\u001b[0m \u001b[1m0s\u001b[0m 8ms/step - loss: 210.0417 - val_loss: 1053.3070\n",
            "Epoch 16/100\n",
            "\u001b[1m18/18\u001b[0m \u001b[32m━━━━━━━━━━━━━━━━━━━━\u001b[0m\u001b[37m\u001b[0m \u001b[1m0s\u001b[0m 9ms/step - loss: 206.1515 - val_loss: 1048.5853\n",
            "Epoch 17/100\n",
            "\u001b[1m18/18\u001b[0m \u001b[32m━━━━━━━━━━━━━━━━━━━━\u001b[0m\u001b[37m\u001b[0m \u001b[1m0s\u001b[0m 8ms/step - loss: 205.4288 - val_loss: 1042.6411\n",
            "Epoch 18/100\n",
            "\u001b[1m18/18\u001b[0m \u001b[32m━━━━━━━━━━━━━━━━━━━━\u001b[0m\u001b[37m\u001b[0m \u001b[1m0s\u001b[0m 9ms/step - loss: 203.5326 - val_loss: 1029.4084\n",
            "Epoch 19/100\n",
            "\u001b[1m18/18\u001b[0m \u001b[32m━━━━━━━━━━━━━━━━━━━━\u001b[0m\u001b[37m\u001b[0m \u001b[1m0s\u001b[0m 8ms/step - loss: 201.0167 - val_loss: 1021.8773\n",
            "Epoch 20/100\n",
            "\u001b[1m18/18\u001b[0m \u001b[32m━━━━━━━━━━━━━━━━━━━━\u001b[0m\u001b[37m\u001b[0m \u001b[1m0s\u001b[0m 11ms/step - loss: 199.0146 - val_loss: 994.7626\n",
            "Epoch 21/100\n",
            "\u001b[1m18/18\u001b[0m \u001b[32m━━━━━━━━━━━━━━━━━━━━\u001b[0m\u001b[37m\u001b[0m \u001b[1m0s\u001b[0m 13ms/step - loss: 192.9817 - val_loss: 999.2181\n",
            "Epoch 22/100\n",
            "\u001b[1m18/18\u001b[0m \u001b[32m━━━━━━━━━━━━━━━━━━━━\u001b[0m\u001b[37m\u001b[0m \u001b[1m0s\u001b[0m 12ms/step - loss: 192.5573 - val_loss: 1004.2615\n",
            "Epoch 23/100\n",
            "\u001b[1m18/18\u001b[0m \u001b[32m━━━━━━━━━━━━━━━━━━━━\u001b[0m\u001b[37m\u001b[0m \u001b[1m0s\u001b[0m 13ms/step - loss: 192.8695 - val_loss: 973.5193\n",
            "Epoch 24/100\n",
            "\u001b[1m18/18\u001b[0m \u001b[32m━━━━━━━━━━━━━━━━━━━━\u001b[0m\u001b[37m\u001b[0m \u001b[1m0s\u001b[0m 10ms/step - loss: 186.8137 - val_loss: 995.4968\n",
            "Epoch 25/100\n",
            "\u001b[1m18/18\u001b[0m \u001b[32m━━━━━━━━━━━━━━━━━━━━\u001b[0m\u001b[37m\u001b[0m \u001b[1m0s\u001b[0m 14ms/step - loss: 189.9658 - val_loss: 954.1328\n",
            "Epoch 26/100\n",
            "\u001b[1m18/18\u001b[0m \u001b[32m━━━━━━━━━━━━━━━━━━━━\u001b[0m\u001b[37m\u001b[0m \u001b[1m0s\u001b[0m 13ms/step - loss: 183.8977 - val_loss: 950.7677\n",
            "Epoch 27/100\n",
            "\u001b[1m18/18\u001b[0m \u001b[32m━━━━━━━━━━━━━━━━━━━━\u001b[0m\u001b[37m\u001b[0m \u001b[1m0s\u001b[0m 11ms/step - loss: 181.3752 - val_loss: 968.6343\n",
            "Epoch 28/100\n",
            "\u001b[1m18/18\u001b[0m \u001b[32m━━━━━━━━━━━━━━━━━━━━\u001b[0m\u001b[37m\u001b[0m \u001b[1m0s\u001b[0m 8ms/step - loss: 184.9571 - val_loss: 955.7578\n",
            "Epoch 29/100\n",
            "\u001b[1m18/18\u001b[0m \u001b[32m━━━━━━━━━━━━━━━━━━━━\u001b[0m\u001b[37m\u001b[0m \u001b[1m0s\u001b[0m 9ms/step - loss: 182.7418 - val_loss: 933.9692\n",
            "Epoch 30/100\n",
            "\u001b[1m18/18\u001b[0m \u001b[32m━━━━━━━━━━━━━━━━━━━━\u001b[0m\u001b[37m\u001b[0m \u001b[1m0s\u001b[0m 8ms/step - loss: 178.5095 - val_loss: 931.0312\n",
            "Epoch 31/100\n",
            "\u001b[1m18/18\u001b[0m \u001b[32m━━━━━━━━━━━━━━━━━━━━\u001b[0m\u001b[37m\u001b[0m \u001b[1m0s\u001b[0m 7ms/step - loss: 176.9974 - val_loss: 933.7207\n",
            "Epoch 32/100\n",
            "\u001b[1m18/18\u001b[0m \u001b[32m━━━━━━━━━━━━━━━━━━━━\u001b[0m\u001b[37m\u001b[0m \u001b[1m0s\u001b[0m 8ms/step - loss: 175.4157 - val_loss: 902.7141\n",
            "Epoch 33/100\n",
            "\u001b[1m18/18\u001b[0m \u001b[32m━━━━━━━━━━━━━━━━━━━━\u001b[0m\u001b[37m\u001b[0m \u001b[1m0s\u001b[0m 8ms/step - loss: 170.7937 - val_loss: 941.2019\n",
            "Epoch 34/100\n",
            "\u001b[1m18/18\u001b[0m \u001b[32m━━━━━━━━━━━━━━━━━━━━\u001b[0m\u001b[37m\u001b[0m \u001b[1m0s\u001b[0m 12ms/step - loss: 175.5041 - val_loss: 937.4892\n",
            "Epoch 35/100\n",
            "\u001b[1m18/18\u001b[0m \u001b[32m━━━━━━━━━━━━━━━━━━━━\u001b[0m\u001b[37m\u001b[0m \u001b[1m0s\u001b[0m 7ms/step - loss: 173.1730 - val_loss: 911.1072\n",
            "Epoch 36/100\n",
            "\u001b[1m18/18\u001b[0m \u001b[32m━━━━━━━━━━━━━━━━━━━━\u001b[0m\u001b[37m\u001b[0m \u001b[1m0s\u001b[0m 8ms/step - loss: 170.1277 - val_loss: 899.4216\n",
            "Epoch 37/100\n",
            "\u001b[1m18/18\u001b[0m \u001b[32m━━━━━━━━━━━━━━━━━━━━\u001b[0m\u001b[37m\u001b[0m \u001b[1m0s\u001b[0m 8ms/step - loss: 168.3892 - val_loss: 878.4232\n",
            "Epoch 38/100\n",
            "\u001b[1m18/18\u001b[0m \u001b[32m━━━━━━━━━━━━━━━━━━━━\u001b[0m\u001b[37m\u001b[0m \u001b[1m0s\u001b[0m 7ms/step - loss: 164.3714 - val_loss: 885.4308\n",
            "Epoch 39/100\n",
            "\u001b[1m18/18\u001b[0m \u001b[32m━━━━━━━━━━━━━━━━━━━━\u001b[0m\u001b[37m\u001b[0m \u001b[1m0s\u001b[0m 10ms/step - loss: 167.7858 - val_loss: 877.9956\n",
            "Epoch 40/100\n",
            "\u001b[1m18/18\u001b[0m \u001b[32m━━━━━━━━━━━━━━━━━━━━\u001b[0m\u001b[37m\u001b[0m \u001b[1m0s\u001b[0m 10ms/step - loss: 165.0437 - val_loss: 864.8107\n",
            "Epoch 41/100\n",
            "\u001b[1m18/18\u001b[0m \u001b[32m━━━━━━━━━━━━━━━━━━━━\u001b[0m\u001b[37m\u001b[0m \u001b[1m0s\u001b[0m 8ms/step - loss: 162.9369 - val_loss: 858.1973\n",
            "Epoch 42/100\n",
            "\u001b[1m18/18\u001b[0m \u001b[32m━━━━━━━━━━━━━━━━━━━━\u001b[0m\u001b[37m\u001b[0m \u001b[1m0s\u001b[0m 8ms/step - loss: 160.6115 - val_loss: 855.7075\n",
            "Epoch 43/100\n",
            "\u001b[1m18/18\u001b[0m \u001b[32m━━━━━━━━━━━━━━━━━━━━\u001b[0m\u001b[37m\u001b[0m \u001b[1m0s\u001b[0m 6ms/step - loss: 161.3958 - val_loss: 866.4973\n",
            "Epoch 44/100\n",
            "\u001b[1m18/18\u001b[0m \u001b[32m━━━━━━━━━━━━━━━━━━━━\u001b[0m\u001b[37m\u001b[0m \u001b[1m0s\u001b[0m 8ms/step - loss: 161.8497 - val_loss: 840.4313\n",
            "Epoch 45/100\n",
            "\u001b[1m18/18\u001b[0m \u001b[32m━━━━━━━━━━━━━━━━━━━━\u001b[0m\u001b[37m\u001b[0m \u001b[1m0s\u001b[0m 7ms/step - loss: 158.7711 - val_loss: 850.2377\n",
            "Epoch 46/100\n",
            "\u001b[1m18/18\u001b[0m \u001b[32m━━━━━━━━━━━━━━━━━━━━\u001b[0m\u001b[37m\u001b[0m \u001b[1m0s\u001b[0m 6ms/step - loss: 159.6827 - val_loss: 846.8422\n",
            "Epoch 47/100\n",
            "\u001b[1m18/18\u001b[0m \u001b[32m━━━━━━━━━━━━━━━━━━━━\u001b[0m\u001b[37m\u001b[0m \u001b[1m0s\u001b[0m 7ms/step - loss: 158.4888 - val_loss: 845.0454\n",
            "Epoch 48/100\n",
            "\u001b[1m18/18\u001b[0m \u001b[32m━━━━━━━━━━━━━━━━━━━━\u001b[0m\u001b[37m\u001b[0m \u001b[1m0s\u001b[0m 8ms/step - loss: 157.5612 - val_loss: 833.0959\n",
            "Epoch 49/100\n",
            "\u001b[1m18/18\u001b[0m \u001b[32m━━━━━━━━━━━━━━━━━━━━\u001b[0m\u001b[37m\u001b[0m \u001b[1m0s\u001b[0m 8ms/step - loss: 156.9209 - val_loss: 815.1286\n",
            "Epoch 50/100\n",
            "\u001b[1m18/18\u001b[0m \u001b[32m━━━━━━━━━━━━━━━━━━━━\u001b[0m\u001b[37m\u001b[0m \u001b[1m0s\u001b[0m 7ms/step - loss: 154.2915 - val_loss: 818.1567\n",
            "Epoch 51/100\n",
            "\u001b[1m18/18\u001b[0m \u001b[32m━━━━━━━━━━━━━━━━━━━━\u001b[0m\u001b[37m\u001b[0m \u001b[1m0s\u001b[0m 7ms/step - loss: 154.8950 - val_loss: 816.0087\n",
            "Epoch 52/100\n",
            "\u001b[1m18/18\u001b[0m \u001b[32m━━━━━━━━━━━━━━━━━━━━\u001b[0m\u001b[37m\u001b[0m \u001b[1m0s\u001b[0m 9ms/step - loss: 154.5938 - val_loss: 815.1111\n",
            "Epoch 53/100\n",
            "\u001b[1m18/18\u001b[0m \u001b[32m━━━━━━━━━━━━━━━━━━━━\u001b[0m\u001b[37m\u001b[0m \u001b[1m0s\u001b[0m 8ms/step - loss: 153.5983 - val_loss: 813.7465\n",
            "Epoch 54/100\n",
            "\u001b[1m18/18\u001b[0m \u001b[32m━━━━━━━━━━━━━━━━━━━━\u001b[0m\u001b[37m\u001b[0m \u001b[1m0s\u001b[0m 7ms/step - loss: 153.0111 - val_loss: 820.1669\n",
            "Epoch 55/100\n",
            "\u001b[1m18/18\u001b[0m \u001b[32m━━━━━━━━━━━━━━━━━━━━\u001b[0m\u001b[37m\u001b[0m \u001b[1m0s\u001b[0m 7ms/step - loss: 154.7900 - val_loss: 821.4740\n",
            "Epoch 56/100\n",
            "\u001b[1m18/18\u001b[0m \u001b[32m━━━━━━━━━━━━━━━━━━━━\u001b[0m\u001b[37m\u001b[0m \u001b[1m0s\u001b[0m 8ms/step - loss: 153.4438 - val_loss: 807.5595\n",
            "Epoch 57/100\n",
            "\u001b[1m18/18\u001b[0m \u001b[32m━━━━━━━━━━━━━━━━━━━━\u001b[0m\u001b[37m\u001b[0m \u001b[1m0s\u001b[0m 8ms/step - loss: 153.3704 - val_loss: 804.1595\n",
            "Epoch 58/100\n",
            "\u001b[1m18/18\u001b[0m \u001b[32m━━━━━━━━━━━━━━━━━━━━\u001b[0m\u001b[37m\u001b[0m \u001b[1m0s\u001b[0m 7ms/step - loss: 152.0347 - val_loss: 815.1351\n",
            "Epoch 59/100\n",
            "\u001b[1m18/18\u001b[0m \u001b[32m━━━━━━━━━━━━━━━━━━━━\u001b[0m\u001b[37m\u001b[0m \u001b[1m0s\u001b[0m 7ms/step - loss: 153.0799 - val_loss: 826.7054\n",
            "Epoch 60/100\n",
            "\u001b[1m18/18\u001b[0m \u001b[32m━━━━━━━━━━━━━━━━━━━━\u001b[0m\u001b[37m\u001b[0m \u001b[1m0s\u001b[0m 8ms/step - loss: 152.1966 - val_loss: 797.6582\n",
            "Epoch 61/100\n",
            "\u001b[1m18/18\u001b[0m \u001b[32m━━━━━━━━━━━━━━━━━━━━\u001b[0m\u001b[37m\u001b[0m \u001b[1m0s\u001b[0m 7ms/step - loss: 150.9122 - val_loss: 816.6503\n",
            "Epoch 62/100\n",
            "\u001b[1m18/18\u001b[0m \u001b[32m━━━━━━━━━━━━━━━━━━━━\u001b[0m\u001b[37m\u001b[0m \u001b[1m0s\u001b[0m 6ms/step - loss: 150.8968 - val_loss: 799.4941\n",
            "Epoch 63/100\n",
            "\u001b[1m18/18\u001b[0m \u001b[32m━━━━━━━━━━━━━━━━━━━━\u001b[0m\u001b[37m\u001b[0m \u001b[1m0s\u001b[0m 8ms/step - loss: 150.8226 - val_loss: 781.2537\n",
            "Epoch 64/100\n",
            "\u001b[1m18/18\u001b[0m \u001b[32m━━━━━━━━━━━━━━━━━━━━\u001b[0m\u001b[37m\u001b[0m \u001b[1m0s\u001b[0m 7ms/step - loss: 149.6136 - val_loss: 801.5880\n",
            "Epoch 65/100\n",
            "\u001b[1m18/18\u001b[0m \u001b[32m━━━━━━━━━━━━━━━━━━━━\u001b[0m\u001b[37m\u001b[0m \u001b[1m0s\u001b[0m 8ms/step - loss: 149.1295 - val_loss: 777.1102\n",
            "Epoch 66/100\n",
            "\u001b[1m18/18\u001b[0m \u001b[32m━━━━━━━━━━━━━━━━━━━━\u001b[0m\u001b[37m\u001b[0m \u001b[1m0s\u001b[0m 8ms/step - loss: 146.6780 - val_loss: 770.3691\n",
            "Epoch 67/100\n",
            "\u001b[1m18/18\u001b[0m \u001b[32m━━━━━━━━━━━━━━━━━━━━\u001b[0m\u001b[37m\u001b[0m \u001b[1m0s\u001b[0m 8ms/step - loss: 146.0838 - val_loss: 776.7017\n",
            "Epoch 68/100\n",
            "\u001b[1m18/18\u001b[0m \u001b[32m━━━━━━━━━━━━━━━━━━━━\u001b[0m\u001b[37m\u001b[0m \u001b[1m0s\u001b[0m 7ms/step - loss: 147.0116 - val_loss: 792.3314\n",
            "Epoch 69/100\n",
            "\u001b[1m18/18\u001b[0m \u001b[32m━━━━━━━━━━━━━━━━━━━━\u001b[0m\u001b[37m\u001b[0m \u001b[1m0s\u001b[0m 8ms/step - loss: 147.2346 - val_loss: 762.5398\n",
            "Epoch 70/100\n",
            "\u001b[1m18/18\u001b[0m \u001b[32m━━━━━━━━━━━━━━━━━━━━\u001b[0m\u001b[37m\u001b[0m \u001b[1m0s\u001b[0m 6ms/step - loss: 146.6005 - val_loss: 783.6760\n",
            "Epoch 71/100\n",
            "\u001b[1m18/18\u001b[0m \u001b[32m━━━━━━━━━━━━━━━━━━━━\u001b[0m\u001b[37m\u001b[0m \u001b[1m0s\u001b[0m 8ms/step - loss: 145.7206 - val_loss: 778.4943\n",
            "Epoch 72/100\n",
            "\u001b[1m18/18\u001b[0m \u001b[32m━━━━━━━━━━━━━━━━━━━━\u001b[0m\u001b[37m\u001b[0m \u001b[1m0s\u001b[0m 7ms/step - loss: 146.7930 - val_loss: 765.6794\n",
            "Epoch 73/100\n",
            "\u001b[1m18/18\u001b[0m \u001b[32m━━━━━━━━━━━━━━━━━━━━\u001b[0m\u001b[37m\u001b[0m \u001b[1m0s\u001b[0m 13ms/step - loss: 146.2630 - val_loss: 762.1433\n",
            "Epoch 74/100\n",
            "\u001b[1m18/18\u001b[0m \u001b[32m━━━━━━━━━━━━━━━━━━━━\u001b[0m\u001b[37m\u001b[0m \u001b[1m0s\u001b[0m 12ms/step - loss: 144.0552 - val_loss: 748.1923\n",
            "Epoch 75/100\n",
            "\u001b[1m18/18\u001b[0m \u001b[32m━━━━━━━━━━━━━━━━━━━━\u001b[0m\u001b[37m\u001b[0m \u001b[1m0s\u001b[0m 13ms/step - loss: 143.3562 - val_loss: 737.7993\n",
            "Epoch 76/100\n",
            "\u001b[1m18/18\u001b[0m \u001b[32m━━━━━━━━━━━━━━━━━━━━\u001b[0m\u001b[37m\u001b[0m \u001b[1m0s\u001b[0m 10ms/step - loss: 142.8125 - val_loss: 759.5164\n",
            "Epoch 77/100\n",
            "\u001b[1m18/18\u001b[0m \u001b[32m━━━━━━━━━━━━━━━━━━━━\u001b[0m\u001b[37m\u001b[0m \u001b[1m0s\u001b[0m 12ms/step - loss: 144.4797 - val_loss: 755.8093\n",
            "Epoch 78/100\n",
            "\u001b[1m18/18\u001b[0m \u001b[32m━━━━━━━━━━━━━━━━━━━━\u001b[0m\u001b[37m\u001b[0m \u001b[1m0s\u001b[0m 14ms/step - loss: 142.0930 - val_loss: 733.5243\n",
            "Epoch 79/100\n",
            "\u001b[1m18/18\u001b[0m \u001b[32m━━━━━━━━━━━━━━━━━━━━\u001b[0m\u001b[37m\u001b[0m \u001b[1m0s\u001b[0m 12ms/step - loss: 142.6852 - val_loss: 762.2044\n",
            "Epoch 80/100\n",
            "\u001b[1m18/18\u001b[0m \u001b[32m━━━━━━━━━━━━━━━━━━━━\u001b[0m\u001b[37m\u001b[0m \u001b[1m0s\u001b[0m 12ms/step - loss: 143.9495 - val_loss: 747.6078\n",
            "Epoch 81/100\n",
            "\u001b[1m18/18\u001b[0m \u001b[32m━━━━━━━━━━━━━━━━━━━━\u001b[0m\u001b[37m\u001b[0m \u001b[1m0s\u001b[0m 8ms/step - loss: 142.5270 - val_loss: 722.9720\n",
            "Epoch 82/100\n",
            "\u001b[1m18/18\u001b[0m \u001b[32m━━━━━━━━━━━━━━━━━━━━\u001b[0m\u001b[37m\u001b[0m \u001b[1m0s\u001b[0m 8ms/step - loss: 141.4467 - val_loss: 717.5146\n",
            "Epoch 83/100\n",
            "\u001b[1m18/18\u001b[0m \u001b[32m━━━━━━━━━━━━━━━━━━━━\u001b[0m\u001b[37m\u001b[0m \u001b[1m0s\u001b[0m 7ms/step - loss: 141.9514 - val_loss: 732.4548\n",
            "Epoch 84/100\n",
            "\u001b[1m18/18\u001b[0m \u001b[32m━━━━━━━━━━━━━━━━━━━━\u001b[0m\u001b[37m\u001b[0m \u001b[1m0s\u001b[0m 9ms/step - loss: 140.4162 - val_loss: 714.6075\n",
            "Epoch 85/100\n",
            "\u001b[1m18/18\u001b[0m \u001b[32m━━━━━━━━━━━━━━━━━━━━\u001b[0m\u001b[37m\u001b[0m \u001b[1m0s\u001b[0m 6ms/step - loss: 139.1317 - val_loss: 715.6185\n",
            "Epoch 86/100\n",
            "\u001b[1m18/18\u001b[0m \u001b[32m━━━━━━━━━━━━━━━━━━━━\u001b[0m\u001b[37m\u001b[0m \u001b[1m0s\u001b[0m 8ms/step - loss: 139.7683 - val_loss: 724.7961\n",
            "Epoch 87/100\n",
            "\u001b[1m18/18\u001b[0m \u001b[32m━━━━━━━━━━━━━━━━━━━━\u001b[0m\u001b[37m\u001b[0m \u001b[1m0s\u001b[0m 8ms/step - loss: 139.9480 - val_loss: 711.8699\n",
            "Epoch 88/100\n",
            "\u001b[1m18/18\u001b[0m \u001b[32m━━━━━━━━━━━━━━━━━━━━\u001b[0m\u001b[37m\u001b[0m \u001b[1m0s\u001b[0m 6ms/step - loss: 138.7766 - val_loss: 715.0723\n",
            "Epoch 89/100\n",
            "\u001b[1m18/18\u001b[0m \u001b[32m━━━━━━━━━━━━━━━━━━━━\u001b[0m\u001b[37m\u001b[0m \u001b[1m0s\u001b[0m 9ms/step - loss: 137.8735 - val_loss: 710.4544\n",
            "Epoch 90/100\n",
            "\u001b[1m18/18\u001b[0m \u001b[32m━━━━━━━━━━━━━━━━━━━━\u001b[0m\u001b[37m\u001b[0m \u001b[1m0s\u001b[0m 8ms/step - loss: 138.3902 - val_loss: 707.4094\n",
            "Epoch 91/100\n",
            "\u001b[1m18/18\u001b[0m \u001b[32m━━━━━━━━━━━━━━━━━━━━\u001b[0m\u001b[37m\u001b[0m \u001b[1m0s\u001b[0m 9ms/step - loss: 137.7395 - val_loss: 699.5870\n",
            "Epoch 92/100\n",
            "\u001b[1m18/18\u001b[0m \u001b[32m━━━━━━━━━━━━━━━━━━━━\u001b[0m\u001b[37m\u001b[0m \u001b[1m0s\u001b[0m 8ms/step - loss: 137.3100 - val_loss: 697.2939\n",
            "Epoch 93/100\n",
            "\u001b[1m18/18\u001b[0m \u001b[32m━━━━━━━━━━━━━━━━━━━━\u001b[0m\u001b[37m\u001b[0m \u001b[1m0s\u001b[0m 7ms/step - loss: 137.6395 - val_loss: 702.3792\n",
            "Epoch 94/100\n",
            "\u001b[1m18/18\u001b[0m \u001b[32m━━━━━━━━━━━━━━━━━━━━\u001b[0m\u001b[37m\u001b[0m \u001b[1m0s\u001b[0m 6ms/step - loss: 137.4893 - val_loss: 707.8031\n",
            "Epoch 95/100\n",
            "\u001b[1m18/18\u001b[0m \u001b[32m━━━━━━━━━━━━━━━━━━━━\u001b[0m\u001b[37m\u001b[0m \u001b[1m0s\u001b[0m 7ms/step - loss: 137.4723 - val_loss: 703.1986\n",
            "Epoch 96/100\n",
            "\u001b[1m18/18\u001b[0m \u001b[32m━━━━━━━━━━━━━━━━━━━━\u001b[0m\u001b[37m\u001b[0m \u001b[1m0s\u001b[0m 8ms/step - loss: 136.1410 - val_loss: 700.4713\n",
            "Epoch 97/100\n",
            "\u001b[1m18/18\u001b[0m \u001b[32m━━━━━━━━━━━━━━━━━━━━\u001b[0m\u001b[37m\u001b[0m \u001b[1m0s\u001b[0m 16ms/step - loss: 135.8904 - val_loss: 675.4832\n",
            "Epoch 98/100\n",
            "\u001b[1m18/18\u001b[0m \u001b[32m━━━━━━━━━━━━━━━━━━━━\u001b[0m\u001b[37m\u001b[0m \u001b[1m0s\u001b[0m 17ms/step - loss: 134.3001 - val_loss: 696.8187\n",
            "Epoch 99/100\n",
            "\u001b[1m18/18\u001b[0m \u001b[32m━━━━━━━━━━━━━━━━━━━━\u001b[0m\u001b[37m\u001b[0m \u001b[1m1s\u001b[0m 12ms/step - loss: 135.9984 - val_loss: 696.6680\n",
            "Epoch 100/100\n",
            "\u001b[1m18/18\u001b[0m \u001b[32m━━━━━━━━━━━━━━━━━━━━\u001b[0m\u001b[37m\u001b[0m \u001b[1m0s\u001b[0m 12ms/step - loss: 135.0663 - val_loss: 687.0916\n"
          ]
        },
        {
          "output_type": "execute_result",
          "data": {
            "text/plain": [
              "<keras.src.callbacks.history.History at 0x79945aa7fd50>"
            ]
          },
          "metadata": {},
          "execution_count": 176
        }
      ]
    },
    {
      "cell_type": "code",
      "source": [
        "# Evaluate\n",
        "model_3.evaluate(test_windows, test_labels)"
      ],
      "metadata": {
        "colab": {
          "base_uri": "https://localhost:8080/"
        },
        "id": "1zXUUcMGMzJi",
        "outputId": "b51d1ea4-c1c3-4eb6-81fc-f3b24ba87f5a"
      },
      "execution_count": 177,
      "outputs": [
        {
          "output_type": "stream",
          "name": "stdout",
          "text": [
            "\u001b[1m18/18\u001b[0m \u001b[32m━━━━━━━━━━━━━━━━━━━━\u001b[0m\u001b[37m\u001b[0m \u001b[1m0s\u001b[0m 3ms/step - loss: 351.9205 \n"
          ]
        },
        {
          "output_type": "execute_result",
          "data": {
            "text/plain": [
              "687.0916748046875"
            ]
          },
          "metadata": {},
          "execution_count": 177
        }
      ]
    },
    {
      "cell_type": "code",
      "source": [
        "# Load best model\n",
        "model_3 = tf.keras.models.load_model(\"/content/model_experiments/model_3_dense.keras\")\n",
        "model_3.evaluate(test_windows, test_labels)"
      ],
      "metadata": {
        "colab": {
          "base_uri": "https://localhost:8080/"
        },
        "id": "YYhndOc6ND2K",
        "outputId": "81478ee8-8006-4c42-deaf-20a001ef983d"
      },
      "execution_count": 178,
      "outputs": [
        {
          "output_type": "stream",
          "name": "stdout",
          "text": [
            "\u001b[1m18/18\u001b[0m \u001b[32m━━━━━━━━━━━━━━━━━━━━\u001b[0m\u001b[37m\u001b[0m \u001b[1m0s\u001b[0m 3ms/step - loss: 342.0027  \n"
          ]
        },
        {
          "output_type": "execute_result",
          "data": {
            "text/plain": [
              "675.483154296875"
            ]
          },
          "metadata": {},
          "execution_count": 178
        }
      ]
    },
    {
      "cell_type": "code",
      "source": [
        "# Make preds\n",
        "model_3_preds = make_preds(model_3,\n",
        "                           test_windows)\n",
        "model_3_preds[:3]"
      ],
      "metadata": {
        "colab": {
          "base_uri": "https://localhost:8080/"
        },
        "id": "XFDo-rpmNcyi",
        "outputId": "e713b2c0-9eba-41ad-bfdf-feb5a33a08f1"
      },
      "execution_count": 179,
      "outputs": [
        {
          "output_type": "stream",
          "name": "stdout",
          "text": [
            "\u001b[1m18/18\u001b[0m \u001b[32m━━━━━━━━━━━━━━━━━━━━\u001b[0m\u001b[37m\u001b[0m \u001b[1m0s\u001b[0m 4ms/step \n"
          ]
        },
        {
          "output_type": "execute_result",
          "data": {
            "text/plain": [
              "<tf.Tensor: shape=(3, 7), dtype=float32, numpy=\n",
              "array([[8633.862 , 8604.6045, 8703.14  , 8662.845 , 8648.948 , 8658.115 ,\n",
              "        8507.09  ],\n",
              "       [8569.921 , 8778.233 , 8659.981 , 8600.431 , 8840.414 , 8622.894 ,\n",
              "        8628.294 ],\n",
              "       [8356.243 , 8639.292 , 8496.962 , 8447.609 , 8729.562 , 8533.024 ,\n",
              "        8641.308 ]], dtype=float32)>"
            ]
          },
          "metadata": {},
          "execution_count": 179
        }
      ]
    },
    {
      "cell_type": "code",
      "source": [
        "model_3_preds.shape"
      ],
      "metadata": {
        "colab": {
          "base_uri": "https://localhost:8080/"
        },
        "id": "0eBGbsMEQL2M",
        "outputId": "2e36c671-1cef-43cf-beed-5c08c53a7af0"
      },
      "execution_count": 187,
      "outputs": [
        {
          "output_type": "execute_result",
          "data": {
            "text/plain": [
              "TensorShape([551, 7])"
            ]
          },
          "metadata": {},
          "execution_count": 187
        }
      ]
    },
    {
      "cell_type": "code",
      "source": [
        "# Evaluate model_3 results\n",
        "model_3_results = evaluate_preds(y_true=test_labels,\n",
        "                                 y_pred=model_3_preds)\n",
        "model_3_results"
      ],
      "metadata": {
        "colab": {
          "base_uri": "https://localhost:8080/"
        },
        "collapsed": true,
        "id": "0498CFCgOtgy",
        "outputId": "49b94dce-4d33-413c-82d6-ffe7735e253e"
      },
      "execution_count": 189,
      "outputs": [
        {
          "output_type": "execute_result",
          "data": {
            "text/plain": [
              "{'mae': array([  40.93792 ,  170.809   ,  118.358955,  161.43346 ,  211.34055 ,\n",
              "         107.16999 ,   87.23214 ,  368.45187 ,  518.71893 ,  150.80699 ,\n",
              "         216.80057 ,  123.531044,   71.41622 ,  358.88168 ,  109.78593 ,\n",
              "         396.6569  ,   83.47942 ,  210.00076 ,  169.93422 ,   83.61991 ,\n",
              "         132.36711 ,  133.3464  ,  227.41183 ,  147.2463  ,   63.44873 ,\n",
              "         187.45549 ,  164.80908 ,  121.37618 ,   97.188194,   58.675293,\n",
              "         179.02846 ,   63.839287,  264.38943 ,  381.81012 ,  690.91016 ,\n",
              "          97.69427 ,   76.71317 ,  150.3969  ,  110.23884 ,   94.25579 ,\n",
              "          44.682964,   71.88065 ,   65.01054 ,   75.78278 ,   77.044014,\n",
              "          85.947685,  101.10547 ,   99.47412 ,   55.39251 ,  230.1342  ,\n",
              "         270.13455 ,  149.23396 ,   92.77372 ,  331.81662 ,  540.3554  ,\n",
              "         192.72615 ,  314.3054  ,  224.22949 ,   67.37493 ,   68.580635,\n",
              "         131.00662 ,  597.52167 ,  331.75082 ,   94.72991 ,  152.11705 ,\n",
              "          55.80734 ,  349.62485 ,  237.02092 ,   87.01758 ,  126.67955 ,\n",
              "         291.20605 ,   69.45075 ,  144.03223 ,  234.46777 ,  453.4428  ,\n",
              "         473.2754  ,  346.85297 ,  401.18457 ,   53.497627,  144.3715  ,\n",
              "          95.10463 ,  192.63518 ,  234.93248 ,  249.64607 ,  192.59291 ,\n",
              "         162.26828 ,  103.69085 ,  258.542   ,  214.2758  ,  224.1589  ,\n",
              "         139.69629 ,  142.9244  ,   87.247765,  543.8612  ,  306.19043 ,\n",
              "         394.66113 ,  446.2613  ,  252.74065 ,  122.957726,  106.148155,\n",
              "         127.526085,  310.22754 ,  172.26785 ,  238.57603 ,  744.26044 ,\n",
              "         303.68094 ,  156.41127 ,  139.4636  ,  123.581894,  433.65192 ,\n",
              "         214.05399 ,   86.30804 ,  423.59653 ,  236.2853  ,  112.27218 ,\n",
              "         891.8413  ,  688.685   ,  169.63539 ,  125.64195 , 2078.088   ,\n",
              "        1000.35516 ,  715.9249  ,  213.87437 ,  514.80554 ,  282.053   ,\n",
              "          73.94782 ,  893.93365 ,  251.36809 ,   80.003624,  264.87695 ,\n",
              "         510.65494 ,  514.95624 ,  176.99791 ,  269.78418 ,  186.05727 ,\n",
              "         298.90298 ,  326.988   ,  525.9129  ,  383.3095  ,  224.43889 ,\n",
              "         448.93646 ,  119.218124,  134.348   ,  161.99721 ,  368.29388 ,\n",
              "         116.833916,  165.97705 ,  138.74023 ,  424.38846 ,  161.86336 ,\n",
              "         236.93806 ,  121.89955 ,  131.85707 ,   73.82129 ,  425.97662 ,\n",
              "          89.97335 ,  200.03362 ,   42.33796 ,  386.6772  ,  266.13525 ,\n",
              "         154.75076 ,  496.60443 ,  119.33733 ,   90.7786  ,   98.04534 ,\n",
              "         193.81487 ,  102.77002 , 1056.0951  ,  392.8533  ,  120.55009 ,\n",
              "          94.047295,  213.0897  ,  218.42773 ,  148.48326 ,  326.28098 ,\n",
              "         578.0922  ,  183.02805 ,  290.6522  , 1091.1516  ,  576.3509  ,\n",
              "          83.50377 ,  578.8662  ,  654.9874  ,  146.57631 ,   53.660015,\n",
              "         284.7048  ,  101.81376 ,   67.54157 ,  146.1974  ,  504.91238 ,\n",
              "         156.69182 ,  127.595566,  184.61662 ,  190.72154 ,  108.927315,\n",
              "         274.35645 ,  434.42313 ,  185.26186 ,  296.47894 ,  177.24525 ,\n",
              "         743.7496  ,  603.9103  ,  186.77916 ,  178.405   ,  160.07338 ,\n",
              "         119.707726,  111.293945,  142.82059 ,   83.82617 ,  167.2553  ,\n",
              "         541.93066 ,   68.90318 ,   71.12333 ,  183.6282  ,   72.61384 ,\n",
              "         108.12737 ,  126.5957  ,  111.7793  ,  113.17802 ,  105.92955 ,\n",
              "          98.097374,  484.28824 ,  101.9276  ,  149.0989  ,  228.9315  ,\n",
              "         108.24163 ,  217.40723 ,   46.25279 ,  114.16881 ,  118.96233 ,\n",
              "         125.71498 ,  116.70075 ,   90.11649 ,   75.45634 ,   86.72614 ,\n",
              "         220.37877 ,   93.26046 ,  268.4619  ,  137.35213 ,   58.194614,\n",
              "          87.30859 ,   88.29674 ,  112.97796 ,   90.202286,   65.8065  ,\n",
              "         102.76283 ,   49.348076,   63.28446 ,   71.05245 ,   63.83245 ,\n",
              "         223.15541 ,  257.46387 ,  166.58412 ,   88.41992 ,  116.236465,\n",
              "         311.51465 , 1346.6924  ,  275.44937 ,  327.3648  ,  172.56906 ,\n",
              "         139.02469 ,  269.14145 ,  630.58887 ,  219.91447 ,  164.6536  ,\n",
              "         361.40933 ,  152.90945 ,  118.490234,   77.27539 ,  102.84375 ,\n",
              "         133.72224 ,  529.5206  ,  143.04297 ,  224.22209 ,  210.14453 ,\n",
              "          89.99303 ,  145.90527 ,  579.83777 ,  180.77219 ,  318.71164 ,\n",
              "         177.3033  ,  131.86385 ,  145.32018 ,   98.65248 ,  131.06027 ,\n",
              "         420.77707 ,  108.40221 ,  314.0053  ,   77.37151 ,  155.89928 ,\n",
              "         226.43568 ,  173.00223 ,  249.57422 ,  346.24094 ,  996.67816 ,\n",
              "         480.285   ,  647.81    ,  123.56376 ,  255.03209 ,  169.25977 ,\n",
              "         328.8648  ,  250.67313 ,  190.8012  ,  135.45564 ,   93.529434,\n",
              "         314.09305 ,  202.57812 ,  292.6748  ,  143.47488 ,  100.83077 ,\n",
              "          96.47224 ,  173.85115 ,  414.95145 ,  161.22224 ,  298.00125 ,\n",
              "         313.52734 ,  211.38127 ,   85.3411  ,  124.1935  ,  102.629745,\n",
              "         130.5325  ,  127.95634 ,  158.95424 ,  109.21666 ,  102.341515,\n",
              "         172.76633 ,  224.43639 ,   72.06878 ,  126.03669 ,  295.26297 ,\n",
              "         312.12946 ,  418.23746 ,  124.73116 ,  364.15555 ,  197.72252 ,\n",
              "         210.36691 ,  130.80037 ,  249.10979 ,  136.39076 ,  101.12193 ,\n",
              "         371.00098 ,  305.1984  , 1321.5472  ,  564.1504  ,   92.487305,\n",
              "          87.467354,  146.494   ,  203.30428 ,  447.77344 ,  228.7694  ,\n",
              "          92.89746 ,  129.45229 ,  305.42535 ,  120.86259 ,  112.74874 ,\n",
              "         161.79465 ,  431.88867 , 1337.1676  ,  581.755   ,  627.40234 ,\n",
              "         319.6596  ,  184.62723 ,  182.37709 ,  326.01743 ,  520.8535  ,\n",
              "         306.5106  ,  286.46652 ,  340.89676 ,  713.9681  , 1102.1232  ,\n",
              "         523.28876 ,  204.22293 ,  576.96375 ,  156.19978 ,  305.03152 ,\n",
              "         418.49637 ,  320.51227 ,  252.74889 , 1727.503   , 1151.9095  ,\n",
              "         544.1035  ,  732.2564  , 1450.2756  ,  367.72656 ,  275.07758 ,\n",
              "         314.93472 ,  676.81696 ,  213.23717 ,  133.13225 ,  187.92522 ,\n",
              "         629.0792  ,  476.4975  ,  305.91797 ,  238.3658  ,  664.2374  ,\n",
              "         567.3024  ,  400.51758 ,  342.743   , 1934.4655  , 2254.9612  ,\n",
              "         863.435   ,  659.4224  ,  394.39536 ,  874.3521  ,  652.0254  ,\n",
              "         493.3111  ,  246.88979 , 1025.9733  , 2146.6233  ,  632.8644  ,\n",
              "         480.6928  ,  258.3898  , 1768.7194  ,  544.86383 ,  287.25864 ,\n",
              "        2608.6814  , 1599.579   , 1313.2676  , 1835.3457  , 2674.298   ,\n",
              "        4014.948   , 1936.5284  ,  253.65123 , 2152.516   , 5493.324   ,\n",
              "        3003.5308  , 1371.5156  , 2147.0676  ,  945.3315  , 1180.9894  ,\n",
              "         424.35547 ,  516.33093 ,  262.36887 , 1225.1283  , 4538.4893  ,\n",
              "        1103.6239  ,  590.51337 ,  424.18555 ,  832.4495  ,  882.25226 ,\n",
              "        1648.4933  , 2131.5613  , 2479.781   , 1118.4509  , 1303.1942  ,\n",
              "         470.93582 , 1938.2472  , 1552.7489  ,  587.03516 ,  429.9961  ,\n",
              "        2315.631   , 1404.3717  , 4560.841   , 3938.5547  ,  655.4721  ,\n",
              "        1689.6439  ,  949.74274 , 1575.7795  ,  782.7606  , 1172.1624  ,\n",
              "         488.7712  , 3222.754   , 1052.1233  , 3637.5737  ,  618.298   ,\n",
              "        2673.942   , 2060.98    , 7442.0146  , 2691.8398  , 1533.976   ,\n",
              "        2485.1758  ,  459.85883 ,  626.41516 , 4794.5044  ,  581.5714  ,\n",
              "        3478.1177  ,  709.18024 ,  885.7779  ,  714.76843 , 1321.8917  ,\n",
              "        1137.4939  , 3221.8042  , 3364.7327  , 1238.1914  , 1052.1836  ,\n",
              "        2109.2349  ,  892.6808  , 5017.3213  , 1931.9631  , 1125.2673  ,\n",
              "        1283.0084  ,  705.9933  ,  781.29407 ,  813.8895  , 4232.63    ,\n",
              "        1337.0553  , 1799.9252  , 1499.6356  , 3020.7317  , 3322.6133  ,\n",
              "         851.4788  , 2906.365   , 2576.0642  ,  889.91797 ,  570.596   ,\n",
              "         674.0664  , 1397.0306  ,  849.1696  ,  837.1083  ,  663.486   ,\n",
              "        2404.9084  ,  513.15906 ,  460.07086 ,  755.09766 ,  897.56586 ,\n",
              "         748.9799  , 3638.8828  ,  581.8153  ,  490.64398 , 1463.5569  ,\n",
              "        2169.009   , 4846.767   , 2642.2947  ,  818.10266 , 1870.4213  ,\n",
              "        2134.806   , 1621.2734  ,  249.32031 , 1494.6072  , 4818.8325  ,\n",
              "        3929.3794  , 1092.9705  , 1097.649   , 3218.5312  , 1854.3861  ,\n",
              "        1385.7494  ,  839.981   , 3610.0535  , 2017.0458  ,  857.86383 ,\n",
              "         549.97266 , 1836.7181  ,  571.99945 , 2317.3677  , 1319.7283  ,\n",
              "        4901.319   , 4628.7007  , 1555.8538  , 2909.8425  , 3218.019   ,\n",
              "        2958.5352  ], dtype=float32),\n",
              " 'mse': array([3.99603345e+03, 3.76978828e+04, 2.06203105e+04, 4.48322188e+04,\n",
              "        5.00433711e+04, 1.70141543e+04, 1.25005449e+04, 1.39278078e+05,\n",
              "        2.81610438e+05, 2.81223555e+04, 5.43663242e+04, 2.22334023e+04,\n",
              "        7.82106348e+03, 1.40308766e+05, 1.88227402e+04, 1.63000719e+05,\n",
              "        1.08012490e+04, 4.64296328e+04, 3.76421914e+04, 8.24792285e+03,\n",
              "        2.31237031e+04, 2.51907852e+04, 6.57335000e+04, 2.25781074e+04,\n",
              "        9.81837012e+03, 4.10040898e+04, 3.12926973e+04, 1.90317559e+04,\n",
              "        1.26665801e+04, 5.93686719e+03, 3.64447500e+04, 5.04953564e+03,\n",
              "        7.50832734e+04, 1.51267844e+05, 4.84118719e+05, 1.54050957e+04,\n",
              "        7.20185986e+03, 3.47259805e+04, 1.46294277e+04, 1.17393818e+04,\n",
              "        3.68918433e+03, 7.21695020e+03, 7.09571191e+03, 1.22022295e+04,\n",
              "        9.44790137e+03, 1.43057256e+04, 1.41244277e+04, 1.43298574e+04,\n",
              "        3.90487866e+03, 5.83283477e+04, 8.46771172e+04, 2.65326680e+04,\n",
              "        9.99080273e+03, 1.13431945e+05, 2.95807219e+05, 4.42839688e+04,\n",
              "        1.06105680e+05, 6.15406914e+04, 5.57176904e+03, 5.96992578e+03,\n",
              "        2.38176504e+04, 3.60260844e+05, 1.16875727e+05, 1.18828330e+04,\n",
              "        3.11323242e+04, 4.22792920e+03, 1.30818555e+05, 6.12413320e+04,\n",
              "        1.05172861e+04, 2.10178613e+04, 9.64232031e+04, 6.53046191e+03,\n",
              "        2.23340352e+04, 5.94890977e+04, 2.14067297e+05, 2.28902266e+05,\n",
              "        1.34036844e+05, 1.72064797e+05, 4.90872705e+03, 2.45799629e+04,\n",
              "        1.36882168e+04, 4.58476445e+04, 6.63957344e+04, 7.39362656e+04,\n",
              "        4.92121328e+04, 3.24241445e+04, 1.59264053e+04, 7.44908594e+04,\n",
              "        5.20089258e+04, 5.56421953e+04, 3.17152305e+04, 2.63875254e+04,\n",
              "        1.41366777e+04, 3.00763531e+05, 9.91775703e+04, 1.68041531e+05,\n",
              "        2.08907375e+05, 7.68986250e+04, 2.11658945e+04, 2.19346191e+04,\n",
              "        2.16206973e+04, 1.02430289e+05, 3.47749961e+04, 6.24593047e+04,\n",
              "        5.57638375e+05, 1.05396164e+05, 3.85956250e+04, 3.02488105e+04,\n",
              "        2.06864043e+04, 1.95818109e+05, 5.02306562e+04, 1.13174316e+04,\n",
              "        1.98131453e+05, 6.33606250e+04, 1.48905469e+04, 8.03886938e+05,\n",
              "        4.94505156e+05, 4.26351133e+04, 2.28004902e+04, 4.32678850e+06,\n",
              "        1.02436219e+06, 5.21176281e+05, 5.31848867e+04, 2.84987062e+05,\n",
              "        8.26106797e+04, 6.81277734e+03, 8.41229812e+05, 9.05787891e+04,\n",
              "        1.21270557e+04, 1.00430328e+05, 2.66350688e+05, 2.74953594e+05,\n",
              "        5.21471055e+04, 9.73637656e+04, 5.32787109e+04, 1.00524242e+05,\n",
              "        1.13152164e+05, 2.87548406e+05, 1.69656453e+05, 6.52331914e+04,\n",
              "        2.11679219e+05, 1.79076777e+04, 2.51567754e+04, 2.96354473e+04,\n",
              "        1.50607203e+05, 1.64445352e+04, 3.59177188e+04, 2.62001758e+04,\n",
              "        1.91267625e+05, 3.40021055e+04, 6.49525352e+04, 1.95119551e+04,\n",
              "        2.69698867e+04, 7.14435107e+03, 1.85585828e+05, 1.11291973e+04,\n",
              "        4.71967773e+04, 3.20094263e+03, 1.53042125e+05, 7.74409609e+04,\n",
              "        3.58261953e+04, 2.61569859e+05, 2.27185371e+04, 1.38045400e+04,\n",
              "        1.22120166e+04, 4.35718320e+04, 1.36222373e+04, 1.12261550e+06,\n",
              "        1.67760875e+05, 1.88187168e+04, 1.86898496e+04, 5.18983945e+04,\n",
              "        5.77635000e+04, 2.64481367e+04, 1.12564695e+05, 3.48949438e+05,\n",
              "        4.43334609e+04, 9.20139297e+04, 1.20175875e+06, 3.34830438e+05,\n",
              "        9.71293848e+03, 3.48952500e+05, 4.58038656e+05, 3.13762637e+04,\n",
              "        1.04912793e+04, 9.57259766e+04, 1.83213477e+04, 8.34168945e+03,\n",
              "        3.35564648e+04, 2.68041781e+05, 3.65067422e+04, 2.38428477e+04,\n",
              "        3.93436680e+04, 4.52423828e+04, 1.39586260e+04, 8.55772578e+04,\n",
              "        2.14269453e+05, 5.03061641e+04, 9.95201719e+04, 4.36767812e+04,\n",
              "        5.57231625e+05, 3.82571000e+05, 5.22646797e+04, 3.92377188e+04,\n",
              "        2.75529336e+04, 2.38265762e+04, 1.66398008e+04, 2.65343555e+04,\n",
              "        8.30323242e+03, 3.83370273e+04, 3.03785281e+05, 1.01798018e+04,\n",
              "        7.77392139e+03, 3.67887812e+04, 7.32198779e+03, 1.93555938e+04,\n",
              "        2.48602500e+04, 1.53639502e+04, 1.50071777e+04, 1.31380791e+04,\n",
              "        1.50774131e+04, 2.46962031e+05, 1.50105840e+04, 2.77799160e+04,\n",
              "        6.89545859e+04, 1.33705576e+04, 6.17392266e+04, 3.49068701e+03,\n",
              "        1.88132207e+04, 1.76589160e+04, 3.02750586e+04, 2.14862695e+04,\n",
              "        8.78381250e+03, 7.92770410e+03, 1.09176084e+04, 5.79881992e+04,\n",
              "        9.33875195e+03, 8.98125234e+04, 2.67230215e+04, 5.44120996e+03,\n",
              "        1.09076357e+04, 1.48920127e+04, 1.61019238e+04, 9.37238477e+03,\n",
              "        6.31164746e+03, 1.51110566e+04, 3.71934741e+03, 5.10398584e+03,\n",
              "        8.87969238e+03, 4.98427734e+03, 5.73851133e+04, 7.35366250e+04,\n",
              "        3.41822266e+04, 8.92281543e+03, 1.99233184e+04, 1.02964633e+05,\n",
              "        1.82307875e+06, 8.91675625e+04, 1.13664609e+05, 3.47835977e+04,\n",
              "        2.40953223e+04, 8.74482422e+04, 4.06122438e+05, 7.17241406e+04,\n",
              "        3.12209102e+04, 1.39521141e+05, 3.18780293e+04, 1.97068633e+04,\n",
              "        8.49596582e+03, 1.42652969e+04, 2.30118535e+04, 2.95197594e+05,\n",
              "        2.61938770e+04, 6.19387578e+04, 4.52773477e+04, 1.64444355e+04,\n",
              "        3.57619766e+04, 3.54470062e+05, 4.00482539e+04, 1.10835492e+05,\n",
              "        4.30688555e+04, 3.22628887e+04, 3.27321309e+04, 1.33016855e+04,\n",
              "        2.34334258e+04, 1.88824172e+05, 1.95229668e+04, 1.16696242e+05,\n",
              "        1.11070000e+04, 2.76008320e+04, 6.34838828e+04, 4.54269180e+04,\n",
              "        7.31990781e+04, 1.36533172e+05, 1.00462656e+06, 2.48721500e+05,\n",
              "        4.32188344e+05, 2.45839102e+04, 9.26988750e+04, 4.77669688e+04,\n",
              "        1.19274141e+05, 7.37650703e+04, 4.16484805e+04, 3.27349180e+04,\n",
              "        1.14269951e+04, 1.06894734e+05, 5.74538867e+04, 1.02950703e+05,\n",
              "        2.53991719e+04, 1.24680029e+04, 1.86919102e+04, 3.80807383e+04,\n",
              "        1.94518719e+05, 3.78560273e+04, 1.02466922e+05, 1.02461430e+05,\n",
              "        5.02410234e+04, 1.16066318e+04, 2.65309355e+04, 1.57261973e+04,\n",
              "        1.81510098e+04, 2.49697598e+04, 4.21764375e+04, 1.69602461e+04,\n",
              "        1.34354551e+04, 3.72717266e+04, 6.99250781e+04, 7.57815918e+03,\n",
              "        2.46171738e+04, 9.17721094e+04, 1.03038859e+05, 1.93109359e+05,\n",
              "        2.11146836e+04, 1.36977766e+05, 4.63641602e+04, 5.09224492e+04,\n",
              "        2.08552246e+04, 7.03026875e+04, 3.11631621e+04, 1.38049775e+04,\n",
              "        1.45918266e+05, 1.07634812e+05, 1.75394625e+06, 3.26944688e+05,\n",
              "        1.24930137e+04, 1.65991406e+04, 2.71443848e+04, 5.45181758e+04,\n",
              "        2.15409922e+05, 7.42525547e+04, 1.03070361e+04, 2.94492070e+04,\n",
              "        9.89383359e+04, 1.88497383e+04, 2.07727676e+04, 3.40077695e+04,\n",
              "        1.88654250e+05, 1.80979788e+06, 3.64810656e+05, 4.06184562e+05,\n",
              "        1.12142242e+05, 3.88936172e+04, 4.81156133e+04, 1.26046078e+05,\n",
              "        3.13508250e+05, 1.11180133e+05, 9.77863672e+04, 1.31180656e+05,\n",
              "        5.32604562e+05, 1.23289475e+06, 2.87809844e+05, 5.50133828e+04,\n",
              "        3.61446969e+05, 6.08351523e+04, 1.10640555e+05, 1.91188922e+05,\n",
              "        1.24841922e+05, 9.71636719e+04, 3.02344950e+06, 1.38448488e+06,\n",
              "        3.26241281e+05, 5.47503688e+05, 2.11588300e+06, 1.55926359e+05,\n",
              "        9.81272969e+04, 1.65356984e+05, 4.92278344e+05, 5.42009297e+04,\n",
              "        3.01510957e+04, 6.23457422e+04, 4.27160906e+05, 3.20837562e+05,\n",
              "        1.47841141e+05, 8.00596953e+04, 4.55890781e+05, 3.35967938e+05,\n",
              "        1.88127203e+05, 1.73036656e+05, 3.79873975e+06, 5.11433900e+06,\n",
              "        7.77541500e+05, 4.63009656e+05, 2.15193172e+05, 8.62276312e+05,\n",
              "        5.16984938e+05, 3.27609469e+05, 8.29316719e+04, 1.08464475e+06,\n",
              "        4.64823050e+06, 4.28478781e+05, 2.85037312e+05, 1.22401539e+05,\n",
              "        3.19495150e+06, 3.52645500e+05, 1.04403758e+05, 6.92521750e+06,\n",
              "        2.63135200e+06, 1.77861312e+06, 3.44827375e+06, 7.20988000e+06,\n",
              "        1.62345140e+07, 3.96381725e+06, 9.74977734e+04, 4.73942250e+06,\n",
              "        3.04953160e+07, 9.68242300e+06, 2.02622012e+06, 5.02297600e+06,\n",
              "        1.17433100e+06, 1.53326062e+06, 2.07094641e+05, 4.36092500e+05,\n",
              "        1.10732484e+05, 1.57096612e+06, 2.07403000e+07, 1.61013562e+06,\n",
              "        4.94504281e+05, 2.51959125e+05, 8.88192500e+05, 8.30558562e+05,\n",
              "        2.79426600e+06, 4.77001750e+06, 7.13046900e+06, 1.37854238e+06,\n",
              "        1.99959638e+06, 3.20728844e+05, 4.12916800e+06, 2.78711200e+06,\n",
              "        6.66268312e+05, 2.59854609e+05, 5.60510500e+06, 2.11678850e+06,\n",
              "        2.13430040e+07, 1.59408140e+07, 5.84613312e+05, 3.04927550e+06,\n",
              "        1.03835894e+06, 2.64501725e+06, 8.40611062e+05, 1.66421188e+06,\n",
              "        3.34584281e+05, 1.07368090e+07, 1.23416000e+06, 1.33722880e+07,\n",
              "        5.18986719e+05, 7.43287900e+06, 4.40301750e+06, 5.55071120e+07,\n",
              "        7.94367450e+06, 2.65529275e+06, 6.83485700e+06, 3.46399812e+05,\n",
              "        4.63828656e+05, 2.32451040e+07, 6.11451875e+05, 1.22082820e+07,\n",
              "        7.13239500e+05, 1.03417656e+06, 1.04744431e+06, 2.00866812e+06,\n",
              "        1.71128375e+06, 1.11102970e+07, 1.16886350e+07, 1.65392400e+06,\n",
              "        1.56032175e+06, 4.87775450e+06, 1.38512388e+06, 2.55779740e+07,\n",
              "        4.54862900e+06, 1.61645600e+06, 1.86356100e+06, 7.71572438e+05,\n",
              "        8.43561688e+05, 8.15189312e+05, 1.83348380e+07, 2.47670475e+06,\n",
              "        3.65432825e+06, 2.96270075e+06, 9.49358700e+06, 1.12531030e+07,\n",
              "        1.25678925e+06, 9.41355500e+06, 6.86942350e+06, 9.24660438e+05,\n",
              "        3.85814906e+05, 7.04617688e+05, 2.37732550e+06, 1.12183838e+06,\n",
              "        1.00225169e+06, 6.29210812e+05, 5.93380150e+06, 3.93210500e+05,\n",
              "        3.89314750e+05, 7.42916688e+05, 9.13029375e+05, 8.17871375e+05,\n",
              "        1.35465440e+07, 5.08256094e+05, 4.45969562e+05, 2.73808875e+06,\n",
              "        4.92813250e+06, 2.39026140e+07, 7.35312400e+06, 8.16349500e+05,\n",
              "        4.22364150e+06, 4.98692400e+06, 2.78803550e+06, 1.27982727e+05,\n",
              "        2.41540075e+06, 2.35346140e+07, 1.59934610e+07, 1.59473538e+06,\n",
              "        1.41490312e+06, 1.08533940e+07, 3.99909075e+06, 2.35795750e+06,\n",
              "        9.27352062e+05, 1.35730790e+07, 4.72218650e+06, 1.12096212e+06,\n",
              "        4.89170000e+05, 3.59602275e+06, 5.20371156e+05, 5.70918350e+06,\n",
              "        2.00414800e+06, 2.48013800e+07, 2.18118400e+07, 2.99789800e+06,\n",
              "        8.63786600e+06, 1.10147630e+07, 9.53048300e+06], dtype=float32),\n",
              " 'rmse': array([  63.214188,  194.15942 ,  143.59773 ,  211.7362  ,  223.70375 ,\n",
              "         130.43831 ,  111.80584 ,  373.19977 ,  530.6698  ,  167.69722 ,\n",
              "         233.16588 ,  149.10869 ,   88.436775,  374.57812 ,  137.196   ,\n",
              "         403.7335  ,  103.929054,  215.47537 ,  194.01596 ,   90.81808 ,\n",
              "         152.0648  ,  158.71605 ,  256.38544 ,  150.26013 ,   99.08769 ,\n",
              "         202.49466 ,  176.89742 ,  137.95563 ,  112.5459  ,   77.05107 ,\n",
              "         190.90508 ,   71.06008 ,  274.01328 ,  388.93167 ,  695.7864  ,\n",
              "         124.11726 ,   84.86377 ,  186.34908 ,  120.95217 ,  108.34843 ,\n",
              "          60.738655,   84.95264 ,   84.236046,  110.4637  ,   97.20032 ,\n",
              "         119.606544,  118.84624 ,  119.70738 ,   62.48903 ,  241.51262 ,\n",
              "         290.99332 ,  162.88852 ,   99.954   ,  336.7966  ,  543.8816  ,\n",
              "         210.43756 ,  325.73868 ,  248.07396 ,   74.64429 ,   77.2653  ,\n",
              "         154.32968 ,  600.21735 ,  341.8709  ,  109.00841 ,  176.44354 ,\n",
              "          65.02253 ,  361.68848 ,  247.46986 ,  102.55382 ,  144.97539 ,\n",
              "         310.52084 ,   80.81127 ,  149.44576 ,  243.90387 ,  462.67407 ,\n",
              "         478.43732 ,  366.1104  ,  414.80695 ,   70.06231 ,  156.77998 ,\n",
              "         116.99665 ,  214.12064 ,  257.6737  ,  271.91223 ,  221.83807 ,\n",
              "         180.06706 ,  126.19986 ,  272.93015 ,  228.05466 ,  235.88599 ,\n",
              "         178.0877  ,  162.44238 ,  118.89776 ,  548.4191  ,  314.9247  ,\n",
              "         409.92868 ,  457.06387 ,  277.306   ,  145.48503 ,  148.10341 ,\n",
              "         147.03978 ,  320.04733 ,  186.48055 ,  249.9186  ,  746.7519  ,\n",
              "         324.64777 ,  196.45769 ,  173.92184 ,  143.82768 ,  442.5134  ,\n",
              "         224.12196 ,  106.383415,  445.1196  ,  251.71536 ,  122.026825,\n",
              "         896.5974  ,  703.21063 ,  206.48271 ,  150.9983  , 2080.0935  ,\n",
              "        1012.1078  ,  721.9254  ,  230.61848 ,  533.8418  ,  287.42075 ,\n",
              "          82.53955 ,  917.1858  ,  300.9631  ,  110.12291 ,  316.90744 ,\n",
              "         516.09174 ,  524.36017 ,  228.3574  ,  312.03168 ,  230.82182 ,\n",
              "         317.05557 ,  336.38098 ,  536.2354  ,  411.89374 ,  255.4079  ,\n",
              "         460.0861  ,  133.81956 ,  158.60887 ,  172.14949 ,  388.08145 ,\n",
              "         128.23625 ,  189.5197  ,  161.86469 ,  437.34155 ,  184.39659 ,\n",
              "         254.85788 ,  139.6852  ,  164.22511 ,   84.52426 ,  430.79672 ,\n",
              "         105.49501 ,  217.2482  ,   56.576874,  391.206   ,  278.28217 ,\n",
              "         189.27809 ,  511.439   ,  150.7267  ,  117.49272 ,  110.507996,\n",
              "         208.73866 ,  116.71434 , 1059.5355  ,  409.5862  ,  137.18134 ,\n",
              "         136.71083 ,  227.8122  ,  240.34038 ,  162.62883 ,  335.50662 ,\n",
              "         590.7194  ,  210.55513 ,  303.33798 , 1096.2476  ,  578.6453  ,\n",
              "          98.554245,  590.72205 ,  676.7855  ,  177.13347 ,  102.42695 ,\n",
              "         309.39615 ,  135.35637 ,   91.33285 ,  183.18423 ,  517.72754 ,\n",
              "         191.06738 ,  154.4113  ,  198.35239 ,  212.70258 ,  118.14663 ,\n",
              "         292.53592 ,  462.8925  ,  224.29036 ,  315.46817 ,  208.98991 ,\n",
              "         746.4795  ,  618.52325 ,  228.6147  ,  198.08513 ,  165.99077 ,\n",
              "         154.3586  ,  128.99535 ,  162.89369 ,   91.12208 ,  195.79843 ,\n",
              "         551.1672  ,  100.895004,   88.169846,  191.80402 ,   85.56861 ,\n",
              "         139.12439 ,  157.67134 ,  123.9514  ,  122.503784,  114.62146 ,\n",
              "         122.790115,  496.95276 ,  122.517685,  166.67308 ,  262.59204 ,\n",
              "         115.63113 ,  248.4738  ,   59.082035,  137.1613  ,  132.88686 ,\n",
              "         173.9973  ,  146.58195 ,   93.72199 ,   89.03766 ,  104.48736 ,\n",
              "         240.80739 ,   96.637215,  299.68738 ,  163.47177 ,   73.76456 ,\n",
              "         104.43963 ,  122.03284 ,  126.89336 ,   96.81108 ,   79.44588 ,\n",
              "         122.92704 ,   60.986454,   71.442184,   94.23212 ,   70.59941 ,\n",
              "         239.5519  ,  271.17636 ,  184.88435 ,   94.460655,  141.14998 ,\n",
              "         320.881   , 1350.2144  ,  298.60938 ,  337.1418  ,  186.50362 ,\n",
              "         155.22668 ,  295.7165  ,  637.27734 ,  267.81363 ,  176.6944  ,\n",
              "         373.5253  ,  178.54419 ,  140.38113 ,   92.17356 ,  119.437416,\n",
              "         151.69658 ,  543.3209  ,  161.84523 ,  248.87498 ,  212.78474 ,\n",
              "         128.23586 ,  189.10837 ,  595.3739  ,  200.1206  ,  332.91965 ,\n",
              "         207.53036 ,  179.61873 ,  180.92023 ,  115.33293 ,  153.0798  ,\n",
              "         434.53903 ,  139.72461 ,  341.6083  ,  105.389755,  166.13498 ,\n",
              "         251.96008 ,  213.13591 ,  270.55328 ,  369.50397 , 1002.3106  ,\n",
              "         498.71985 ,  657.41034 ,  156.79257 ,  304.4649  ,  218.55656 ,\n",
              "         345.36087 ,  271.59726 ,  204.07959 ,  180.92793 ,  106.897125,\n",
              "         326.9476  ,  239.6954  ,  320.8593  ,  159.37117 ,  111.66021 ,\n",
              "         136.71835 ,  195.14287 ,  441.04276 ,  194.56625 ,  320.10455 ,\n",
              "         320.09598 ,  224.1451  ,  107.73408 ,  162.8832  ,  125.40414 ,\n",
              "         134.72568 ,  158.01822 ,  205.36903 ,  130.2315  ,  115.91141 ,\n",
              "         193.05887 ,  264.4335  ,   87.05262 ,  156.8986  ,  302.93912 ,\n",
              "         320.99667 ,  439.4421  ,  145.30893 ,  370.10507 ,  215.32338 ,\n",
              "         225.66003 ,  144.41338 ,  265.14655 ,  176.53091 ,  117.49458 ,\n",
              "         381.9925  ,  328.07745 , 1324.3663  ,  571.7908  ,  111.77215 ,\n",
              "         128.83765 ,  164.75552 ,  233.49127 ,  464.12274 ,  272.49323 ,\n",
              "         101.523575,  171.60771 ,  314.54465 ,  137.29434 ,  144.12761 ,\n",
              "         184.41196 ,  434.34348 , 1345.2872  ,  603.9956  ,  637.3261  ,\n",
              "         334.87646 ,  197.21465 ,  219.3527  ,  355.0297  ,  559.9181  ,\n",
              "         333.43686 ,  312.70813 ,  362.1887  ,  729.7976  , 1110.3579  ,\n",
              "         536.4791  ,  234.54932 ,  601.2046  ,  246.64783 ,  332.62674 ,\n",
              "         437.25156 ,  353.32977 ,  311.71088 , 1738.8069  , 1176.6414  ,\n",
              "         571.17535 ,  739.93494 , 1454.6075  ,  394.87512 ,  313.25278 ,\n",
              "         406.6411  ,  701.6255  ,  232.81093 ,  173.6407  ,  249.6913  ,\n",
              "         653.5755  ,  566.42523 ,  384.50116 ,  282.9482  ,  675.19684 ,\n",
              "         579.62744 ,  433.73633 ,  415.97675 , 1949.0356  , 2261.4905  ,\n",
              "         881.78314 ,  680.4481  ,  463.8892  ,  928.5883  ,  719.01666 ,\n",
              "         572.37177 ,  287.9786  , 1041.4628  , 2155.9756  ,  654.5829  ,\n",
              "         533.88885 ,  349.8593  , 1787.4427  ,  593.8396  ,  323.1157  ,\n",
              "        2631.5808  , 1622.1443  , 1333.6466  , 1856.9528  , 2685.122   ,\n",
              "        4029.2075  , 1990.9337  ,  312.24634 , 2177.0215  , 5522.2563  ,\n",
              "        3111.6592  , 1423.4536  , 2241.1997  , 1083.6655  , 1238.249   ,\n",
              "         455.0765  ,  660.373   ,  332.76492 , 1253.3818  , 4554.152   ,\n",
              "        1268.9113  ,  703.20996 ,  501.9553  ,  942.43964 ,  911.34985 ,\n",
              "        1671.6058  , 2184.0369  , 2670.2937  , 1174.1134  , 1414.0708  ,\n",
              "         566.3293  , 2032.0354  , 1669.4646  ,  816.2526  ,  509.75937 ,\n",
              "        2367.5103  , 1454.9187  , 4619.849   , 3992.595   ,  764.6001  ,\n",
              "        1746.2175  , 1018.99896 , 1626.351   ,  916.84845 , 1290.0433  ,\n",
              "         578.4326  , 3276.707   , 1110.9275  , 3656.814   ,  720.40735 ,\n",
              "        2726.3306  , 2098.337   , 7450.3096  , 2818.4524  , 1629.507   ,\n",
              "        2614.356   ,  588.5574  ,  681.0497  , 4821.318   ,  781.95386 ,\n",
              "        3494.0352  ,  844.5351  , 1016.9447  , 1023.44727 , 1417.2749  ,\n",
              "        1308.1604  , 3333.2112  , 3418.8645  , 1286.0498  , 1249.1284  ,\n",
              "        2208.564   , 1176.9128  , 5057.4673  , 2132.7515  , 1271.3992  ,\n",
              "        1365.123   ,  878.39197 ,  918.4561  ,  902.87836 , 4281.92    ,\n",
              "        1573.755   , 1911.6298  , 1721.2498  , 3081.1665  , 3354.5645  ,\n",
              "        1121.0662  , 3068.1516  , 2620.9585  ,  961.59265 ,  621.14    ,\n",
              "         839.4151  , 1541.8578  , 1059.1687  , 1001.1252  ,  793.2281  ,\n",
              "        2435.9395  ,  627.065   ,  623.9509  ,  861.92615 ,  955.5257  ,\n",
              "         904.3624  , 3680.563   ,  712.92084 ,  667.8095  , 1654.7172  ,\n",
              "        2219.9397  , 4889.03    , 2711.6646  ,  903.5206  , 2055.15    ,\n",
              "        2233.142   , 1669.7411  ,  357.74673 , 1554.156   , 4851.2485  ,\n",
              "        3999.1826  , 1262.8284  , 1189.497   , 3294.449   , 1999.7727  ,\n",
              "        1535.5642  ,  962.9912  , 3684.166   , 2173.0593  , 1058.755   ,\n",
              "         699.4069  , 1896.3182  ,  721.36755 , 2389.39    , 1415.6793  ,\n",
              "        4980.0986  , 4670.315   , 1731.4438  , 2939.0247  , 3318.8496  ,\n",
              "        3087.148   ], dtype=float32),\n",
              " 'mape': array([ 0.4728896 ,  2.0093656 ,  1.3975122 ,  1.8909103 ,  2.5754998 ,\n",
              "         1.3200732 ,  1.0802952 ,  4.839937  ,  7.1428137 ,  2.0648859 ,\n",
              "         3.0787957 ,  1.712887  ,  1.0000774 ,  4.770155  ,  1.4855593 ,\n",
              "         5.1318827 ,  1.106826  ,  2.8447824 ,  2.3172534 ,  1.1430718 ,\n",
              "         1.8349322 ,  1.8022736 ,  3.027362  ,  1.9549111 ,  0.84035385,\n",
              "         2.556294  ,  2.2764432 ,  1.686233  ,  1.3516623 ,  0.81055826,\n",
              "         2.526144  ,  0.8975355 ,  3.8409178 ,  5.7990355 ,  9.306421  ,\n",
              "         1.3668182 ,  1.0744241 ,  2.0640955 ,  1.5232698 ,  1.3152878 ,\n",
              "         0.6175411 ,  0.99656945,  0.904972  ,  1.0485637 ,  1.0537287 ,\n",
              "         1.163741  ,  1.3943126 ,  1.3854414 ,  0.77204853,  3.308671  ,\n",
              "         3.7049298 ,  2.033815  ,  1.2626684 ,  4.3015633 ,  6.7211695 ,\n",
              "         2.3888886 ,  4.0250664 ,  2.77256   ,  0.83395207,  0.84155107,\n",
              "         1.6139861 ,  6.840434  ,  3.751278  ,  1.087395  ,  1.7043358 ,\n",
              "         0.6242526 ,  4.0474358 ,  2.7392766 ,  0.9991929 ,  1.4670349 ,\n",
              "         3.4733176 ,  0.8217825 ,  1.7254395 ,  2.7383714 ,  5.1052103 ,\n",
              "         5.1831064 ,  3.7212074 ,  4.2030516 ,  0.56979775,  1.5419046 ,\n",
              "         1.0133404 ,  2.078115  ,  2.5597644 ,  2.5936022 ,  1.9893134 ,\n",
              "         1.6565857 ,  1.0444517 ,  2.5515592 ,  2.177843  ,  2.1897714 ,\n",
              "         1.3477788 ,  1.3987374 ,  0.8415484 ,  5.4789624 ,  3.1002748 ,\n",
              "         4.0954294 ,  4.379406  ,  2.6052952 ,  1.2766228 ,  1.0976084 ,\n",
              "         1.3161827 ,  3.1274352 ,  1.7869238 ,  2.5399697 ,  8.469074  ,\n",
              "         3.4568138 ,  1.78176   ,  1.6142381 ,  1.44558   ,  4.85991   ,\n",
              "         2.434891  ,  0.98559344,  4.66589   ,  2.5889635 ,  1.2579215 ,\n",
              "        10.920977  ,  8.744371  ,  2.1313045 ,  1.5793476 , 35.82781   ,\n",
              "        17.63461   , 13.49745   ,  3.9937794 , 10.411255  ,  5.16053   ,\n",
              "         1.3786403 , 14.187029  ,  4.063973  ,  1.293081  ,  4.501387  ,\n",
              "         7.910441  ,  7.5903907 ,  2.6390085 ,  4.013752  ,  2.7841299 ,\n",
              "         4.7981944 ,  5.521124  ,  8.1112585 ,  5.946082  ,  3.4331853 ,\n",
              "         6.5532827 ,  1.7593215 ,  1.9595875 ,  2.3804348 ,  5.0602016 ,\n",
              "         1.6281956 ,  2.2528903 ,  1.8948883 ,  6.1806564 ,  2.3547704 ,\n",
              "         3.3639538 ,  1.7692592 ,  1.914425  ,  1.0987273 ,  5.9439297 ,\n",
              "         1.2734934 ,  2.7487946 ,  0.5891835 ,  5.639862  ,  3.8545322 ,\n",
              "         2.1739576 ,  6.5670753 ,  1.5916182 ,  1.2035924 ,  1.2858651 ,\n",
              "         2.4923127 ,  1.3240559 , 12.037869  ,  4.4807014 ,  1.3615673 ,\n",
              "         1.049277  ,  2.3929987 ,  2.4576945 ,  1.6538044 ,  3.4815614 ,\n",
              "         5.8389153 ,  1.8455526 ,  3.0221121 , 12.418282  ,  6.6954293 ,\n",
              "         0.94726694,  6.203698  ,  6.7127967 ,  1.5655454 ,  0.5697046 ,\n",
              "         2.9397373 ,  1.0470703 ,  0.69490933,  1.5323251 ,  5.52351   ,\n",
              "         1.7044978 ,  1.3838882 ,  2.0402524 ,  2.1415477 ,  1.2328053 ,\n",
              "         3.0106118 ,  4.5692563 ,  1.965584  ,  3.0601676 ,  1.8800538 ,\n",
              "         7.2429633 ,  6.3461714 ,  1.9321194 ,  1.81835   ,  1.6571324 ,\n",
              "         1.2370269 ,  1.1429465 ,  1.4585544 ,  0.8565804 ,  1.6937302 ,\n",
              "         5.8518567 ,  0.728038  ,  0.7519387 ,  1.9635277 ,  0.7690703 ,\n",
              "         1.1369072 ,  1.3385566 ,  1.1893132 ,  1.2196221 ,  1.1325634 ,\n",
              "         1.0560477 ,  5.0024877 ,  1.0606761 ,  1.6012964 ,  2.4742308 ,\n",
              "         1.1801655 ,  2.4097044 ,  0.5081691 ,  1.2425776 ,  1.3003557 ,\n",
              "         1.3610945 ,  1.2827362 ,  0.99090916,  0.8269502 ,  0.95772165,\n",
              "         2.375077  ,  1.0088303 ,  2.8343406 ,  1.4871156 ,  0.6295955 ,\n",
              "         0.9459363 ,  0.9507832 ,  1.2228383 ,  0.97405714,  0.7144318 ,\n",
              "         1.1250858 ,  0.5387103 ,  0.6896221 ,  0.77312684,  0.6959045 ,\n",
              "         2.3752408 ,  2.7013903 ,  1.7321159 ,  0.92402714,  1.1972097 ,\n",
              "         3.134281  , 12.037173  ,  2.5178945 ,  2.9010234 ,  1.552031  ,\n",
              "         1.222376  ,  2.2873054 ,  5.6610403 ,  1.9527462 ,  1.4664519 ,\n",
              "         3.101319  ,  1.2961925 ,  1.017963  ,  0.65794784,  0.8810303 ,\n",
              "         1.1301527 ,  4.6692543 ,  1.2385159 ,  1.9079211 ,  1.7834123 ,\n",
              "         0.7565218 ,  1.2264093 ,  4.676446  ,  1.4974824 ,  2.7124789 ,\n",
              "         1.4982662 ,  1.1384121 ,  1.2447525 ,  0.8456113 ,  1.1159753 ,\n",
              "         3.697928  ,  0.9460151 ,  2.7782867 ,  0.6738372 ,  1.3538748 ,\n",
              "         1.9424862 ,  1.4813899 ,  2.086007  ,  3.0298386 ,  9.303515  ,\n",
              "         4.546476  ,  6.4504566 ,  1.2105067 ,  2.4565365 ,  1.6853178 ,\n",
              "         3.202669  ,  2.4240668 ,  1.8380661 ,  1.2979198 ,  0.9069021 ,\n",
              "         2.9408638 ,  1.870613  ,  2.6526296 ,  1.311817  ,  0.9221822 ,\n",
              "         0.8731405 ,  1.6018851 ,  3.942081  ,  1.530906  ,  2.9044862 ,\n",
              "         2.9375865 ,  1.9701734 ,  0.79450065,  1.1550362 ,  0.9447585 ,\n",
              "         1.2126446 ,  1.1912246 ,  1.4958148 ,  1.0335312 ,  0.96959966,\n",
              "         1.6206043 ,  2.0865371 ,  0.6805602 ,  1.183915  ,  2.7094324 ,\n",
              "         2.8240888 ,  3.6813915 ,  1.1005019 ,  3.1214547 ,  1.72778   ,\n",
              "         1.8460447 ,  1.1369448 ,  2.1938026 ,  1.2007596 ,  0.88154393,\n",
              "         3.1503253 ,  2.5568793 , 10.085888  ,  4.2931633 ,  0.7150809 ,\n",
              "         0.6686251 ,  1.1261446 ,  1.5598565 ,  3.2633498 ,  1.722368  ,\n",
              "         0.6897781 ,  0.95369864,  2.198694  ,  0.8802684 ,  0.82698566,\n",
              "         1.1696333 ,  3.0492048 ,  8.669099  ,  3.743453  ,  4.243798  ,\n",
              "         2.0622756 ,  1.2079945 ,  1.1862663 ,  2.0607283 ,  3.2045999 ,\n",
              "         1.8750215 ,  1.7913301 ,  2.1415699 ,  4.261986  ,  6.264382  ,\n",
              "         2.9341152 ,  1.1374245 ,  3.0998106 ,  0.8401515 ,  1.6373138 ,\n",
              "         2.265915  ,  1.6828557 ,  1.3482143 , 10.050982  ,  6.766402  ,\n",
              "         3.054225  ,  4.0423965 ,  7.4824514 ,  1.9373428 ,  1.4338235 ,\n",
              "         1.6179929 ,  3.5975788 ,  1.119648  ,  0.69651943,  0.9835104 ,\n",
              "         3.3672187 ,  2.5696883 ,  1.6662674 ,  1.3142282 ,  3.517786  ,\n",
              "         2.97636   ,  2.0804784 ,  1.7627662 ,  9.0774555 ,  9.848722  ,\n",
              "         3.7526336 ,  2.7601497 ,  1.6756136 ,  3.772455  ,  2.782393  ,\n",
              "         2.124102  ,  1.0450854 ,  4.1738453 ,  8.136914  ,  2.3981864 ,\n",
              "         1.7991325 ,  0.95786023,  6.1480393 ,  1.8716434 ,  0.9792818 ,\n",
              "         8.113043  ,  4.846836  ,  4.1781745 ,  5.3301    ,  7.3721356 ,\n",
              "        10.10978   ,  4.7792563 ,  0.6300497 ,  5.560654  , 15.964492  ,\n",
              "         8.778504  ,  3.7050955 ,  5.5861044 ,  2.5722196 ,  3.2789974 ,\n",
              "         1.1665868 ,  1.4205753 ,  0.7172954 ,  3.4999137 , 14.828669  ,\n",
              "         3.3073955 ,  1.841321  ,  1.3138485 ,  2.561363  ,  2.729356  ,\n",
              "         5.3987    ,  6.380351  ,  7.1171036 ,  3.2304282 ,  3.9386456 ,\n",
              "         1.4010394 ,  5.4394875 ,  4.152021  ,  1.5756686 ,  1.1360052 ,\n",
              "         5.7455835 ,  3.651353  , 10.199416  ,  8.438279  ,  1.4489582 ,\n",
              "         3.557078  ,  1.9834164 ,  3.3523521 ,  1.5925575 ,  2.4356117 ,\n",
              "         1.0007515 ,  6.1779647 ,  2.0339334 ,  6.5284023 ,  1.1282471 ,\n",
              "         4.680563  ,  3.8038154 , 15.448557  ,  5.52224   ,  3.1764984 ,\n",
              "         5.431827  ,  0.98591995,  1.3891689 ,  9.735249  ,  1.2141169 ,\n",
              "         6.8450904 ,  1.4695146 ,  1.802203  ,  1.4623176 ,  2.612708  ,\n",
              "         2.2085862 ,  5.916122  ,  5.911838  ,  2.1482668 ,  1.8360738 ,\n",
              "         3.4723892 ,  1.4829104 ,  8.911707  ,  3.4109647 ,  1.9213243 ,\n",
              "         2.2127285 ,  1.2078227 ,  1.3334119 ,  1.4081994 ,  7.790686  ,\n",
              "         2.4401355 ,  3.4097407 ,  2.874304  ,  5.5443516 ,  5.908511  ,\n",
              "         1.5385225 ,  5.043349  ,  4.385949  ,  1.5154076 ,  0.96736413,\n",
              "         1.1459498 ,  2.4288669 ,  1.4596211 ,  1.4225997 ,  1.1431494 ,\n",
              "         4.2558017 ,  0.88657737,  0.7908816 ,  1.2734388 ,  1.5003717 ,\n",
              "         1.2513616 ,  5.755551  ,  0.9245942 ,  0.7745365 ,  2.3618793 ,\n",
              "         3.5807323 ,  8.525412  ,  4.6995764 ,  1.4451872 ,  3.4545038 ,\n",
              "         4.1081567 ,  3.1997256 ,  0.4914287 ,  3.0789373 ,  8.997291  ,\n",
              "         7.128273  ,  2.0020883 ,  2.0609143 ,  5.6167235 ,  3.2150679 ,\n",
              "         2.4558249 ,  1.4670799 ,  6.7277884 ,  3.5230577 ,  1.5160931 ,\n",
              "         0.9630545 ,  3.124297  ,  0.9844714 ,  4.159284  ,  2.332765  ,\n",
              "         9.398894  ,  9.301279  ,  3.1096745 ,  6.0766516 ,  7.056345  ,\n",
              "         6.857275  ], dtype=float32),\n",
              " 'mase': 1.1789542}"
            ]
          },
          "metadata": {},
          "execution_count": 189
        }
      ]
    },
    {
      "cell_type": "markdown",
      "source": [
        "## Make evaluation function works for larger horizons"
      ],
      "metadata": {
        "id": "krQBLnn7PSC7"
      }
    },
    {
      "cell_type": "code",
      "source": [
        "model_3_results[\"mae\"].ndim"
      ],
      "metadata": {
        "colab": {
          "base_uri": "https://localhost:8080/"
        },
        "id": "9v4bjO9QTQ8M",
        "outputId": "13ad6e0b-62ac-4c0b-d0bb-ed6e45be3407"
      },
      "execution_count": 193,
      "outputs": [
        {
          "output_type": "execute_result",
          "data": {
            "text/plain": [
              "1"
            ]
          },
          "metadata": {},
          "execution_count": 193
        }
      ]
    },
    {
      "cell_type": "code",
      "source": [
        "model_2_results[\"mae\"].ndim"
      ],
      "metadata": {
        "colab": {
          "base_uri": "https://localhost:8080/"
        },
        "id": "kRDR5lgCTT_k",
        "outputId": "0a7ff429-abf1-4230-cbe7-e40f0179abeb"
      },
      "execution_count": 192,
      "outputs": [
        {
          "output_type": "execute_result",
          "data": {
            "text/plain": [
              "0"
            ]
          },
          "metadata": {},
          "execution_count": 192
        }
      ]
    },
    {
      "cell_type": "code",
      "source": [
        "tf.reduce_mean(model_3_results[\"mae\"]).numpy()"
      ],
      "metadata": {
        "colab": {
          "base_uri": "https://localhost:8080/"
        },
        "id": "nfKTqmjfTvm1",
        "outputId": "f9ed1d6d-32ee-492e-9e25-6426d1e3b0f1"
      },
      "execution_count": 194,
      "outputs": [
        {
          "output_type": "execute_result",
          "data": {
            "text/plain": [
              "675.4831"
            ]
          },
          "metadata": {},
          "execution_count": 194
        }
      ]
    },
    {
      "cell_type": "code",
      "source": [
        "# Create a function to return evaluation metrics\n",
        "def evaluate_preds(y_true, y_pred):\n",
        "  # cast to float32 because tensorflow uses it\n",
        "  y_true = tf.cast(y_true, dtype=tf.float32)\n",
        "  y_pred = tf.cast(y_pred, dtype=tf.float32)\n",
        "\n",
        "  # Calculate metrics\n",
        "  mae = tf.keras.metrics.mae(y_true, y_pred)\n",
        "  mse = tf.keras.metrics.mse(y_true, y_pred)\n",
        "  rmse = tf.sqrt(mse)\n",
        "  mape = tf.keras.metrics.mape(y_true, y_pred)\n",
        "  mase = mean_absolute_scaled_error(y_true, y_pred)\n",
        "\n",
        "  # Account for higher metrics (for longer horizons)\n",
        "  if mae.ndim > 0:\n",
        "    mae = tf.reduce_mean(mae)\n",
        "    mse = tf.reduce_mean(mse)\n",
        "    rmse = tf.reduce_mean(rmse)\n",
        "    mape = tf.reduce_mean(mape)\n",
        "    mase = tf.reduce_mean(mase)\n",
        "\n",
        "  return {\"mae\": mae.numpy(),\n",
        "          \"mse\": mse.numpy(),\n",
        "          \"rmse\": rmse.numpy(),\n",
        "          \"mape\": mape.numpy(),\n",
        "          \"mase\": mase.numpy()}"
      ],
      "metadata": {
        "id": "U_0TjvMiS41q"
      },
      "execution_count": 195,
      "outputs": []
    },
    {
      "cell_type": "code",
      "source": [
        "# Get aggregated results from model_3\n",
        "model_3_results = evaluate_preds(y_true=test_labels,\n",
        "                                 y_pred=model_3_preds)\n",
        "model_3_results"
      ],
      "metadata": {
        "colab": {
          "base_uri": "https://localhost:8080/"
        },
        "id": "mq0j2RzhUD8j",
        "outputId": "690d398f-7c23-48fa-a6ab-d3fb0d87685f"
      },
      "execution_count": 197,
      "outputs": [
        {
          "output_type": "execute_result",
          "data": {
            "text/plain": [
              "{'mae': 675.4831,\n",
              " 'mse': 1505366.9,\n",
              " 'rmse': 715.98755,\n",
              " 'mape': 3.055893,\n",
              " 'mase': 1.1789542}"
            ]
          },
          "metadata": {},
          "execution_count": 197
        }
      ]
    },
    {
      "cell_type": "code",
      "source": [
        "model_3_preds[:3]"
      ],
      "metadata": {
        "colab": {
          "base_uri": "https://localhost:8080/"
        },
        "id": "8w4wVSBTVF-N",
        "outputId": "7efdaa29-639c-4eda-f3ad-7243a2fb83a5"
      },
      "execution_count": 202,
      "outputs": [
        {
          "output_type": "execute_result",
          "data": {
            "text/plain": [
              "<tf.Tensor: shape=(3, 7), dtype=float32, numpy=\n",
              "array([[8633.862 , 8604.6045, 8703.14  , 8662.845 , 8648.948 , 8658.115 ,\n",
              "        8507.09  ],\n",
              "       [8569.921 , 8778.233 , 8659.981 , 8600.431 , 8840.414 , 8622.894 ,\n",
              "        8628.294 ],\n",
              "       [8356.243 , 8639.292 , 8496.962 , 8447.609 , 8729.562 , 8533.024 ,\n",
              "        8641.308 ]], dtype=float32)>"
            ]
          },
          "metadata": {},
          "execution_count": 202
        }
      ]
    },
    {
      "cell_type": "code",
      "source": [
        "# Plot results\n",
        "offset = 300\n",
        "plt.figure(figsize=(10, 7))\n",
        "plot_time_series(timesteps=X_test[-len(test_windows):], values=test_labels[:, 0],\n",
        "                 start=offset, label=\"Test Data\")\n",
        "plot_time_series(timesteps=X_test[-len(test_windows):], values=model_3_preds,\n",
        "                 start=offset, label=\"Model 3 preds\", format=\"-\")"
      ],
      "metadata": {
        "colab": {
          "base_uri": "https://localhost:8080/",
          "height": 610
        },
        "id": "6TgbTE2EUWXj",
        "outputId": "976a9eae-7bf9-4aec-aa39-3940d098701e"
      },
      "execution_count": 201,
      "outputs": [
        {
          "output_type": "display_data",
          "data": {
            "text/plain": [
              "<Figure size 1000x700 with 1 Axes>"
            ],
            "image/png": "[encoded data removed]"
          },
          "metadata": {}
        }
      ]
    },
    {
      "cell_type": "code",
      "source": [
        "# Plot results\n",
        "offset = 300\n",
        "plt.figure(figsize=(10, 7))\n",
        "plot_time_series(timesteps=X_test[-len(test_windows):], values=test_labels[:, 0],\n",
        "                 start=offset, label=\"Test Data\")\n",
        "plot_time_series(timesteps=X_test[-len(test_windows):], values=tf.reduce_mean(model_3_preds, axis=1),\n",
        "                 start=offset, label=\"Model 3 preds\", format=\"-\")"
      ],
      "metadata": {
        "colab": {
          "base_uri": "https://localhost:8080/",
          "height": 610
        },
        "id": "5b_1vWc1U94S",
        "outputId": "d5eebf7f-3dca-4d5e-e5a7-988a674d003f"
      },
      "execution_count": 203,
      "outputs": [
        {
          "output_type": "display_data",
          "data": {
            "text/plain": [
              "<Figure size 1000x700 with 1 Axes>"
            ],
            "image/png": "[encoded data removed]"
          },
          "metadata": {}
        }
      ]
    },
    {
      "cell_type": "markdown",
      "source": [
        "## Creating DataFrame from all of models results"
      ],
      "metadata": {
        "id": "UnBZBCWzVd9f"
      }
    },
    {
      "cell_type": "code",
      "source": [
        "import pandas as pd"
      ],
      "metadata": {
        "id": "RzjdoLtQWbfO"
      },
      "execution_count": 207,
      "outputs": []
    },
    {
      "cell_type": "code",
      "source": [
        "naive_results, model_1_results, model_2_results, model_3_results"
      ],
      "metadata": {
        "colab": {
          "base_uri": "https://localhost:8080/"
        },
        "id": "tfs5MYuAWIQO",
        "outputId": "3c9aa6ae-3ae4-4ad4-c147-af788cab51bd"
      },
      "execution_count": 206,
      "outputs": [
        {
          "output_type": "execute_result",
          "data": {
            "text/plain": [
              "({'mae': 567.9802,\n",
              "  'mse': 1147547.0,\n",
              "  'rmse': 1071.2362,\n",
              "  'mape': 2.5165248,\n",
              "  'mase': 0.99957},\n",
              " {'mae': 565.92725,\n",
              "  'mse': 1164244.8,\n",
              "  'rmse': 1079.0017,\n",
              "  'mape': 2.5573826,\n",
              "  'mase': 0.9941774},\n",
              " {'mae': 605.7859,\n",
              "  'mse': 1221473.5,\n",
              "  'rmse': 1105.2029,\n",
              "  'mape': 2.7742414,\n",
              "  'mase': 1.0589195},\n",
              " {'mae': 675.4831,\n",
              "  'mse': 1505366.9,\n",
              "  'rmse': 715.98755,\n",
              "  'mape': 3.055893,\n",
              "  'mase': 1.1789542})"
            ]
          },
          "metadata": {},
          "execution_count": 206
        }
      ]
    },
    {
      "cell_type": "code",
      "source": [
        "df = pd.DataFrame({\"naive\":naive_results[\"mae\"],\n",
        "                   \"horizon_1_window_7\":model_1_results[\"mae\"],\n",
        "                   \"horizon_1_window_30\":model_2_results[\"mae\"],\n",
        "                   \"horizon_7_window_30\":model_3_results[\"mae\"]},\n",
        "                  index=[\"mae\"])\n",
        "df.plot(figsize=(10, 7), kind=\"bar\")"
      ],
      "metadata": {
        "colab": {
          "base_uri": "https://localhost:8080/",
          "height": 633
        },
        "id": "Em4EsTYkWMmj",
        "outputId": "19405007-1c8a-4991-a0fd-2285afb0cb0c"
      },
      "execution_count": 213,
      "outputs": [
        {
          "output_type": "execute_result",
          "data": {
            "text/plain": [
              "<Axes: >"
            ]
          },
          "metadata": {},
          "execution_count": 213
        },
        {
          "output_type": "display_data",
          "data": {
            "text/plain": [
              "<Figure size 1000x700 with 1 Axes>"
            ],
            "image/png": "[encoded data removed]"
          },
          "metadata": {}
        }
      ]
    },
    {
      "cell_type": "markdown",
      "source": [
        "## Model 4: Conv1D"
      ],
      "metadata": {
        "id": "z3V72hhXWsm7"
      }
    },
    {
      "cell_type": "code",
      "source": [
        "HORIZON = 1\n",
        "WINDOW_SIZE = 7"
      ],
      "metadata": {
        "id": "LvqPDKqTdwBP"
      },
      "execution_count": 214,
      "outputs": []
    },
    {
      "cell_type": "code",
      "source": [
        "# Create windowed data\n",
        "full_windows, full_labels = make_windows(prices, window_size=WINDOW_SIZE, horizon=HORIZON)\n",
        "len(full_windows), len(full_labels)"
      ],
      "metadata": {
        "colab": {
          "base_uri": "https://localhost:8080/"
        },
        "id": "807HjnE3es8T",
        "outputId": "6a19ec11-be37-4424-cbd1-b81a00354788"
      },
      "execution_count": 217,
      "outputs": [
        {
          "output_type": "execute_result",
          "data": {
            "text/plain": [
              "(2780, 2780)"
            ]
          },
          "metadata": {},
          "execution_count": 217
        }
      ]
    },
    {
      "cell_type": "code",
      "source": [
        "# Create train/test sets\n",
        "train_windows, test_windows, train_labels, test_labels = make_train_test_splits(full_windows, full_labels)\n",
        "len(train_windows), len(test_windows), len(train_labels), len(test_labels)"
      ],
      "metadata": {
        "colab": {
          "base_uri": "https://localhost:8080/"
        },
        "id": "Enxe1MRig-rm",
        "outputId": "15631f93-59f8-4a3c-8858-dbadc10df1a2"
      },
      "execution_count": 218,
      "outputs": [
        {
          "output_type": "execute_result",
          "data": {
            "text/plain": [
              "(2224, 556, 2224, 556)"
            ]
          },
          "metadata": {},
          "execution_count": 218
        }
      ]
    },
    {
      "cell_type": "code",
      "source": [
        "# Check data input shape\n",
        "train_windows[0].shape"
      ],
      "metadata": {
        "colab": {
          "base_uri": "https://localhost:8080/"
        },
        "id": "_YTeSSshhJq8",
        "outputId": "f585c6fe-cfd4-45a5-c7f0-d4508aa1d5bf"
      },
      "execution_count": 219,
      "outputs": [
        {
          "output_type": "execute_result",
          "data": {
            "text/plain": [
              "(7,)"
            ]
          },
          "metadata": {},
          "execution_count": 219
        }
      ]
    },
    {
      "cell_type": "code",
      "source": [
        "x = tf.constant(train_windows[0])\n",
        "x"
      ],
      "metadata": {
        "colab": {
          "base_uri": "https://localhost:8080/"
        },
        "id": "X-up9OhWhmbs",
        "outputId": "2d20fe4f-e34c-4ff9-df02-daeec2744d7c"
      },
      "execution_count": 220,
      "outputs": [
        {
          "output_type": "execute_result",
          "data": {
            "text/plain": [
              "<tf.Tensor: shape=(7,), dtype=float64, numpy=\n",
              "array([123.65499, 125.455  , 108.58483, 118.67466, 121.33866, 120.65533,\n",
              "       121.795  ])>"
            ]
          },
          "metadata": {},
          "execution_count": 220
        }
      ]
    },
    {
      "cell_type": "code",
      "source": [
        "expand_dims_layer = layers.Lambda(lambda x: tf.expand_dims(x, axis=1))"
      ],
      "metadata": {
        "id": "JqBPGnOfiCA8"
      },
      "execution_count": 221,
      "outputs": []
    },
    {
      "cell_type": "code",
      "source": [
        "# Test lambda layer\n",
        "print(f\"Original shape: {x.shape}\") # (WINDOW_SIZE)\n",
        "print(f\"Expanded shape: {expand_dims_layer(x).shape}\") # (WINDOW_SIZE, input_dim)\n",
        "print(f\"Original values with expanded shape:\\n {expand_dims_layer(x)}\")"
      ],
      "metadata": {
        "colab": {
          "base_uri": "https://localhost:8080/"
        },
        "id": "eJ2c6ifYiTVE",
        "outputId": "235c2f86-e6ea-407a-99a0-586416897109"
      },
      "execution_count": 222,
      "outputs": [
        {
          "output_type": "stream",
          "name": "stdout",
          "text": [
            "Original shape: (7,)\n",
            "Expanded shape: (7, 1)\n",
            "Original values with expanded shape:\n",
            " [[123.65499]\n",
            " [125.455  ]\n",
            " [108.58483]\n",
            " [118.67466]\n",
            " [121.33866]\n",
            " [120.65533]\n",
            " [121.795  ]]\n"
          ]
        }
      ]
    },
    {
      "cell_type": "code",
      "source": [],
      "metadata": {
        "id": "XWJRYdlhix7F"
      },
      "execution_count": null,
      "outputs": []
    }
  ]
}